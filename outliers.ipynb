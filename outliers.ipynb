{
 "metadata": {
  "language_info": {
   "codemirror_mode": {
    "name": "ipython",
    "version": 3
   },
   "file_extension": ".py",
   "mimetype": "text/x-python",
   "name": "python",
   "nbconvert_exporter": "python",
   "pygments_lexer": "ipython3",
   "version": "3.8.3-final"
  },
  "orig_nbformat": 2,
  "kernelspec": {
   "name": "python3",
   "display_name": "Python 3"
  }
 },
 "nbformat": 4,
 "nbformat_minor": 2,
 "cells": [
  {
   "cell_type": "code",
   "execution_count": 1,
   "metadata": {},
   "outputs": [],
   "source": [
    "import numpy as np\n",
    "import pandas as pd\n",
    "import time\n",
    "import pickle\n",
    "\n",
    "\n",
    "from joblib import dump, load\n",
    "from sklearn.utils import shuffle\n",
    "from sklearn.model_selection import KFold\n",
    "from sklearn.impute import KNNImputer\n",
    "\n",
    "pd.options.display.float_format = '{:20,.15f}'.format\n",
    "pd.options.display.max_columns = None"
   ]
  },
  {
   "cell_type": "code",
   "execution_count": 2,
   "metadata": {},
   "outputs": [],
   "source": [
    "from sklearn.ensemble import IsolationForest\n",
    "from sklearn.base import BaseEstimator, RegressorMixin\n",
    "from sklearn.neighbors import LocalOutlierFactor\n",
    "from sklearn.svm import OneClassSVM\n",
    "\n",
    "from tensorflow.keras.callbacks import EarlyStopping\n",
    "\n",
    "from scipy.stats import randint as sp_randint\n",
    "from scipy.stats import uniform as sp_uniform\n",
    "from sklearn.model_selection import ParameterSampler, ParameterGrid\n",
    "import sklearn\n",
    "from statistics import mean\n",
    "from sklearn import metrics"
   ]
  },
  {
   "cell_type": "code",
   "execution_count": 3,
   "metadata": {},
   "outputs": [],
   "source": [
    "from importlib import reload\n",
    "# module references for reload\n",
    "import process_df, output, run_models\n",
    "\n",
    "from process_df import Process, create_average_columns, split_process_df, split_df\n",
    "from output import output_metrics, mape, smape, get_metrics, print_sorted_actual_to_predicted_graphs_only_test\n",
    "from run_models import run_nn, run_lgb, run_rf, build_nn_model\n",
    "\n",
    "reload(process_df)\n",
    "reload(output)\n",
    "reload(run_models)\n",
    "\n",
    "# reimport in case changed\n",
    "from process_df import Process, create_average_columns, split_process_df, split_df\n",
    "from output import output_metrics, mape, smape, get_metrics, print_sorted_actual_to_predicted_graphs_only_test\n",
    "from run_models import run_nn, run_lgb, run_rf, build_nn_model"
   ]
  },
  {
   "cell_type": "code",
   "execution_count": 4,
   "metadata": {},
   "outputs": [],
   "source": [
    "def get_df_work_columns(df):\n",
    "    return df[[col for col in df_full.columns if not 'META' in col or col == 'META__revenue']]"
   ]
  },
  {
   "cell_type": "code",
   "execution_count": 16,
   "metadata": {
    "tags": []
   },
   "outputs": [],
   "source": [
    "df_raw = pd.read_csv('outliers/df_raw.csv', index_col='id')\n",
    "df_full = df_raw.copy()\n",
    "df_full_name = 'outliers/df_full.csv'\n",
    "df_full = create_average_columns(df_full, verbose=0)\n",
    "df_full.to_csv(df_full_name)"
   ]
  },
  {
   "cell_type": "code",
   "execution_count": 17,
   "metadata": {
    "tags": []
   },
   "outputs": [],
   "source": [
    "df_full = pd.read_csv(df_full_name, index_col='id')\n",
    "\n",
    "data_raw = split_df(get_df_work_columns(df_full))\n",
    "with open(f'{df_full_name}_raw_data.pickle', 'wb') as handle:\n",
    "    pickle.dump(data_raw, handle)\n",
    "\n",
    "data, process = split_process_df(get_df_work_columns(df_full))\n",
    "with open(f'{df_full_name}_data.pickle', 'wb') as handle:\n",
    "    pickle.dump(data, handle)\n",
    "with open(f'{df_full_name}_process.pickle', 'wb') as handle:\n",
    "    pickle.dump(process, handle)"
   ]
  },
  {
   "cell_type": "code",
   "execution_count": 5,
   "metadata": {
    "tags": []
   },
   "outputs": [],
   "source": [
    "df_full_name = 'outliers/df_full.csv'\n",
    "\n",
    "df_full = pd.read_csv(df_full_name, index_col='id')\n",
    "df_raw = pd.read_csv('outliers/df_raw.csv', index_col='id')\n",
    "\n",
    "with open(f'{df_full_name}_raw_data.pickle', 'rb') as handle:\n",
    "    data_raw = pickle.load(handle)\n",
    "X_raw = pd.concat([data_raw['X_train'], data_raw['X_test'], data_raw['X_val']])\n",
    "y_raw = pd.concat([data_raw['y_train'], data_raw['y_test'], data_raw['y_val']])\n",
    "\n",
    "with open(f'{df_full_name}_data.pickle', 'rb') as handle:\n",
    "    data = pickle.load(handle)\n",
    "X = pd.concat([data['X_train'], data['X_test'], data['X_val']])\n",
    "y = np.concatenate([data['y_train'], data['y_test'], data['y_val']])\n",
    "    \n",
    "with open(f'{df_full_name}_process.pickle', 'rb') as handle:\n",
    "    process = pickle.load(handle)"
   ]
  },
  {
   "cell_type": "code",
   "execution_count": 6,
   "metadata": {},
   "outputs": [],
   "source": [
    "class NN_estimator(BaseEstimator, RegressorMixin):\n",
    "    def __init__(self, print_graphs = False):\n",
    "        self.print_graphs = print_graphs\n",
    "\n",
    "    \n",
    "    def fit(self, X, y, **kwargs):\n",
    "        self.process_ = kwargs['process']\n",
    "        input_shape = len(data['X_train'].keys())\n",
    "        model = build_nn_model(input_shape)\n",
    "\n",
    "        es = EarlyStopping(monitor='val_loss', mode='min', verbose=1, patience=20)\n",
    "\n",
    "        model.fit(X, y, epochs=10000, validation_split=0.1, verbose=0, batch_size=256,\n",
    "            shuffle=True, callbacks=[es], use_multiprocessing=True)\n",
    "        self.model_ = model\n",
    "        return self\n",
    "    \n",
    "    def score(self, X, y):\n",
    "        yhat = self.model_.predict(X.values)\n",
    "        if len(yhat.shape) == 2 and yhat.shape[1] == 1:\n",
    "            yhat = yhat.flatten()\n",
    "\n",
    "        print_log=False\n",
    "        for apply_function in reversed(self.process_.y_process):\n",
    "            print_log=True\n",
    "            y = apply_function(y)\n",
    "            yhat = apply_function(yhat)\n",
    "\n",
    "        if self.print_graphs:\n",
    "            print_sorted_actual_to_predicted_graphs_only_test(y, yhat, print_log=print_log)\n",
    "        return get_metrics(y, yhat, X.shape[1])\n",
    "\n",
    "def param_search(estimator, param_dict, n_iter=None, seed=None):\n",
    "    if n_iter is None:\n",
    "        param_iter = ParameterGrid(param_dict)\n",
    "    else:\n",
    "        param_iter = ParameterSampler(param_dict,\n",
    "                                      n_iter,\n",
    "                                      random_state=seed)\n",
    " \n",
    "    estimators = []\n",
    "    for params in param_iter:\n",
    "        new_estimator = sklearn.clone(estimator)\n",
    "        new_estimator.set_params(**params)\n",
    "        estimators.append(new_estimator)\n",
    "    return estimators"
   ]
  },
  {
   "cell_type": "code",
   "execution_count": 7,
   "metadata": {},
   "outputs": [],
   "source": [
    "class OutliersEstimator(BaseEstimator, RegressorMixin):\n",
    "    def __init__(self, outliers_detector=None, drop_index_list=None, folds=10, print_graphs=False):\n",
    "        self.outliers_detector = outliers_detector\n",
    "        self.drop_index_list = drop_index_list\n",
    "        self.folds = folds\n",
    "        self.print_graphs = print_graphs\n",
    "\n",
    "    def fit(self, X, y, **kwargs):\n",
    "        def get_df_work_column(df):\n",
    "            return df[[col for col in df.columns if not 'META' in col or col == 'META__revenue']]\n",
    "\n",
    "        df_raw = pd.read_csv('outliers/df_raw.csv', index_col='id')\n",
    "\n",
    "        print(\"######################################################\")\n",
    "        if self.outliers_detector is not None:\n",
    "            print(self.outliers_detector.get_params())\n",
    "            X_full = X.copy()\n",
    "            X_full['revenue'] = y\n",
    "            mask_to_drop = self.outliers_detector.fit_predict(X_full) == -1\n",
    "            drop_index_list = df_raw[mask_to_drop].index\n",
    "        else:\n",
    "            drop_index_list = self.drop_index_list\n",
    "        self.drop_index_list_ = drop_index_list\n",
    "        print('Number of outliers: ', len(drop_index_list))\n",
    "        new_df = df_raw.drop(drop_index_list)\n",
    "        df = create_average_columns(new_df, verbose=0)\n",
    "        print('Average created')\n",
    "        df = get_df_work_columns(df)\n",
    "        data, self.process_ = split_process_df(df)\n",
    "        print('Processed')\n",
    "        self.X_ = pd.concat([data['X_train'], data['X_test'], data['X_val']])\n",
    "        self.y_ = np.concatenate([data['y_train'], data['y_test'], data['y_val']])\n",
    "        return self\n",
    "\n",
    "    def score(self, X=None, y=None):\n",
    "        cv_results = []\n",
    "        kf = KFold(n_splits=self.folds, random_state=0)\n",
    "        for train_index, test_index in kf.split(self.X_, self.y_):\n",
    "            X_train, X_test = X.iloc[train_index, :], X.iloc[test_index, :]\n",
    "            y_train, y_test = y[train_index], y[test_index]\n",
    "            data_part = {'X_train': X_train, 'X_test': X_test, 'y_train': y_train, 'y_test': y_test}\n",
    "            estimator = NN_estimator(print_graphs=self.print_graphs)\n",
    "            estimator.fit(X_train, y_train, process=self.process_)\n",
    "            fm = estimator.score(X_test, y_test)\n",
    "            print(f'smape: {fm[\"smape\"]}, mape: {fm[\"mape\"]}, mae: {fm[\"mae\"]}')\n",
    "            cv_results.append(fm)\n",
    "        metrics = list(cv_results[0].keys())\n",
    "        metric_results = {metric: np.mean([cv_results[split_index][metric] for split_index in range(len(cv_results))]) for metric in metrics}\n",
    "        print(metric_results)\n",
    "        return {'cv_iterations': cv_results, 'cv_metrics': metric_results}"
   ]
  },
  {
   "cell_type": "code",
   "execution_count": 8,
   "metadata": {},
   "outputs": [],
   "source": [
    "def get_sorted_metric(arr, metric):\n",
    "    return sorted([{\n",
    "        'i': i+1, \n",
    "        'smape': fold['cv_metrics']['smape'],\n",
    "        'mape': fold['cv_metrics']['mape'],\n",
    "        'mae': fold['cv_metrics']['mae']\n",
    "        } for i, fold in enumerate(arr)],\n",
    "    key=lambda x: x[metric])"
   ]
  },
  {
   "cell_type": "code",
   "execution_count": 22,
   "metadata": {
    "tags": []
   },
   "outputs": [
    {
     "output_type": "stream",
     "name": "stdout",
     "text": "del revenue 534\ndel year 382\ndel budget 364\ndel profitability 1500\nMETA__profitability -4.424662959957207 7.39777777777778\nMETA__profitability 1500\nMETA__year_avg_profitability -10.812845724436539 16.025788582653266\nMETA__year_avg_profitability 1267\ncast_1_avg_profit 1571591.4 143041135.70000005\ncast_1_avg_profit 1160\ncast_2_avg_profit 197068.00000000116 133116862.20000002\ncast_2_avg_profit 1064\ncast_3_avg_profit -328240.0 124520203.0\ncast_3_avg_profit 986\ncast_4_avg_profit -917845.5999999997 127494148.40000002\ncast_4_avg_profit 910\ncast_5_avg_profit -1728369.5999999999 124271503.39999998\ncast_5_avg_profit 818\ncast_6_avg_profit -2677605.1999999993 121049458.39999996\ncast_6_avg_profit 746\ncast_7_avg_profit -3828683.0 119660173.60000005\ncast_7_avg_profit 657\ncast_8_avg_profit -5025942.1 119892339.10000002\ncast_8_avg_profit 586\nproduction_company_1_avg_profit 273410.2000000003 124954690.80000004\nproduction_company_1_avg_profit 966\nproduction_company_2_avg_profit 527914.4000000003 129532677.79999998\nproduction_company_2_avg_profit 756\nproduction_company_3_avg_profit -1889744.5999999999 137619505.40000018\nproduction_company_3_avg_profit 462\ncollection_avg_profit 10418980.0 499390539.0\ncollection_avg_profit 144\ncrew__production__producer_1_avg_profit -855091.8999999996 162159644.09999996\ncrew__production__producer_1_avg_profit 776\ncrew__production__producer_2_avg_profit -6442011.6 178841041.60000002\ncrew__production__producer_2_avg_profit 226\ncrew__sound__music_editor_avg_profit 3523407.200000001 236760968.40000004\ncrew__sound__music_editor_avg_profit 250\ncrew__sound__original_music_composer_avg_profit 1985500.000000001 148235642.20000002\ncrew__sound__original_music_composer_avg_profit 706\ncrew__sound__sound_designer_avg_profit -484219.699999996 285476744.09999996\ncrew__sound__sound_designer_avg_profit 172\ncrew__sound__sound_effects_editor_avg_profit -699535.4999999998 265168650.2\ncrew__sound__sound_effects_editor_avg_profit 178\ncrew__sound__sound_re_recording_mixer_avg_profit 961196.5 227569811.0\ncrew__sound__sound_re_recording_mixer_avg_profit 296\ncrew__sound__supervising_sound_editor_avg_profit 2065189.6000000022 306312201.0\ncrew__sound__supervising_sound_editor_avg_profit 266\ncrew__directing__director_avg_profit -663604.1999999997 155785177.4\ncrew__directing__director_avg_profit 810\ncrew__directing__script_supervisor_avg_profit -1794544.0999999996 160803761.50000015\ncrew__directing__script_supervisor_avg_profit 340\ncrew__production__casting_avg_profit 3492509.2 137360874.0\ncrew__production__casting_avg_profit 678\ncrew__production__executive_producer_avg_profit -3455078.9999999995 210860915.20000002\ncrew__production__executive_producer_avg_profit 378\ncrew__editing__editor_avg_profit -959984.5999999996 132014792.80000001\ncrew__editing__editor_avg_profit 856\ncrew__costume__costume_designer_avg_profit -54022.0 121485876.0\ncrew__costume__costume_designer_avg_profit 626\ncrew__costume__costume_supervisor_avg_profit -2881270.8 212997996.4000001\ncrew__costume__costume_supervisor_avg_profit 156\ncrew__costume__makeup_artist_avg_profit -3438799.0 172686331.0\ncrew__costume__makeup_artist_avg_profit 210\ncrew__crew__stunt_coordinator_avg_profit 388278.30000000045 201056567.2\ncrew__crew__stunt_coordinator_avg_profit 224\ncrew__writing__screenplay_avg_profit -2000000.0 190838362.0\ncrew__writing__screenplay_avg_profit 408\ncrew__art__art_direction_avg_profit -4616370.5 181438731.5\ncrew__art__art_direction_avg_profit 400\ncrew__art__production_design_avg_profit -1330207.0 163694065.0\ncrew__art__production_design_avg_profit 648\ncrew__art__property_master_avg_profit -890763.2999999999 236745102.50000006\ncrew__art__property_master_avg_profit 194\ncrew__art__set_decoration_avg_profit -2622787.399999999 158953174.6000001\ncrew__art__set_decoration_avg_profit 474\ncrew__visualeffects__visual_effects_supervisor_avg_profit -2090485.9999999998 303663501.0000001\ncrew__visualeffects__visual_effects_supervisor_avg_profit 174\ncrew__camera__director_of_photography_avg_profit -605000.0 131169485.0\ncrew__camera__director_of_photography_avg_profit 866\ncrew__camera__steadicam_operator_avg_profit 1561662.6000000008 217061533.60000005\ncrew__camera__steadicam_operator_avg_profit 156\ncrew__camera__still_photographer_avg_profit 3494652.200000002 193926237.8\ncrew__camera__still_photographer_avg_profit 312\nyear_avg_profit 31115791.0 67241350.0\nyear_avg_profit 1460\ncast_avg_avg_profit 3614436.166666666 99371446.33333331\ncast_avg_avg_profit 1380\n0 6936\n1 5950\n2 4665\n3 3376\n4 2319\n5 1548\n6 1026\n7 696\n8 486\n9 345\n10 255\n11 180\n12 140\n13 113\n14 82\n15 63\n16 53\n17 46\n18 31\n19 23\n20 21\n21 14\n22 10\n23 10\n24 10\n25 8\n26 6\n27 5\n28 2\n29 2\n30 1\n"
    }
   ],
   "source": [
    "del_revenue = df_full.META__revenue < 250000\n",
    "print('del revenue', sum(del_revenue))\n",
    "del_year = df_raw.META__year < 1970\n",
    "print('del year', sum(del_year))\n",
    "del_budget = df_full.budget < 250000\n",
    "print('del budget', sum(del_budget))\n",
    "profitability_quantiles = df_raw.META__profitability.quantile([0.1, 0.9])\n",
    "del_profitability = (df_raw.META__profitability < profitability_quantiles.iloc[0]) | (df_raw.META__profitability > profitability_quantiles.iloc[1])\n",
    "print('del profitability', sum(del_profitability))\n",
    "\n",
    "common_del = del_revenue.astype(int) + del_year.astype(int) + del_budget.astype(int) + del_profitability.astype(int)\n",
    "\n",
    "for c in df_full.columns:\n",
    "    if 'profit' in c:\n",
    "        quantiles = df_full[c].quantile([0.1, 0.9])\n",
    "        print(c, quantiles.iloc[0], quantiles.iloc[1])\n",
    "        del_pr = (df_full[c] < quantiles.iloc[0]) | (df_full[c] > quantiles.iloc[1])\n",
    "        print(c, sum(del_pr))\n",
    "        common_del = common_del.astype(int) + del_pr.astype(int)\n",
    "\n",
    "for i in range(max(common_del)):\n",
    "    print(i, sum(common_del > i))"
   ]
  },
  {
   "cell_type": "code",
   "execution_count": null,
   "metadata": {},
   "outputs": [],
   "source": []
  },
  {
   "cell_type": "code",
   "execution_count": 11,
   "metadata": {
    "tags": []
   },
   "outputs": [
    {
     "output_type": "stream",
     "name": "stdout",
     "text": "outlier detector number 1\n######################################################\nNumber of outliers:  1548\nAverage created\nProcessed\nEpoch 00147: early stopping\nsmape: 75.96709583399445, mape: 595.8460261822111, mae: 23342589.0\nEpoch 00139: early stopping\nsmape: 75.87053000609036, mape: 442.4296505141194, mae: 22157547.0\nEpoch 00142: early stopping\nsmape: 74.27619573051292, mape: 576.6120743598985, mae: 28019832.0\nEpoch 00137: early stopping\nsmape: 72.16243871871151, mape: 710.7722284827328, mae: 23966384.0\nEpoch 00163: early stopping\nsmape: 73.3391275785005, mape: 480.6883463722996, mae: 24131503.0\nEpoch 00130: early stopping\nsmape: 75.3865731387193, mape: 322.6378158091641, mae: 30748370.0\nEpoch 00150: early stopping\nsmape: 74.01804650821138, mape: 568.742288638622, mae: 23667672.0\nEpoch 00127: early stopping\nsmape: 71.15274940170175, mape: 598.4095652936913, mae: 25672328.0\nEpoch 00156: early stopping\nsmape: 76.18397238790205, mape: 426.6392404261476, mae: 22712642.0\nEpoch 00156: early stopping\nsmape: 73.60593026752575, mape: 559.9872872963983, mae: 25341948.0\n{&#39;smape&#39;: 74.196265957187, &#39;mape&#39;: 528.2764523375284, &#39;mae&#39;: 24976081.5, &#39;rmse&#39;: 51298620.9, &#39;adj_r2&#39;: 0.4558687564530034}\noutlier detector number 2\n######################################################\nNumber of outliers:  1026\nAverage created\nProcessed\nEpoch 00125: early stopping\nsmape: 77.89383408635456, mape: 689.4119583486599, mae: 24684236.0\nEpoch 00114: early stopping\nsmape: 79.45380532918759, mape: 453.9435798660489, mae: 26019364.0\nEpoch 00162: early stopping\nsmape: 74.76594969680144, mape: 895.4214090838819, mae: 29108960.0\nEpoch 00160: early stopping\nsmape: 73.7396939881496, mape: 896.7529097750461, mae: 24085220.0\nEpoch 00129: early stopping\nsmape: 75.67342307601638, mape: 410.51692212637016, mae: 27399133.0\nEpoch 00128: early stopping\nsmape: 75.85125743761647, mape: 331.0280649736865, mae: 31768373.0\nEpoch 00115: early stopping\nsmape: 74.23306841751855, mape: 1448.8359918011736, mae: 25992561.0\nEpoch 00158: early stopping\nsmape: 75.23878208578643, mape: 316.56940838738933, mae: 25244509.0\nEpoch 00125: early stopping\nsmape: 74.99458547446221, mape: 1097.6067992640699, mae: 25165934.0\nEpoch 00173: early stopping\nsmape: 70.93909737744241, mape: 1241.4071903537595, mae: 23856903.0\n{&#39;smape&#39;: 75.27834969693357, &#39;mape&#39;: 778.1494233980086, &#39;mae&#39;: 26332519.3, &#39;rmse&#39;: 55276074.5, &#39;adj_r2&#39;: 0.48221959281350896}\noutlier detector number 3\n######################################################\nNumber of outliers:  696\nAverage created\nProcessed\nEpoch 00109: early stopping\nsmape: 78.1109276291205, mape: 834.984469050015, mae: 25672192.0\nEpoch 00171: early stopping\nsmape: 79.05168748403521, mape: 841.7204972567168, mae: 27439565.0\nEpoch 00162: early stopping\nsmape: 76.60841636063809, mape: 663.1993407814366, mae: 29353657.0\nEpoch 00166: early stopping\nsmape: 76.56862647745025, mape: 771.8813699942257, mae: 27547057.0\nEpoch 00144: early stopping\nsmape: 75.3381778985803, mape: 424.76184485460703, mae: 29313308.0\nEpoch 00181: early stopping\nsmape: 75.69558294528069, mape: 468.18894712312186, mae: 30213689.0\nEpoch 00176: early stopping\nsmape: 73.76348240635276, mape: 1332.1801352000564, mae: 28906507.0\nEpoch 00136: early stopping\nsmape: 78.2746678889974, mape: 1137.3651913137112, mae: 24608601.0\nEpoch 00226: early stopping\nsmape: 72.39336153791936, mape: 884.0186477769969, mae: 26998289.0\nEpoch 00129: early stopping\nsmape: 74.83143379715692, mape: 806.002633165979, mae: 27602184.0\n{&#39;smape&#39;: 76.06363644255313, &#39;mape&#39;: 816.4303076516866, &#39;mae&#39;: 27765504.9, &#39;rmse&#39;: 58949555.8, &#39;adj_r2&#39;: 0.49712065134150346}\noutlier detector number 4\n######################################################\nNumber of outliers:  486\nAverage created\nProcessed\nEpoch 00208: early stopping\nsmape: 77.87785804122399, mape: 744.132877489763, mae: 26905532.0\nEpoch 00177: early stopping\nsmape: 80.26302676096357, mape: 644.8078957742894, mae: 30035304.0\nEpoch 00214: early stopping\nsmape: 75.13905566928973, mape: 894.659975781146, mae: 31034691.0\nEpoch 00121: early stopping\nsmape: 75.45387651011912, mape: 525.7478360454124, mae: 27613444.0\nEpoch 00220: early stopping\nsmape: 75.88644106350125, mape: 374.3627870465085, mae: 33898528.0\nEpoch 00140: early stopping\nsmape: 75.78102138450865, mape: 577.510848830586, mae: 29361946.0\nEpoch 00164: early stopping\nsmape: 74.89905832131161, mape: 1367.5385331181901, mae: 27324309.0\nEpoch 00183: early stopping\nsmape: 78.23798760111227, mape: 727.0125316894179, mae: 28547852.0\nEpoch 00153: early stopping\nsmape: 74.94171978791213, mape: 1107.9778700131885, mae: 28563705.0\nEpoch 00155: early stopping\nsmape: 72.57686685935529, mape: 614.895872020585, mae: 29146810.0\n{&#39;smape&#39;: 76.10569119992975, &#39;mape&#39;: 757.8647027809086, &#39;mae&#39;: 29243212.1, &#39;rmse&#39;: 63104011.7, &#39;adj_r2&#39;: 0.48324745635524546}\noutlier detector number 5\n######################################################\nNumber of outliers:  345\nAverage created\nProcessed\nEpoch 00158: early stopping\nsmape: 78.75904587374487, mape: 742.0038723854293, mae: 28178030.0\nEpoch 00144: early stopping\nsmape: 78.9397130924995, mape: 879.036801371735, mae: 31269460.0\nEpoch 00158: early stopping\nsmape: 77.29302307805195, mape: 798.1065081256376, mae: 33371697.0\nEpoch 00170: early stopping\nsmape: 75.57123290730135, mape: 633.2731776248763, mae: 29099792.0\nEpoch 00156: early stopping\nsmape: 77.59739459891347, mape: 325.3478120956633, mae: 38274184.0\nEpoch 00106: early stopping\nsmape: 76.4906252388384, mape: 776.5385214404694, mae: 28316607.0\nEpoch 00158: early stopping\nsmape: 74.06263382708987, mape: 1131.383674463688, mae: 31170183.0\nEpoch 00161: early stopping\nsmape: 78.31318903663741, mape: 1073.8025849026017, mae: 29984787.0\nEpoch 00143: early stopping\nsmape: 73.02125789799706, mape: 1091.9500194829825, mae: 27906422.0\nEpoch 00099: early stopping\nsmape: 76.21215320833707, mape: 455.0077071998402, mae: 32235169.0\n{&#39;smape&#39;: 76.62602687594111, &#39;mape&#39;: 790.6450679092924, &#39;mae&#39;: 30980633.1, &#39;rmse&#39;: 67019017.8, &#39;adj_r2&#39;: 0.486484585285978}\noutlier detector number 6\n######################################################\nNumber of outliers:  255\nAverage created\nProcessed\nEpoch 00130: early stopping\nsmape: 80.57031668750358, mape: 629.3585969556873, mae: 29218502.0\nEpoch 00128: early stopping\nsmape: 80.71808119199444, mape: 667.235997640305, mae: 32856340.0\nEpoch 00196: early stopping\nsmape: 77.02832934509779, mape: 860.0337584953328, mae: 32807933.0\nEpoch 00146: early stopping\nsmape: 76.33143086126, mape: 688.6696351572236, mae: 30706884.0\nEpoch 00135: early stopping\nsmape: 77.66741910100328, mape: 467.80411711995924, mae: 37929603.0\nEpoch 00139: early stopping\nsmape: 76.04550640484233, mape: 582.8333018071473, mae: 29739934.0\nEpoch 00139: early stopping\nsmape: 73.86836839446765, mape: 1036.2581620034377, mae: 31369952.0\nEpoch 00155: early stopping\nsmape: 78.93531784934045, mape: 1004.1805684103067, mae: 30186634.0\nEpoch 00156: early stopping\nsmape: 76.05349211440355, mape: 903.5875967036108, mae: 31030499.0\nEpoch 00158: early stopping\nsmape: 75.22828857976663, mape: 570.105642774663, mae: 32767262.0\n{&#39;smape&#39;: 77.24465505296797, &#39;mape&#39;: 741.0067377067674, &#39;mae&#39;: 31861354.3, &#39;rmse&#39;: 69229165.6, &#39;adj_r2&#39;: 0.504090738532122}\noutlier detector number 7\n######################################################\nNumber of outliers:  180\nAverage created\nProcessed\nEpoch 00198: early stopping\nsmape: 78.54263842169915, mape: 821.9605240402077, mae: 29149479.0\nEpoch 00165: early stopping\nsmape: 80.14070285406937, mape: 677.6764458301205, mae: 35447139.0\nEpoch 00150: early stopping\nsmape: 77.26614632460057, mape: 859.5484421478568, mae: 31885493.0\nEpoch 00161: early stopping\nsmape: 75.91111462557059, mape: 429.62426464612065, mae: 31895729.0\nEpoch 00133: early stopping\nsmape: 78.5036710919278, mape: 326.9221751097635, mae: 40275119.0\nEpoch 00146: early stopping\nsmape: 76.97717445746058, mape: 540.9618601625472, mae: 30273586.0\nEpoch 00106: early stopping\nsmape: 75.48589199700007, mape: 931.8197339925913, mae: 32476824.0\nEpoch 00194: early stopping\nsmape: 75.82942000701766, mape: 1002.4384166788881, mae: 30405257.0\nEpoch 00132: early stopping\nsmape: 78.63131548339145, mape: 775.2983151702671, mae: 33013716.0\nEpoch 00129: early stopping\nsmape: 73.82524420994561, mape: 465.32368952559756, mae: 33176896.0\n{&#39;smape&#39;: 77.11133194726828, &#39;mape&#39;: 683.1573867303961, &#39;mae&#39;: 32799923.8, &#39;rmse&#39;: 71771917.2, &#39;adj_r2&#39;: 0.5045561472592552}\noutlier detector number 8\n######################################################\nNumber of outliers:  140\nAverage created\nProcessed\nEpoch 00123: early stopping\nsmape: 80.82751469703506, mape: 556.7311720215533, mae: 30728079.0\nEpoch 00157: early stopping\nsmape: 79.5435558011738, mape: 740.3045393867495, mae: 36650567.0\nEpoch 00163: early stopping\nsmape: 78.24250899486032, mape: 900.9423777058566, mae: 33922267.0\nEpoch 00163: early stopping\nsmape: 75.02135044565873, mape: 498.4486784529666, mae: 32446068.0\nEpoch 00131: early stopping\nsmape: 78.96458467304173, mape: 362.78926568683187, mae: 42950716.0\nEpoch 00141: early stopping\nsmape: 77.53987262616432, mape: 619.1964527641657, mae: 31810442.0\nEpoch 00147: early stopping\nsmape: 75.30196260482005, mape: 1127.4731349508763, mae: 33008590.0\nEpoch 00183: early stopping\nsmape: 77.81421648209846, mape: 847.8115630321225, mae: 32053171.0\nEpoch 00167: early stopping\nsmape: 75.84581878786362, mape: 1068.2754415280028, mae: 32835972.0\nEpoch 00113: early stopping\nsmape: 74.12682854682599, mape: 375.58635587903007, mae: 35134910.0\n{&#39;smape&#39;: 77.32282136595421, &#39;mape&#39;: 709.7558981408156, &#39;mae&#39;: 34154078.2, &#39;rmse&#39;: 75642150.9, &#39;adj_r2&#39;: 0.4952277480382807}\noutlier detector number 9\n######################################################\nNumber of outliers:  113\nAverage created\nProcessed\nEpoch 00142: early stopping\nsmape: 80.86496793440831, mape: 598.3738502962007, mae: 32294517.0\nEpoch 00161: early stopping\nsmape: 80.28963416913248, mape: 661.7422255203285, mae: 38061824.0\nEpoch 00156: early stopping\nsmape: 78.75799553076436, mape: 902.9967003913931, mae: 35657960.0\nEpoch 00135: early stopping\nsmape: 75.67862107301096, mape: 432.4116629842512, mae: 33964082.0\nEpoch 00170: early stopping\nsmape: 79.40543878275983, mape: 457.18203266515775, mae: 44206827.0\nEpoch 00135: early stopping\nsmape: 78.39727756052513, mape: 1157.2266067550252, mae: 33736882.0\nEpoch 00157: early stopping\nsmape: 76.03333394184665, mape: 365.20637810800724, mae: 35820291.0\nEpoch 00144: early stopping\nsmape: 76.87995454272159, mape: 1097.1760412951596, mae: 33214808.0\nEpoch 00142: early stopping\nsmape: 76.7129691125884, mape: 939.6468242438131, mae: 35661382.0\nEpoch 00117: early stopping\nsmape: 75.68255400483524, mape: 355.59295709772067, mae: 36798097.0\n{&#39;smape&#39;: 77.87027466525929, &#39;mape&#39;: 696.7555279357057, &#39;mae&#39;: 35941667.0, &#39;rmse&#39;: 80797438.1, &#39;adj_r2&#39;: 0.4962951593321403}\noutlier detector number 10\n######################################################\nNumber of outliers:  82\nAverage created\nProcessed\nEpoch 00098: early stopping\nsmape: 79.99434165296891, mape: 699.5753185569346, mae: 32432902.0\nEpoch 00171: early stopping\nsmape: 80.63112013989314, mape: 672.1713663667513, mae: 40133639.0\nEpoch 00110: early stopping\nsmape: 79.00899379634048, mape: 933.8414210328862, mae: 36404143.0\nEpoch 00140: early stopping\nsmape: 77.77667551307026, mape: 375.4061040467632, mae: 35935490.0\nEpoch 00168: early stopping\nsmape: 79.71163089536437, mape: 373.07153421648127, mae: 45854705.0\nEpoch 00159: early stopping\nsmape: 79.08163172970676, mape: 859.3539456821235, mae: 35670110.0\nEpoch 00149: early stopping\nsmape: 77.1923881127192, mape: 270.6879502280604, mae: 36861641.0\nEpoch 00166: early stopping\nsmape: 77.51430658485313, mape: 960.0594070559699, mae: 34611000.0\nEpoch 00180: early stopping\nsmape: 75.89143006701565, mape: 933.5023670049566, mae: 35450772.0\nEpoch 00100: early stopping\nsmape: 76.20783973023521, mape: 412.74430721979485, mae: 38754111.0\n{&#39;smape&#39;: 78.3010358222167, &#39;mape&#39;: 649.0413721410722, &#39;mae&#39;: 37210851.3, &#39;rmse&#39;: 85452384.2, &#39;adj_r2&#39;: 0.47659570000062546}\noutlier detector number 11\n######################################################\nNumber of outliers:  63\nAverage created\nProcessed\nEpoch 00093: early stopping\nsmape: 80.09786069449575, mape: 656.6094810851205, mae: 32242148.0\nEpoch 00200: early stopping\nsmape: 79.96533622787317, mape: 685.6376081754504, mae: 38629711.0\nEpoch 00134: early stopping\nsmape: 78.80194905927165, mape: 726.9757924198442, mae: 35860350.0\nEpoch 00139: early stopping\nsmape: 75.76583055664706, mape: 468.8985703716723, mae: 35895513.0\nEpoch 00155: early stopping\nsmape: 80.28171209676941, mape: 344.0670122000553, mae: 44552883.0\nEpoch 00124: early stopping\nsmape: 78.87160814969533, mape: 811.2675589942313, mae: 35661888.0\nEpoch 00129: early stopping\nsmape: 77.11143929324987, mape: 265.04662933234584, mae: 36780057.0\nEpoch 00149: early stopping\nsmape: 78.40306610010396, mape: 838.0082967894639, mae: 34479210.0\nEpoch 00134: early stopping\nsmape: 75.14239802989799, mape: 1030.962670286066, mae: 34442621.0\nEpoch 00145: early stopping\nsmape: 75.8817365650716, mape: 369.2651512959944, mae: 38048809.0\n{&#39;smape&#39;: 78.03229367730759, &#39;mape&#39;: 619.6738770950244, &#39;mae&#39;: 36659319.0, &#39;rmse&#39;: 83456735.0, &#39;adj_r2&#39;: 0.4801063811164174}\noutlier detector number 12\n######################################################\nNumber of outliers:  53\nAverage created\nProcessed\nEpoch 00140: early stopping\nsmape: 81.0537989511531, mape: 539.0146241479533, mae: 33793901.0\nEpoch 00116: early stopping\nsmape: 79.70664512129649, mape: 743.601267121304, mae: 38478112.0\nEpoch 00188: early stopping\nsmape: 78.02985663355061, mape: 794.1333477672562, mae: 36053314.0\nEpoch 00168: early stopping\nsmape: 75.87329439229647, mape: 475.5213395993115, mae: 36164250.0\nEpoch 00182: early stopping\nsmape: 78.76191664214767, mape: 413.5446590545465, mae: 44436364.0\nEpoch 00104: early stopping\nsmape: 76.64736755764018, mape: 890.7484800544757, mae: 33849255.0\nEpoch 00151: early stopping\nsmape: 76.6515392434386, mape: 258.8665109852915, mae: 36585890.0\nEpoch 00127: early stopping\nsmape: 77.35727169424761, mape: 919.0366414410457, mae: 34195917.0\nEpoch 00123: early stopping\nsmape: 74.7670036056929, mape: 996.190310267233, mae: 34347965.0\nEpoch 00116: early stopping\nsmape: 75.87517309129728, mape: 727.5327715574167, mae: 38645660.0\n{&#39;smape&#39;: 77.47238669327609, &#39;mape&#39;: 675.8189951995835, &#39;mae&#39;: 36655062.8, &#39;rmse&#39;: 82236553.6, &#39;adj_r2&#39;: 0.505327204840572}\n"
    }
   ],
   "source": [
    "###########################  custom outliers\n",
    "\n",
    "full_custom = []\n",
    "outlier_detector_number = 0\n",
    "for i in range(5, 17):\n",
    "    outlier_detector_number += 1\n",
    "    print('outlier detector number', outlier_detector_number)\n",
    "    drop_index_list = df_full[common_del > i].index\n",
    "    outliers_estimator = OutliersEstimator(drop_index_list=drop_index_list)\n",
    "    outliers_estimator.fit(X, y)\n",
    "    score = outliers_estimator.score(X,y)\n",
    "    full_custom.append({\n",
    "        'cv_iteration_metrics': score['cv_iterations'],\n",
    "        'cv_metrics': score['cv_metrics'],\n",
    "        'drop_index_list': outliers_estimator.drop_index_list_,\n",
    "    })"
   ]
  },
  {
   "cell_type": "code",
   "execution_count": 12,
   "metadata": {},
   "outputs": [
    {
     "output_type": "execute_result",
     "data": {
      "text/plain": "[&#39;outliers/drop_indices/full_custom.joblib&#39;]"
     },
     "metadata": {},
     "execution_count": 12
    }
   ],
   "source": [
    "dump(full_custom, 'outliers/drop_indices/full_custom.joblib')"
   ]
  },
  {
   "cell_type": "code",
   "execution_count": 9,
   "metadata": {},
   "outputs": [],
   "source": [
    "full_custom = load('outliers/drop_indices/full_custom.joblib')"
   ]
  },
  {
   "cell_type": "code",
   "execution_count": 32,
   "metadata": {},
   "outputs": [
    {
     "output_type": "execute_result",
     "data": {
      "text/plain": "[{&#39;i&#39;: 1,\n  &#39;smape&#39;: 74.196265957187,\n  &#39;mape&#39;: 528.2764523375284,\n  &#39;mae&#39;: 24976081.5},\n {&#39;i&#39;: 11,\n  &#39;smape&#39;: 78.03229367730759,\n  &#39;mape&#39;: 619.6738770950244,\n  &#39;mae&#39;: 36659319.0},\n {&#39;i&#39;: 10,\n  &#39;smape&#39;: 78.3010358222167,\n  &#39;mape&#39;: 649.0413721410722,\n  &#39;mae&#39;: 37210851.3},\n {&#39;i&#39;: 12,\n  &#39;smape&#39;: 77.47238669327609,\n  &#39;mape&#39;: 675.8189951995835,\n  &#39;mae&#39;: 36655062.8},\n {&#39;i&#39;: 7,\n  &#39;smape&#39;: 77.11133194726828,\n  &#39;mape&#39;: 683.1573867303961,\n  &#39;mae&#39;: 32799923.8},\n {&#39;i&#39;: 9,\n  &#39;smape&#39;: 77.87027466525929,\n  &#39;mape&#39;: 696.7555279357057,\n  &#39;mae&#39;: 35941667.0},\n {&#39;i&#39;: 8,\n  &#39;smape&#39;: 77.32282136595421,\n  &#39;mape&#39;: 709.7558981408156,\n  &#39;mae&#39;: 34154078.2},\n {&#39;i&#39;: 6,\n  &#39;smape&#39;: 77.24465505296797,\n  &#39;mape&#39;: 741.0067377067674,\n  &#39;mae&#39;: 31861354.3},\n {&#39;i&#39;: 4,\n  &#39;smape&#39;: 76.10569119992975,\n  &#39;mape&#39;: 757.8647027809086,\n  &#39;mae&#39;: 29243212.1},\n {&#39;i&#39;: 2,\n  &#39;smape&#39;: 75.27834969693357,\n  &#39;mape&#39;: 778.1494233980086,\n  &#39;mae&#39;: 26332519.3},\n {&#39;i&#39;: 5,\n  &#39;smape&#39;: 76.62602687594111,\n  &#39;mape&#39;: 790.6450679092924,\n  &#39;mae&#39;: 30980633.1},\n {&#39;i&#39;: 3,\n  &#39;smape&#39;: 76.06363644255313,\n  &#39;mape&#39;: 816.4303076516866,\n  &#39;mae&#39;: 27765504.9}]"
     },
     "metadata": {},
     "execution_count": 32
    }
   ],
   "source": [
    "get_sorted_metric(full_custom, 'mape')"
   ]
  },
  {
   "cell_type": "code",
   "execution_count": 48,
   "metadata": {
    "tags": []
   },
   "outputs": [
    {
     "output_type": "stream",
     "name": "stdout",
     "text": "######################################################\nNumber of outliers:  63\nAverage created\nProcessed\n1:\tsplit num\nEpoch 00116: early stopping\n2:\tsplit num\nEpoch 00123: early stopping\n3:\tsplit num\nEpoch 00149: early stopping\n4:\tsplit num\nEpoch 00152: early stopping\n5:\tsplit num\nEpoch 00141: early stopping\n{&#39;smape&#39;: 78.86781900493382, &#39;mape&#39;: 758.802669203645, &#39;mae&#39;: 37201768.0, &#39;rmse&#39;: 85191143.2, &#39;adj_r2&#39;: 0.5730848608486628}\n"
    }
   ],
   "source": [
    "outliers_estimator = OutliersEstimator(drop_index_list=full_custom[12]['drop_index_list'])\n",
    "outliers_estimator.fit(X, y)\n",
    "best_custom = outliers_estimator.score(X,y)"
   ]
  },
  {
   "cell_type": "code",
   "execution_count": 9,
   "metadata": {
    "tags": []
   },
   "outputs": [
    {
     "output_type": "stream",
     "name": "stdout",
     "text": "outlier detector number 1\n######################################################\n{&#39;behaviour&#39;: &#39;deprecated&#39;, &#39;bootstrap&#39;: False, &#39;contamination&#39;: 0.05170343400034513, &#39;max_features&#39;: 0.8458931108551717, &#39;max_samples&#39;: 4505, &#39;n_estimators&#39;: 5000, &#39;n_jobs&#39;: -1, &#39;random_state&#39;: 0, &#39;verbose&#39;: 0, &#39;warm_start&#39;: False}\nNumber of outliers:  388\nAverage created\nProcessed\nEpoch 00191: early stopping\nsmape: 81.73468966966412, mape: 618.5310912010285, mae: 36884349.0\nEpoch 00120: early stopping\nsmape: 83.34586236178802, mape: 607.415424975081, mae: 41627842.0\nEpoch 00164: early stopping\nsmape: 79.2118253710323, mape: 800.3718340329801, mae: 43809896.0\nEpoch 00199: early stopping\nsmape: 77.49835115096748, mape: 489.1120759846312, mae: 38168593.0\nEpoch 00157: early stopping\nsmape: 79.84398297953815, mape: 386.9801985053163, mae: 50318929.0\nEpoch 00199: early stopping\nsmape: 79.56465006981394, mape: 459.9157983966325, mae: 39311954.0\nEpoch 00140: early stopping\nsmape: 77.25222954024454, mape: 690.6218476712238, mae: 39362094.0\nEpoch 00193: early stopping\nsmape: 78.37069641906966, mape: 1071.353790544582, mae: 39476571.0\nEpoch 00178: early stopping\nsmape: 76.06947821097042, mape: 925.9757240022159, mae: 36971839.0\nEpoch 00131: early stopping\nsmape: 77.50907257175297, mape: 527.957292812626, mae: 39426462.0\n{&#39;smape&#39;: 79.04008383448415, &#39;mape&#39;: 657.8235078126316, &#39;mae&#39;: 40535852.9, &#39;rmse&#39;: 96512610.3, &#39;adj_r2&#39;: 0.4624717933286151}\noutlier detector number 2\n######################################################\n{&#39;behaviour&#39;: &#39;deprecated&#39;, &#39;bootstrap&#39;: False, &#39;contamination&#39;: 0.016704915143254038, &#39;max_features&#39;: 0.7953307675800516, &#39;max_samples&#39;: 6562, &#39;n_estimators&#39;: 5000, &#39;n_jobs&#39;: -1, &#39;random_state&#39;: 0, &#39;verbose&#39;: 0, &#39;warm_start&#39;: False}\nNumber of outliers:  126\nAverage created\nProcessed\nEpoch 00135: early stopping\nsmape: 81.62221281450381, mape: 554.8257093999196, mae: 35962276.0\nEpoch 00099: early stopping\nsmape: 81.6686653214484, mape: 554.7778809833203, mae: 44013402.0\nEpoch 00133: early stopping\nsmape: 80.23065948148162, mape: 621.6693738905954, mae: 39541508.0\nEpoch 00147: early stopping\nsmape: 76.11167957859965, mape: 527.8545496002796, mae: 38621083.0\nEpoch 00133: early stopping\nsmape: 80.08710467665529, mape: 374.51617663933916, mae: 50545964.0\nEpoch 00129: early stopping\nsmape: 79.40440336820771, mape: 726.0262400695494, mae: 36607868.0\nEpoch 00084: early stopping\nsmape: 75.94340006729705, mape: 274.9161109576329, mae: 39452769.0\nEpoch 00168: early stopping\nsmape: 79.64742047705597, mape: 736.4485057953931, mae: 38374894.0\nEpoch 00155: early stopping\nsmape: 77.36258468437393, mape: 861.1233789141739, mae: 39323038.0\nEpoch 00157: early stopping\nsmape: 76.19858713953496, mape: 337.81471967467803, mae: 41641253.0\n{&#39;smape&#39;: 78.82767176091583, &#39;mape&#39;: 556.9972645924881, &#39;mae&#39;: 40408405.5, &#39;rmse&#39;: 94514026.7, &#39;adj_r2&#39;: 0.4881637118948869}\noutlier detector number 3\n######################################################\n{&#39;behaviour&#39;: &#39;deprecated&#39;, &#39;bootstrap&#39;: False, &#39;contamination&#39;: 0.017095133368459837, &#39;max_features&#39;: 0.505085668293136, &#39;max_samples&#39;: 5955, &#39;n_estimators&#39;: 5000, &#39;n_jobs&#39;: -1, &#39;random_state&#39;: 0, &#39;verbose&#39;: 0, &#39;warm_start&#39;: False}\nNumber of outliers:  129\nAverage created\nProcessed\nEpoch 00161: early stopping\nsmape: 81.67714667762904, mape: 577.30551512473, mae: 36543937.0\nEpoch 00160: early stopping\nsmape: 81.81246512829047, mape: 642.9184921569764, mae: 45384467.0\nEpoch 00108: early stopping\nsmape: 79.74244597020817, mape: 952.6858410385036, mae: 39914903.0\nEpoch 00110: early stopping\nsmape: 76.64364950939094, mape: 568.6048632570887, mae: 38866169.0\nEpoch 00112: early stopping\nsmape: 80.99502028582867, mape: 431.7070662886805, mae: 52077795.0\nEpoch 00145: early stopping\nsmape: 78.78001793605678, mape: 905.6543977217857, mae: 36720357.0\nEpoch 00163: early stopping\nsmape: 75.99447075526282, mape: 346.92316182932706, mae: 40006902.0\nEpoch 00189: early stopping\nsmape: 79.9823346225737, mape: 729.8268355446803, mae: 38999863.0\nEpoch 00126: early stopping\nsmape: 76.08861828132706, mape: 1099.1040239983874, mae: 37986568.0\nEpoch 00111: early stopping\nsmape: 77.82468084429323, mape: 301.48619936245717, mae: 43506934.0\n{&#39;smape&#39;: 78.95408500108609, &#39;mape&#39;: 655.6216396322618, &#39;mae&#39;: 41000789.5, &#39;rmse&#39;: 96974372.7, &#39;adj_r2&#39;: 0.4686305852815086}\noutlier detector number 4\n######################################################\n{&#39;behaviour&#39;: &#39;deprecated&#39;, &#39;bootstrap&#39;: False, &#39;contamination&#39;: 0.05950378704306125, &#39;max_features&#39;: 0.8106463579735572, &#39;max_samples&#39;: 4112, &#39;n_estimators&#39;: 5000, &#39;n_jobs&#39;: -1, &#39;random_state&#39;: 0, &#39;verbose&#39;: 0, &#39;warm_start&#39;: False}\nNumber of outliers:  446\nAverage created\nProcessed\nEpoch 00135: early stopping\nsmape: 82.4325124677762, mape: 553.764311054372, mae: 38158122.0\nEpoch 00158: early stopping\nsmape: 82.23041001870962, mape: 658.2693624434579, mae: 41611604.0\nEpoch 00186: early stopping\nsmape: 78.85438164363529, mape: 752.4544749885549, mae: 44348571.0\nEpoch 00148: early stopping\nsmape: 77.31264269989973, mape: 494.4626769227539, mae: 37893569.0\nEpoch 00150: early stopping\nsmape: 79.62267946121415, mape: 380.35407823809584, mae: 49836859.0\nEpoch 00151: early stopping\nsmape: 79.40489748677318, mape: 462.1903547757818, mae: 42320210.0\nEpoch 00137: early stopping\nsmape: 76.77186468310784, mape: 764.141341780761, mae: 38343002.0\nEpoch 00173: early stopping\nsmape: 80.95324173377496, mape: 681.3348128811829, mae: 40744142.0\nEpoch 00172: early stopping\nsmape: 76.09146077921625, mape: 968.9712738455016, mae: 40351225.0\nEpoch 00149: early stopping\nsmape: 76.46475418845829, mape: 587.6227279739089, mae: 39168652.0\n{&#39;smape&#39;: 79.01388451625655, &#39;mape&#39;: 630.3565414904372, &#39;mae&#39;: 41277595.6, &#39;rmse&#39;: 98338905.9, &#39;adj_r2&#39;: 0.46078829021327616}\noutlier detector number 5\n######################################################\n{&#39;behaviour&#39;: &#39;deprecated&#39;, &#39;bootstrap&#39;: False, &#39;contamination&#39;: 0.04243978862672243, &#39;max_features&#39;: 0.6316320506841532, &#39;max_samples&#39;: 6494, &#39;n_estimators&#39;: 5000, &#39;n_jobs&#39;: -1, &#39;random_state&#39;: 0, &#39;verbose&#39;: 0, &#39;warm_start&#39;: False}\nNumber of outliers:  318\nAverage created\nProcessed\nEpoch 00137: early stopping\nsmape: 80.7083162417505, mape: 633.5149995612451, mae: 35467299.0\nEpoch 00154: early stopping\nsmape: 82.10198507239446, mape: 700.4894199334232, mae: 41329141.0\nEpoch 00155: early stopping\nsmape: 77.79802561267456, mape: 797.3726495858097, mae: 42228022.0\nEpoch 00118: early stopping\nsmape: 78.37618016708464, mape: 529.746730782315, mae: 38738199.0\nEpoch 00112: early stopping\nsmape: 81.92366468780247, mape: 282.23414489917667, mae: 52168662.0\nEpoch 00133: early stopping\nsmape: 78.35586204566386, mape: 480.42959409019153, mae: 37531643.0\nEpoch 00125: early stopping\nsmape: 75.8047819514937, mape: 741.9563686627604, mae: 40404829.0\nEpoch 00132: early stopping\nsmape: 79.84944596132753, mape: 873.8177830775022, mae: 37956200.0\nEpoch 00189: early stopping\nsmape: 76.30875034622854, mape: 777.9686579393098, mae: 37539709.0\nEpoch 00127: early stopping\nsmape: 77.597958904247, mape: 471.6441739983795, mae: 43365823.0\n{&#39;smape&#39;: 78.88249709906673, &#39;mape&#39;: 628.9174522530113, &#39;mae&#39;: 40672952.7, &#39;rmse&#39;: 95863432.6, &#39;adj_r2&#39;: 0.4635928953247997}\noutlier detector number 6\n######################################################\n{&#39;behaviour&#39;: &#39;deprecated&#39;, &#39;bootstrap&#39;: False, &#39;contamination&#39;: 0.02656710664345524, &#39;max_features&#39;: 0.8584142262458798, &#39;max_samples&#39;: 1290, &#39;n_estimators&#39;: 5000, &#39;n_jobs&#39;: -1, &#39;random_state&#39;: 0, &#39;verbose&#39;: 0, &#39;warm_start&#39;: False}\nNumber of outliers:  200\nAverage created\nProcessed\nEpoch 00172: early stopping\nsmape: 81.71242416877972, mape: 569.5948754585253, mae: 36459250.0\nEpoch 00144: early stopping\nsmape: 81.84839797785935, mape: 745.0090441446814, mae: 42202954.0\nEpoch 00236: early stopping\nsmape: 79.03121434350768, mape: 756.5382053754328, mae: 40625955.0\nEpoch 00146: early stopping\nsmape: 77.74982291786752, mape: 452.04285646364394, mae: 39225045.0\nEpoch 00116: early stopping\nsmape: 81.58384049199333, mape: 285.9156436631112, mae: 51075420.0\nEpoch 00144: early stopping\nsmape: 81.7189430113529, mape: 411.8063546675128, mae: 39252203.0\nEpoch 00162: early stopping\nsmape: 77.03582213754727, mape: 715.6828706514801, mae: 40113366.0\nEpoch 00148: early stopping\nsmape: 79.23719290041821, mape: 843.8512880268842, mae: 37753802.0\nEpoch 00148: early stopping\nsmape: 76.7417110746263, mape: 958.6436546612596, mae: 39622989.0\nEpoch 00133: early stopping\nsmape: 77.83385840734586, mape: 328.1506383682796, mae: 42026894.0\n{&#39;smape&#39;: 79.44932274312981, &#39;mape&#39;: 606.723543148081, &#39;mae&#39;: 40835787.8, &#39;rmse&#39;: 95599222.6, &#39;adj_r2&#39;: 0.4739021028929417}\noutlier detector number 7\n######################################################\n{&#39;behaviour&#39;: &#39;deprecated&#39;, &#39;bootstrap&#39;: False, &#39;contamination&#39;: 0.030300946465561036, &#39;max_features&#39;: 0.7674001047473631, &#39;max_samples&#39;: 7147, &#39;n_estimators&#39;: 5000, &#39;n_jobs&#39;: -1, &#39;random_state&#39;: 0, &#39;verbose&#39;: 0, &#39;warm_start&#39;: False}\nNumber of outliers:  228\nAverage created\nProcessed\nEpoch 00147: early stopping\nsmape: 80.32521862554889, mape: 750.8475307145072, mae: 35873057.0\nEpoch 00098: early stopping\nsmape: 81.42261598538626, mape: 797.7216845922222, mae: 41284021.0\nEpoch 00136: early stopping\nsmape: 78.93487875282808, mape: 795.7102447792748, mae: 42140958.0\nEpoch 00116: early stopping\nsmape: 77.46449983609835, mape: 612.7435906977803, mae: 38516874.0\nEpoch 00143: early stopping\nsmape: 79.7640866822923, mape: 360.851535890279, mae: 50588592.0\nEpoch 00165: early stopping\nsmape: 78.19294453095577, mape: 471.02274465977246, mae: 37171419.0\nEpoch 00121: early stopping\nsmape: 76.57311524303557, mape: 665.5735862519344, mae: 40715190.0\nEpoch 00182: early stopping\nsmape: 79.78517606049282, mape: 797.2687789053236, mae: 37405690.0\nEpoch 00131: early stopping\nsmape: 75.34810313360718, mape: 861.9337914966246, mae: 38381874.0\nEpoch 00164: early stopping\nsmape: 77.16129553324605, mape: 495.9596352910264, mae: 42129257.0\n{&#39;smape&#39;: 78.49719343834913, &#39;mape&#39;: 660.9633123278745, &#39;mae&#39;: 40420693.2, &#39;rmse&#39;: 92664979.7, &#39;adj_r2&#39;: 0.5105750780325005}\noutlier detector number 8\n######################################################\n{&#39;behaviour&#39;: &#39;deprecated&#39;, &#39;bootstrap&#39;: False, &#39;contamination&#39;: 0.034142998369617754, &#39;max_features&#39;: 0.7026785163615323, &#39;max_samples&#39;: 2617, &#39;n_estimators&#39;: 5000, &#39;n_jobs&#39;: -1, &#39;random_state&#39;: 0, &#39;verbose&#39;: 0, &#39;warm_start&#39;: False}\nNumber of outliers:  256\nAverage created\nProcessed\nEpoch 00116: early stopping\nsmape: 81.52445861752565, mape: 540.5935171552187, mae: 35579251.0\nEpoch 00147: early stopping\nsmape: 82.34695375654815, mape: 608.868944382213, mae: 43154035.0\nEpoch 00134: early stopping\nsmape: 78.33524199158417, mape: 727.9682745259934, mae: 41471714.0\nEpoch 00139: early stopping\nsmape: 78.00041660425133, mape: 511.55461929906744, mae: 39348427.0\nEpoch 00161: early stopping\nsmape: 80.01581494951512, mape: 366.0857392234196, mae: 50651620.0\nEpoch 00190: early stopping\nsmape: 78.0302651372507, mape: 554.171827908941, mae: 38169958.0\nEpoch 00109: early stopping\nsmape: 75.55884332069188, mape: 560.9923588584439, mae: 40467663.0\nEpoch 00149: early stopping\nsmape: 79.63941299316782, mape: 931.0537724887082, mae: 37660581.0\nEpoch 00165: early stopping\nsmape: 76.06048808303986, mape: 851.3110392764421, mae: 38100323.0\nEpoch 00114: early stopping\nsmape: 76.92272873383452, mape: 462.26899071736767, mae: 40918148.0\n{&#39;smape&#39;: 78.64346241874092, &#39;mape&#39;: 611.4869083835815, &#39;mae&#39;: 40552172.0, &#39;rmse&#39;: 95589307.1, &#39;adj_r2&#39;: 0.47267051520042624}\noutlier detector number 9\n######################################################\n{&#39;behaviour&#39;: &#39;deprecated&#39;, &#39;bootstrap&#39;: False, &#39;contamination&#39;: 0.029124391647189482, &#39;max_features&#39;: 0.6867796732020384, &#39;max_samples&#39;: 3718, &#39;n_estimators&#39;: 5000, &#39;n_jobs&#39;: -1, &#39;random_state&#39;: 0, &#39;verbose&#39;: 0, &#39;warm_start&#39;: False}\nNumber of outliers:  219\nAverage created\nProcessed\nEpoch 00161: early stopping\nsmape: 81.72278766418457, mape: 568.5699340141205, mae: 36026884.0\nEpoch 00182: early stopping\nsmape: 82.20645993102909, mape: 665.4207419518242, mae: 41533268.0\nEpoch 00192: early stopping\nsmape: 79.80913670580291, mape: 662.355988353122, mae: 42106345.0\nEpoch 00188: early stopping\nsmape: 77.43927341811003, mape: 468.4699664759263, mae: 39431445.0\nEpoch 00215: early stopping\nsmape: 80.94670869653376, mape: 345.371298283163, mae: 51766615.0\nEpoch 00199: early stopping\nsmape: 77.94265677076226, mape: 560.1026571172321, mae: 37070368.0\nEpoch 00286: early stopping\nsmape: 77.39642034055255, mape: 718.9878814342095, mae: 40717384.0\nEpoch 00197: early stopping\nsmape: 81.16466869333036, mape: 782.2147372966568, mae: 38141736.0\nEpoch 00179: early stopping\nsmape: 78.77444216531006, mape: 594.0982365082625, mae: 40285930.0\nEpoch 00215: early stopping\nsmape: 77.49028504267756, mape: 572.6193980578531, mae: 40981985.0\n{&#39;smape&#39;: 79.4892839428293, &#39;mape&#39;: 593.821083949237, &#39;mae&#39;: 40806196.0, &#39;rmse&#39;: 96024795.9, &#39;adj_r2&#39;: 0.4794745982883989}\noutlier detector number 10\n######################################################\n{&#39;behaviour&#39;: &#39;deprecated&#39;, &#39;bootstrap&#39;: False, &#39;contamination&#39;: 0.021753182518866467, &#39;max_features&#39;: 0.7456515627711102, &#39;max_samples&#39;: 2299, &#39;n_estimators&#39;: 5000, &#39;n_jobs&#39;: -1, &#39;random_state&#39;: 0, &#39;verbose&#39;: 0, &#39;warm_start&#39;: False}\nNumber of outliers:  163\nAverage created\nProcessed\nEpoch 00114: early stopping\nsmape: 81.02793361471426, mape: 600.030927179918, mae: 35786882.0\nEpoch 00176: early stopping\nsmape: 80.94562221845136, mape: 734.81903376894, mae: 43446137.0\nEpoch 00112: early stopping\nsmape: 79.14573648764336, mape: 811.9199796434151, mae: 38385802.0\nEpoch 00152: early stopping\nsmape: 75.84522556366156, mape: 499.6763444647701, mae: 37980777.0\nEpoch 00133: early stopping\nsmape: 80.35361389673879, mape: 352.0301882313729, mae: 51120630.0\nEpoch 00146: early stopping\nsmape: 78.6773152123814, mape: 627.2604439961506, mae: 37278848.0\nEpoch 00128: early stopping\nsmape: 77.35263854612505, mape: 521.1636794498813, mae: 40007802.0\nEpoch 00140: early stopping\nsmape: 79.5052985251778, mape: 696.0032746668546, mae: 38525225.0\nEpoch 00146: early stopping\nsmape: 76.37053193737175, mape: 923.1928050751712, mae: 37017968.0\nEpoch 00141: early stopping\nsmape: 75.57944077494338, mape: 345.3473401891873, mae: 40691247.0\n{&#39;smape&#39;: 78.48033567772087, &#39;mape&#39;: 611.1444016665662, &#39;mae&#39;: 40024131.8, &#39;rmse&#39;: 94405103.7, &#39;adj_r2&#39;: 0.48333638005688273}\n"
    }
   ],
   "source": [
    "###########################  ISO forest \n",
    "param_grid = {\n",
    "    'max_samples': sp_randint(256, 7500),\n",
    "    'max_features': sp_uniform(loc=0.5, scale=0.5),\n",
    "    'contamination': sp_uniform(loc=0.01, scale=0.05),\n",
    "}\n",
    "outlier_detectors = param_search(IsolationForest(n_jobs=-1, random_state=0, n_estimators=5000), param_grid, n_iter=10)\n",
    "\n",
    "full_iso = []\n",
    "outlier_detector_number = 0\n",
    "for outlier_detector in outlier_detectors:\n",
    "    outlier_detector_number += 1\n",
    "    print('outlier detector number', outlier_detector_number)\n",
    "    outliers_estimator = OutliersEstimator(outliers_detector=outlier_detector)\n",
    "    outliers_estimator.fit(X, y)\n",
    "    score = outliers_estimator.score(X,y)\n",
    "    full_iso.append({\n",
    "        'cv_iteration_metrics': score['cv_iterations'],\n",
    "        'cv_metrics': score['cv_metrics'],\n",
    "        'drop_index_list': outliers_estimator.drop_index_list_,\n",
    "    })"
   ]
  },
  {
   "cell_type": "code",
   "execution_count": 10,
   "metadata": {},
   "outputs": [
    {
     "output_type": "execute_result",
     "data": {
      "text/plain": "[&#39;outliers/drop_indices/full_iso.joblib&#39;]"
     },
     "metadata": {},
     "execution_count": 10
    }
   ],
   "source": [
    "dump(full_iso, 'outliers/drop_indices/full_iso.joblib')"
   ]
  },
  {
   "cell_type": "code",
   "execution_count": 10,
   "metadata": {},
   "outputs": [],
   "source": [
    "full_iso = load('outliers/drop_indices/full_iso.joblib')"
   ]
  },
  {
   "cell_type": "code",
   "execution_count": 36,
   "metadata": {},
   "outputs": [
    {
     "output_type": "execute_result",
     "data": {
      "text/plain": "[{&#39;i&#39;: 2,\n  &#39;smape&#39;: 78.82767176091583,\n  &#39;mape&#39;: 556.9972645924881,\n  &#39;mae&#39;: 40408405.5},\n {&#39;i&#39;: 9,\n  &#39;smape&#39;: 79.4892839428293,\n  &#39;mape&#39;: 593.821083949237,\n  &#39;mae&#39;: 40806196.0},\n {&#39;i&#39;: 6,\n  &#39;smape&#39;: 79.44932274312981,\n  &#39;mape&#39;: 606.723543148081,\n  &#39;mae&#39;: 40835787.8},\n {&#39;i&#39;: 10,\n  &#39;smape&#39;: 78.48033567772087,\n  &#39;mape&#39;: 611.1444016665662,\n  &#39;mae&#39;: 40024131.8},\n {&#39;i&#39;: 8,\n  &#39;smape&#39;: 78.64346241874092,\n  &#39;mape&#39;: 611.4869083835815,\n  &#39;mae&#39;: 40552172.0},\n {&#39;i&#39;: 5,\n  &#39;smape&#39;: 78.88249709906673,\n  &#39;mape&#39;: 628.9174522530113,\n  &#39;mae&#39;: 40672952.7},\n {&#39;i&#39;: 4,\n  &#39;smape&#39;: 79.01388451625655,\n  &#39;mape&#39;: 630.3565414904372,\n  &#39;mae&#39;: 41277595.6},\n {&#39;i&#39;: 3,\n  &#39;smape&#39;: 78.95408500108609,\n  &#39;mape&#39;: 655.6216396322618,\n  &#39;mae&#39;: 41000789.5},\n {&#39;i&#39;: 1,\n  &#39;smape&#39;: 79.04008383448415,\n  &#39;mape&#39;: 657.8235078126316,\n  &#39;mae&#39;: 40535852.9},\n {&#39;i&#39;: 7,\n  &#39;smape&#39;: 78.49719343834913,\n  &#39;mape&#39;: 660.9633123278745,\n  &#39;mae&#39;: 40420693.2}]"
     },
     "metadata": {},
     "execution_count": 36
    }
   ],
   "source": [
    "get_sorted_metric(full_iso, 'mape')"
   ]
  },
  {
   "cell_type": "code",
   "execution_count": 51,
   "metadata": {
    "tags": []
   },
   "outputs": [
    {
     "output_type": "stream",
     "name": "stdout",
     "text": "######################################################\nNumber of outliers:  451\nAverage created\nProcessed\n1:\tsplit num\nEpoch 00189: early stopping\n2:\tsplit num\nEpoch 00208: early stopping\n3:\tsplit num\nEpoch 00141: early stopping\n4:\tsplit num\nEpoch 00206: early stopping\n5:\tsplit num\nEpoch 00171: early stopping\n{&#39;smape&#39;: 79.9151963446374, &#39;mape&#39;: 759.6551037917527, &#39;mae&#39;: 40362289.2, &#39;rmse&#39;: 95566578.2, &#39;adj_r2&#39;: 0.572733518675042}\n"
    }
   ],
   "source": [
    "outliers_estimator = OutliersEstimator(drop_index_list=full_iso[5]['drop_index_list'])\n",
    "outliers_estimator.fit(X, y)\n",
    "best_iso = outliers_estimator.score(X,y)"
   ]
  },
  {
   "cell_type": "code",
   "execution_count": 11,
   "metadata": {
    "tags": []
   },
   "outputs": [
    {
     "output_type": "stream",
     "name": "stdout",
     "text": "outlier detector number 1\n######################################################\n{&#39;algorithm&#39;: &#39;kd_tree&#39;, &#39;contamination&#39;: 0.017492854051696313, &#39;leaf_size&#39;: 30, &#39;metric&#39;: &#39;minkowski&#39;, &#39;metric_params&#39;: None, &#39;n_jobs&#39;: -1, &#39;n_neighbors&#39;: 2, &#39;novelty&#39;: False, &#39;p&#39;: 2}\nNumber of outliers:  132\nAverage created\nProcessed\nEpoch 00149: early stopping\nsmape: 80.70788169344364, mape: 684.9268241262993, mae: 35888046.0\nEpoch 00149: early stopping\nsmape: 80.84412321332162, mape: 732.3050105632881, mae: 44115348.0\nEpoch 00150: early stopping\nsmape: 79.99147917270365, mape: 762.9809276590008, mae: 40271848.0\nEpoch 00112: early stopping\nsmape: 77.54039838985521, mape: 397.3358878856311, mae: 38988811.0\nEpoch 00204: early stopping\nsmape: 80.09598819958248, mape: 419.73888113781214, mae: 52276235.0\nEpoch 00140: early stopping\nsmape: 80.32149628992704, mape: 785.1168411699467, mae: 38761071.0\nEpoch 00147: early stopping\nsmape: 75.97206951725919, mape: 290.79702572752, mae: 40365384.0\nEpoch 00131: early stopping\nsmape: 78.67537748286145, mape: 880.0783166861196, mae: 37951554.0\nEpoch 00103: early stopping\nsmape: 76.70317769287671, mape: 1038.2414447347576, mae: 38739541.0\nEpoch 00128: early stopping\nsmape: 75.97773537213797, mape: 412.4354473600853, mae: 41462689.0\n{&#39;smape&#39;: 78.68297270239688, &#39;mape&#39;: 640.395660705046, &#39;mae&#39;: 40882052.7, &#39;rmse&#39;: 95919630.5, &#39;adj_r2&#39;: 0.48845926150383595}\noutlier detector number 2\n######################################################\n{&#39;algorithm&#39;: &#39;kd_tree&#39;, &#39;contamination&#39;: 0.04967248870307713, &#39;leaf_size&#39;: 30, &#39;metric&#39;: &#39;minkowski&#39;, &#39;metric_params&#39;: None, &#39;n_jobs&#39;: -1, &#39;n_neighbors&#39;: 25, &#39;novelty&#39;: False, &#39;p&#39;: 2}\nNumber of outliers:  373\nAverage created\nProcessed\nEpoch 00152: early stopping\nsmape: 81.09235001295829, mape: 623.0819904294161, mae: 35110732.0\nEpoch 00160: early stopping\nsmape: 82.41344410029137, mape: 678.7068865715739, mae: 40429303.0\nEpoch 00163: early stopping\nsmape: 78.59032668070091, mape: 790.2489679138242, mae: 42026412.0\nEpoch 00181: early stopping\nsmape: 77.5630119296167, mape: 500.68160771654624, mae: 37275760.0\nEpoch 00088: early stopping\nsmape: 79.73624616231493, mape: 343.76653296572175, mae: 48857651.0\nEpoch 00111: early stopping\nsmape: 77.58531779953681, mape: 571.2685292021571, mae: 36132933.0\nEpoch 00167: early stopping\nsmape: 77.13739069848793, mape: 710.6269058257153, mae: 38455934.0\nEpoch 00156: early stopping\nsmape: 79.20071991586515, mape: 875.1637937901285, mae: 39037065.0\nEpoch 00145: early stopping\nsmape: 77.44968170687949, mape: 780.6997921860194, mae: 37555784.0\nEpoch 00157: early stopping\nsmape: 78.4180988831866, mape: 432.5910031856158, mae: 41038523.0\n{&#39;smape&#39;: 78.91865878898382, &#39;mape&#39;: 630.6836009786718, &#39;mae&#39;: 39592009.7, &#39;rmse&#39;: 92967994.2, &#39;adj_r2&#39;: 0.47679376623811526}\noutlier detector number 3\n######################################################\n{&#39;algorithm&#39;: &#39;kd_tree&#39;, &#39;contamination&#39;: 0.04872345288137781, &#39;leaf_size&#39;: 30, &#39;metric&#39;: &#39;minkowski&#39;, &#39;metric_params&#39;: None, &#39;n_jobs&#39;: -1, &#39;n_neighbors&#39;: 16, &#39;novelty&#39;: False, &#39;p&#39;: 2}\nNumber of outliers:  366\nAverage created\nProcessed\nEpoch 00170: early stopping\nsmape: 81.83093261485725, mape: 593.7147646412348, mae: 36743508.0\nEpoch 00171: early stopping\nsmape: 83.09996166392581, mape: 604.391929355565, mae: 41864847.0\nEpoch 00114: early stopping\nsmape: 79.12327780622674, mape: 718.0517701094739, mae: 42837156.0\nEpoch 00195: early stopping\nsmape: 77.92478434162864, mape: 460.1003981456278, mae: 37879390.0\nEpoch 00178: early stopping\nsmape: 82.94677001935227, mape: 280.75284270773307, mae: 54733545.0\nEpoch 00154: early stopping\nsmape: 78.04760783497801, mape: 529.3058086106325, mae: 36173946.0\nEpoch 00186: early stopping\nsmape: 78.93850253586794, mape: 535.8453027483755, mae: 41019598.0\nEpoch 00208: early stopping\nsmape: 80.6648172686496, mape: 808.1663549075109, mae: 39814596.0\nEpoch 00166: early stopping\nsmape: 76.3573040811695, mape: 793.973370050759, mae: 36777669.0\nEpoch 00140: early stopping\nsmape: 77.90249612319833, mape: 504.25628865608275, mae: 41497884.0\n{&#39;smape&#39;: 79.6836454289854, &#39;mape&#39;: 582.8558829932995, &#39;mae&#39;: 40934213.9, &#39;rmse&#39;: 99001908.6, &#39;adj_r2&#39;: 0.44528718281831975}\noutlier detector number 4\n######################################################\n{&#39;algorithm&#39;: &#39;kd_tree&#39;, &#39;contamination&#39;: 0.05209321948837869, &#39;leaf_size&#39;: 30, &#39;metric&#39;: &#39;minkowski&#39;, &#39;metric_params&#39;: None, &#39;n_jobs&#39;: -1, &#39;n_neighbors&#39;: 20, &#39;novelty&#39;: False, &#39;p&#39;: 2}\nNumber of outliers:  391\nAverage created\nProcessed\nEpoch 00120: early stopping\nsmape: 81.10799334430388, mape: 659.0515967099788, mae: 35477284.0\nEpoch 00136: early stopping\nsmape: 82.35772000214257, mape: 723.7725728994733, mae: 40202512.0\nEpoch 00158: early stopping\nsmape: 78.81265683398446, mape: 863.9824486396335, mae: 43298901.0\nEpoch 00162: early stopping\nsmape: 77.9057306208746, mape: 513.7193419261822, mae: 38163516.0\nEpoch 00144: early stopping\nsmape: 79.3301178994886, mape: 413.08880251789714, mae: 48876710.0\nEpoch 00157: early stopping\nsmape: 77.85357488726277, mape: 589.897925282966, mae: 37866646.0\nEpoch 00148: early stopping\nsmape: 77.08465357747131, mape: 719.3934616502074, mae: 38890401.0\nEpoch 00174: early stopping\nsmape: 80.60242297846243, mape: 806.4277558900942, mae: 39868757.0\nEpoch 00133: early stopping\nsmape: 77.84397461391337, mape: 806.6378387319629, mae: 39576153.0\nEpoch 00127: early stopping\nsmape: 78.0699474467124, mape: 519.1024706810798, mae: 40784032.0\n{&#39;smape&#39;: 79.09687922046163, &#39;mape&#39;: 661.5074214929475, &#39;mae&#39;: 40300491.2, &#39;rmse&#39;: 95404183.4, &#39;adj_r2&#39;: 0.46074341867220125}\noutlier detector number 5\n######################################################\n{&#39;algorithm&#39;: &#39;kd_tree&#39;, &#39;contamination&#39;: 0.02702543429440002, &#39;leaf_size&#39;: 30, &#39;metric&#39;: &#39;minkowski&#39;, &#39;metric_params&#39;: None, &#39;n_jobs&#39;: -1, &#39;n_neighbors&#39;: 27, &#39;novelty&#39;: False, &#39;p&#39;: 2}\nNumber of outliers:  203\nAverage created\nProcessed\nEpoch 00125: early stopping\nsmape: 80.83068983806035, mape: 888.6140642579309, mae: 35342333.0\nEpoch 00146: early stopping\nsmape: 82.29776684502859, mape: 756.8780415444372, mae: 41224075.0\nEpoch 00179: early stopping\nsmape: 79.88870379094281, mape: 783.0662262945657, mae: 41264974.0\nEpoch 00183: early stopping\nsmape: 77.49993013705496, mape: 592.0944530452128, mae: 38330683.0\nEpoch 00157: early stopping\nsmape: 80.09010527027704, mape: 516.6617312035663, mae: 49424054.0\nEpoch 00151: early stopping\nsmape: 78.60849529965519, mape: 556.1963980019874, mae: 36144885.0\nEpoch 00176: early stopping\nsmape: 77.63371316589075, mape: 790.7651213631117, mae: 40012462.0\nEpoch 00147: early stopping\nsmape: 79.59342911516609, mape: 959.5156156631404, mae: 37300527.0\nEpoch 00166: early stopping\nsmape: 76.06154439945938, mape: 1194.8186371890718, mae: 37885198.0\nEpoch 00202: early stopping\nsmape: 76.62797286373646, mape: 444.4594380402015, mae: 39959613.0\n{&#39;smape&#39;: 78.91323507252716, &#39;mape&#39;: 748.3069726603226, &#39;mae&#39;: 39688880.4, &#39;rmse&#39;: 91725783.0, &#39;adj_r2&#39;: 0.4954687704552755}\noutlier detector number 6\n######################################################\n{&#39;algorithm&#39;: &#39;kd_tree&#39;, &#39;contamination&#39;: 0.017337640979368595, &#39;leaf_size&#39;: 30, &#39;metric&#39;: &#39;minkowski&#39;, &#39;metric_params&#39;: None, &#39;n_jobs&#39;: -1, &#39;n_neighbors&#39;: 15, &#39;novelty&#39;: False, &#39;p&#39;: 2}\nNumber of outliers:  130\nAverage created\nProcessed\nEpoch 00150: early stopping\nsmape: 81.54813123198907, mape: 653.5845310998611, mae: 36560808.0\nEpoch 00112: early stopping\nsmape: 80.87054336244529, mape: 805.288467439051, mae: 43394117.0\nEpoch 00158: early stopping\nsmape: 81.0641865735388, mape: 671.8616242657288, mae: 39867191.0\nEpoch 00112: early stopping\nsmape: 76.18558615511635, mape: 518.3277234371207, mae: 38605113.0\nEpoch 00127: early stopping\nsmape: 80.33579318595274, mape: 453.94947500980953, mae: 50800030.0\nEpoch 00130: early stopping\nsmape: 78.96910002455866, mape: 1102.8971104608001, mae: 37009230.0\nEpoch 00154: early stopping\nsmape: 77.36865394513305, mape: 299.42352962298, mae: 42486077.0\nEpoch 00159: early stopping\nsmape: 79.10532743415325, mape: 925.541387857847, mae: 38187244.0\nEpoch 00154: early stopping\nsmape: 76.88124787455212, mape: 1116.9388046358763, mae: 39744942.0\nEpoch 00153: early stopping\nsmape: 76.626355110659, mape: 335.1378868605126, mae: 41643627.0\n{&#39;smape&#39;: 78.89549248980984, &#39;mape&#39;: 688.2950540689587, &#39;mae&#39;: 40829837.9, &#39;rmse&#39;: 95078865.8, &#39;adj_r2&#39;: 0.4839677616813143}\noutlier detector number 7\n######################################################\n{&#39;algorithm&#39;: &#39;kd_tree&#39;, &#39;contamination&#39;: 0.03977611053052813, &#39;leaf_size&#39;: 30, &#39;metric&#39;: &#39;minkowski&#39;, &#39;metric_params&#39;: None, &#39;n_jobs&#39;: -1, &#39;n_neighbors&#39;: 26, &#39;novelty&#39;: False, &#39;p&#39;: 2}\nNumber of outliers:  299\nAverage created\nProcessed\nEpoch 00145: early stopping\nsmape: 80.42388264257197, mape: 652.4252935321362, mae: 35951417.0\nEpoch 00224: early stopping\nsmape: 81.53335090620472, mape: 832.5454506871862, mae: 42456005.0\nEpoch 00170: early stopping\nsmape: 78.51650591159684, mape: 761.3609713873395, mae: 42145951.0\nEpoch 00141: early stopping\nsmape: 78.38210153097613, mape: 589.0516945349506, mae: 39384633.0\nEpoch 00111: early stopping\nsmape: 78.73540298184707, mape: 426.82231050605407, mae: 49727255.0\nEpoch 00229: early stopping\nsmape: 77.49307876705603, mape: 496.3884493745965, mae: 37251480.0\nEpoch 00127: early stopping\nsmape: 75.65599005919388, mape: 634.8521248655039, mae: 41585090.0\nEpoch 00233: early stopping\nsmape: 80.06777733905149, mape: 871.5371895151545, mae: 38441562.0\nEpoch 00175: early stopping\nsmape: 77.35290521913696, mape: 683.9897003576764, mae: 38198979.0\nEpoch 00130: early stopping\nsmape: 78.75574732519155, mape: 425.1728086958732, mae: 44084163.0\n{&#39;smape&#39;: 78.69167426828265, &#39;mape&#39;: 637.414599345647, &#39;mae&#39;: 40922653.5, &#39;rmse&#39;: 95567743.6, &#39;adj_r2&#39;: 0.48115967861633174}\noutlier detector number 8\n######################################################\n{&#39;algorithm&#39;: &#39;kd_tree&#39;, &#39;contamination&#39;: 0.02148079550486645, &#39;leaf_size&#39;: 30, &#39;metric&#39;: &#39;minkowski&#39;, &#39;metric_params&#39;: None, &#39;n_jobs&#39;: -1, &#39;n_neighbors&#39;: 9, &#39;novelty&#39;: False, &#39;p&#39;: 2}\nNumber of outliers:  161\nAverage created\nProcessed\nEpoch 00146: early stopping\nsmape: 80.50808323013656, mape: 805.8993698982798, mae: 35571823.0\nEpoch 00147: early stopping\nsmape: 80.92488386607452, mape: 643.925290882883, mae: 42669935.0\nEpoch 00128: early stopping\nsmape: 79.48368186563275, mape: 751.5952686454358, mae: 38945104.0\nEpoch 00115: early stopping\nsmape: 76.14164814176227, mape: 550.9160558174138, mae: 38067399.0\nEpoch 00179: early stopping\nsmape: 80.83441839730665, mape: 334.8187970232732, mae: 51537405.0\nEpoch 00157: early stopping\nsmape: 81.32894386075864, mape: 488.47003129113153, mae: 40436778.0\nEpoch 00234: early stopping\nsmape: 76.68047070694757, mape: 614.0708637731523, mae: 40204537.0\nEpoch 00152: early stopping\nsmape: 79.83806794044042, mape: 688.9755754185338, mae: 38369451.0\nEpoch 00126: early stopping\nsmape: 77.32988275122702, mape: 870.8846196731037, mae: 37698435.0\nEpoch 00159: early stopping\nsmape: 76.75223173752435, mape: 274.708592401712, mae: 41747037.0\n{&#39;smape&#39;: 78.98223124978108, &#39;mape&#39;: 602.426446482492, &#39;mae&#39;: 40524790.4, &#39;rmse&#39;: 95545762.4, &#39;adj_r2&#39;: 0.4534351325758051}\noutlier detector number 9\n######################################################\n{&#39;algorithm&#39;: &#39;kd_tree&#39;, &#39;contamination&#39;: 0.02449872246947163, &#39;leaf_size&#39;: 30, &#39;metric&#39;: &#39;minkowski&#39;, &#39;metric_params&#39;: None, &#39;n_jobs&#39;: -1, &#39;n_neighbors&#39;: 12, &#39;novelty&#39;: False, &#39;p&#39;: 2}\nNumber of outliers:  184\nAverage created\nProcessed\nEpoch 00124: early stopping\nsmape: 82.98892092613934, mape: 575.3153110118423, mae: 38065100.0\nEpoch 00174: early stopping\nsmape: 81.82441555961888, mape: 833.7803075513394, mae: 44234036.0\nEpoch 00179: early stopping\nsmape: 79.5313836789457, mape: 771.3036096688033, mae: 39510689.0\nEpoch 00155: early stopping\nsmape: 77.05906442357855, mape: 549.5292930669792, mae: 39262160.0\nEpoch 00152: early stopping\nsmape: 80.53611833146662, mape: 449.83827524668595, mae: 51840535.0\nEpoch 00237: early stopping\nsmape: 79.2451171583152, mape: 626.1197169401704, mae: 38111859.0\nEpoch 00178: early stopping\nsmape: 77.58697826434889, mape: 797.1072891029725, mae: 40792311.0\nEpoch 00233: early stopping\nsmape: 78.21081263104433, mape: 967.2027362573253, mae: 36825087.0\nEpoch 00152: early stopping\nsmape: 76.94759341036061, mape: 1006.01766172511, mae: 39660998.0\nEpoch 00138: early stopping\nsmape: 76.50063900921312, mape: 393.68520024308543, mae: 41274990.0\n{&#39;smape&#39;: 79.04310433930313, &#39;mape&#39;: 696.9899400814313, &#39;mae&#39;: 40957776.5, &#39;rmse&#39;: 95775157.9, &#39;adj_r2&#39;: 0.49225721647296067}\noutlier detector number 10\n######################################################\n{&#39;algorithm&#39;: &#39;kd_tree&#39;, &#39;contamination&#39;: 0.018363289797206757, &#39;leaf_size&#39;: 30, &#39;metric&#39;: &#39;minkowski&#39;, &#39;metric_params&#39;: None, &#39;n_jobs&#39;: -1, &#39;n_neighbors&#39;: 27, &#39;novelty&#39;: False, &#39;p&#39;: 2}\nNumber of outliers:  138\nAverage created\nProcessed\nEpoch 00144: early stopping\nsmape: 81.01939108837863, mape: 661.4300765040352, mae: 35336779.0\nEpoch 00129: early stopping\nsmape: 82.06305220770494, mape: 627.3338518396839, mae: 44024189.0\nEpoch 00122: early stopping\nsmape: 80.17364005803837, mape: 778.7961106065197, mae: 39280925.0\nEpoch 00132: early stopping\nsmape: 76.53480953480802, mape: 513.4192867842187, mae: 37612468.0\nEpoch 00177: early stopping\nsmape: 81.9979460373475, mape: 301.18330547015256, mae: 53017757.0\nEpoch 00152: early stopping\nsmape: 80.38807262681854, mape: 813.8296192107551, mae: 37955675.0\nEpoch 00143: early stopping\nsmape: 76.6177289873619, mape: 306.09570256447864, mae: 40062870.0\nEpoch 00115: early stopping\nsmape: 79.48957776670274, mape: 812.5511331352615, mae: 37488951.0\nEpoch 00140: early stopping\nsmape: 77.05202195768557, mape: 993.5465729374503, mae: 37609834.0\nEpoch 00144: early stopping\nsmape: 77.0743019859881, mape: 299.77026380926804, mae: 41312319.0\n{&#39;smape&#39;: 79.24105422508345, &#39;mape&#39;: 610.7955922861822, &#39;mae&#39;: 40370176.7, &#39;rmse&#39;: 95770269.4, &#39;adj_r2&#39;: 0.46677630182281804}\n"
    }
   ],
   "source": [
    "###########################  Local outlier factor\n",
    "param_grid = {\n",
    "    'n_neighbors': sp_randint(1, 30),\n",
    "    'contamination': sp_uniform(0.01, 0.05),\n",
    "}\n",
    "outlier_detectors = param_search(LocalOutlierFactor(n_jobs=-1, algorithm='kd_tree'), param_grid, n_iter=10)\n",
    "\n",
    "full_lof = []\n",
    "outlier_detector_number = 0\n",
    "for outlier_detector in outlier_detectors:\n",
    "    outlier_detector_number += 1\n",
    "    print('outlier detector number', outlier_detector_number)\n",
    "    outliers_estimator = OutliersEstimator(outliers_detector=outlier_detector)\n",
    "    outliers_estimator.fit(X, y)\n",
    "    score = outliers_estimator.score(X,y)\n",
    "    full_lof.append({\n",
    "        'cv_iteration_metrics': score['cv_iterations'],\n",
    "        'cv_metrics': score['cv_metrics'],\n",
    "        'drop_index_list': outliers_estimator.drop_index_list_,\n",
    "    })"
   ]
  },
  {
   "cell_type": "code",
   "execution_count": 12,
   "metadata": {},
   "outputs": [
    {
     "output_type": "execute_result",
     "data": {
      "text/plain": "[&#39;outliers/drop_indices/full_lof.joblib&#39;]"
     },
     "metadata": {},
     "execution_count": 12
    }
   ],
   "source": [
    "dump(full_lof, 'outliers/drop_indices/full_lof.joblib')"
   ]
  },
  {
   "cell_type": "code",
   "execution_count": 11,
   "metadata": {},
   "outputs": [],
   "source": [
    "full_lof = load('outliers/drop_indices/full_lof.joblib')"
   ]
  },
  {
   "cell_type": "code",
   "execution_count": 42,
   "metadata": {},
   "outputs": [
    {
     "output_type": "execute_result",
     "data": {
      "text/plain": "[{&#39;i&#39;: 3,\n  &#39;smape&#39;: 79.6836454289854,\n  &#39;mape&#39;: 582.8558829932995,\n  &#39;mae&#39;: 40934213.9},\n {&#39;i&#39;: 8,\n  &#39;smape&#39;: 78.98223124978108,\n  &#39;mape&#39;: 602.426446482492,\n  &#39;mae&#39;: 40524790.4},\n {&#39;i&#39;: 10,\n  &#39;smape&#39;: 79.24105422508345,\n  &#39;mape&#39;: 610.7955922861822,\n  &#39;mae&#39;: 40370176.7},\n {&#39;i&#39;: 2,\n  &#39;smape&#39;: 78.91865878898382,\n  &#39;mape&#39;: 630.6836009786718,\n  &#39;mae&#39;: 39592009.7},\n {&#39;i&#39;: 7,\n  &#39;smape&#39;: 78.69167426828265,\n  &#39;mape&#39;: 637.414599345647,\n  &#39;mae&#39;: 40922653.5},\n {&#39;i&#39;: 1,\n  &#39;smape&#39;: 78.68297270239688,\n  &#39;mape&#39;: 640.395660705046,\n  &#39;mae&#39;: 40882052.7},\n {&#39;i&#39;: 4,\n  &#39;smape&#39;: 79.09687922046163,\n  &#39;mape&#39;: 661.5074214929475,\n  &#39;mae&#39;: 40300491.2},\n {&#39;i&#39;: 6,\n  &#39;smape&#39;: 78.89549248980984,\n  &#39;mape&#39;: 688.2950540689587,\n  &#39;mae&#39;: 40829837.9},\n {&#39;i&#39;: 9,\n  &#39;smape&#39;: 79.04310433930313,\n  &#39;mape&#39;: 696.9899400814313,\n  &#39;mae&#39;: 40957776.5},\n {&#39;i&#39;: 5,\n  &#39;smape&#39;: 78.91323507252716,\n  &#39;mape&#39;: 748.3069726603226,\n  &#39;mae&#39;: 39688880.4}]"
     },
     "metadata": {},
     "execution_count": 42
    }
   ],
   "source": [
    "get_sorted_metric(full_lof, 'mape')"
   ]
  },
  {
   "cell_type": "code",
   "execution_count": 53,
   "metadata": {
    "tags": []
   },
   "outputs": [
    {
     "output_type": "stream",
     "name": "stdout",
     "text": "######################################################\nNumber of outliers:  107\nAverage created\nProcessed\n1:\tsplit num\nEpoch 00122: early stopping\n2:\tsplit num\nEpoch 00150: early stopping\n3:\tsplit num\nEpoch 00164: early stopping\n4:\tsplit num\nEpoch 00148: early stopping\n5:\tsplit num\nEpoch 00177: early stopping\n{&#39;smape&#39;: 79.47346793674883, &#39;mape&#39;: 699.5024022170949, &#39;mae&#39;: 40887748.2, &#39;rmse&#39;: 97364345.4, &#39;adj_r2&#39;: 0.5785134663548075}\n"
    }
   ],
   "source": [
    "outliers_estimator = OutliersEstimator(drop_index_list=full_lof[9]['drop_index_list'])\n",
    "outliers_estimator.fit(X, y)\n",
    "best_lof = outliers_estimator.score(X,y)"
   ]
  },
  {
   "cell_type": "code",
   "execution_count": 13,
   "metadata": {
    "tags": []
   },
   "outputs": [
    {
     "output_type": "stream",
     "name": "stdout",
     "text": "outlier detector number 1\n######################################################\n{&#39;cache_size&#39;: 200, &#39;coef0&#39;: 0.0, &#39;degree&#39;: 3, &#39;gamma&#39;: &#39;auto&#39;, &#39;kernel&#39;: &#39;poly&#39;, &#39;max_iter&#39;: -1, &#39;nu&#39;: 0.04823798844950552, &#39;shrinking&#39;: True, &#39;tol&#39;: 0.001, &#39;verbose&#39;: False}\nNumber of outliers:  1843\nAverage created\nProcessed\nEpoch 00190: early stopping\nsmape: 79.75890475491413, mape: 947.4304460061085, mae: 37714917.0\nEpoch 00165: early stopping\nsmape: 82.16733520144373, mape: 574.8765532726355, mae: 35903647.0\nEpoch 00206: early stopping\nsmape: 79.24787886898449, mape: 1092.9300564854768, mae: 43957640.0\nEpoch 00192: early stopping\nsmape: 79.73875199442008, mape: 1039.1107582318207, mae: 41241989.0\nEpoch 00182: early stopping\nsmape: 77.79890974002643, mape: 615.1280980276774, mae: 38631471.0\nEpoch 00183: early stopping\nsmape: 79.48945054642604, mape: 358.78416596770114, mae: 45815733.0\nEpoch 00146: early stopping\nsmape: 78.71852279988983, mape: 552.4479983786199, mae: 46878710.0\nEpoch 00186: early stopping\nsmape: 78.63113486141485, mape: 1245.0571546307801, mae: 40697411.0\nEpoch 00180: early stopping\nsmape: 79.21447765272482, mape: 321.81153004316366, mae: 41394297.0\nEpoch 00181: early stopping\nsmape: 80.11865867403114, mape: 1064.758025919446, mae: 37465722.0\n{&#39;smape&#39;: 79.48840250942756, &#39;mape&#39;: 781.2334786963429, &#39;mae&#39;: 40970153.7, &#39;rmse&#39;: 96333205.5, &#39;adj_r2&#39;: 0.3856822348792065}\noutlier detector number 2\n######################################################\n{&#39;cache_size&#39;: 200, &#39;coef0&#39;: 0.0, &#39;degree&#39;: 3, &#39;gamma&#39;: &#39;auto&#39;, &#39;kernel&#39;: &#39;sigmoid&#39;, &#39;max_iter&#39;: -1, &#39;nu&#39;: 0.052725995566663644, &#39;shrinking&#39;: True, &#39;tol&#39;: 0.001, &#39;verbose&#39;: False}\nNumber of outliers:  400\nAverage created\nProcessed\nEpoch 00160: early stopping\nsmape: 80.88741663373806, mape: 807.9131184899751, mae: 35474178.0\nEpoch 00164: early stopping\nsmape: 82.53654541740813, mape: 774.0109304923889, mae: 40303619.0\nEpoch 00156: early stopping\nsmape: 78.78136618618421, mape: 920.2787749535298, mae: 42260000.0\nEpoch 00160: early stopping\nsmape: 77.70287091591835, mape: 547.2990065728302, mae: 36059016.0\nEpoch 00114: early stopping\nsmape: 79.47291770341025, mape: 403.4708645603021, mae: 48396378.0\nEpoch 00160: early stopping\nsmape: 77.56310779095607, mape: 548.0522537043995, mae: 36722355.0\nEpoch 00160: early stopping\nsmape: 78.110464940671, mape: 683.9503158845961, mae: 38647140.0\nEpoch 00102: early stopping\nsmape: 80.02168108605683, mape: 877.8253748855626, mae: 38010020.0\nEpoch 00176: early stopping\nsmape: 76.06501537809658, mape: 1027.4937925095333, mae: 37094365.0\nEpoch 00145: early stopping\nsmape: 77.47464362386562, mape: 581.4057846297916, mae: 37984323.0\n{&#39;smape&#39;: 78.8616029676305, &#39;mape&#39;: 717.1700216682909, &#39;mae&#39;: 39095139.4, &#39;rmse&#39;: 90825219.0, &#39;adj_r2&#39;: 0.48133779076762917}\noutlier detector number 3\n######################################################\n{&#39;cache_size&#39;: 200, &#39;coef0&#39;: 0.0, &#39;degree&#39;: 3, &#39;gamma&#39;: &#39;auto&#39;, &#39;kernel&#39;: &#39;rbf&#39;, &#39;max_iter&#39;: -1, &#39;nu&#39;: 0.038063819518121024, &#39;shrinking&#39;: True, &#39;tol&#39;: 0.001, &#39;verbose&#39;: False}\nNumber of outliers:  293\nAverage created\nProcessed\nEpoch 00124: early stopping\nsmape: 81.6962824175027, mape: 555.8100435785537, mae: 35728097.0\nEpoch 00158: early stopping\nsmape: 82.31434592813552, mape: 700.0914196267166, mae: 41904725.0\nEpoch 00159: early stopping\nsmape: 78.88081231502659, mape: 717.2476256514681, mae: 40959346.0\nEpoch 00113: early stopping\nsmape: 78.17689176992408, mape: 539.8439693599089, mae: 38229435.0\nEpoch 00191: early stopping\nsmape: 78.90267545503555, mape: 461.54044873674087, mae: 48845467.0\nEpoch 00235: early stopping\nsmape: 77.58156026086925, mape: 505.02116481013974, mae: 36345676.0\nEpoch 00159: early stopping\nsmape: 75.3788096630621, mape: 744.5592558936429, mae: 40076699.0\nEpoch 00177: early stopping\nsmape: 79.78432917726978, mape: 910.9806653474218, mae: 37183504.0\nEpoch 00138: early stopping\nsmape: 76.41481027808388, mape: 816.9941759283885, mae: 36478466.0\nEpoch 00165: early stopping\nsmape: 77.07439904347034, mape: 580.9606863979639, mae: 41764211.0\n{&#39;smape&#39;: 78.62049163083798, &#39;mape&#39;: 653.3049455330945, &#39;mae&#39;: 39751562.6, &#39;rmse&#39;: 93544223.1, &#39;adj_r2&#39;: 0.47733606086329816}\noutlier detector number 4\n######################################################\n{&#39;cache_size&#39;: 200, &#39;coef0&#39;: 0.0, &#39;degree&#39;: 3, &#39;gamma&#39;: &#39;auto&#39;, &#39;kernel&#39;: &#39;sigmoid&#39;, &#39;max_iter&#39;: -1, &#39;nu&#39;: 0.032680063139153864, &#39;shrinking&#39;: True, &#39;tol&#39;: 0.001, &#39;verbose&#39;: False}\nNumber of outliers:  238\nAverage created\nProcessed\nEpoch 00148: early stopping\nsmape: 82.05103101990433, mape: 646.2791602305911, mae: 37517665.0\nEpoch 00151: early stopping\nsmape: 82.07244789860127, mape: 697.1175787471224, mae: 41805573.0\nEpoch 00142: early stopping\nsmape: 79.67349565856631, mape: 707.4239966654435, mae: 42032236.0\nEpoch 00125: early stopping\nsmape: 77.63007690156886, mape: 591.3045615595291, mae: 38972491.0\nEpoch 00140: early stopping\nsmape: 80.34687433386529, mape: 374.31658972671914, mae: 51040433.0\nEpoch 00153: early stopping\nsmape: 78.35788427095399, mape: 635.2662033668462, mae: 37285417.0\nEpoch 00168: early stopping\nsmape: 77.46385338259874, mape: 703.4677437655528, mae: 41155518.0\nEpoch 00167: early stopping\nsmape: 79.70594381447334, mape: 930.586264193318, mae: 37050650.0\nEpoch 00099: early stopping\nsmape: 76.04351448699222, mape: 956.8003096319766, mae: 37655044.0\nEpoch 00121: early stopping\nsmape: 77.3284145635331, mape: 597.8173755356929, mae: 41626770.0\n{&#39;smape&#39;: 79.06735363310574, &#39;mape&#39;: 684.0379783422791, &#39;mae&#39;: 40614179.7, &#39;rmse&#39;: 95115544.7, &#39;adj_r2&#39;: 0.48471796557790486}\noutlier detector number 5\n######################################################\n{&#39;cache_size&#39;: 200, &#39;coef0&#39;: 0.0, &#39;degree&#39;: 3, &#39;gamma&#39;: &#39;auto&#39;, &#39;kernel&#39;: &#39;sigmoid&#39;, &#39;max_iter&#39;: -1, &#39;nu&#39;: 0.027371069728990546, &#39;shrinking&#39;: True, &#39;tol&#39;: 0.001, &#39;verbose&#39;: False}\nNumber of outliers:  209\nAverage created\nProcessed\nEpoch 00202: early stopping\nsmape: 80.78091593914056, mape: 636.1271540423938, mae: 35895436.0\nEpoch 00169: early stopping\nsmape: 81.58462957987011, mape: 681.4641821797818, mae: 41982540.0\nEpoch 00278: early stopping\nsmape: 78.93840958555501, mape: 697.5226633103807, mae: 41301546.0\nEpoch 00152: early stopping\nsmape: 77.11962294227858, mape: 445.19956522666916, mae: 38813682.0\nEpoch 00160: early stopping\nsmape: 79.90248220622036, mape: 354.2464195972639, mae: 50753132.0\nEpoch 00121: early stopping\nsmape: 78.79222976449961, mape: 466.62461274283504, mae: 37598878.0\nEpoch 00172: early stopping\nsmape: 77.70543456285546, mape: 608.2648948795028, mae: 41566819.0\nEpoch 00126: early stopping\nsmape: 78.72891996849685, mape: 850.1495027526934, mae: 37901642.0\nEpoch 00181: early stopping\nsmape: 74.98855367162233, mape: 1069.5112382695168, mae: 37720407.0\nEpoch 00153: early stopping\nsmape: 76.71984335356753, mape: 364.70558940392345, mae: 41522920.0\n{&#39;smape&#39;: 78.52610415741063, &#39;mape&#39;: 617.3815822404961, &#39;mae&#39;: 40505700.2, &#39;rmse&#39;: 94681679.7, &#39;adj_r2&#39;: 0.49070548796111046}\noutlier detector number 6\n######################################################\n{&#39;cache_size&#39;: 200, &#39;coef0&#39;: 0.0, &#39;degree&#39;: 3, &#39;gamma&#39;: &#39;auto&#39;, &#39;kernel&#39;: &#39;linear&#39;, &#39;max_iter&#39;: -1, &#39;nu&#39;: 0.056363979181130446, &#39;shrinking&#39;: True, &#39;tol&#39;: 0.001, &#39;verbose&#39;: False}\nNumber of outliers:  427\nAverage created\nProcessed\nEpoch 00104: early stopping\nsmape: 80.69315082723348, mape: 689.5713483636, mae: 36536597.0\nEpoch 00129: early stopping\nsmape: 81.86975233256305, mape: 701.4253138986423, mae: 41684928.0\nEpoch 00158: early stopping\nsmape: 81.89538144093491, mape: 501.79695195198775, mae: 45289101.0\nEpoch 00184: early stopping\nsmape: 77.52750141727118, mape: 470.7188827696077, mae: 38520291.0\nEpoch 00125: early stopping\nsmape: 79.90565582186666, mape: 324.4722711574177, mae: 50675300.0\nEpoch 00201: early stopping\nsmape: 79.00428964756614, mape: 435.17402802485276, mae: 40739914.0\nEpoch 00108: early stopping\nsmape: 77.11156828181328, mape: 783.5153637983797, mae: 38863506.0\nEpoch 00120: early stopping\nsmape: 79.0425268598255, mape: 826.1165297503469, mae: 38751792.0\nEpoch 00130: early stopping\nsmape: 79.27879951567081, mape: 590.7370527118592, mae: 43059194.0\nEpoch 00135: early stopping\nsmape: 77.99070345835764, mape: 409.4083983000836, mae: 39638727.0\n{&#39;smape&#39;: 79.43193296031026, &#39;mape&#39;: 573.2936140726778, &#39;mae&#39;: 41375935.0, &#39;rmse&#39;: 99489621.8, &#39;adj_r2&#39;: 0.445175794521962}\noutlier detector number 7\n######################################################\n{&#39;cache_size&#39;: 200, &#39;coef0&#39;: 0.0, &#39;degree&#39;: 3, &#39;gamma&#39;: &#39;auto&#39;, &#39;kernel&#39;: &#39;linear&#39;, &#39;max_iter&#39;: -1, &#39;nu&#39;: 0.04539047109959109, &#39;shrinking&#39;: True, &#39;tol&#39;: 0.001, &#39;verbose&#39;: False}\nNumber of outliers:  345\nAverage created\nProcessed\nEpoch 00141: early stopping\nsmape: 82.29378841434225, mape: 522.1584279376613, mae: 36871798.0\nEpoch 00108: early stopping\nsmape: 82.30823212606788, mape: 631.7957334341959, mae: 41824412.0\nEpoch 00234: early stopping\nsmape: 78.68668605858464, mape: 685.5849590455097, mae: 43314950.0\nEpoch 00158: early stopping\nsmape: 78.0690090273508, mape: 482.6518317655502, mae: 38506916.0\nEpoch 00167: early stopping\nsmape: 79.44231268574791, mape: 327.8569168327883, mae: 51556654.0\nEpoch 00133: early stopping\nsmape: 78.89743275144856, mape: 469.96567385506313, mae: 37363429.0\nEpoch 00121: early stopping\nsmape: 76.07482742593513, mape: 707.556170348533, mae: 40834873.0\nEpoch 00143: early stopping\nsmape: 79.71037325781572, mape: 981.9407430564754, mae: 38098676.0\nEpoch 00158: early stopping\nsmape: 75.49855015804252, mape: 846.9936304187102, mae: 37316410.0\nEpoch 00124: early stopping\nsmape: 77.6619462411236, mape: 472.2019553513642, mae: 42461329.0\n{&#39;smape&#39;: 78.86431581464589, &#39;mape&#39;: 612.8706042045851, &#39;mae&#39;: 40814944.7, &#39;rmse&#39;: 96299695.7, &#39;adj_r2&#39;: 0.4667938948021494}\noutlier detector number 8\n######################################################\n{&#39;cache_size&#39;: 200, &#39;coef0&#39;: 0.0, &#39;degree&#39;: 3, &#39;gamma&#39;: &#39;auto&#39;, &#39;kernel&#39;: &#39;rbf&#39;, &#39;max_iter&#39;: -1, &#39;nu&#39;: 0.03058329443178759, &#39;shrinking&#39;: True, &#39;tol&#39;: 0.001, &#39;verbose&#39;: False}\nNumber of outliers:  238\nAverage created\nProcessed\nEpoch 00142: early stopping\nsmape: 81.81869071528581, mape: 534.3334945071382, mae: 36971072.0\nEpoch 00190: early stopping\nsmape: 81.93320191824517, mape: 669.9434456994086, mae: 42570349.0\nEpoch 00121: early stopping\nsmape: 78.99482336925287, mape: 805.3297686169891, mae: 42014795.0\nEpoch 00122: early stopping\nsmape: 78.4939454132647, mape: 671.6595844442243, mae: 39047409.0\nEpoch 00179: early stopping\nsmape: 80.02000742812247, mape: 384.4742408763356, mae: 51540593.0\nEpoch 00146: early stopping\nsmape: 78.32361594254225, mape: 547.7790137176006, mae: 37739747.0\nEpoch 00118: early stopping\nsmape: 76.84206228922113, mape: 693.3823615528437, mae: 40970149.0\nEpoch 00145: early stopping\nsmape: 81.79830499659818, mape: 706.4334242082952, mae: 38422278.0\nEpoch 00171: early stopping\nsmape: 76.30743440483683, mape: 835.9672157789059, mae: 38904465.0\nEpoch 00174: early stopping\nsmape: 77.56476524562053, mape: 461.90061433272535, mae: 42598940.0\n{&#39;smape&#39;: 79.20968517229899, &#39;mape&#39;: 631.1203163734467, &#39;mae&#39;: 41077979.7, &#39;rmse&#39;: 96993676.7, &#39;adj_r2&#39;: 0.48021228217912515}\noutlier detector number 9\n######################################################\n{&#39;cache_size&#39;: 200, &#39;coef0&#39;: 0.0, &#39;degree&#39;: 3, &#39;gamma&#39;: &#39;auto&#39;, &#39;kernel&#39;: &#39;linear&#39;, &#39;max_iter&#39;: -1, &#39;nu&#39;: 0.039788880848836965, &#39;shrinking&#39;: True, &#39;tol&#39;: 0.001, &#39;verbose&#39;: False}\nNumber of outliers:  301\nAverage created\nProcessed\nEpoch 00130: early stopping\nsmape: 80.79196603401208, mape: 848.2079551612211, mae: 35349142.0\nEpoch 00141: early stopping\nsmape: 82.96019532736665, mape: 642.3558938697221, mae: 41652549.0\nEpoch 00145: early stopping\nsmape: 78.95844420552199, mape: 1037.9397437767186, mae: 41352166.0\nEpoch 00190: early stopping\nsmape: 78.51499354400042, mape: 480.6596867577808, mae: 38412424.0\nEpoch 00156: early stopping\nsmape: 81.44224434959914, mape: 290.6446795037324, mae: 50204952.0\nEpoch 00106: early stopping\nsmape: 79.61923903473948, mape: 418.09120314085885, mae: 37810944.0\nEpoch 00143: early stopping\nsmape: 76.54801608223427, mape: 706.4458112268519, mae: 41161899.0\nEpoch 00140: early stopping\nsmape: 82.41597539672965, mape: 792.2830357683208, mae: 38218550.0\nEpoch 00157: early stopping\nsmape: 78.67529633918043, mape: 755.4115911413218, mae: 39126196.0\nEpoch 00133: early stopping\nsmape: 78.93771687283133, mape: 450.71592227543766, mae: 41799297.0\n{&#39;smape&#39;: 79.88640871862154, &#39;mape&#39;: 642.2755522621966, &#39;mae&#39;: 40508811.9, &#39;rmse&#39;: 96489139.3, &#39;adj_r2&#39;: 0.45344121352507594}\noutlier detector number 10\n######################################################\n{&#39;cache_size&#39;: 200, &#39;coef0&#39;: 0.0, &#39;degree&#39;: 3, &#39;gamma&#39;: &#39;auto&#39;, &#39;kernel&#39;: &#39;rbf&#39;, &#39;max_iter&#39;: -1, &#39;nu&#39;: 0.034195426852144016, &#39;shrinking&#39;: True, &#39;tol&#39;: 0.001, &#39;verbose&#39;: False}\nNumber of outliers:  275\nAverage created\nProcessed\nEpoch 00142: early stopping\nsmape: 81.83000878704217, mape: 533.5803363277457, mae: 35808022.0\nEpoch 00129: early stopping\nsmape: 82.85578817807357, mape: 561.1173136978568, mae: 42588603.0\nEpoch 00157: early stopping\nsmape: 78.33653328300652, mape: 834.6637285049351, mae: 40990969.0\nEpoch 00169: early stopping\nsmape: 78.36999840490714, mape: 500.72150760899126, mae: 38635726.0\nEpoch 00127: early stopping\nsmape: 79.20743132073234, mape: 476.75942770354976, mae: 48714663.0\nEpoch 00117: early stopping\nsmape: 78.50685216449024, mape: 420.5983159096144, mae: 38164974.0\nEpoch 00181: early stopping\nsmape: 75.15675551013365, mape: 636.9690362504693, mae: 39456523.0\nEpoch 00141: early stopping\nsmape: 81.8883661344419, mape: 747.3627295812452, mae: 37478049.0\nEpoch 00146: early stopping\nsmape: 76.0269459660113, mape: 889.762865511258, mae: 37693636.0\nEpoch 00146: early stopping\nsmape: 78.79444962531264, mape: 397.69558544478565, mae: 42352702.0\n{&#39;smape&#39;: 79.09731293741514, &#39;mape&#39;: 599.9230846540452, &#39;mae&#39;: 40188386.7, &#39;rmse&#39;: 94980944.2, &#39;adj_r2&#39;: 0.4666449846834281}\n"
    }
   ],
   "source": [
    "###########################  One class SVM\n",
    "param_grid = {\n",
    "    'kernel': ['linear', 'poly', 'rbf', 'sigmoid'],\n",
    "    'nu': sp_uniform(0.01, 0.05),\n",
    "}\n",
    "outlier_detectors = param_search(OneClassSVM(gamma='auto'), param_grid, n_iter=10)\n",
    "\n",
    "full_ocsvm = []\n",
    "outlier_detector_number = 0\n",
    "for outlier_detector in outlier_detectors:\n",
    "    outlier_detector_number += 1\n",
    "    print('outlier detector number', outlier_detector_number)\n",
    "    outliers_estimator = OutliersEstimator(outliers_detector=outlier_detector)\n",
    "    outliers_estimator.fit(X, y)\n",
    "    score = outliers_estimator.score(X,y)\n",
    "    full_ocsvm.append({\n",
    "        'cv_iteration_metrics': score['cv_iterations'],\n",
    "        'cv_metrics': score['cv_metrics'],\n",
    "        'drop_index_list': outliers_estimator.drop_index_list_,\n",
    "    })"
   ]
  },
  {
   "cell_type": "code",
   "execution_count": 14,
   "metadata": {},
   "outputs": [
    {
     "output_type": "execute_result",
     "data": {
      "text/plain": "[&#39;outliers/drop_indices/full_ocsvm.joblib&#39;]"
     },
     "metadata": {},
     "execution_count": 14
    }
   ],
   "source": [
    "dump(full_ocsvm, 'outliers/drop_indices/full_ocsvm.joblib')"
   ]
  },
  {
   "cell_type": "code",
   "execution_count": 12,
   "metadata": {},
   "outputs": [],
   "source": [
    "full_ocsvm = load('outliers/drop_indices/full_ocsvm.joblib')"
   ]
  },
  {
   "cell_type": "code",
   "execution_count": 44,
   "metadata": {},
   "outputs": [
    {
     "output_type": "execute_result",
     "data": {
      "text/plain": "[{&#39;i&#39;: 6,\n  &#39;smape&#39;: 79.43193296031026,\n  &#39;mape&#39;: 573.2936140726778,\n  &#39;mae&#39;: 41375935.0},\n {&#39;i&#39;: 10,\n  &#39;smape&#39;: 79.09731293741514,\n  &#39;mape&#39;: 599.9230846540452,\n  &#39;mae&#39;: 40188386.7},\n {&#39;i&#39;: 7,\n  &#39;smape&#39;: 78.86431581464589,\n  &#39;mape&#39;: 612.8706042045851,\n  &#39;mae&#39;: 40814944.7},\n {&#39;i&#39;: 5,\n  &#39;smape&#39;: 78.52610415741063,\n  &#39;mape&#39;: 617.3815822404961,\n  &#39;mae&#39;: 40505700.2},\n {&#39;i&#39;: 8,\n  &#39;smape&#39;: 79.20968517229899,\n  &#39;mape&#39;: 631.1203163734467,\n  &#39;mae&#39;: 41077979.7},\n {&#39;i&#39;: 9,\n  &#39;smape&#39;: 79.88640871862154,\n  &#39;mape&#39;: 642.2755522621966,\n  &#39;mae&#39;: 40508811.9},\n {&#39;i&#39;: 3,\n  &#39;smape&#39;: 78.62049163083798,\n  &#39;mape&#39;: 653.3049455330945,\n  &#39;mae&#39;: 39751562.6},\n {&#39;i&#39;: 4,\n  &#39;smape&#39;: 79.06735363310574,\n  &#39;mape&#39;: 684.0379783422791,\n  &#39;mae&#39;: 40614179.7},\n {&#39;i&#39;: 2,\n  &#39;smape&#39;: 78.8616029676305,\n  &#39;mape&#39;: 717.1700216682909,\n  &#39;mae&#39;: 39095139.4},\n {&#39;i&#39;: 1,\n  &#39;smape&#39;: 79.48840250942756,\n  &#39;mape&#39;: 781.2334786963429,\n  &#39;mae&#39;: 40970153.7}]"
     },
     "metadata": {},
     "execution_count": 44
    }
   ],
   "source": [
    "get_sorted_metric(full_ocsvm, 'mape')"
   ]
  },
  {
   "cell_type": "code",
   "execution_count": null,
   "metadata": {},
   "outputs": [],
   "source": [
    "outliers_estimator = OutliersEstimator(drop_index_list=full_ocsvm[9]['drop_index_list'])\n",
    "outliers_estimator.fit(X, y)\n",
    "best_ocsvm = outliers_estimator.score(X,y)"
   ]
  },
  {
   "cell_type": "code",
   "execution_count": 13,
   "metadata": {},
   "outputs": [],
   "source": [
    "indices = {\n",
    "    'bc': full_custom[10]['drop_index_list'],\n",
    "    'bi': full_iso[1]['drop_index_list'],\n",
    "    'bo': full_ocsvm[9]['drop_index_list'],\n",
    "    'bl': full_lof[7]['drop_index_list'],\n",
    "}"
   ]
  },
  {
   "cell_type": "code",
   "execution_count": 14,
   "metadata": {},
   "outputs": [],
   "source": [
    "best_combinations = {\n",
    "    key: None for key in ['bc_bi', 'bc_bo', 'bc_bl', 'bi_bo', 'bi_bl', 'bo_bl', 'bc_bo_bl', 'bc_bi_bo', 'bc_bi_bl', 'bi_bo_bl', 'bc_bi_bo_bl']\n",
    "}"
   ]
  },
  {
   "cell_type": "code",
   "execution_count": 15,
   "metadata": {
    "tags": []
   },
   "outputs": [
    {
     "output_type": "stream",
     "name": "stdout",
     "text": "bc_bi\n######################################################\nNumber of outliers:  188\nAverage created\nProcessed\nEpoch 00121: early stopping\nsmape: 80.33988645877008, mape: 827.6071665739337, mae: 33134049.0\nEpoch 00194: early stopping\nsmape: 82.31289991504389, mape: 622.9094059855489, mae: 41065382.0\nEpoch 00203: early stopping\nsmape: 78.76420414048542, mape: 743.8492283973674, mae: 35585430.0\nEpoch 00149: early stopping\nsmape: 76.18561788755693, mape: 569.8808261956663, mae: 35429273.0\nEpoch 00165: early stopping\nsmape: 79.69961229471922, mape: 406.0294561605531, mae: 46030547.0\nEpoch 00168: early stopping\nsmape: 78.8212047022682, mape: 510.3832402072987, mae: 34569535.0\nEpoch 00160: early stopping\nsmape: 76.9178599402494, mape: 777.0801378825558, mae: 36708331.0\nEpoch 00146: early stopping\nsmape: 77.70993875957204, mape: 986.0971612206644, mae: 33897354.0\nEpoch 00112: early stopping\nsmape: 76.79740250449778, mape: 966.7878268419074, mae: 36109398.0\nEpoch 00140: early stopping\nsmape: 76.08732934345124, mape: 370.7194286187929, mae: 37444194.0\n{&#39;smape&#39;: 78.3635955946614, &#39;mape&#39;: 678.1343878084289, &#39;mae&#39;: 36997349.3, &#39;rmse&#39;: 84363013.3, &#39;adj_r2&#39;: 0.4856921721164319}\nbc_bo\n######################################################\nNumber of outliers:  337\nAverage created\nProcessed\nEpoch 00138: early stopping\nsmape: 81.55054875305153, mape: 562.5560235376558, mae: 33624932.0\nEpoch 00120: early stopping\nsmape: 81.03656457544031, mape: 837.7534952667725, mae: 37927332.0\nEpoch 00147: early stopping\nsmape: 77.44420249384865, mape: 796.1388700443023, mae: 38828423.0\nEpoch 00210: early stopping\nsmape: 77.76543471349409, mape: 600.7746408123874, mae: 35363631.0\nEpoch 00181: early stopping\nsmape: 78.0817726404171, mape: 414.9698177331451, mae: 45628167.0\nEpoch 00179: early stopping\nsmape: 78.35113994314521, mape: 507.73757378879975, mae: 34596159.0\nEpoch 00145: early stopping\nsmape: 75.72574889962164, mape: 820.396152798126, mae: 37236615.0\nEpoch 00146: early stopping\nsmape: 79.14780157139893, mape: 920.4425347304339, mae: 34931315.0\nEpoch 00162: early stopping\nsmape: 75.76156267422056, mape: 893.237111782745, mae: 34727244.0\nEpoch 00151: early stopping\nsmape: 77.56749998394818, mape: 463.45517453692224, mae: 39233110.0\n{&#39;smape&#39;: 78.24322762485863, &#39;mape&#39;: 681.746139503129, &#39;mae&#39;: 37209692.8, &#39;rmse&#39;: 84662068.6, &#39;adj_r2&#39;: 0.48679411459600547}\nbc_bl\n######################################################\nNumber of outliers:  221\nAverage created\nProcessed\nEpoch 00228: early stopping\nsmape: 80.93802861177339, mape: 659.4247623523418, mae: 32889353.0\nEpoch 00231: early stopping\nsmape: 81.07142677789432, mape: 828.333014683367, mae: 37561000.0\nEpoch 00218: early stopping\nsmape: 78.32747075390412, mape: 933.4017977128661, mae: 38162751.0\nEpoch 00201: early stopping\nsmape: 76.7907949872173, mape: 573.8649031701594, mae: 34990287.0\nEpoch 00264: early stopping\nsmape: 79.832107610169, mape: 418.03497552994145, mae: 46336003.0\nEpoch 00226: early stopping\nsmape: 77.60268422874212, mape: 612.0719305932971, mae: 33866167.0\nEpoch 00267: early stopping\nsmape: 76.21726189283308, mape: 812.3287157655337, mae: 36621985.0\nEpoch 00255: early stopping\nsmape: 79.15387160435657, mape: 970.7504323105247, mae: 34727120.0\nEpoch 00203: early stopping\nsmape: 74.94883908482133, mape: 872.9642104650649, mae: 34962679.0\nEpoch 00243: early stopping\nsmape: 77.19309548471972, mape: 510.4072825050567, mae: 37819498.0\n{&#39;smape&#39;: 78.2075581036431, &#39;mape&#39;: 719.1582025088153, &#39;mae&#39;: 36793684.3, &#39;rmse&#39;: 82959727.8, &#39;adj_r2&#39;: 0.5021961797231739}\nbi_bo\n######################################################\nNumber of outliers:  300\nAverage created\nProcessed\nEpoch 00132: early stopping\nsmape: 80.06515049604114, mape: 631.6672932679649, mae: 35184239.0\nEpoch 00119: early stopping\nsmape: 80.98555674046162, mape: 854.4432770946992, mae: 40735624.0\nEpoch 00107: early stopping\nsmape: 79.35694338065879, mape: 580.44162092516, mae: 41314664.0\nEpoch 00105: early stopping\nsmape: 77.50054407568157, mape: 442.99880539523883, mae: 38127335.0\nEpoch 00141: early stopping\nsmape: 78.77294317120418, mape: 349.57038013467604, mae: 48467768.0\nEpoch 00119: early stopping\nsmape: 78.75705120817474, mape: 431.5143104673592, mae: 37853460.0\nEpoch 00174: early stopping\nsmape: 75.33751314508297, mape: 628.9462545110409, mae: 40513858.0\nEpoch 00124: early stopping\nsmape: 79.24781200784972, mape: 872.8047755796571, mae: 37027093.0\nEpoch 00160: early stopping\nsmape: 75.04726697837141, mape: 894.2447277653357, mae: 35912181.0\nEpoch 00102: early stopping\nsmape: 77.07892235443184, mape: 473.46823350020645, mae: 41110947.0\n{&#39;smape&#39;: 78.2149703557958, &#39;mape&#39;: 616.0099678641337, &#39;mae&#39;: 39624716.9, &#39;rmse&#39;: 91998983.6, &#39;adj_r2&#39;: 0.4743926096799447}\nbi_bl\n######################################################\nNumber of outliers:  285\nAverage created\nProcessed\nEpoch 00140: early stopping\nsmape: 83.78763693302376, mape: 469.56701621945365, mae: 38133774.0\nEpoch 00158: early stopping\nsmape: 82.03354104132379, mape: 740.7167373809802, mae: 43077692.0\nEpoch 00125: early stopping\nsmape: 79.43552758573547, mape: 644.3446037239031, mae: 42597326.0\nEpoch 00157: early stopping\nsmape: 78.21100953690723, mape: 476.72844844900385, mae: 39212562.0\nEpoch 00168: early stopping\nsmape: 79.30281569942666, mape: 426.48503043687685, mae: 51318195.0\nEpoch 00167: early stopping\nsmape: 79.69939756762531, mape: 411.61187237873753, mae: 39288023.0\nEpoch 00156: early stopping\nsmape: 75.66832521434772, mape: 649.5068912194937, mae: 41617214.0\nEpoch 00119: early stopping\nsmape: 81.81867032493696, mape: 796.5520789527312, mae: 38963917.0\nEpoch 00166: early stopping\nsmape: 75.77480471971016, mape: 942.2740528919302, mae: 37699694.0\nEpoch 00097: early stopping\nsmape: 79.6324113646805, mape: 406.2823135694556, mae: 45439683.0\n{&#39;smape&#39;: 79.53641399877175, &#39;mape&#39;: 596.4069045222566, &#39;mae&#39;: 41734808.0, &#39;rmse&#39;: 99489565.8, &#39;adj_r2&#39;: 0.44758995771922744}\nbo_bl\n######################################################\nNumber of outliers:  398\nAverage created\nProcessed\nEpoch 00135: early stopping\nsmape: 81.42493536518096, mape: 613.9989188531309, mae: 35565013.0\nEpoch 00158: early stopping\nsmape: 81.9101275920061, mape: 720.6194596813081, mae: 39598311.0\nEpoch 00169: early stopping\nsmape: 79.13741160661603, mape: 731.872422417544, mae: 43095908.0\nEpoch 00189: early stopping\nsmape: 78.11681945514955, mape: 464.5016274883532, mae: 37195777.0\nEpoch 00146: early stopping\nsmape: 79.12104309248903, mape: 401.7259501186514, mae: 49604324.0\nEpoch 00201: early stopping\nsmape: 77.53982182665251, mape: 487.39863123925954, mae: 37533340.0\nEpoch 00154: early stopping\nsmape: 77.00352137899517, mape: 740.815380075623, mae: 38107926.0\nEpoch 00156: early stopping\nsmape: 78.88870482286974, mape: 910.4122373465034, mae: 38974736.0\nEpoch 00138: early stopping\nsmape: 75.73907079287062, mape: 972.0387329623412, mae: 36669834.0\nEpoch 00148: early stopping\nsmape: 78.34438447422804, mape: 448.12406768261565, mae: 38631993.0\n{&#39;smape&#39;: 78.72258404070577, &#39;mape&#39;: 649.150742786533, &#39;mae&#39;: 39497716.2, &#39;rmse&#39;: 92643167.3, &#39;adj_r2&#39;: 0.4756135781731299}\nbc_bo_bl\n######################################################\nNumber of outliers:  457\nAverage created\nProcessed\nEpoch 00149: early stopping\nsmape: 79.4737281060162, mape: 796.7834736835791, mae: 33064464.0\nEpoch 00150: early stopping\nsmape: 80.79038748009954, mape: 774.8760895715632, mae: 36767110.0\nEpoch 00166: early stopping\nsmape: 78.2588893553325, mape: 708.067207600246, mae: 39365469.0\nEpoch 00159: early stopping\nsmape: 76.82978219807957, mape: 607.1854706281122, mae: 34305258.0\nEpoch 00117: early stopping\nsmape: 78.22893623525978, mape: 453.12971474628904, mae: 43431140.0\nEpoch 00134: early stopping\nsmape: 77.54966435505871, mape: 500.09619688790093, mae: 36087487.0\nEpoch 00174: early stopping\nsmape: 75.95807469427973, mape: 779.724148574682, mae: 34872832.0\nEpoch 00157: early stopping\nsmape: 80.49848939742196, mape: 757.615857822436, mae: 35401283.0\nEpoch 00152: early stopping\nsmape: 74.60305125883453, mape: 1122.51018703532, mae: 35895900.0\nEpoch 00140: early stopping\nsmape: 77.6212963286246, mape: 429.41199072556356, mae: 37831285.0\n{&#39;smape&#39;: 77.9812299409007, &#39;mape&#39;: 692.9400337275691, &#39;mae&#39;: 36702222.8, &#39;rmse&#39;: 83279708.7, &#39;adj_r2&#39;: 0.48476921067718237}\nbc_bi_bo\n######################################################\nNumber of outliers:  361\nAverage created\nProcessed\nEpoch 00139: early stopping\nsmape: 81.29597786794442, mape: 587.9402038278832, mae: 33466419.0\nEpoch 00120: early stopping\nsmape: 81.73465934625841, mape: 678.7553587486392, mae: 38649565.0\nEpoch 00155: early stopping\nsmape: 80.24728701578294, mape: 589.3816721854253, mae: 40486912.0\nEpoch 00152: early stopping\nsmape: 76.48518338182761, mape: 526.015540945692, mae: 34531358.0\nEpoch 00124: early stopping\nsmape: 78.41965912843479, mape: 395.08968160538063, mae: 45406410.0\nEpoch 00132: early stopping\nsmape: 78.6309121643855, mape: 455.648736815393, mae: 34683470.0\nEpoch 00153: early stopping\nsmape: 75.87697369946032, mape: 946.2036345590762, mae: 35966905.0\nEpoch 00118: early stopping\nsmape: 79.74551852669902, mape: 818.6155013671936, mae: 36644193.0\nEpoch 00148: early stopping\nsmape: 74.33125926093429, mape: 1104.7701338622699, mae: 33218110.0\nEpoch 00156: early stopping\nsmape: 76.44310192421746, mape: 490.9623092072757, mae: 38193603.0\n{&#39;smape&#39;: 78.32105323159448, &#39;mape&#39;: 659.3382773124229, &#39;mae&#39;: 37124694.5, &#39;rmse&#39;: 84454936.0, &#39;adj_r2&#39;: 0.46653732699439254}\nbc_bi_bl\n######################################################\nNumber of outliers:  344\nAverage created\nProcessed\nEpoch 00129: early stopping\nsmape: 80.03167079728814, mape: 734.1489379270234, mae: 32432045.0\nEpoch 00154: early stopping\nsmape: 81.36583386180517, mape: 769.0832794731244, mae: 38332095.0\nEpoch 00135: early stopping\nsmape: 77.38500498883658, mape: 935.116898872913, mae: 38415045.0\nEpoch 00160: early stopping\nsmape: 76.8951467133521, mape: 604.0593488959379, mae: 34510856.0\nEpoch 00184: early stopping\nsmape: 79.06189596314152, mape: 316.970312033077, mae: 45741213.0\nEpoch 00135: early stopping\nsmape: 77.8109029858661, mape: 602.9455146954891, mae: 33606834.0\nEpoch 00147: early stopping\nsmape: 75.43058646663253, mape: 915.7091645127359, mae: 37202375.0\nEpoch 00140: early stopping\nsmape: 80.10094315904591, mape: 957.4865365165188, mae: 34792240.0\nEpoch 00146: early stopping\nsmape: 74.14770426384098, mape: 1059.1912448193834, mae: 32538957.0\nEpoch 00148: early stopping\nsmape: 76.7771303290223, mape: 536.1796872322606, mae: 38649221.0\n{&#39;smape&#39;: 77.90068195288313, &#39;mape&#39;: 743.0890924978464, &#39;mae&#39;: 36622088.1, &#39;rmse&#39;: 82111040.7, &#39;adj_r2&#39;: 0.48831144829983614}\nbi_bo_bl\n######################################################\nNumber of outliers:  423\nAverage created\nProcessed\nEpoch 00179: early stopping\nsmape: 80.64607463378809, mape: 771.0201853802129, mae: 36008621.0\nEpoch 00139: early stopping\nsmape: 81.80674503869191, mape: 683.5855221621682, mae: 40478353.0\nEpoch 00143: early stopping\nsmape: 79.08766803992967, mape: 786.499389132997, mae: 43497446.0\nEpoch 00175: early stopping\nsmape: 77.17161066425999, mape: 594.8724181099863, mae: 37337129.0\nEpoch 00181: early stopping\nsmape: 78.87413805405956, mape: 451.1387934569475, mae: 48921902.0\nEpoch 00164: early stopping\nsmape: 78.34546255790003, mape: 530.886934185869, mae: 39647466.0\nEpoch 00150: early stopping\nsmape: 79.32298079937935, mape: 636.1643515894737, mae: 41476980.0\nEpoch 00165: early stopping\nsmape: 79.25293686365683, mape: 865.1828266592764, mae: 38434822.0\nEpoch 00233: early stopping\nsmape: 76.95856729094336, mape: 900.0307174893031, mae: 41091399.0\nEpoch 00118: early stopping\nsmape: 77.67738724330628, mape: 510.3959682652951, mae: 39144121.0\n{&#39;smape&#39;: 78.91435711859152, &#39;mape&#39;: 672.9777106431528, &#39;mae&#39;: 40603823.9, &#39;rmse&#39;: 95239962.4, &#39;adj_r2&#39;: 0.4646789760225398}\nbc_bi_bo_bl\n######################################################\nNumber of outliers:  481\nAverage created\nProcessed\nEpoch 00111: early stopping\nsmape: 80.56100910122137, mape: 721.3846972745837, mae: 32269897.0\nEpoch 00221: early stopping\nsmape: 81.1807877703064, mape: 775.787283102546, mae: 36430056.0\nEpoch 00166: early stopping\nsmape: 77.58041163734339, mape: 873.0388481736601, mae: 38603152.0\nEpoch 00205: early stopping\nsmape: 77.73068362662329, mape: 485.32701403339377, mae: 34306265.0\nEpoch 00152: early stopping\nsmape: 77.67177003374051, mape: 607.412895985147, mae: 42576399.0\nEpoch 00136: early stopping\nsmape: 78.86634220817471, mape: 504.5551925109737, mae: 36842398.0\nEpoch 00214: early stopping\nsmape: 76.47081374853876, mape: 949.9033497206643, mae: 33686627.0\nEpoch 00125: early stopping\nsmape: 77.72919305395023, mape: 948.3091621315743, mae: 34594680.0\nEpoch 00135: early stopping\nsmape: 76.50924918590853, mape: 1052.5824586177937, mae: 33789001.0\nEpoch 00127: early stopping\nsmape: 76.85587307322649, mape: 417.26301185262037, mae: 37381814.0\n{&#39;smape&#39;: 78.11561334390336, &#39;mape&#39;: 733.5563913402956, &#39;mae&#39;: 36048028.9, &#39;rmse&#39;: 81305919.3, &#39;adj_r2&#39;: 0.4846913225884674}\n"
    }
   ],
   "source": [
    "for combination in best_combinations:\n",
    "    print(combination)\n",
    "    parts = [indices[key] for key in combination.split('_')]\n",
    "    drop_index_list = list(set([y for x in parts for y in x]))\n",
    "    outliers_estimator = OutliersEstimator(drop_index_list=drop_index_list)\n",
    "    outliers_estimator.fit(X, y)\n",
    "    best_combinations[combination] = outliers_estimator.score(X,y)"
   ]
  },
  {
   "cell_type": "code",
   "execution_count": 16,
   "metadata": {},
   "outputs": [
    {
     "output_type": "execute_result",
     "data": {
      "text/plain": "{&#39;bc_bi&#39;: {&#39;cv_iterations&#39;: [{&#39;smape&#39;: 80.33988645877008,\n    &#39;mape&#39;: 827.6071665739337,\n    &#39;mae&#39;: 33134049.0,\n    &#39;rmse&#39;: 74090977.0,\n    &#39;adj_r2&#39;: 0.525846949914238},\n   {&#39;smape&#39;: 82.31289991504389,\n    &#39;mape&#39;: 622.9094059855489,\n    &#39;mae&#39;: 41065382.0,\n    &#39;rmse&#39;: 110838373.0,\n    &#39;adj_r2&#39;: 0.39365850743409825},\n   {&#39;smape&#39;: 78.76420414048542,\n    &#39;mape&#39;: 743.8492283973674,\n    &#39;mae&#39;: 35585430.0,\n    &#39;rmse&#39;: 73342294.0,\n    &#39;adj_r2&#39;: 0.49829730679694395},\n   {&#39;smape&#39;: 76.18561788755693,\n    &#39;mape&#39;: 569.8808261956663,\n    &#39;mae&#39;: 35429273.0,\n    &#39;rmse&#39;: 75643476.0,\n    &#39;adj_r2&#39;: 0.5129168745743246},\n   {&#39;smape&#39;: 79.69961229471922,\n    &#39;mape&#39;: 406.0294561605531,\n    &#39;mae&#39;: 46030547.0,\n    &#39;rmse&#39;: 114290731.0,\n    &#39;adj_r2&#39;: 0.4192433506223593},\n   {&#39;smape&#39;: 78.8212047022682,\n    &#39;mape&#39;: 510.3832402072987,\n    &#39;mae&#39;: 34569535.0,\n    &#39;rmse&#39;: 71373045.0,\n    &#39;adj_r2&#39;: 0.5024074681994086},\n   {&#39;smape&#39;: 76.9178599402494,\n    &#39;mape&#39;: 777.0801378825558,\n    &#39;mae&#39;: 36708331.0,\n    &#39;rmse&#39;: 93700041.0,\n    &#39;adj_r2&#39;: 0.4915412108760818},\n   {&#39;smape&#39;: 77.70993875957204,\n    &#39;mape&#39;: 986.0971612206644,\n    &#39;mae&#39;: 33897354.0,\n    &#39;rmse&#39;: 67095520.0,\n    &#39;adj_r2&#39;: 0.515751735989173},\n   {&#39;smape&#39;: 76.79740250449778,\n    &#39;mape&#39;: 966.7878268419074,\n    &#39;mae&#39;: 36109398.0,\n    &#39;rmse&#39;: 79509647.0,\n    &#39;adj_r2&#39;: 0.5535911933752167},\n   {&#39;smape&#39;: 76.08732934345124,\n    &#39;mape&#39;: 370.7194286187929,\n    &#39;mae&#39;: 37444194.0,\n    &#39;rmse&#39;: 83746029.0,\n    &#39;adj_r2&#39;: 0.44366712338247527}],\n  &#39;cv_metrics&#39;: {&#39;smape&#39;: 78.3635955946614,\n   &#39;mape&#39;: 678.1343878084289,\n   &#39;mae&#39;: 36997349.3,\n   &#39;rmse&#39;: 84363013.3,\n   &#39;adj_r2&#39;: 0.4856921721164319}},\n &#39;bc_bo&#39;: {&#39;cv_iterations&#39;: [{&#39;smape&#39;: 81.55054875305153,\n    &#39;mape&#39;: 562.5560235376558,\n    &#39;mae&#39;: 33624932.0,\n    &#39;rmse&#39;: 76026618.0,\n    &#39;adj_r2&#39;: 0.4974772884416908},\n   {&#39;smape&#39;: 81.03656457544031,\n    &#39;mape&#39;: 837.7534952667725,\n    &#39;mae&#39;: 37927332.0,\n    &#39;rmse&#39;: 97071300.0,\n    &#39;adj_r2&#39;: 0.48150264347097205},\n   {&#39;smape&#39;: 77.44420249384865,\n    &#39;mape&#39;: 796.1388700443023,\n    &#39;mae&#39;: 38828423.0,\n    &#39;rmse&#39;: 81223300.0,\n    &#39;adj_r2&#39;: 0.529719694959472},\n   {&#39;smape&#39;: 77.76543471349409,\n    &#39;mape&#39;: 600.7746408123874,\n    &#39;mae&#39;: 35363631.0,\n    &#39;rmse&#39;: 79847613.0,\n    &#39;adj_r2&#39;: 0.4522150225764897},\n   {&#39;smape&#39;: 78.0817726404171,\n    &#39;mape&#39;: 414.9698177331451,\n    &#39;mae&#39;: 45628167.0,\n    &#39;rmse&#39;: 112686300.0,\n    &#39;adj_r2&#39;: 0.4661364660970094},\n   {&#39;smape&#39;: 78.35113994314521,\n    &#39;mape&#39;: 507.73757378879975,\n    &#39;mae&#39;: 34596159.0,\n    &#39;rmse&#39;: 70351425.0,\n    &#39;adj_r2&#39;: 0.4879620133338075},\n   {&#39;smape&#39;: 75.72574889962164,\n    &#39;mape&#39;: 820.396152798126,\n    &#39;mae&#39;: 37236615.0,\n    &#39;rmse&#39;: 96623457.0,\n    &#39;adj_r2&#39;: 0.49077763041214184},\n   {&#39;smape&#39;: 79.14780157139893,\n    &#39;mape&#39;: 920.4425347304339,\n    &#39;mae&#39;: 34931315.0,\n    &#39;rmse&#39;: 67040282.0,\n    &#39;adj_r2&#39;: 0.47739640422908314},\n   {&#39;smape&#39;: 75.76156267422056,\n    &#39;mape&#39;: 893.237111782745,\n    &#39;mae&#39;: 34727244.0,\n    &#39;rmse&#39;: 81121963.0,\n    &#39;adj_r2&#39;: 0.5262291028667365},\n   {&#39;smape&#39;: 77.56749998394818,\n    &#39;mape&#39;: 463.45517453692224,\n    &#39;mae&#39;: 39233110.0,\n    &#39;rmse&#39;: 84628428.0,\n    &#39;adj_r2&#39;: 0.45852487957265187}],\n  &#39;cv_metrics&#39;: {&#39;smape&#39;: 78.24322762485863,\n   &#39;mape&#39;: 681.746139503129,\n   &#39;mae&#39;: 37209692.8,\n   &#39;rmse&#39;: 84662068.6,\n   &#39;adj_r2&#39;: 0.48679411459600547}},\n &#39;bc_bl&#39;: {&#39;cv_iterations&#39;: [{&#39;smape&#39;: 80.93802861177339,\n    &#39;mape&#39;: 659.4247623523418,\n    &#39;mae&#39;: 32889353.0,\n    &#39;rmse&#39;: 73097352.0,\n    &#39;adj_r2&#39;: 0.5384483239321991},\n   {&#39;smape&#39;: 81.07142677789432,\n    &#39;mape&#39;: 828.333014683367,\n    &#39;mae&#39;: 37561000.0,\n    &#39;rmse&#39;: 95274578.0,\n    &#39;adj_r2&#39;: 0.4909914270533654},\n   {&#39;smape&#39;: 78.32747075390412,\n    &#39;mape&#39;: 933.4017977128661,\n    &#39;mae&#39;: 38162751.0,\n    &#39;rmse&#39;: 80083293.0,\n    &#39;adj_r2&#39;: 0.5111926085760039},\n   {&#39;smape&#39;: 76.7907949872173,\n    &#39;mape&#39;: 573.8649031701594,\n    &#39;mae&#39;: 34990287.0,\n    &#39;rmse&#39;: 74211402.0,\n    &#39;adj_r2&#39;: 0.5250008102097214},\n   {&#39;smape&#39;: 79.832107610169,\n    &#39;mape&#39;: 418.03497552994145,\n    &#39;mae&#39;: 46336003.0,\n    &#39;rmse&#39;: 114747115.0,\n    &#39;adj_r2&#39;: 0.41621544875641203},\n   {&#39;smape&#39;: 77.60268422874212,\n    &#39;mape&#39;: 612.0719305932971,\n    &#39;mae&#39;: 33866167.0,\n    &#39;rmse&#39;: 68124817.0,\n    &#39;adj_r2&#39;: 0.5480180529727232},\n   {&#39;smape&#39;: 76.21726189283308,\n    &#39;mape&#39;: 812.3287157655337,\n    &#39;mae&#39;: 36621985.0,\n    &#39;rmse&#39;: 94007068.0,\n    &#39;adj_r2&#39;: 0.4844630001057618},\n   {&#39;smape&#39;: 79.15387160435657,\n    &#39;mape&#39;: 970.7504323105247,\n    &#39;mae&#39;: 34727120.0,\n    &#39;rmse&#39;: 68288612.0,\n    &#39;adj_r2&#39;: 0.5033672970989993},\n   {&#39;smape&#39;: 74.94883908482133,\n    &#39;mape&#39;: 872.9642104650649,\n    &#39;mae&#39;: 34962679.0,\n    &#39;rmse&#39;: 77157488.0,\n    &#39;adj_r2&#39;: 0.5593573203989884},\n   {&#39;smape&#39;: 77.19309548471972,\n    &#39;mape&#39;: 510.4072825050567,\n    &#39;mae&#39;: 37819498.0,\n    &#39;rmse&#39;: 84605553.0,\n    &#39;adj_r2&#39;: 0.44490750812756374}],\n  &#39;cv_metrics&#39;: {&#39;smape&#39;: 78.2075581036431,\n   &#39;mape&#39;: 719.1582025088153,\n   &#39;mae&#39;: 36793684.3,\n   &#39;rmse&#39;: 82959727.8,\n   &#39;adj_r2&#39;: 0.5021961797231739}},\n &#39;bi_bo&#39;: {&#39;cv_iterations&#39;: [{&#39;smape&#39;: 80.06515049604114,\n    &#39;mape&#39;: 631.6672932679649,\n    &#39;mae&#39;: 35184239.0,\n    &#39;rmse&#39;: 79285433.0,\n    &#39;adj_r2&#39;: 0.5235847226341384},\n   {&#39;smape&#39;: 80.98555674046162,\n    &#39;mape&#39;: 854.4432770946992,\n    &#39;mae&#39;: 40735624.0,\n    &#39;rmse&#39;: 106415929.0,\n    &#39;adj_r2&#39;: 0.48203355694146266},\n   {&#39;smape&#39;: 79.35694338065879,\n    &#39;mape&#39;: 580.44162092516,\n    &#39;mae&#39;: 41314664.0,\n    &#39;rmse&#39;: 92372540.0,\n    &#39;adj_r2&#39;: 0.4394893738504738},\n   {&#39;smape&#39;: 77.50054407568157,\n    &#39;mape&#39;: 442.99880539523883,\n    &#39;mae&#39;: 38127335.0,\n    &#39;rmse&#39;: 84914670.0,\n    &#39;adj_r2&#39;: 0.47567035033151783},\n   {&#39;smape&#39;: 78.77294317120418,\n    &#39;mape&#39;: 349.57038013467604,\n    &#39;mae&#39;: 48467768.0,\n    &#39;rmse&#39;: 124498684.0,\n    &#39;adj_r2&#39;: 0.42820382637406296},\n   {&#39;smape&#39;: 78.75705120817474,\n    &#39;mape&#39;: 431.5143104673592,\n    &#39;mae&#39;: 37853460.0,\n    &#39;rmse&#39;: 78100808.0,\n    &#39;adj_r2&#39;: 0.4554520411737065},\n   {&#39;smape&#39;: 75.33751314508297,\n    &#39;mape&#39;: 628.9462545110409,\n    &#39;mae&#39;: 40513858.0,\n    &#39;rmse&#39;: 109060027.0,\n    &#39;adj_r2&#39;: 0.4434038096202345},\n   {&#39;smape&#39;: 79.24781200784972,\n    &#39;mape&#39;: 872.8047755796571,\n    &#39;mae&#39;: 37027093.0,\n    &#39;rmse&#39;: 74078061.0,\n    &#39;adj_r2&#39;: 0.47311751671806657},\n   {&#39;smape&#39;: 75.04726697837141,\n    &#39;mape&#39;: 894.2447277653357,\n    &#39;mae&#39;: 35912181.0,\n    &#39;rmse&#39;: 82093575.0,\n    &#39;adj_r2&#39;: 0.5754326877345686},\n   {&#39;smape&#39;: 77.07892235443184,\n    &#39;mape&#39;: 473.46823350020645,\n    &#39;mae&#39;: 41110947.0,\n    &#39;rmse&#39;: 89170109.0,\n    &#39;adj_r2&#39;: 0.44753821142121497}],\n  &#39;cv_metrics&#39;: {&#39;smape&#39;: 78.2149703557958,\n   &#39;mape&#39;: 616.0099678641337,\n   &#39;mae&#39;: 39624716.9,\n   &#39;rmse&#39;: 91998983.6,\n   &#39;adj_r2&#39;: 0.4743926096799447}},\n &#39;bi_bl&#39;: {&#39;cv_iterations&#39;: [{&#39;smape&#39;: 83.78763693302376,\n    &#39;mape&#39;: 469.56701621945365,\n    &#39;mae&#39;: 38133774.0,\n    &#39;rmse&#39;: 89043627.0,\n    &#39;adj_r2&#39;: 0.45247611390775766},\n   {&#39;smape&#39;: 82.03354104132379,\n    &#39;mape&#39;: 740.7167373809802,\n    &#39;mae&#39;: 43077692.0,\n    &#39;rmse&#39;: 119514678.0,\n    &#39;adj_r2&#39;: 0.4140863697649877},\n   {&#39;smape&#39;: 79.43552758573547,\n    &#39;mape&#39;: 644.3446037239031,\n    &#39;mae&#39;: 42597326.0,\n    &#39;rmse&#39;: 95868754.0,\n    &#39;adj_r2&#39;: 0.4589706427215804},\n   {&#39;smape&#39;: 78.21100953690723,\n    &#39;mape&#39;: 476.72844844900385,\n    &#39;mae&#39;: 39212562.0,\n    &#39;rmse&#39;: 86386022.0,\n    &#39;adj_r2&#39;: 0.4956424238543765},\n   {&#39;smape&#39;: 79.30281569942666,\n    &#39;mape&#39;: 426.48503043687685,\n    &#39;mae&#39;: 51318195.0,\n    &#39;rmse&#39;: 136195208.0,\n    &#39;adj_r2&#39;: 0.38559771206073545},\n   {&#39;smape&#39;: 79.69939756762531,\n    &#39;mape&#39;: 411.61187237873753,\n    &#39;mae&#39;: 39288023.0,\n    &#39;rmse&#39;: 83032437.0,\n    &#39;adj_r2&#39;: 0.447226111577974},\n   {&#39;smape&#39;: 75.66832521434772,\n    &#39;mape&#39;: 649.5068912194937,\n    &#39;mae&#39;: 41617214.0,\n    &#39;rmse&#39;: 113269537.0,\n    &#39;adj_r2&#39;: 0.4559304280822457},\n   {&#39;smape&#39;: 81.81867032493696,\n    &#39;mape&#39;: 796.5520789527312,\n    &#39;mae&#39;: 38963917.0,\n    &#39;rmse&#39;: 80144737.0,\n    &#39;adj_r2&#39;: 0.4311716471781798},\n   {&#39;smape&#39;: 75.77480471971016,\n    &#39;mape&#39;: 942.2740528919302,\n    &#39;mae&#39;: 37699694.0,\n    &#39;rmse&#39;: 88637789.0,\n    &#39;adj_r2&#39;: 0.5498743046223575},\n   {&#39;smape&#39;: 79.6324113646805,\n    &#39;mape&#39;: 406.2823135694556,\n    &#39;mae&#39;: 45439683.0,\n    &#39;rmse&#39;: 102802869.0,\n    &#39;adj_r2&#39;: 0.38492382342207965}],\n  &#39;cv_metrics&#39;: {&#39;smape&#39;: 79.53641399877175,\n   &#39;mape&#39;: 596.4069045222566,\n   &#39;mae&#39;: 41734808.0,\n   &#39;rmse&#39;: 99489565.8,\n   &#39;adj_r2&#39;: 0.44758995771922744}},\n &#39;bo_bl&#39;: {&#39;cv_iterations&#39;: [{&#39;smape&#39;: 81.42493536518096,\n    &#39;mape&#39;: 613.9989188531309,\n    &#39;mae&#39;: 35565013.0,\n    &#39;rmse&#39;: 81157385.0,\n    &#39;adj_r2&#39;: 0.5114125256559888},\n   {&#39;smape&#39;: 81.9101275920061,\n    &#39;mape&#39;: 720.6194596813081,\n    &#39;mae&#39;: 39598311.0,\n    &#39;rmse&#39;: 106171668.0,\n    &#39;adj_r2&#39;: 0.473135913690397},\n   {&#39;smape&#39;: 79.13741160661603,\n    &#39;mape&#39;: 731.872422417544,\n    &#39;mae&#39;: 43095908.0,\n    &#39;rmse&#39;: 95871430.0,\n    &#39;adj_r2&#39;: 0.44156566748333326},\n   {&#39;smape&#39;: 78.11681945514955,\n    &#39;mape&#39;: 464.5016274883532,\n    &#39;mae&#39;: 37195777.0,\n    &#39;rmse&#39;: 85473780.0,\n    &#39;adj_r2&#39;: 0.4143622928027525},\n   {&#39;smape&#39;: 79.12104309248903,\n    &#39;mape&#39;: 401.7259501186514,\n    &#39;mae&#39;: 49604324.0,\n    &#39;rmse&#39;: 127607473.0,\n    &#39;adj_r2&#39;: 0.4284485590186944},\n   {&#39;smape&#39;: 77.53982182665251,\n    &#39;mape&#39;: 487.39863123925954,\n    &#39;mae&#39;: 37533340.0,\n    &#39;rmse&#39;: 77715120.0,\n    &#39;adj_r2&#39;: 0.4919619728717586},\n   {&#39;smape&#39;: 77.00352137899517,\n    &#39;mape&#39;: 740.815380075623,\n    &#39;mae&#39;: 38107926.0,\n    &#39;rmse&#39;: 88631415.0,\n    &#39;adj_r2&#39;: 0.5104949987929424},\n   {&#39;smape&#39;: 78.88870482286974,\n    &#39;mape&#39;: 910.4122373465034,\n    &#39;mae&#39;: 38974736.0,\n    &#39;rmse&#39;: 94188121.0,\n    &#39;adj_r2&#39;: 0.45105159257444616},\n   {&#39;smape&#39;: 75.73907079287062,\n    &#39;mape&#39;: 972.0387329623412,\n    &#39;mae&#39;: 36669834.0,\n    &#39;rmse&#39;: 83299982.0,\n    &#39;adj_r2&#39;: 0.5773152318992183},\n   {&#39;smape&#39;: 78.34438447422804,\n    &#39;mape&#39;: 448.12406768261565,\n    &#39;mae&#39;: 38631993.0,\n    &#39;rmse&#39;: 86315299.0,\n    &#39;adj_r2&#39;: 0.45638702694176725}],\n  &#39;cv_metrics&#39;: {&#39;smape&#39;: 78.72258404070577,\n   &#39;mape&#39;: 649.150742786533,\n   &#39;mae&#39;: 39497716.2,\n   &#39;rmse&#39;: 92643167.3,\n   &#39;adj_r2&#39;: 0.4756135781731299}},\n &#39;bc_bo_bl&#39;: {&#39;cv_iterations&#39;: [{&#39;smape&#39;: 79.4737281060162,\n    &#39;mape&#39;: 796.7834736835791,\n    &#39;mae&#39;: 33064464.0,\n    &#39;rmse&#39;: 71202363.0,\n    &#39;adj_r2&#39;: 0.5221415408756999},\n   {&#39;smape&#39;: 80.79038748009954,\n    &#39;mape&#39;: 774.8760895715632,\n    &#39;mae&#39;: 36767110.0,\n    &#39;rmse&#39;: 95171581.0,\n    &#39;adj_r2&#39;: 0.4932237855615026},\n   {&#39;smape&#39;: 78.2588893553325,\n    &#39;mape&#39;: 708.067207600246,\n    &#39;mae&#39;: 39365469.0,\n    &#39;rmse&#39;: 82136394.0,\n    &#39;adj_r2&#39;: 0.48959629968077767},\n   {&#39;smape&#39;: 76.82978219807957,\n    &#39;mape&#39;: 607.1854706281122,\n    &#39;mae&#39;: 34305258.0,\n    &#39;rmse&#39;: 73717972.0,\n    &#39;adj_r2&#39;: 0.49418622107079935},\n   {&#39;smape&#39;: 78.22893623525978,\n    &#39;mape&#39;: 453.12971474628904,\n    &#39;mae&#39;: 43431140.0,\n    &#39;rmse&#39;: 108091327.0,\n    &#39;adj_r2&#39;: 0.46787888948717926},\n   {&#39;smape&#39;: 77.54966435505871,\n    &#39;mape&#39;: 500.09619688790093,\n    &#39;mae&#39;: 36087487.0,\n    &#39;rmse&#39;: 72653875.0,\n    &#39;adj_r2&#39;: 0.5234691089089729},\n   {&#39;smape&#39;: 75.95807469427973,\n    &#39;mape&#39;: 779.724148574682,\n    &#39;mae&#39;: 34872832.0,\n    &#39;rmse&#39;: 79853018.0,\n    &#39;adj_r2&#39;: 0.5074784460771813},\n   {&#39;smape&#39;: 80.49848939742196,\n    &#39;mape&#39;: 757.615857822436,\n    &#39;mae&#39;: 35401283.0,\n    &#39;rmse&#39;: 84390881.0,\n    &#39;adj_r2&#39;: 0.3908891981042807},\n   {&#39;smape&#39;: 74.60305125883453,\n    &#39;mape&#39;: 1122.51018703532,\n    &#39;mae&#39;: 35895900.0,\n    &#39;rmse&#39;: 79078322.0,\n    &#39;adj_r2&#39;: 0.5552402953792279},\n   {&#39;smape&#39;: 77.6212963286246,\n    &#39;mape&#39;: 429.41199072556356,\n    &#39;mae&#39;: 37831285.0,\n    &#39;rmse&#39;: 86501354.0,\n    &#39;adj_r2&#39;: 0.4035883216262026}],\n  &#39;cv_metrics&#39;: {&#39;smape&#39;: 77.9812299409007,\n   &#39;mape&#39;: 692.9400337275691,\n   &#39;mae&#39;: 36702222.8,\n   &#39;rmse&#39;: 83279708.7,\n   &#39;adj_r2&#39;: 0.48476921067718237}},\n &#39;bc_bi_bo&#39;: {&#39;cv_iterations&#39;: [{&#39;smape&#39;: 81.29597786794442,\n    &#39;mape&#39;: 587.9402038278832,\n    &#39;mae&#39;: 33466419.0,\n    &#39;rmse&#39;: 74499188.0,\n    &#39;adj_r2&#39;: 0.49643498441694334},\n   {&#39;smape&#39;: 81.73465934625841,\n    &#39;mape&#39;: 678.7553587486392,\n    &#39;mae&#39;: 38649565.0,\n    &#39;rmse&#39;: 101287017.0,\n    &#39;adj_r2&#39;: 0.4017205418958163},\n   {&#39;smape&#39;: 80.24728701578294,\n    &#39;mape&#39;: 589.3816721854253,\n    &#39;mae&#39;: 40486912.0,\n    &#39;rmse&#39;: 89094072.0,\n    &#39;adj_r2&#39;: 0.4109401027265328},\n   {&#39;smape&#39;: 76.48518338182761,\n    &#39;mape&#39;: 526.015540945692,\n    &#39;mae&#39;: 34531358.0,\n    &#39;rmse&#39;: 76381191.0,\n    &#39;adj_r2&#39;: 0.45510875823096497},\n   {&#39;smape&#39;: 78.41965912843479,\n    &#39;mape&#39;: 395.08968160538063,\n    &#39;mae&#39;: 45406410.0,\n    &#39;rmse&#39;: 111045875.0,\n    &#39;adj_r2&#39;: 0.4608027230343601},\n   {&#39;smape&#39;: 78.6309121643855,\n    &#39;mape&#39;: 455.648736815393,\n    &#39;mae&#39;: 34683470.0,\n    &#39;rmse&#39;: 70552083.0,\n    &#39;adj_r2&#39;: 0.44295173214192063},\n   {&#39;smape&#39;: 75.87697369946032,\n    &#39;mape&#39;: 946.2036345590762,\n    &#39;mae&#39;: 35966905.0,\n    &#39;rmse&#39;: 82519615.0,\n    &#39;adj_r2&#39;: 0.48265906074372267},\n   {&#39;smape&#39;: 79.74551852669902,\n    &#39;mape&#39;: 818.6155013671936,\n    &#39;mae&#39;: 36644193.0,\n    &#39;rmse&#39;: 84728609.0,\n    &#39;adj_r2&#39;: 0.4420989227558809},\n   {&#39;smape&#39;: 74.33125926093429,\n    &#39;mape&#39;: 1104.7701338622699,\n    &#39;mae&#39;: 33218110.0,\n    &#39;rmse&#39;: 72519604.0,\n    &#39;adj_r2&#39;: 0.6041026551434272},\n   {&#39;smape&#39;: 76.44310192421746,\n    &#39;mape&#39;: 490.9623092072757,\n    &#39;mae&#39;: 38193603.0,\n    &#39;rmse&#39;: 81922106.0,\n    &#39;adj_r2&#39;: 0.46855378885435606}],\n  &#39;cv_metrics&#39;: {&#39;smape&#39;: 78.32105323159448,\n   &#39;mape&#39;: 659.3382773124229,\n   &#39;mae&#39;: 37124694.5,\n   &#39;rmse&#39;: 84454936.0,\n   &#39;adj_r2&#39;: 0.46653732699439254}},\n &#39;bc_bi_bl&#39;: {&#39;cv_iterations&#39;: [{&#39;smape&#39;: 80.03167079728814,\n    &#39;mape&#39;: 734.1489379270234,\n    &#39;mae&#39;: 32432045.0,\n    &#39;rmse&#39;: 70624447.0,\n    &#39;adj_r2&#39;: 0.5403505592013826},\n   {&#39;smape&#39;: 81.36583386180517,\n    &#39;mape&#39;: 769.0832794731244,\n    &#39;mae&#39;: 38332095.0,\n    &#39;rmse&#39;: 99523714.0,\n    &#39;adj_r2&#39;: 0.41127801030436106},\n   {&#39;smape&#39;: 77.38500498883658,\n    &#39;mape&#39;: 935.116898872913,\n    &#39;mae&#39;: 38415045.0,\n    &#39;rmse&#39;: 79103421.0,\n    &#39;adj_r2&#39;: 0.5278584347566397},\n   {&#39;smape&#39;: 76.8951467133521,\n    &#39;mape&#39;: 604.0593488959379,\n    &#39;mae&#39;: 34510856.0,\n    &#39;rmse&#39;: 73469616.0,\n    &#39;adj_r2&#39;: 0.5080431516368471},\n   {&#39;smape&#39;: 79.06189596314152,\n    &#39;mape&#39;: 316.970312033077,\n    &#39;mae&#39;: 45741213.0,\n    &#39;rmse&#39;: 114177323.0,\n    &#39;adj_r2&#39;: 0.4095404716112857},\n   {&#39;smape&#39;: 77.8109029858661,\n    &#39;mape&#39;: 602.9455146954891,\n    &#39;mae&#39;: 33606834.0,\n    &#39;rmse&#39;: 66775818.0,\n    &#39;adj_r2&#39;: 0.513239080866517},\n   {&#39;smape&#39;: 75.43058646663253,\n    &#39;mape&#39;: 915.7091645127359,\n    &#39;mae&#39;: 37202375.0,\n    &#39;rmse&#39;: 96842545.0,\n    &#39;adj_r2&#39;: 0.44870572910985695},\n   {&#39;smape&#39;: 80.10094315904591,\n    &#39;mape&#39;: 957.4865365165188,\n    &#39;mae&#39;: 34792240.0,\n    &#39;rmse&#39;: 66791978.0,\n    &#39;adj_r2&#39;: 0.4573690714654739},\n   {&#39;smape&#39;: 74.14770426384098,\n    &#39;mape&#39;: 1059.1912448193834,\n    &#39;mae&#39;: 32538957.0,\n    &#39;rmse&#39;: 71860452.0,\n    &#39;adj_r2&#39;: 0.6042692840610526},\n   {&#39;smape&#39;: 76.7771303290223,\n    &#39;mape&#39;: 536.1796872322606,\n    &#39;mae&#39;: 38649221.0,\n    &#39;rmse&#39;: 81941093.0,\n    &#39;adj_r2&#39;: 0.46246068998494505}],\n  &#39;cv_metrics&#39;: {&#39;smape&#39;: 77.90068195288313,\n   &#39;mape&#39;: 743.0890924978464,\n   &#39;mae&#39;: 36622088.1,\n   &#39;rmse&#39;: 82111040.7,\n   &#39;adj_r2&#39;: 0.48831144829983614}},\n &#39;bi_bo_bl&#39;: {&#39;cv_iterations&#39;: [{&#39;smape&#39;: 80.64607463378809,\n    &#39;mape&#39;: 771.0201853802129,\n    &#39;mae&#39;: 36008621.0,\n    &#39;rmse&#39;: 80281115.0,\n    &#39;adj_r2&#39;: 0.5138876511563861},\n   {&#39;smape&#39;: 81.80674503869191,\n    &#39;mape&#39;: 683.5855221621682,\n    &#39;mae&#39;: 40478353.0,\n    &#39;rmse&#39;: 109424198.0,\n    &#39;adj_r2&#39;: 0.47620884505948236},\n   {&#39;smape&#39;: 79.08766803992967,\n    &#39;mape&#39;: 786.499389132997,\n    &#39;mae&#39;: 43497446.0,\n    &#39;rmse&#39;: 93491132.0,\n    &#39;adj_r2&#39;: 0.47462672452017673},\n   {&#39;smape&#39;: 77.17161066425999,\n    &#39;mape&#39;: 594.8724181099863,\n    &#39;mae&#39;: 37337129.0,\n    &#39;rmse&#39;: 81770481.0,\n    &#39;adj_r2&#39;: 0.49983597552315195},\n   {&#39;smape&#39;: 78.87413805405956,\n    &#39;mape&#39;: 451.1387934569475,\n    &#39;mae&#39;: 48921902.0,\n    &#39;rmse&#39;: 125101309.0,\n    &#39;adj_r2&#39;: 0.45854027166760214},\n   {&#39;smape&#39;: 78.34546255790003,\n    &#39;mape&#39;: 530.886934185869,\n    &#39;mae&#39;: 39647466.0,\n    &#39;rmse&#39;: 81923599.0,\n    &#39;adj_r2&#39;: 0.48093625201027446},\n   {&#39;smape&#39;: 79.32298079937935,\n    &#39;mape&#39;: 636.1643515894737,\n    &#39;mae&#39;: 41476980.0,\n    &#39;rmse&#39;: 99409579.0,\n    &#39;adj_r2&#39;: 0.40153522175583756},\n   {&#39;smape&#39;: 79.25293686365683,\n    &#39;mape&#39;: 865.1828266592764,\n    &#39;mae&#39;: 38434822.0,\n    &#39;rmse&#39;: 95164102.0,\n    &#39;adj_r2&#39;: 0.41256024188860074},\n   {&#39;smape&#39;: 76.95856729094336,\n    &#39;mape&#39;: 900.0307174893031,\n    &#39;mae&#39;: 41091399.0,\n    &#39;rmse&#39;: 97173027.0,\n    &#39;adj_r2&#39;: 0.4796587399758505},\n   {&#39;smape&#39;: 77.67738724330628,\n    &#39;mape&#39;: 510.3959682652951,\n    &#39;mae&#39;: 39144121.0,\n    &#39;rmse&#39;: 88661082.0,\n    &#39;adj_r2&#39;: 0.44899983666803556}],\n  &#39;cv_metrics&#39;: {&#39;smape&#39;: 78.91435711859152,\n   &#39;mape&#39;: 672.9777106431528,\n   &#39;mae&#39;: 40603823.9,\n   &#39;rmse&#39;: 95239962.4,\n   &#39;adj_r2&#39;: 0.4646789760225398}},\n &#39;bc_bi_bo_bl&#39;: {&#39;cv_iterations&#39;: [{&#39;smape&#39;: 80.56100910122137,\n    &#39;mape&#39;: 721.3846972745837,\n    &#39;mae&#39;: 32269897.0,\n    &#39;rmse&#39;: 69834281.0,\n    &#39;adj_r2&#39;: 0.5204056876006896},\n   {&#39;smape&#39;: 81.1807877703064,\n    &#39;mape&#39;: 775.787283102546,\n    &#39;mae&#39;: 36430056.0,\n    &#39;rmse&#39;: 94917944.0,\n    &#39;adj_r2&#39;: 0.472280524851047},\n   {&#39;smape&#39;: 77.58041163734339,\n    &#39;mape&#39;: 873.0388481736601,\n    &#39;mae&#39;: 38603152.0,\n    &#39;rmse&#39;: 80337872.0,\n    &#39;adj_r2&#39;: 0.49090612780228815},\n   {&#39;smape&#39;: 77.73068362662329,\n    &#39;mape&#39;: 485.32701403339377,\n    &#39;mae&#39;: 34306265.0,\n    &#39;rmse&#39;: 74503678.0,\n    &#39;adj_r2&#39;: 0.45961709476556556},\n   {&#39;smape&#39;: 77.67177003374051,\n    &#39;mape&#39;: 607.412895985147,\n    &#39;mae&#39;: 42576399.0,\n    &#39;rmse&#39;: 103276076.0,\n    &#39;adj_r2&#39;: 0.49174669387847425},\n   {&#39;smape&#39;: 78.86634220817471,\n    &#39;mape&#39;: 504.5551925109737,\n    &#39;mae&#39;: 36842398.0,\n    &#39;rmse&#39;: 75489754.0,\n    &#39;adj_r2&#39;: 0.4579656981011889},\n   {&#39;smape&#39;: 76.47081374853876,\n    &#39;mape&#39;: 949.9033497206643,\n    &#39;mae&#39;: 33686627.0,\n    &#39;rmse&#39;: 76513763.0,\n    &#39;adj_r2&#39;: 0.5311478671927},\n   {&#39;smape&#39;: 77.72919305395023,\n    &#39;mape&#39;: 948.3091621315743,\n    &#39;mae&#39;: 34594680.0,\n    &#39;rmse&#39;: 80214234.0,\n    &#39;adj_r2&#39;: 0.42581523013169975},\n   {&#39;smape&#39;: 76.50924918590853,\n    &#39;mape&#39;: 1052.5824586177937,\n    &#39;mae&#39;: 33789001.0,\n    &#39;rmse&#39;: 73819579.0,\n    &#39;adj_r2&#39;: 0.5838185551781433},\n   {&#39;smape&#39;: 76.85587307322649,\n    &#39;mape&#39;: 417.26301185262037,\n    &#39;mae&#39;: 37381814.0,\n    &#39;rmse&#39;: 84152012.0,\n    &#39;adj_r2&#39;: 0.41320974638287766}],\n  &#39;cv_metrics&#39;: {&#39;smape&#39;: 78.11561334390336,\n   &#39;mape&#39;: 733.5563913402956,\n   &#39;mae&#39;: 36048028.9,\n   &#39;rmse&#39;: 81305919.3,\n   &#39;adj_r2&#39;: 0.4846913225884674}}}"
     },
     "metadata": {},
     "execution_count": 16
    }
   ],
   "source": [
    "best_combinations"
   ]
  },
  {
   "cell_type": "code",
   "execution_count": 28,
   "metadata": {},
   "outputs": [
    {
     "output_type": "execute_result",
     "data": {
      "text/plain": "[{&#39;key&#39;: &#39;bc_bi_bo_bl&#39;,\n  &#39;smape&#39;: 78.11561334390336,\n  &#39;mape&#39;: 733.5563913402956,\n  &#39;mae&#39;: 36048028.9},\n {&#39;key&#39;: &#39;bc_bi_bl&#39;,\n  &#39;smape&#39;: 77.90068195288313,\n  &#39;mape&#39;: 743.0890924978464,\n  &#39;mae&#39;: 36622088.1},\n {&#39;key&#39;: &#39;bc_bo_bl&#39;,\n  &#39;smape&#39;: 77.9812299409007,\n  &#39;mape&#39;: 692.9400337275691,\n  &#39;mae&#39;: 36702222.8},\n {&#39;key&#39;: &#39;bc_bl&#39;,\n  &#39;smape&#39;: 78.2075581036431,\n  &#39;mape&#39;: 719.1582025088153,\n  &#39;mae&#39;: 36793684.3},\n {&#39;key&#39;: &#39;bc_bi&#39;,\n  &#39;smape&#39;: 78.3635955946614,\n  &#39;mape&#39;: 678.1343878084289,\n  &#39;mae&#39;: 36997349.3},\n {&#39;key&#39;: &#39;bc_bi_bo&#39;,\n  &#39;smape&#39;: 78.32105323159448,\n  &#39;mape&#39;: 659.3382773124229,\n  &#39;mae&#39;: 37124694.5},\n {&#39;key&#39;: &#39;bc_bo&#39;,\n  &#39;smape&#39;: 78.24322762485863,\n  &#39;mape&#39;: 681.746139503129,\n  &#39;mae&#39;: 37209692.8},\n {&#39;key&#39;: &#39;bo_bl&#39;,\n  &#39;smape&#39;: 78.72258404070577,\n  &#39;mape&#39;: 649.150742786533,\n  &#39;mae&#39;: 39497716.2},\n {&#39;key&#39;: &#39;bi_bo&#39;,\n  &#39;smape&#39;: 78.2149703557958,\n  &#39;mape&#39;: 616.0099678641337,\n  &#39;mae&#39;: 39624716.9},\n {&#39;key&#39;: &#39;bi_bo_bl&#39;,\n  &#39;smape&#39;: 78.91435711859152,\n  &#39;mape&#39;: 672.9777106431528,\n  &#39;mae&#39;: 40603823.9},\n {&#39;key&#39;: &#39;bi_bl&#39;,\n  &#39;smape&#39;: 79.53641399877175,\n  &#39;mape&#39;: 596.4069045222566,\n  &#39;mae&#39;: 41734808.0}]"
     },
     "metadata": {},
     "execution_count": 28
    }
   ],
   "source": [
    "sorted([{\n",
    "        'key': key, \n",
    "        'smape': best_combinations[key]['cv_metrics']['smape'],\n",
    "        'mape': best_combinations[key]['cv_metrics']['mape'],\n",
    "        'mae': best_combinations[key]['cv_metrics']['mae']\n",
    "        } for i, key in enumerate(best_combinations)],\n",
    "    key=lambda x: x['mae'])"
   ]
  },
  {
   "cell_type": "code",
   "execution_count": 21,
   "metadata": {},
   "outputs": [
    {
     "output_type": "execute_result",
     "data": {
      "text/plain": "[&#39;bc_bi&#39;,\n &#39;bc_bo&#39;,\n &#39;bc_bl&#39;,\n &#39;bi_bo&#39;,\n &#39;bi_bl&#39;,\n &#39;bo_bl&#39;,\n &#39;bc_bo_bl&#39;,\n &#39;bc_bi_bo&#39;,\n &#39;bc_bi_bl&#39;,\n &#39;bi_bo_bl&#39;,\n &#39;bc_bi_bo_bl&#39;]"
     },
     "metadata": {},
     "execution_count": 21
    }
   ],
   "source": [
    " [key for i, key in enumerate(best_combinations)]"
   ]
  },
  {
   "cell_type": "code",
   "execution_count": 33,
   "metadata": {},
   "outputs": [
    {
     "output_type": "execute_result",
     "data": {
      "text/plain": "Int64Index([    89,    121,    122,    285,    330,    672,    673,    674,\n               675,    767,   1892,   1894,   1895,   5255,  12444,  12445,\n            374720, 188927, 446354, 118340,  24021, 122917, 131634, 135397,\n            140607, 281338, 282035, 283995, 284052, 284053, 404368, 271110,\n            351286, 353081, 354912, 392044, 429617, 512200, 336843, 337339,\n            206647, 338952,  49026,  50620,  54138,  57158, 479455,  93456,\n             99861, 297802, 299534, 299536, 299537, 301528, 384018, 141052,\n            315635, 324852, 166426, 168259, 177677, 181808, 181812],\n           dtype=&#39;int64&#39;, name=&#39;id&#39;)"
     },
     "metadata": {},
     "execution_count": 33
    }
   ],
   "source": [
    "full_custom[10]['drop_index_list']"
   ]
  },
  {
   "cell_type": "code",
   "execution_count": 36,
   "metadata": {},
   "outputs": [],
   "source": [
    "df_raw = pd.read_csv('outliers/df_raw.csv', index_col='id')\n",
    "df_raw_dropped = df_raw.drop(full_custom[10]['drop_index_list'])\n",
    "df_raw_dropped.to_csv('df_raw_dropped')\n",
    "df_full_dropped = df_raw_dropped.copy()\n",
    "df_full_name = 'outliers/df_full_dropped.csv'\n",
    "df_full_dropped = create_average_columns(df_full_dropped, verbose=0)\n",
    "df_full_dropped.to_csv(df_full_name)"
   ]
  },
  {
   "cell_type": "code",
   "execution_count": 37,
   "metadata": {},
   "outputs": [],
   "source": [
    "df_full_dropped = pd.read_csv(df_full_name, index_col='id')\n",
    "\n",
    "data_raw = split_df(get_df_work_columns(df_full))\n",
    "with open(f'{df_full_name}_raw_data.pickle', 'wb') as handle:\n",
    "    pickle.dump(data_raw, handle)\n",
    "\n",
    "data, process = split_process_df(get_df_work_columns(df_full))\n",
    "with open(f'{df_full_name}_data.pickle', 'wb') as handle:\n",
    "    pickle.dump(data, handle)\n",
    "with open(f'{df_full_name}_process.pickle', 'wb') as handle:\n",
    "    pickle.dump(process, handle)"
   ]
  },
  {
   "cell_type": "code",
   "execution_count": null,
   "metadata": {},
   "outputs": [],
   "source": []
  },
  {
   "cell_type": "code",
   "execution_count": null,
   "metadata": {},
   "outputs": [],
   "source": []
  },
  {
   "cell_type": "code",
   "execution_count": null,
   "metadata": {},
   "outputs": [],
   "source": []
  },
  {
   "cell_type": "code",
   "execution_count": null,
   "metadata": {},
   "outputs": [],
   "source": []
  },
  {
   "cell_type": "code",
   "execution_count": null,
   "metadata": {},
   "outputs": [],
   "source": []
  },
  {
   "cell_type": "code",
   "execution_count": null,
   "metadata": {},
   "outputs": [],
   "source": []
  },
  {
   "cell_type": "code",
   "execution_count": null,
   "metadata": {},
   "outputs": [],
   "source": []
  },
  {
   "cell_type": "code",
   "execution_count": null,
   "metadata": {},
   "outputs": [],
   "source": []
  },
  {
   "cell_type": "code",
   "execution_count": null,
   "metadata": {},
   "outputs": [],
   "source": []
  },
  {
   "cell_type": "code",
   "execution_count": null,
   "metadata": {},
   "outputs": [],
   "source": []
  },
  {
   "cell_type": "code",
   "execution_count": 79,
   "metadata": {},
   "outputs": [],
   "source": [
    "def run_cv(X, y, process):\n",
    "    cv_results = []\n",
    "\n",
    "    split_num=0\n",
    "    n_splits=10\n",
    "    kf = KFold(n_splits=n_splits)\n",
    "    for train_index, test_index in kf.split(X, y):\n",
    "        split_num+=1\n",
    "        print('###################################')\n",
    "        print(f'{split_num}:\\tsplit num')\n",
    "        X_train, X_test = X.iloc[train_index, :], X.iloc[test_index, :]\n",
    "        y_train, y_test = y[train_index], y[test_index]\n",
    "        data_part = {'X_train': X_train, 'X_test': X_test, 'y_train': y_train, 'y_test': y_test}\n",
    "        cv_results.append({'metrics': run_nn(data_part, process, with_val=False), 'data': data_part})\n",
    "    metrics = ['smape', 'mape', 'mae', 'rmse', 'adj_r2']\n",
    "    metric_results = {metric: np.mean([cv_results[split_index]['metrics']['test'][metric] for split_index in range(n_splits)]) for metric in metrics}\n",
    "    return {'cv_iterations': cv_results, 'cv_metrics': metric_results}"
   ]
  },
  {
   "cell_type": "code",
   "execution_count": 84,
   "metadata": {},
   "outputs": [],
   "source": [
    "def drop_rows_and_output_result(df, drop_index_list, dirname):\n",
    "    new_df = df.drop(drop_index_list)\n",
    "    if not os.path.exists(dirname):\n",
    "        os.mkdir(dirname)\n",
    "    new_df.to_csv(f'{dirname}/df_raw.csv')\n",
    "    df = create_average_columns(new_df, verbose=0)\n",
    "    print('average created')\n",
    "\n",
    "    df.to_csv(f'{dirname}/df_all_columns.csv')\n",
    "    df = get_df_work_columns(df)\n",
    "    df.to_csv(f'{dirname}/df.csv')\n",
    "\n",
    "    data, process = split_process_df(df)\n",
    "    print('processed')\n",
    "    with open(f'{dirname}/data.pickle', 'wb') as handle:\n",
    "        pickle.dump(data, handle)\n",
    "    with open(f'{dirname}/process.pickle', 'wb') as handle:\n",
    "        pickle.dump(process, handle)\n",
    "\n",
    "    X = pd.concat([data['X_train'], data['X_test'], data['X_val']])\n",
    "    y = np.concatenate([data['y_train'], data['y_test'], data['y_val']])\n",
    "\n",
    "    return run_cv(X, y, process)\n"
   ]
  },
  {
   "cell_type": "code",
   "execution_count": null,
   "metadata": {},
   "outputs": [],
   "source": [
    "\n",
    "df_raw = pd.read_csv('outliers/df_raw.csv', index_col='id')\n",
    "\n",
    "start = time.time()\n",
    "o__full = drop_rows_and_output_result(df_raw, [], 'outliers/full')\n",
    "print(time.time() - start)\n"
   ]
  },
  {
   "cell_type": "code",
   "execution_count": 86,
   "metadata": {},
   "outputs": [
    {
     "output_type": "execute_result",
     "data": {
      "text/plain": "['outliers/full/results.joblib']"
     },
     "metadata": {},
     "execution_count": 86
    }
   ],
   "source": [
    "dump(o__full, 'outliers/full/results.joblib')"
   ]
  },
  {
   "cell_type": "code",
   "execution_count": 91,
   "metadata": {},
   "outputs": [
    {
     "output_type": "execute_result",
     "data": {
      "text/plain": "{'smape': 80.04576707883504,\n 'mape': 728.2753358367537,\n 'mae': 41332135.4,\n 'rmse': 97884334.3,\n 'adj_r2': 0.4765097127225809}"
     },
     "metadata": {},
     "execution_count": 91
    }
   ],
   "source": [
    "o__full['cv_metrics']"
   ]
  },
  {
   "cell_type": "code",
   "execution_count": 94,
   "metadata": {},
   "outputs": [],
   "source": [
    "with open(f'outliers/data.pickle', 'rb') as handle:\n",
    "    data = pickle.load(handle)\n",
    "with open(f'outliers/process.pickle', 'rb') as handle:\n",
    "    process = pickle.load(handle)\n",
    "\n",
    "X = pd.concat([data['X_train'], data['X_test'], data['X_val']])\n",
    "y = np.concatenate([data['y_train'], data['y_test'], data['y_val']])"
   ]
  },
  {
   "cell_type": "code",
   "execution_count": 18,
   "metadata": {
    "tags": []
   },
   "outputs": [
    {
     "output_type": "error",
     "ename": "NameError",
     "evalue": "name &#39;pd&#39; is not defined",
     "traceback": [
      "\u001b[0;31m---------------------------------------------------------------------------\u001b[0m",
      "\u001b[0;31mNameError\u001b[0m                                 Traceback (most recent call last)",
      "\u001b[0;32m&lt;ipython-input-18-dc52a7eaf75a&gt;\u001b[0m in \u001b[0;36m&lt;module&gt;\u001b[0;34m\u001b[0m\n\u001b[1;32m      1\u001b[0m \u001b[0;32mfrom\u001b[0m \u001b[0msklearn\u001b[0m\u001b[0;34m.\u001b[0m\u001b[0mensemble\u001b[0m \u001b[0;32mimport\u001b[0m \u001b[0mIsolationForest\u001b[0m\u001b[0;34m\u001b[0m\u001b[0;34m\u001b[0m\u001b[0m\n\u001b[1;32m      2\u001b[0m \u001b[0miso_results\u001b[0m \u001b[0;34m=\u001b[0m \u001b[0;34m{\u001b[0m\u001b[0;34m}\u001b[0m\u001b[0;34m\u001b[0m\u001b[0;34m\u001b[0m\u001b[0m\n\u001b[0;32m----&gt; 3\u001b[0;31m \u001b[0mdf_raw\u001b[0m \u001b[0;34m=\u001b[0m \u001b[0mpd\u001b[0m\u001b[0;34m.\u001b[0m\u001b[0mread_csv\u001b[0m\u001b[0;34m(\u001b[0m\u001b[0;34m&#39;outliers/df_raw.csv&#39;\u001b[0m\u001b[0;34m,\u001b[0m \u001b[0mindex_col\u001b[0m\u001b[0;34m=\u001b[0m\u001b[0;34m&#39;id&#39;\u001b[0m\u001b[0;34m)\u001b[0m\u001b[0;34m\u001b[0m\u001b[0;34m\u001b[0m\u001b[0m\n\u001b[0m\u001b[1;32m      4\u001b[0m \u001b[0;34m\u001b[0m\u001b[0m\n\u001b[1;32m      5\u001b[0m \u001b[0;32mfor\u001b[0m \u001b[0mn_estimators\u001b[0m \u001b[0;32min\u001b[0m \u001b[0;34m[\u001b[0m\u001b[0;36m50\u001b[0m\u001b[0;34m,\u001b[0m \u001b[0;36m100\u001b[0m\u001b[0;34m,\u001b[0m \u001b[0;36m250\u001b[0m\u001b[0;34m,\u001b[0m \u001b[0;36m500\u001b[0m\u001b[0;34m,\u001b[0m \u001b[0;36m2000\u001b[0m\u001b[0;34m]\u001b[0m\u001b[0;34m:\u001b[0m\u001b[0;34m\u001b[0m\u001b[0;34m\u001b[0m\u001b[0m\n",
      "\u001b[0;31mNameError\u001b[0m: name &#39;pd&#39; is not defined"
     ]
    }
   ],
   "source": [
    "iso_results = {}\n",
    "df_raw = pd.read_csv('outliers/df_raw.csv', index_col='id')\n",
    "\n",
    "for n_estimators in [50, 100, 250, 500, 2000]:\n",
    "    iso = IsolationForest(random_state=0, n_jobs=-1, \n",
    "        n_estimators=n_estimators)\n",
    "    yhat = iso.fit_predict(X)\n",
    "    mask_to_keep = yhat != -1\n",
    "    print('outliers: ', sum(yhat == -1))\n",
    "    df_raw[mask_to_keep].index\n",
    "    # iso_results[contamination] = drop_rows_and_output_result(df_raw, mask_to_keep, f'iso_contamination_{contamination}')"
   ]
  },
  {
   "cell_type": "code",
   "execution_count": 9,
   "metadata": {
    "tags": []
   },
   "outputs": [
    {
     "output_type": "stream",
     "name": "stdout",
     "text": "0.05 {'smape': 80.05861126141413, 'mape': 793.7242540662393, 'mae': 41239250.8, 'rmse': 96947720.8, 'adj_r2': 0.5125935171000893}\n"
    }
   ],
   "source": [
    "for i in iso_results:\n",
    "    print(i, iso_results[i][1])"
   ]
  },
  {
   "cell_type": "code",
   "execution_count": 76,
   "metadata": {
    "tags": []
   },
   "outputs": [
    {
     "output_type": "stream",
     "name": "stdout",
     "text": "0.01 {'smape': 79.8379840350851, 'mape': 803.3126516871604, 'mae': 41064231.4, 'rmse': 97550786.2, 'adj_r2': 0.5103597131813838}\n0.05 {'smape': 79.80010070996218, 'mape': 829.701486791581, 'mae': 40850199.6, 'rmse': 96056112.8, 'adj_r2': 0.525200785872264}\n0.1 {'smape': 79.96970676386368, 'mape': 770.8597545685058, 'mae': 41238765.5, 'rmse': 98997202.7, 'adj_r2': 0.4968208757292799}\n"
    }
   ],
   "source": [
    "for i in iso_results:\n",
    "    print(i, iso_results[i][1])"
   ]
  },
  {
   "cell_type": "code",
   "execution_count": null,
   "metadata": {},
   "outputs": [],
   "source": []
  },
  {
   "cell_type": "code",
   "execution_count": null,
   "metadata": {},
   "outputs": [],
   "source": [
    "iso_results = {}\n",
    "df_raw = pd.read_csv('outliers/df_raw.csv')\n",
    "df_full = shuffle(pd.read_csv('outliers/df.csv'), random_state=0)\n",
    "\n",
    "data, process = split_process_df(df_full, reskew=False)\n",
    "with open('outliers/df_full_no_reskew_data.pickle', 'wb') as handle:\n",
    "    pickle.dump(data, handle)\n",
    "with open('outliers/df_full_no_reskew_process.pickle', 'wb') as handle:\n",
    "    pickle.dump(process, handle)\n",
    "\n",
    "X = pd.concat([data['X_train'], data['X_test'], data['X_val']])\n",
    "y = np.concatenate([data['y_train'], data['y_test'], data['y_val']])\n",
    "Xy = X.copy()\n",
    "Xy['revenue'] = y\n",
    "\n",
    "for contamination in [0.05]:\n",
    "    print(f'contamination {contamination}')\n",
    "    iso = IsolationForest(random_state=0, n_jobs=-1, contamination=contamination)\n",
    "    yhat = iso.fit_predict(Xy)\n",
    "    mask_to_keep = yhat != -1\n",
    "    print('outliers: ', sum(yhat == -1))\n",
    "    iso_results[contamination] = drop_rows_and_output_result(df_raw, mask_to_keep, f'iso_contamination_{contamination}')"
   ]
  },
  {
   "cell_type": "code",
   "execution_count": 18,
   "metadata": {
    "tags": []
   },
   "outputs": [
    {
     "output_type": "stream",
     "name": "stdout",
     "text": "0.05 {'smape': 80.3892237338859, 'mape': 779.3976743293541, 'mae': 41463328.0, 'rmse': 99280973.6, 'adj_r2': 0.49631429870037513}\n"
    }
   ],
   "source": [
    "for i in iso_results:\n",
    "    print(i, iso_results[i][1])"
   ]
  },
  {
   "cell_type": "code",
   "execution_count": null,
   "metadata": {},
   "outputs": [],
   "source": [
    "df_raw = pd.read_csv('outliers/df_raw.csv')\n",
    "\n",
    "with open(f'outliers/data.pickle', 'rb') as handle:\n",
    "    data = pickle.load(handle)\n",
    "with open(f'outliers/process.pickle', 'rb') as handle:\n",
    "    process = pickle.load(handle)\n",
    "\n",
    "X = pd.concat([data['X_train'], data['X_test'], data['X_val']])\n",
    "y = np.concatenate([data['y_train'], data['y_test'], data['y_val']])\n",
    "Xy = X.copy()\n",
    "Xy['revenue'] = y\n",
    "\n",
    "lof = LocalOutlierFactor(n_jobs=-1)\n",
    "yhat = lof.fit_predict(Xy)\n",
    "mask_to_keep = yhat != -1\n",
    "print('outliers: ', sum(yhat == -1))\n",
    "\n",
    "lof_results = drop_rows_and_output_result(df_raw, mask_to_keep, f'outliers/lof')"
   ]
  },
  {
   "cell_type": "code",
   "execution_count": 23,
   "metadata": {
    "tags": []
   },
   "outputs": [
    {
     "output_type": "stream",
     "name": "stdout",
     "text": "{'smape': 80.53399847638956, 'mape': 717.054116369367, 'mae': 41526546.3, 'rmse': 100136195.9, 'adj_r2': 0.48482544878353123}\n"
    }
   ],
   "source": [
    "print(lof_results[1])"
   ]
  },
  {
   "cell_type": "code",
   "execution_count": null,
   "metadata": {},
   "outputs": [],
   "source": [
    "df_raw = pd.read_csv('outliers/df_raw.csv')\n",
    "\n",
    "with open(f'outliers/df_full_no_reskew_data.pickle', 'rb') as handle:\n",
    "    data = pickle.load(handle)\n",
    "with open(f'outliers/df_full_no_reskew_process.pickle', 'rb') as handle:\n",
    "    process = pickle.load(handle)\n",
    "\n",
    "X = pd.concat([data['X_train'], data['X_test'], data['X_val']])\n",
    "y = np.concatenate([data['y_train'], data['y_test'], data['y_val']])\n",
    "Xy = X.copy()\n",
    "Xy['revenue'] = y\n",
    "\n",
    "lof = LocalOutlierFactor(n_jobs=-1)\n",
    "yhat = lof.fit_predict(Xy)\n",
    "mask_to_keep = yhat == 1\n",
    "print('outliers: ', sum(yhat == -1))\n",
    "lof_results_no_reskew = drop_rows_and_output_result(df_raw, mask_to_keep, f'outliers/lof_no_reskew')"
   ]
  },
  {
   "cell_type": "code",
   "execution_count": 22,
   "metadata": {
    "tags": []
   },
   "outputs": [
    {
     "output_type": "stream",
     "name": "stdout",
     "text": "{'smape': 80.81342601447645, 'mape': 790.9061310569335, 'mae': 42286085.8, 'rmse': 102400490.5, 'adj_r2': 0.4043295902645877}\n"
    }
   ],
   "source": [
    "print(lof_results_no_reskew[1])"
   ]
  },
  {
   "cell_type": "code",
   "execution_count": null,
   "metadata": {},
   "outputs": [],
   "source": []
  },
  {
   "cell_type": "code",
   "execution_count": 9,
   "metadata": {},
   "outputs": [],
   "source": [
    "df_full = shuffle(pd.read_csv('outliers/df.csv'), random_state=0)\n",
    "df_raw = pd.read_csv('outliers/df_raw.csv')"
   ]
  },
  {
   "cell_type": "code",
   "execution_count": 65,
   "metadata": {
    "tags": []
   },
   "outputs": [
    {
     "output_type": "stream",
     "name": "stdout",
     "text": "del revenue 338\ndel year 236\ndel budget 228\ndel profitability 150\nproduction_company_1_avg_profit -25582026.47 531870114.62999946\nproduction_company_1_avg_profit 50\nproduction_company_2_avg_profit -29505344.73 479501103.95000017\nproduction_company_2_avg_profit 38\nproduction_company_3_avg_profit -37763245.285 576594041.6550019\nproduction_company_3_avg_profit 24\ncast_1_avg_profit -17955340.985 466358733.3400005\ncast_1_avg_profit 58\ncast_2_avg_profit -22613313.2 515134067.1599946\ncast_2_avg_profit 54\ncast_3_avg_profit -23760753.299999997 566813288.9000019\ncast_3_avg_profit 50\ncast_4_avg_profit -28205837.58 480897833.9200022\ncast_4_avg_profit 46\ncast_5_avg_profit -35858384.120000005 426095410.3599998\ncast_5_avg_profit 42\ncast_6_avg_profit -29000000.0 469479050.3800031\ncast_6_avg_profit 37\ncast_7_avg_profit -35252431.44 386006740.0\ncast_7_avg_profit 33\ncast_8_avg_profit -34318244.58 476673308.00499964\ncast_8_avg_profit 30\ncrew__sound__music_editor_avg_profit -33883639.78 551002710.1599996\ncrew__sound__music_editor_avg_profit 14\ncrew__sound__original_music_composer_avg_profit -19969638.88 334765196.27999914\ncrew__sound__original_music_composer_avg_profit 36\ncrew__sound__sound_designer_avg_profit -40935548.805 857641045.4550004\ncrew__sound__sound_designer_avg_profit 10\ncrew__sound__sound_effects_editor_avg_profit -46794191.760000005 704646496.0449998\ncrew__sound__sound_effects_editor_avg_profit 10\ncrew__sound__sound_re_recording_mixer_avg_profit -24844904.375 603961320.125\ncrew__sound__sound_re_recording_mixer_avg_profit 16\ncrew__sound__supervising_sound_editor_avg_profit -44240714.98 761296821.2600017\ncrew__sound__supervising_sound_editor_avg_profit 14\ncrew__directing__director_avg_profit -20035617.330000002 593117771.42\ncrew__directing__director_avg_profit 42\ncrew__directing__script_supervisor_avg_profit -32163433.11 511769253.97500014\ncrew__directing__script_supervisor_avg_profit 18\ncrew__production__casting_avg_profit -20650360.84 408303214.95999956\ncrew__production__casting_avg_profit 34\ncrew__production__executive_producer_avg_profit -36713641.120000005 729004930.5999956\ncrew__production__executive_producer_avg_profit 20\ncrew__production__producer_1_avg_profit -34425157.17 640614693.3100002\ncrew__production__producer_1_avg_profit 40\ncrew__production__producer_2_avg_profit -42603925.12 684631026.4399923\ncrew__production__producer_2_avg_profit 12\ncrew__editing__editor_avg_profit -28310065.78 589107498.5599995\ncrew__editing__editor_avg_profit 44\ncrew__costume__costume_designer_avg_profit -21687658.85 453298729.2499995\ncrew__costume__costume_designer_avg_profit 32\ncrew__costume__costume_supervisor_avg_profit -39782335.58 707113894.7399994\ncrew__costume__costume_supervisor_avg_profit 8\ncrew__costume__makeup_artist_avg_profit -34581649.25 706732637.0500007\ncrew__costume__makeup_artist_avg_profit 12\ncrew__crew__stunt_coordinator_avg_profit -39566315.645 566756595.1999996\ncrew__crew__stunt_coordinator_avg_profit 12\ncrew__writing__screenplay_avg_profit -35782209.0 619461949.5999982\ncrew__writing__screenplay_avg_profit 22\ncrew__art__art_direction_avg_profit -40915406.325 764565646.0250006\ncrew__art__art_direction_avg_profit 20\ncrew__art__production_design_avg_profit -23429926.799999997 583393290.4000095\ncrew__art__production_design_avg_profit 34\ncrew__art__property_master_avg_profit -31096192.125000004 644536701.9149984\ncrew__art__property_master_avg_profit 10\ncrew__art__set_decoration_avg_profit -32667293.310000002 466295074.83000076\ncrew__art__set_decoration_avg_profit 24\ncrew__visualeffects__visual_effects_supervisor_avg_profit -46920743.474999994 855215809.2499998\ncrew__visualeffects__visual_effects_supervisor_avg_profit 10\ncrew__camera__director_of_photography_avg_profit -26541192.95 420850360.5000098\ncrew__camera__director_of_photography_avg_profit 44\ncrew__camera__steadicam_operator_avg_profit -38666122.86 440828873.85000044\ncrew__camera__steadicam_operator_avg_profit 8\ncrew__camera__still_photographer_avg_profit -20415930.09 484150048.1500017\ncrew__camera__still_photographer_avg_profit 16\ncollection_avg_profit -11132307.0 1015177869.7999959\ncollection_avg_profit 8\ncast_avg_avg_profit -9269641.333333332 273839974.9375\ncast_avg_avg_profit 70\nyear_avg_profit 2447196.0 112134055.0\nyear_avg_profit 36\ncommon del 1495\n5998\n"
    }
   ],
   "source": [
    "del_revenue = df_full.META__revenue < 100000\n",
    "print('del revenue', sum(del_revenue))\n",
    "del_year = df_raw.META__year < 1960\n",
    "print('del year', sum(del_year))\n",
    "del_budget = df_full.budget < 100000\n",
    "print('del budget', sum(del_budget))\n",
    "profitability_quantiles = df_raw.META__profitability.quantile([0.01, 0.99])\n",
    "del_profitability = (df_raw.META__profitability < profitability_quantiles.iloc[0]) | (df_raw.META__profitability > profitability_quantiles.iloc[1])\n",
    "print('del profitability', sum(del_profitability))\n",
    "\n",
    "\n",
    "common_del = del_revenue | del_year | del_budget | del_profitability\n",
    "\n",
    "for c in df_full.columns:\n",
    "    if 'profit' in c:\n",
    "        quantiles = df_full[c].quantile([0.005, 0.995])\n",
    "        print(c, quantiles.iloc[0], quantiles.iloc[1])\n",
    "        del_pr = (df_full[c] < quantiles.iloc[0]) | (df_full[c] > quantiles.iloc[1])\n",
    "        print(c, sum(del_pr))\n",
    "        common_del = common_del | del_pr\n",
    "print('common del', sum(common_del))\n",
    "mask_to_keep = ~common_del\n",
    "print(sum(mask_to_keep))"
   ]
  },
  {
   "cell_type": "code",
   "execution_count": null,
   "metadata": {},
   "outputs": [],
   "source": [
    "wo_mb_cols = [c for c in df_full.columns if not ('crew' in c and 'movies_before' in c)]\n",
    "df_mb = df_full[wo_mb_cols]\n",
    "mask_to_keep = ~common_del\n",
    "res_drops = drop_rows_and_output_result(df_raw, mask_to_keep, f'outliers/try')"
   ]
  },
  {
   "cell_type": "code",
   "execution_count": 67,
   "metadata": {},
   "outputs": [
    {
     "output_type": "execute_result",
     "data": {
      "text/plain": "{'smape': 76.29234777780124,\n 'mape': 241.38499922717833,\n 'mae': 39967714.0,\n 'rmse': 93752979.6,\n 'adj_r2': 0.2977592547017185}"
     },
     "metadata": {},
     "execution_count": 67
    }
   ],
   "source": [
    "res_drops[1]"
   ]
  },
  {
   "cell_type": "code",
   "execution_count": null,
   "metadata": {},
   "outputs": [],
   "source": []
  },
  {
   "cell_type": "code",
   "execution_count": null,
   "metadata": {},
   "outputs": [],
   "source": []
  },
  {
   "cell_type": "code",
   "execution_count": 14,
   "metadata": {
    "tags": []
   },
   "outputs": [],
   "source": [
    "\n",
    "\n",
    "\n",
    "\n",
    "full_raw = shuffle(pd.read_csv(f'datasets/dataset_all.csv'), random_state=0)\n",
    "\n",
    "feature_sets = load('feature_sets.joblib')\n",
    "\n",
    "with open('processed/dataset_all_data.pickle', 'rb') as handle:\n",
    "    data = pickle.load(handle)\n",
    "    \n",
    "with open('processed/dataset_all_process.pickle', 'rb') as handle:\n",
    "    process = pickle.load(handle)\n",
    "\n",
    "X = pd.concat([data['X_train'], data['X_test'], data['X_val']])\n",
    "y = np.concatenate([data['y_train'], data['y_test'], data['y_val']])\n",
    "X = X[feature_sets[2]]\n",
    "\n",
    "with open('processed/dataset_all_no_process_data.pickle', 'rb') as handle:\n",
    "    raw_data = pickle.load(handle)\n",
    "X_raw = pd.concat([raw_data['X_train'], raw_data['X_test'], raw_data['X_val']])\n",
    "y_raw = pd.concat([raw_data['y_train'], raw_data['y_test'], raw_data['y_val']])\n",
    "X_raw = X_raw[feature_sets[2]]"
   ]
  },
  {
   "cell_type": "code",
   "execution_count": 29,
   "metadata": {
    "tags": []
   },
   "outputs": [],
   "source": []
  },
  {
   "cell_type": "code",
   "execution_count": null,
   "metadata": {},
   "outputs": [],
   "source": []
  },
  {
   "cell_type": "code",
   "execution_count": 109,
   "metadata": {
    "tags": []
   },
   "outputs": [
    {
     "output_type": "stream",
     "name": "stdout",
     "text": "81.0005169305043\n778.262245592468\n41670831.5\n99801069.1\n0.4860886432172409\n"
    }
   ],
   "source": []
  },
  {
   "cell_type": "code",
   "execution_count": null,
   "metadata": {},
   "outputs": [],
   "source": [
    "cv10_nn_wo_model = [(cv_results[i][0][0], cv_results[i][1]['X_test']) for i in range(10)]\n",
    "dump(cv10_nn_wo_model, 'cv10_nn.joblib')"
   ]
  },
  {
   "cell_type": "code",
   "execution_count": 5,
   "metadata": {},
   "outputs": [],
   "source": [
    "cv_nn = load('cv10_nn.joblib')\n",
    "\n",
    "all_movies = pd.DataFrame(columns=full_raw.columns)\n",
    "X_train_ = pd.DataFrame(columns=cv_nn[0][1].columns)\n",
    "all_test_a = []\n",
    "all_test_p = []\n",
    "for i in range(10):\n",
    "    batch_df = full_raw.loc[cv_nn[i][1].index, :]\n",
    "    all_movies = pd.concat([all_movies, batch_df])\n",
    "    X_train_ = pd.concat([X_train_, cv_nn[i][1]])\n",
    "    all_test_a.extend(cv_nn[i][0]['result'][2])\n",
    "    all_test_p.extend(cv_nn[i][0]['result'][3])"
   ]
  },
  {
   "cell_type": "code",
   "execution_count": 6,
   "metadata": {
    "tags": []
   },
   "outputs": [],
   "source": [
    "A = np.array(all_test_a)\n",
    "P = np.array(all_test_p)\n",
    "\n",
    "mape_list = 100*np.abs((A - P)/A)\n",
    "mae_list = np.absolute(A - P)\n",
    "\n",
    "movies = []\n",
    "for i in range(len(A)):\n",
    "    movies.append({\n",
    "        'movie': all_movies.iloc[[i], :].to_dict(orient='index'),\n",
    "        'predicted': P[i],\n",
    "        'actual': A[i],\n",
    "        'mape': mape_list[i],\n",
    "        'mae': mae_list[i],\n",
    "    })"
   ]
  },
  {
   "cell_type": "code",
   "execution_count": 7,
   "metadata": {},
   "outputs": [
    {
     "output_type": "execute_result",
     "data": {
      "text/plain": "['sorted_mae_nn.joblib']"
     },
     "metadata": {},
     "execution_count": 7
    }
   ],
   "source": [
    "sorted_mape = sorted(movies, key=lambda m: m['mape'], reverse=True)\n",
    "sorted_mae = sorted(movies, key=lambda m: m['mae'], reverse=True)\n",
    "\n",
    "dump(sorted_mape, 'sorted_mape_nn.joblib')\n",
    "dump(sorted_mae, 'sorted_mae_nn.joblib')"
   ]
  },
  {
   "cell_type": "code",
   "execution_count": 51,
   "metadata": {},
   "outputs": [],
   "source": [
    "sorted_mape = load('sorted_mape_nn.joblib')\n",
    "sorted_mae = load('sorted_mae_nn.joblib')\n",
    "\n",
    "bad_mape_index = [list(sorted_mape[i]['movie'].keys())[0] for i in range(100)]\n",
    "bad_mae_index = [list(sorted_mae[i]['movie'].keys())[0] for i in range(100)]"
   ]
  },
  {
   "cell_type": "code",
   "execution_count": 52,
   "metadata": {
    "tags": []
   },
   "outputs": [
    {
     "output_type": "stream",
     "name": "stdout",
     "text": "=================\nindex\t3837\ntitle\tThe Room\nrevenue\t1800\nbudget\t6000000\npredicted\t6518502.0\nactual\t1800.0\nmape\t362039.0\nmae\t6516702.0\n=================\nindex\t5642\ntitle\tPhiladelphia Experiment II\nrevenue\t2970\nbudget\t5000000\npredicted\t5489262.0\nactual\t2970.0\nmape\t184723.63636363635\nmae\t5486292.0\n=================\nindex\t6021\ntitle\tThe Sacrament\nrevenue\t9221\nbudget\t4000000\npredicted\t16563665.0\nactual\t9221.0\nmape\t179529.8123847739\nmae\t16554444.0\n=================\nindex\t3554\ntitle\tThe Perfect Circle\nrevenue\t1000\nbudget\t1000\npredicted\t1683464.0\nactual\t1000.0\nmape\t168246.4\nmae\t1682464.0\n=================\nindex\t3285\ntitle\tFishtales\nrevenue\t9216\nbudget\t14000000\npredicted\t12208473.0\nactual\t9216.0\nmape\t132370.41015625\nmae\t12199257.0\n=================\nindex\t3725\ntitle\tFoodfight!\nrevenue\t73706\nbudget\t65000000\npredicted\t80301592.0\nactual\t73706.0\nmape\t108848.51436789407\nmae\t80227886.0\n=================\nindex\t5327\ntitle\tArea 51\nrevenue\t7556\nbudget\t5000000\npredicted\t7515991.0\nactual\t7556.0\nmape\t99370.50026469032\nmae\t7508435.0\n=================\nindex\t505\ntitle\tCity Lights\nrevenue\t19181\nbudget\t1500000\npredicted\t17663120.0\nactual\t19181.0\nmape\t91986.5439758094\nmae\t17643939.0\n=================\nindex\t4251\ntitle\tJanky Promoters\nrevenue\t9069\nbudget\t10000000\npredicted\t7948928.0\nactual\t9069.0\nmape\t87549.4431580108\nmae\t7939859.0\n=================\nindex\t4874\ntitle\tBarefoot\nrevenue\t15071\nbudget\t6000000\npredicted\t12448847.0\nactual\t15071.0\nmape\t82501.33368721386\nmae\t12433776.0\n"
    }
   ],
   "source": [
    "for i in range(10):\n",
    "    print('=================')\n",
    "    movie = sorted_mape[i]\n",
    "    movie_index = list(movie['movie'].keys())[0]\n",
    "    movie_dict = movie['movie'][movie_index]\n",
    "    print(f\"index\\t{movie_index}\")\n",
    "    print(f\"title\\t{movie_dict['META__title']}\")\n",
    "    print(f\"revenue\\t{movie_dict['META__revenue']}\")\n",
    "    print(f\"budget\\t{movie_dict['budget']}\")\n",
    "    print(f\"predicted\\t{movie['predicted']}\")\n",
    "    print(f\"actual\\t{movie['actual']}\")\n",
    "    print(f\"mape\\t{movie['mape']}\")\n",
    "    print(f\"mae\\t{movie['mae']}\")"
   ]
  },
  {
   "cell_type": "code",
   "execution_count": 53,
   "metadata": {
    "tags": []
   },
   "outputs": [
    {
     "output_type": "stream",
     "name": "stdout",
     "text": "=================\nindex\t3989\ntitle\tAvatar\nrevenue\t2787965087\nbudget\t237000000\npredicted\t743898432.0\nactual\t2787965087.0\nmape\t73.31751263784746\nmae\t2044066655.0\n=================\nindex\t6890\ntitle\tAvengers: Endgame\nrevenue\t2797800564\nbudget\t356000000\npredicted\t1093104000.0\nactual\t2797800564.0\nmape\t60.92988134804022\nmae\t1704696564.0\n=================\nindex\t320\ntitle\tTitanic\nrevenue\t1845034188\nbudget\t200000000\npredicted\t439773376.0\nactual\t1845034188.0\nmape\t76.16448633525266\nmae\t1405260812.0\n=================\nindex\t4616\ntitle\tStar Wars: The Force Awakens\nrevenue\t2068223624\nbudget\t245000000\npredicted\t663310976.0\nactual\t2068223624.0\nmape\t67.92846922823854\nmae\t1404912648.0\n=================\nindex\t4583\ntitle\tJurassic World\nrevenue\t1671713208\nbudget\t150000000\npredicted\t428131456.0\nactual\t1671713208.0\nmape\t74.38965882717366\nmae\t1243581752.0\n=================\nindex\t6891\ntitle\tAvengers: Infinity War\nrevenue\t2046239637\nbudget\t300000000\npredicted\t895192064.0\nactual\t2046239637.0\nmape\t56.25184617611823\nmae\t1151047573.0\n=================\nindex\t7320\ntitle\tFurious 7\nrevenue\t1506249360\nbudget\t190000000\npredicted\t430888032.0\nactual\t1506249360.0\nmape\t71.39331352147428\nmae\t1075361328.0\n=================\nindex\t4665\ntitle\tThe Lion King\nrevenue\t1656943394\nbudget\t260000000\npredicted\t648811584.0\nactual\t1656943394.0\nmape\t60.84286365186474\nmae\t1008131810.0\n=================\nindex\t6621\ntitle\tJoker\nrevenue\t1071173263\nbudget\t55000000\npredicted\t87933152.0\nactual\t1071173263.0\nmape\t91.79094969624909\nmae\t983240111.0\n=================\nindex\t5191\ntitle\tFrozen II\nrevenue\t1330764959\nbudget\t33000000\npredicted\t358418240.0\nactual\t1330764959.0\nmape\t73.0667510009181\nmae\t972346719.0\n"
    }
   ],
   "source": [
    "for i in range(10):\n",
    "    print('=================')\n",
    "    movie = sorted_mae[i]\n",
    "    movie_index = list(movie['movie'].keys())[0]\n",
    "    movie_dict = movie['movie'][movie_index]\n",
    "    print(f\"index\\t{movie_index}\")\n",
    "    print(f\"title\\t{movie_dict['META__title']}\")\n",
    "    print(f\"revenue\\t{movie_dict['META__revenue']}\")\n",
    "    print(f\"budget\\t{movie_dict['budget']}\")\n",
    "    print(f\"predicted\\t{movie['predicted']}\")\n",
    "    print(f\"actual\\t{movie['actual']}\")\n",
    "    print(f\"mape\\t{movie['mape']}\")\n",
    "    print(f\"mae\\t{movie['mae']}\")"
   ]
  },
  {
   "cell_type": "code",
   "execution_count": 54,
   "metadata": {},
   "outputs": [],
   "source": [
    "def split_process_outliers_df(df_raw, features, train=0.8, test=0.1):\n",
    "    def get_train_test_revenue(df):\n",
    "        df['revenue'] = df['META__revenue']\n",
    "        X = df.drop(['revenue'], axis=1)\n",
    "        y = df['revenue']\n",
    "        X = X[[col for col in X.columns if col in features]]\n",
    "        return X, y\n",
    "\n",
    "    df = shuffle(df_raw, random_state=0)\n",
    "    num_in_train = int(df.shape[0]*0.8)\n",
    "    num_in_test = int(df.shape[0]*0.1)\n",
    "    df_train = df[:num_in_train].copy()\n",
    "    df_test = df[num_in_train:num_in_train+num_in_test].copy()\n",
    "    df_val = df[num_in_train+num_in_test:].copy()\n",
    "    X_train, y_train = get_train_test_revenue(df_train)\n",
    "    X_test, y_test = get_train_test_revenue(df_test)\n",
    "    X_val, y_val = get_train_test_revenue(df_val)\n",
    "    \n",
    "    data = {}\n",
    "    imputer_func = KNNImputer(n_neighbors=30, weights='distance')\n",
    "    process = Process(X_train, X_test, X_val, y_train, y_test, y_val, imputer='func', imputer_func=imputer_func).skew_X().skew_y().fill_nan()\n",
    "    data['X_train'], data['X_test'], data['X_val'], data['y_train'], data['y_test'], data['y_val'] = process.return_processed()\n",
    "    return data, process"
   ]
  },
  {
   "cell_type": "code",
   "execution_count": null,
   "metadata": {},
   "outputs": [],
   "source": [
    "cv_outliers = {}\n",
    "for num_outliers in [50, 100, 250, 500, 1000]:\n",
    "    print(\"#######################################################\")\n",
    "    print(num_outliers, \"outliers\")\n",
    "    print(\"#######################################################\")\n",
    "    cv_outliers[num_outliers] = []\n",
    "    bad_mape_index = [list(sorted_mape[i]['movie'].keys())[0] for i in range(num_outliers)]\n",
    "\n",
    "    df_raw = pd.read_csv('datasets/dataset_all.csv')\n",
    "    drop_positions = [i for i in range(df_raw.shape[0]) if df_raw.index.values[i] in bad_mape_index]\n",
    "    df_drop = df_raw.drop(bad_mape_index)\n",
    "    data_outliers, process_outliers = split_process_outliers_df(df_drop, features=feature_sets[2])\n",
    "\n",
    "    X_outliers = pd.concat([data_outliers['X_train'], data_outliers['X_test'], data_outliers['X_val']])\n",
    "    y_outliers = np.concatenate([data_outliers['y_train'], data_outliers['y_test'], data_outliers['y_val']])\n",
    "\n",
    "    split_num=0\n",
    "    kf = KFold(n_splits=10)\n",
    "    for train_index, test_index in kf.split(X_outliers, y_outliers):\n",
    "        split_num+=1\n",
    "        print('###################################')\n",
    "        print(f'{split_num}:\\tsplit num')\n",
    "        X_train, X_test = X_outliers.iloc[train_index, :], X_outliers.iloc[test_index, :]\n",
    "        y_train, y_test = y_outliers[train_index], y_outliers[test_index]\n",
    "        data_part = {'X_train': X_train, 'X_test': X_test, 'y_train': y_train, 'y_test': y_test}\n",
    "        cv_outliers[num_outliers].append((run_nn(data_part, process, with_val=False), data_part))"
   ]
  },
  {
   "cell_type": "code",
   "execution_count": 60,
   "metadata": {
    "tags": []
   },
   "outputs": [
    {
     "output_type": "stream",
     "name": "stdout",
     "text": "########################\n50 outliers\nsmape\t81.5270622418259\nmape\t526.8497158142545\nmae\t42033665.0\nrmse\t100605524.5\nadj_r2\t0.4993588031199866\n########################\n100 outliers\nsmape\t81.79352823775858\nmape\t513.5482155442227\nmae\t42518482.7\nrmse\t102112952.7\nadj_r2\t0.5055141487241462\n########################\n250 outliers\nsmape\t81.42302418363708\nmape\t390.7568752387924\nmae\t42501235.8\nrmse\t101487479.7\nadj_r2\t0.49547231879442377\n########################\n500 outliers\nsmape\t81.03919788984942\nmape\t397.0456291781021\nmae\t42135243.6\nrmse\t103343059.1\nadj_r2\t0.47790268168860817\n########################\n1000 outliers\nsmape\t78.937314080687\nmape\t740.9970386980442\nmae\t42340276.1\nrmse\t103470473.9\nadj_r2\t0.49577382043303675\n"
    }
   ],
   "source": [
    "for num_outliers in cv_outliers:\n",
    "    print('########################')\n",
    "    print(f'{num_outliers} outliers')\n",
    "    for metric in ['smape', 'mape', 'mae', 'rmse', 'adj_r2']:\n",
    "            print(f\"{metric}\\t{np.mean([cv_outliers[num_outliers][i][0][0]['test'][metric] for i in range(10)])}\")"
   ]
  },
  {
   "cell_type": "code",
   "execution_count": 61,
   "metadata": {
    "tags": []
   },
   "outputs": [
    {
     "output_type": "stream",
     "name": "stdout",
     "text": "#######################################################\n50 outliers\n#######################################################\n###################################\n1:\tsplit num\n"
    },
    {
     "output_type": "error",
     "ename": "KeyError",
     "evalue": "50",
     "traceback": [
      "\u001b[0;31m---------------------------------------------------------------------------\u001b[0m",
      "\u001b[0;31mKeyError\u001b[0m                                  Traceback (most recent call last)",
      "\u001b[0;32m<ipython-input-61-0fae52f83b72>\u001b[0m in \u001b[0;36m<module>\u001b[0;34m\u001b[0m\n\u001b[1;32m     24\u001b[0m         \u001b[0my_train\u001b[0m\u001b[0;34m,\u001b[0m \u001b[0my_test\u001b[0m \u001b[0;34m=\u001b[0m \u001b[0my_outliers\u001b[0m\u001b[0;34m[\u001b[0m\u001b[0mtrain_index\u001b[0m\u001b[0;34m]\u001b[0m\u001b[0;34m,\u001b[0m \u001b[0my_outliers\u001b[0m\u001b[0;34m[\u001b[0m\u001b[0mtest_index\u001b[0m\u001b[0;34m]\u001b[0m\u001b[0;34m\u001b[0m\u001b[0;34m\u001b[0m\u001b[0m\n\u001b[1;32m     25\u001b[0m         \u001b[0mdata_part\u001b[0m \u001b[0;34m=\u001b[0m \u001b[0;34m{\u001b[0m\u001b[0;34m'X_train'\u001b[0m\u001b[0;34m:\u001b[0m \u001b[0mX_train\u001b[0m\u001b[0;34m,\u001b[0m \u001b[0;34m'X_test'\u001b[0m\u001b[0;34m:\u001b[0m \u001b[0mX_test\u001b[0m\u001b[0;34m,\u001b[0m \u001b[0;34m'y_train'\u001b[0m\u001b[0;34m:\u001b[0m \u001b[0my_train\u001b[0m\u001b[0;34m,\u001b[0m \u001b[0;34m'y_test'\u001b[0m\u001b[0;34m:\u001b[0m \u001b[0my_test\u001b[0m\u001b[0;34m}\u001b[0m\u001b[0;34m\u001b[0m\u001b[0;34m\u001b[0m\u001b[0m\n\u001b[0;32m---> 26\u001b[0;31m         \u001b[0mcv_outliers_lgb\u001b[0m\u001b[0;34m[\u001b[0m\u001b[0mnum_outliers\u001b[0m\u001b[0;34m]\u001b[0m\u001b[0;34m.\u001b[0m\u001b[0mappend\u001b[0m\u001b[0;34m(\u001b[0m\u001b[0;34m(\u001b[0m\u001b[0mrun_lgb\u001b[0m\u001b[0;34m(\u001b[0m\u001b[0mdata_part\u001b[0m\u001b[0;34m,\u001b[0m \u001b[0mprocess\u001b[0m\u001b[0;34m,\u001b[0m \u001b[0mwith_val\u001b[0m\u001b[0;34m=\u001b[0m\u001b[0;32mFalse\u001b[0m\u001b[0;34m)\u001b[0m\u001b[0;34m,\u001b[0m \u001b[0mdata_part\u001b[0m\u001b[0;34m)\u001b[0m\u001b[0;34m)\u001b[0m\u001b[0;34m\u001b[0m\u001b[0;34m\u001b[0m\u001b[0m\n\u001b[0m",
      "\u001b[0;31mKeyError\u001b[0m: 50"
     ]
    }
   ],
   "source": [
    "cv_outliers_lgb = {}\n",
    "for num_outliers in [50, 100, 250, 500, 1000]:\n",
    "    print(\"#######################################################\")\n",
    "    print(num_outliers, \"outliers\")\n",
    "    print(\"#######################################################\")\n",
    "    cv_outliers_lgb[num_outliers] = []\n",
    "    bad_mape_index = [list(sorted_mape[i]['movie'].keys())[0] for i in range(num_outliers)]\n",
    "\n",
    "    df_raw = pd.read_csv('datasets/dataset_all.csv')\n",
    "    drop_positions = [i for i in range(df_raw.shape[0]) if df_raw.index.values[i] in bad_mape_index]\n",
    "    df_drop = df_raw.drop(bad_mape_index)\n",
    "    data_outliers, process_outliers = split_process_outliers_df(df_drop, features=feature_sets[2])\n",
    "\n",
    "    X_outliers = pd.concat([data_outliers['X_train'], data_outliers['X_test'], data_outliers['X_val']])\n",
    "    y_outliers = np.concatenate([data_outliers['y_train'], data_outliers['y_test'], data_outliers['y_val']])\n",
    "\n",
    "    split_num=0\n",
    "    kf = KFold(n_splits=10)\n",
    "    for train_index, test_index in kf.split(X_outliers, y_outliers):\n",
    "        split_num+=1\n",
    "        print('###################################')\n",
    "        print(f'{split_num}:\\tsplit num')\n",
    "        X_train, X_test = X_outliers.iloc[train_index, :], X_outliers.iloc[test_index, :]\n",
    "        y_train, y_test = y_outliers[train_index], y_outliers[test_index]\n",
    "        data_part = {'X_train': X_train, 'X_test': X_test, 'y_train': y_train, 'y_test': y_test}\n",
    "        cv_outliers_lgb[num_outliers].append((run_lgb(data_part, process, with_val=False), data_part))"
   ]
  },
  {
   "cell_type": "code",
   "execution_count": null,
   "metadata": {},
   "outputs": [],
   "source": []
  },
  {
   "cell_type": "code",
   "execution_count": null,
   "metadata": {},
   "outputs": [],
   "source": []
  },
  {
   "cell_type": "code",
   "execution_count": null,
   "metadata": {},
   "outputs": [],
   "source": []
  },
  {
   "cell_type": "code",
   "execution_count": null,
   "metadata": {},
   "outputs": [],
   "source": [
    "cv10_lgb_results = []\n",
    "\n",
    "split_num=0\n",
    "kf = KFold(n_splits=10)\n",
    "for train_index, test_index in kf.split(X, y):\n",
    "    split_num+=1\n",
    "    print('###################################')\n",
    "    print(f'{split_num}:\\tsplit num')\n",
    "    X_train, X_test = X.iloc[train_index, :], X.iloc[test_index, :]\n",
    "    y_train, y_test = y[train_index], y[test_index]\n",
    "    data_part = {'X_train': X_train, 'X_test': X_test, 'y_train': y_train, 'y_test': y_test}\n",
    "    cv10_lgb_results.append((run_nn(data_part, process, with_val=False), data_part))"
   ]
  },
  {
   "cell_type": "code",
   "execution_count": 68,
   "metadata": {
    "tags": []
   },
   "outputs": [
    {
     "output_type": "stream",
     "name": "stdout",
     "text": "80.8674970783687\n840.3828405942328\n41836584.7\n100194973.8\n0.4840395163327765\n"
    }
   ],
   "source": [
    "for metric in ['smape', 'mape', 'mae', 'rmse', 'adj_r2']:\n",
    "    print(np.mean([cv10_lgb_results[i][0]['test'][metric] for i in range(10)]))"
   ]
  },
  {
   "cell_type": "code",
   "execution_count": 69,
   "metadata": {},
   "outputs": [
    {
     "output_type": "execute_result",
     "data": {
      "text/plain": "['cv10_lgb.joblib']"
     },
     "metadata": {},
     "execution_count": 69
    }
   ],
   "source": [
    "cv10_lgb_wo_model = [cv10_lgb_results[i][0] for i in range(10)]\n",
    "dump(cv10_lgb_wo_model, 'cv10_lgb.joblib')"
   ]
  }
 ]
}