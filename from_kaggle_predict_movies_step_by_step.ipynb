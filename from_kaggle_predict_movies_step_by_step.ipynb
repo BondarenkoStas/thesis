{
 "cells": [
  {
   "cell_type": "code",
   "execution_count": null,
   "metadata": {},
   "outputs": [],
   "source": [
    "import time\n",
    "\n",
    "import numpy as np\n",
    "import pandas as pd\n",
    "pd.set_option('display.float_format', lambda x: '%.10Ef' % x)\n",
    "import matplotlib.pyplot as plt\n",
    "import seaborn as sns\n",
    "from statistics import mean\n",
    "\n",
    "from sklearn import metrics\n",
    "from sklearn.utils import shuffle\n",
    "from sklearn.impute import SimpleImputer\n",
    "from sklearn.neural_network import MLPRegressor\n",
    "from sklearn.preprocessing import MinMaxScaler\n",
    "from sklearn.preprocessing import PowerTransformer\n",
    "from sklearn.experimental import enable_iterative_imputer\n",
    "from sklearn.impute import IterativeImputer\n",
    "from sklearn.impute import KNNImputer\n",
    "from sklearn.impute import SimpleImputer\n",
    "from sklearn.feature_selection import RFECV\n",
    "from sklearn.ensemble import RandomForestRegressor\n",
    "\n",
    "from impyute.imputation import cs\n",
    "pd.options.display.float_format = '{:20,.15f}'.format"
   ]
  },
  {
   "cell_type": "code",
   "execution_count": null,
   "metadata": {},
   "outputs": [],
   "source": [
    "df = pd.read_csv('savedcsv/16 df_gender.csv')"
   ]
  },
  {
   "cell_type": "code",
   "execution_count": null,
   "metadata": {},
   "outputs": [],
   "source": [
    "fulldf = pd.read_csv('data/tmdb/fulltmdb.csv')"
   ]
  },
  {
   "cell_type": "code",
   "execution_count": null,
   "metadata": {},
   "outputs": [],
   "source": [
    "df_homepage = fulldf[['id', 'homepage']]\n",
    "df_homepage['META__id'] = df_homepage['id']\n",
    "df_homepage.drop(['id'], axis=1, inplace=True)"
   ]
  },
  {
   "cell_type": "code",
   "execution_count": null,
   "metadata": {},
   "outputs": [],
   "source": [
    "merged = df.merge(df_homepage, how='inner', on=['META__id'])"
   ]
  },
  {
   "cell_type": "code",
   "execution_count": null,
   "metadata": {},
   "outputs": [],
   "source": [
    "merged['homepage_exists'] = ~merged['homepage'].isnull()\n",
    "merged['homepage_exists'] = merged['homepage_exists'].astype(int)"
   ]
  },
  {
   "cell_type": "code",
   "execution_count": null,
   "metadata": {},
   "outputs": [],
   "source": [
    "homepages = list(merged['homepage'])\n",
    "homepage_numbers = {i:homepages.count(i) for i in homepages if homepages.count(i) > 1 and not pd.isna(i)}"
   ]
  },
  {
   "cell_type": "code",
   "execution_count": null,
   "metadata": {},
   "outputs": [],
   "source": [
    "homepage_repeats = []\n",
    "for i, row in merged.iterrows():\n",
    "    h = row['homepage']\n",
    "    number = homepage_numbers[h] if not pd.isna(h) and h in homepage_numbers else 0\n",
    "    homepage_repeats.append(number)"
   ]
  },
  {
   "cell_type": "code",
   "execution_count": null,
   "metadata": {},
   "outputs": [],
   "source": [
    "merged['homepage_repeats'] = homepage_repeats"
   ]
  },
  {
   "cell_type": "code",
   "execution_count": null,
   "metadata": {},
   "outputs": [],
   "source": [
    "merged.drop(['homepage'], axis=1, inplace=True)"
   ]
  },
  {
   "cell_type": "code",
   "execution_count": null,
   "metadata": {},
   "outputs": [],
   "source": [
    "merged.to_csv('savedcsv/17_homepage.csv', mode='w+', index=False)"
   ]
  },
  {
   "cell_type": "code",
   "execution_count": 165,
   "metadata": {},
   "outputs": [],
   "source": [
    "def get_train_test_revenue(df):\n",
    "    df['revenue'] = df['META__revenue']\n",
    "    dff = df[[col for col in df.columns if not 'META' in col and not 'PROCESS' in col and not 'profitability' in col]]\n",
    "#     dff = df[[col for col in df.columns if not 'META' in col and not 'PROCESS' in col and not 'profitability' in col]]\n",
    "    X = dff.drop(['revenue'], axis=1)\n",
    "    y = dff['revenue']\n",
    "    return X, y"
   ]
  },
  {
   "cell_type": "code",
   "execution_count": 220,
   "metadata": {},
   "outputs": [
    {
     "name": "stderr",
     "output_type": "stream",
     "text": [
      "/home/stas/anaconda3/lib/python3.7/site-packages/ipykernel_launcher.py:2: SettingWithCopyWarning: \n",
      "A value is trying to be set on a copy of a slice from a DataFrame.\n",
      "Try using .loc[row_indexer,col_indexer] = value instead\n",
      "\n",
      "See the caveats in the documentation: https://pandas.pydata.org/pandas-docs/stable/user_guide/indexing.html#returning-a-view-versus-a-copy\n",
      "  \n"
     ]
    }
   ],
   "source": [
    "df = pd.read_csv('savedcsv/17_homepage.csv')\n",
    "num_in_train = int(df.shape[0]*0.8)\n",
    "df_train = df[:num_in_train]\n",
    "df_test = df[num_in_train:]\n",
    "X_train, y_train = get_train_test_revenue(df_train)\n",
    "X_test, y_test = get_train_test_revenue(df_test)"
   ]
  },
  {
   "cell_type": "code",
   "execution_count": 125,
   "metadata": {},
   "outputs": [],
   "source": [
    "class Process:\n",
    "    def __init__(self, X_train, X_test, y_train, y_test, imputer='mean', minmaxrange=(0,1), standardize=True):\n",
    "        self.X_train = X_train.copy()\n",
    "        self.X_test = X_test.copy()\n",
    "        self.y_train = y_train.copy().values.reshape(-1, 1)\n",
    "        self.y_test = y_test.copy().values.reshape(-1, 1)\n",
    "        self.imputer = imputer\n",
    "        self.X_minmaxscaler = MinMaxScaler(feature_range=minmaxrange)\n",
    "        self.y_minmaxscaler = MinMaxScaler(feature_range=minmaxrange)\n",
    "        self.skew = PowerTransformer(standardize=standardize)\n",
    "\n",
    "    def fill_nan(self):\n",
    "        def fill_train_test(imputer):\n",
    "            imputer.fit(self.X_train)\n",
    "            self.X_train[:] = imputer.transform(self.X_train)\n",
    "            self.X_test[:] = imputer.transform(self.X_test)\n",
    "\n",
    "        if (self.imputer == 'mean'):\n",
    "            fill_train_test(SimpleImputer(strategy='mean'))\n",
    "        elif (self.imputer == 'median'):\n",
    "            fill_train_test(SimpleImputer(strategy='median'))\n",
    "        elif (self.imputer == 'knn'):\n",
    "            fill_train_test(KNNImputer())\n",
    "        elif (self.imputer == 'iterative'):\n",
    "            fill_train_test(IterativeImputer(verbose=0, max_iter=50))\n",
    "        elif (self.imputer == 'iterative_mlp'):\n",
    "            fill_train_test(\n",
    "                IterativeImputer(\n",
    "                    estimator=MLPRegressor(learning_rate='adaptive', random_state=0),\n",
    "                    verbose=2,\n",
    "                )\n",
    "            )\n",
    "        return self\n",
    "        \n",
    "    def minmaxscaleX(self, inverse=False):\n",
    "        def scaler_transform(obj):\n",
    "            return self.X_minmaxscaler.transform(obj)\n",
    "        \n",
    "        def scaler_transform_inverse(obj):\n",
    "            return self.X_minmaxscaler.inverse_transform(obj)\n",
    "        \n",
    "        if inverse:\n",
    "            self.X_train[:] = scaler_transform_inverse(self.X_train)\n",
    "            self.X_test[:] = scaler_transform_inverse(self.X_test)\n",
    "        else:\n",
    "            self.X_minmaxscaler.fit(self.X_train)\n",
    "            self.X_train[:] = scaler_transform(self.X_train)\n",
    "            self.X_test[:] = scaler_transform(self.X_test)\n",
    "        return self\n",
    "    \n",
    "    def minmaxscaleY(self, inverse=False):\n",
    "        def scaler_transform(obj):\n",
    "            return self.y_minmaxscaler.transform(obj)\n",
    "        \n",
    "        def scaler_transform_inverse(obj):\n",
    "            return self.y_minmaxscaler.inverse_transform(obj)\n",
    "        \n",
    "        if inverse:\n",
    "            self.y_train[:] = scaler_transform_inverse(self.y_train)\n",
    "            self.y_test[:] = scaler_transform_inverse(self.y_test)\n",
    "        else:\n",
    "            self.y_minmaxscaler.fit(self.y_train)\n",
    "            self.y_train[:] = scaler_transform(self.y_train)\n",
    "            self.y_test[:] = scaler_transform(self.y_test)\n",
    "        return self\n",
    "    \n",
    "    def make_target_positive(self):\n",
    "        self.min_y_train = min(self.y_train)\n",
    "        self.y_train = self.y_train - self.min_y_train + 1\n",
    "        self.y_test = self.y_test - self.min_y_train + 1\n",
    "        return self\n",
    "        \n",
    "    def return_target_back_from_positive(self):\n",
    "        self.y_train = self.y_train + self.min_y_train - 1\n",
    "        self.y_test = self.y_test + self.min_y_train - 1\n",
    "        return self\n",
    "    \n",
    "    def return_target_back_from_positive(self, obj):\n",
    "        return obj + self.min_y_train - 1\n",
    "    \n",
    "    def skew_X(self, inverse=False):\n",
    "        if inverse:\n",
    "            self.X_train[:] = self.skew.inverse_transform(self.X_train)\n",
    "            self.X_test[:] = self.skew.inverse_transform(self.X_test)\n",
    "        else:\n",
    "            self.skew.fit(self.X_train)\n",
    "            self.X_train[:] = self.skew.transform(self.X_train)\n",
    "            self.X_test[:] = self.skew.transform(self.X_test)\n",
    "        return self\n",
    "    \n",
    "    def return_processed(self):\n",
    "        return self.X_train, self.X_test, self.y_train.flatten(), self.y_test.flatten()       "
   ]
  },
  {
   "cell_type": "code",
   "execution_count": 126,
   "metadata": {},
   "outputs": [],
   "source": [
    "# Create a model\n",
    "from sklearn.linear_model import ElasticNet, Lasso,  BayesianRidge, LassoLarsIC\n",
    "from sklearn.ensemble import RandomForestRegressor,  GradientBoostingRegressor\n",
    "from catboost import CatBoostRegressor\n",
    "from sklearn.kernel_ridge import KernelRidge\n",
    "from sklearn.pipeline import make_pipeline\n",
    "from sklearn.preprocessing import RobustScaler\n",
    "from sklearn.base import BaseEstimator, TransformerMixin, RegressorMixin, clone\n",
    "from sklearn.model_selection import KFold, cross_val_score, train_test_split\n",
    "from sklearn.metrics import mean_squared_error\n",
    "import xgboost as xgb\n",
    "import lightgbm as lgb\n",
    "\n",
    "mod_mlp = MLPRegressor(\n",
    "    solver='adam',\n",
    "    hidden_layer_sizes=(100,),\n",
    "    activation='relu',\n",
    "    max_iter=10000)\n",
    "\n",
    "mod_lasso = make_pipeline(RobustScaler(), Lasso(alpha=0.005, random_state=1))\n",
    "\n",
    "mod_enet = make_pipeline(RobustScaler(), ElasticNet(alpha=0.0005, l1_ratio=.9, random_state=3))\n",
    "\n",
    "mod_cat = CatBoostRegressor(iterations=10000, learning_rate=0.01,\n",
    "                            depth=5, eval_metric='RMSE',\n",
    "                            colsample_bylevel=0.7, random_seed = 17, silent=True,\n",
    "                            bagging_temperature = 0.2, early_stopping_rounds=200)\n",
    "\n",
    "mod_gboost = GradientBoostingRegressor(n_estimators=3000, learning_rate=0.05,\n",
    "                                   max_depth=5, max_features='sqrt',\n",
    "                                   min_samples_leaf=15, min_samples_split=10, \n",
    "                                   loss='huber', random_state=5)\n",
    "\n",
    "mod_xgb = xgb.XGBRegressor(colsample_bytree=0.4603, gamma=0.0468, \n",
    "                             learning_rate=0.05, max_depth=3, \n",
    "                             min_child_weight=1.7817, n_estimators=2200,\n",
    "                             reg_alpha=0.4640, reg_lambda=0.8571,\n",
    "                             subsample=0.5213, silent=1,\n",
    "                             random_state=7, nthread=-1)\n",
    "\n",
    "mod_lgb = lgb.LGBMRegressor(objective='regression',num_leaves=8,\n",
    "                              learning_rate=0.05, n_estimators=650,\n",
    "                              max_bin=58, bagging_fraction=0.80,\n",
    "                              bagging_freq=5, feature_fraction=0.2319,\n",
    "                              feature_fraction_seed=9, bagging_seed=9,\n",
    "                              min_data_in_leaf=7, min_sum_hessian_in_leaf=11)\n",
    "\n",
    "class StackingAveragedModels(BaseEstimator, RegressorMixin, TransformerMixin):\n",
    "    def __init__(self, base_models, meta_model, n_folds=5):\n",
    "        self.base_models = base_models\n",
    "        self.meta_model = meta_model\n",
    "        self.n_folds = n_folds\n",
    "   \n",
    "    # We again fit the data on clones of the original models\n",
    "    def fit(self, X, y):\n",
    "        self.base_models_ = [list() for x in self.base_models]\n",
    "        self.meta_model_ = clone(self.meta_model)\n",
    "        kfold = KFold(n_splits=self.n_folds, shuffle=True, random_state=156)\n",
    "        \n",
    "        # Train cloned base models then create out-of-fold predictions\n",
    "        # that are needed to train the cloned meta-model\n",
    "        out_of_fold_predictions = np.zeros((X.shape[0], len(self.base_models)))\n",
    "        for i, model in enumerate(self.base_models):\n",
    "            for train_index, holdout_index in kfold.split(X, y):\n",
    "                instance = clone(model)\n",
    "                self.base_models_[i].append(instance)\n",
    "                instance.fit(X[train_index], y[train_index])\n",
    "                y_pred = instance.predict(X[holdout_index])\n",
    "                out_of_fold_predictions[holdout_index, i] = y_pred\n",
    "                \n",
    "        # Now train the cloned  meta-model using the out-of-fold predictions as new feature\n",
    "        self.meta_model_.fit(out_of_fold_predictions, y)\n",
    "        return self\n",
    "   \n",
    "    #Do the predictions of all base models on the test data and use the averaged predictions as \n",
    "    #meta-features for the final prediction which is done by the meta-model\n",
    "    def predict(self, X):\n",
    "        meta_features = np.column_stack([\n",
    "            np.column_stack([model.predict(X) for model in base_models]).mean(axis=1)\n",
    "            for base_models in self.base_models_ ])\n",
    "        return self.meta_model_.predict(meta_features)\n",
    "    \n",
    "mod_stacked = StackingAveragedModels(base_models = (mod_cat, mod_xgb, mod_gboost, mod_lgb), meta_model = mod_lasso)"
   ]
  },
  {
   "cell_type": "code",
   "execution_count": 127,
   "metadata": {},
   "outputs": [],
   "source": [
    "#Validation function\n",
    "n_folds = 10\n",
    "def rmsle_cv(model, X, y):\n",
    "    kf = KFold(n_folds, shuffle=True, random_state=42).get_n_splits(X.values)\n",
    "    return np.sqrt(-cross_val_score(model, X.values, y, scoring=\"neg_mean_squared_error\", cv=kf, n_jobs=-1))\n",
    "\n",
    "def eval_model(model, name, X, y):\n",
    "    start_time = time.time()\n",
    "    score = rmsle_cv(model, X, y)\n",
    "    print(\"{} score: {:.4f} ({:.4f}),     execution time: {:.1f}\".format(name, score.mean(), score.std(), time.time()-start_time))\n",
    "\n",
    "\n",
    "def eval_models(X, y):\n",
    "    eval_model(mod_mlp, \"mlp\", X, y)\n",
    "    eval_model(mod_lasso, \"lasso\", X, y)\n",
    "    eval_model(mod_enet, \"enet\", X, y)\n",
    "    eval_model(mod_cat, \"cat\", X, y)\n",
    "    eval_model(mod_gboost, \"gboost\", X, y)\n",
    "    eval_model(mod_xgb, \"xgb\", X, y)\n",
    "    eval_model(mod_lgb, \"lgb\", X, y)\n",
    "#     eval_model(mod_stacked, \"stacked\", X, y)\n",
    "\n",
    "\n",
    "\n",
    "\n",
    "\n",
    "# ---------------------------------------------------------------------\n",
    "def get_metrics(y_test, y_pred, cols):\n",
    "    SS_Residual = sum((y_test - y_pred)**2)\n",
    "    SS_Total = sum((y_test - np.mean(y_test))**2)\n",
    "    r2 = 1 - (float(SS_Residual))/SS_Total\n",
    "    adj_r2 = 1 - (1-r2)*(len(y_test) - 1)/(len(y_test) - cols -1)\n",
    "    return  {\n",
    "        'mape': sum(abs((y_test - y_pred)/y_test)),\n",
    "        'mae': metrics.mean_absolute_error(y_test, y_pred),\n",
    "        'mse': metrics.mean_squared_error(y_test, y_pred),\n",
    "        'rmse': np.sqrt(metrics.mean_squared_error(y_test, y_pred)),\n",
    "        'r2': r2,\n",
    "        'adj_r2': adj_r2,\n",
    "    }\n",
    "\n",
    "def print_metrics(data, y_test, y_pred, cols):\n",
    "    print(data)\n",
    "    res = get_metrics(y_test, y_pred, cols)\n",
    "    for key in res:\n",
    "        print(f'{key}: {res[key]}')\n",
    "    return res\n",
    "\n",
    "def predict(model, model_name, X_train, y_train, X_test, y_test):\n",
    "    print()\n",
    "    print(model_name)\n",
    "    model.fit(X_train.values, y_train)\n",
    "    pred_train = model.predict(X_train.values)\n",
    "    pred_test_log = model.predict(X_test.values)\n",
    "    \n",
    "    y_test_log = np.log1p(y_test)\n",
    "    pred_test = np.expm1(pred_test_log)\n",
    "    return {\n",
    "        'res': {\n",
    "            'train': print_metrics('train', y_train, pred_train, X_train.shape[1]),\n",
    "            'test': print_metrics('test', y_test, pred_test, X_test.shape[1]),\n",
    "            'test (log)': print_metrics('test (log)', y_test_log, pred_test_log, X_test.shape[1]),\n",
    "        },\n",
    "        'predictions':{\n",
    "            'train': pred_train,\n",
    "            'test': pred_test,\n",
    "            'test (log)': pred_test_log,\n",
    "        },\n",
    "        'actual': {\n",
    "            'train': y_train,\n",
    "            'test': y_test,\n",
    "            'test (log)': y_test_log,\n",
    "        },\n",
    "    }\n",
    "\n",
    "\n",
    "def predict_test(X_train, y_train, X_test, y_test):\n",
    "    prediction_results = {}\n",
    "    prediction_results['mlp'] = predict(mod_mlp, 'mlp', X_train, y_train, X_test, y_test)        \n",
    "    prediction_results['lasso'] = predict(mod_lasso, 'lasso', X_train, y_train, X_test, y_test)\n",
    "    prediction_results['enet'] = predict(mod_enet, 'enet', X_train, y_train, X_test, y_test)\n",
    "    prediction_results['xgb'] = predict(mod_xgb, 'xgb', X_train, y_train, X_test, y_test)\n",
    "    prediction_results['gboost'] = predict(mod_gboost, 'gboost', X_train, y_train, X_test, y_test)\n",
    "    prediction_results['lgb'] = predict(mod_lgb, 'lgb', X_train, y_train, X_test, y_test)\n",
    "#     prediction_results['mod_stacked'] = predict(mod_stacked, 'mod', X_train, y_train, X_test, y_test)\n",
    "    return prediction_results\n",
    "\n",
    "# ---------------------------------------------------------------------\n",
    "def print_graphs(actual, predicted):\n",
    "    length = len(actual)\n",
    "    res_df = pd.DataFrame({'actual':actual, 'predicted': predicted}).astype(float)\n",
    "    res_df.sort_values(by='actual', inplace=True)\n",
    "\n",
    "    plt.figure()\n",
    "    x = np.linspace(0, length, length)\n",
    "    plt.plot(x, res_df['actual'], label='actual')\n",
    "    plt.plot(x, res_df['predicted'], label='predicted')\n",
    "\n",
    "    plt.ticklabel_format(useOffset=False, style='plain')\n",
    "    plt.rcParams[\"figure.figsize\"] = (8,8)\n",
    "    plt.yscale('log')\n",
    "    plt.show()\n",
    "    \n",
    "def print_sorted_actual_to_predicted_graphs(res):\n",
    "    for i in res:\n",
    "        print('^^^^^^^^^^^^^^^^^^^^^^^^^^^^')\n",
    "        print(i)\n",
    "        print('train')\n",
    "        print_graphs(res[i]['actual']['train'], res[i]['predictions']['train'])\n",
    "        print('test')\n",
    "        print_graphs(res[i]['actual']['test'], res[i]['predictions']['test'])"
   ]
  },
  {
   "cell_type": "code",
   "execution_count": null,
   "metadata": {},
   "outputs": [],
   "source": [
    "process = Process(X_train, X_test, y_train, y_test, imputer='knn').skew_X().minmaxscaleX().fill_nan()\n",
    "Xh_train, Xh_test, yh_train, yh_test = process.return_processed()\n",
    "yh_train = np.log1p(yh_train)"
   ]
  },
  {
   "cell_type": "code",
   "execution_count": null,
   "metadata": {},
   "outputs": [],
   "source": [
    "estimator = RandomForestRegressor(n_estimators=100, min_samples_split=3, random_state=0, n_jobs=-1)\n",
    "selector = RFECV(estimator, verbose=10, n_jobs=-1)"
   ]
  },
  {
   "cell_type": "code",
   "execution_count": null,
   "metadata": {},
   "outputs": [],
   "source": [
    "selector = selector.fit(Xh_train, yh_train)"
   ]
  },
  {
   "cell_type": "code",
   "execution_count": null,
   "metadata": {},
   "outputs": [],
   "source": [
    "import joblib\n",
    "joblib.dump(selector, 'rfecv_selector_joblib_2.sav')\n",
    "import pickle\n",
    "pickle.dump(selector, open('rfecv_selector_pickle_2.sav', 'wb'))"
   ]
  },
  {
   "cell_type": "code",
   "execution_count": null,
   "metadata": {},
   "outputs": [],
   "source": [
    "selector.n_features_"
   ]
  },
  {
   "cell_type": "code",
   "execution_count": null,
   "metadata": {},
   "outputs": [],
   "source": [
    "selector.support_"
   ]
  },
  {
   "cell_type": "code",
   "execution_count": null,
   "metadata": {},
   "outputs": [],
   "source": [
    "selector.ranking_"
   ]
  },
  {
   "cell_type": "code",
   "execution_count": null,
   "metadata": {},
   "outputs": [],
   "source": [
    "ind = selector.get_support()"
   ]
  },
  {
   "cell_type": "code",
   "execution_count": null,
   "metadata": {},
   "outputs": [],
   "source": [
    "not_ind = [not val for val in ind]"
   ]
  },
  {
   "cell_type": "code",
   "execution_count": null,
   "metadata": {},
   "outputs": [],
   "source": [
    "list(Xh_train.columns[ind])"
   ]
  },
  {
   "cell_type": "code",
   "execution_count": null,
   "metadata": {},
   "outputs": [],
   "source": [
    "pd.options.display.float_format = '{:20,.15f}'.format\n",
    "print(Xh_train.astype(float).describe())"
   ]
  },
  {
   "cell_type": "code",
   "execution_count": null,
   "metadata": {},
   "outputs": [],
   "source": [
    "pd.options.display.float_format = '{:20,.15f}'.format\n",
    "print(Xh_train.astype(float).describe())"
   ]
  },
  {
   "cell_type": "code",
   "execution_count": null,
   "metadata": {},
   "outputs": [],
   "source": [
    "list(X_train.columns[not_ind])"
   ]
  },
  {
   "cell_type": "code",
   "execution_count": null,
   "metadata": {},
   "outputs": [],
   "source": [
    "selector.score(Xh_test, yh_test)"
   ]
  },
  {
   "cell_type": "code",
   "execution_count": null,
   "metadata": {},
   "outputs": [],
   "source": [
    "selector.score(Xh_train, yh_train)"
   ]
  },
  {
   "cell_type": "code",
   "execution_count": null,
   "metadata": {},
   "outputs": [],
   "source": [
    "selector.ranking_"
   ]
  },
  {
   "cell_type": "code",
   "execution_count": null,
   "metadata": {},
   "outputs": [],
   "source": [
    "selector.estimator_.feature_importances_ "
   ]
  },
  {
   "cell_type": "code",
   "execution_count": null,
   "metadata": {},
   "outputs": [],
   "source": [
    "# rank = [(list(X_train.columns)[i], list(selector.ranking_)[i]) for i in range(len(X_train.columns))]\n",
    "rank = [(list(X_train.columns)[i], list(selector.estimator_.feature_importances_)[i]) for i in range(len(X_train.columns))]"
   ]
  },
  {
   "cell_type": "code",
   "execution_count": null,
   "metadata": {},
   "outputs": [],
   "source": [
    "feature_names = list(X_train.columns.values)\n",
    "print(sorted(zip(map(lambda x: round(x, 4), selector.ranking_), feature_names)))"
   ]
  },
  {
   "cell_type": "code",
   "execution_count": null,
   "metadata": {},
   "outputs": [],
   "source": [
    "sorted(rank, key=lambda tup: tup[1])"
   ]
  },
  {
   "cell_type": "code",
   "execution_count": null,
   "metadata": {},
   "outputs": [],
   "source": []
  },
  {
   "cell_type": "code",
   "execution_count": null,
   "metadata": {},
   "outputs": [],
   "source": []
  },
  {
   "cell_type": "code",
   "execution_count": null,
   "metadata": {},
   "outputs": [],
   "source": []
  },
  {
   "cell_type": "code",
   "execution_count": null,
   "metadata": {},
   "outputs": [],
   "source": []
  },
  {
   "cell_type": "code",
   "execution_count": null,
   "metadata": {},
   "outputs": [],
   "source": []
  },
  {
   "cell_type": "code",
   "execution_count": null,
   "metadata": {},
   "outputs": [],
   "source": []
  },
  {
   "cell_type": "code",
   "execution_count": 27,
   "metadata": {},
   "outputs": [
    {
     "name": "stdout",
     "output_type": "stream",
     "text": [
      "processed imputer mean\n",
      "processed imputer median\n",
      "processed imputer knn\n",
      "processed imputer iterative\n"
     ]
    }
   ],
   "source": [
    "input_data = {}\n",
    "for imputer in [\n",
    "    'mean',\n",
    "    'median',\n",
    "    'knn',\n",
    "    'iterative',\n",
    "#     'iterative_mlp',\n",
    "]:\n",
    "    input_data[imputer] = {}\n",
    "    process = Process(X_train, X_test, y_train, y_test, imputer=imputer).skew_X().minmaxscaleX().fill_nan()\n",
    "    Xh_train, Xh_test, yh_train, yh_test = process.return_processed()\n",
    "    yh_train = np.log1p(yh_train)\n",
    "    input_data[imputer]['X_train'] = Xh_train\n",
    "    input_data[imputer]['X_test'] = Xh_test\n",
    "    input_data[imputer]['y_train'] = yh_train\n",
    "    input_data[imputer]['y_test'] = yh_test\n",
    "    print(f'processed imputer {imputer}')"
   ]
  },
  {
   "cell_type": "code",
   "execution_count": 28,
   "metadata": {},
   "outputs": [
    {
     "name": "stdout",
     "output_type": "stream",
     "text": [
      "^^^^^^^^^^^^^^^^^^^^^^^^^^^^^^^^^^^^^^^\n",
      "mean\n",
      "mlp score: 1.8895 (0.2347),     execution time: 181.8\n",
      "lasso score: 1.4610 (0.2326),     execution time: 1.6\n",
      "enet score: 1.4573 (0.2263),     execution time: 2.3\n",
      "cat score: 1.3747 (0.2085),     execution time: 566.4\n",
      "gboost score: 1.3944 (0.2147),     execution time: 458.8\n",
      "xgb score: 1.4078 (0.1992),     execution time: 358.8\n",
      "lgb score: 1.3794 (0.2165),     execution time: 8.7\n",
      "^^^^^^^^^^^^^^^^^^^^^^^^^^^^^^^^^^^^^^^\n",
      "median\n",
      "mlp score: 1.8873 (0.2233),     execution time: 192.1\n",
      "lasso score: 1.4601 (0.2307),     execution time: 1.5\n",
      "enet score: 1.4533 (0.2243),     execution time: 2.1\n",
      "cat score: 1.3743 (0.2065),     execution time: 648.7\n",
      "gboost score: 1.3969 (0.2115),     execution time: 480.2\n",
      "xgb score: 1.4093 (0.2026),     execution time: 426.4\n",
      "lgb score: 1.3845 (0.2204),     execution time: 10.8\n",
      "^^^^^^^^^^^^^^^^^^^^^^^^^^^^^^^^^^^^^^^\n",
      "knn\n",
      "mlp score: 2.0719 (0.1500),     execution time: 287.3\n",
      "lasso score: 1.4577 (0.2324),     execution time: 3.5\n",
      "enet score: 1.4577 (0.2295),     execution time: 6.6\n",
      "cat score: 1.4101 (0.2155),     execution time: 872.9\n",
      "gboost score: 1.4429 (0.2376),     execution time: 722.0\n",
      "xgb score: 1.4459 (0.2165),     execution time: 436.2\n",
      "lgb score: 1.4339 (0.2320),     execution time: 9.1\n",
      "^^^^^^^^^^^^^^^^^^^^^^^^^^^^^^^^^^^^^^^\n",
      "iterative\n",
      "mlp score: 2.1748 (0.1644),     execution time: 266.0\n",
      "lasso score: 1.4531 (0.2293),     execution time: 3.5\n"
     ]
    },
    {
     "name": "stderr",
     "output_type": "stream",
     "text": [
      "/home/stas/anaconda3/lib/python3.7/site-packages/sklearn/linear_model/_coordinate_descent.py:476: ConvergenceWarning: Objective did not converge. You might want to increase the number of iterations. Duality gap: 23.86893297306233, tolerance: 2.8417072430322783\n",
      "  positive)\n"
     ]
    },
    {
     "name": "stdout",
     "output_type": "stream",
     "text": [
      "enet score: 1.4522 (0.2280),     execution time: 9.5\n",
      "cat score: 1.3858 (0.2094),     execution time: 819.1\n",
      "gboost score: 1.4123 (0.2198),     execution time: 667.7\n",
      "xgb score: 1.4309 (0.1989),     execution time: 446.3\n",
      "lgb score: 1.3967 (0.2179),     execution time: 10.1\n"
     ]
    }
   ],
   "source": [
    "for imputer in input_data:\n",
    "    print('^^^^^^^^^^^^^^^^^^^^^^^^^^^^^^^^^^^^^^^')\n",
    "    print(imputer)\n",
    "    X_train = input_data[imputer]['X_train']\n",
    "    X_test = input_data[imputer]['X_test']\n",
    "    y_train = input_data[imputer]['y_train']\n",
    "    y_test = input_data[imputer]['y_test']\n",
    "    eval_models(X_train, y_train)"
   ]
  },
  {
   "cell_type": "code",
   "execution_count": null,
   "metadata": {},
   "outputs": [],
   "source": [
    "for imputer in not_log_input_data:\n",
    "    if imputer == 'knn':\n",
    "        print('^^^^^^^^^^^^^^^^^^^^^^^^^^^^^^^^^^^^^^^')\n",
    "        print(imputer)\n",
    "        X_train = input_data[imputer]['X_train']\n",
    "        X_test = input_data[imputer]['X_test']\n",
    "        y_train = input_data[imputer]['y_train']\n",
    "        y_test = input_data[imputer]['y_test']\n",
    "        results = predict_test(X_train, y_train, X_test, y_test)\n",
    "        print_sorted_actual_to_predicted_graphs(results)"
   ]
  },
  {
   "cell_type": "code",
   "execution_count": null,
   "metadata": {},
   "outputs": [],
   "source": []
  },
  {
   "cell_type": "code",
   "execution_count": null,
   "metadata": {},
   "outputs": [],
   "source": []
  },
  {
   "cell_type": "code",
   "execution_count": 215,
   "metadata": {},
   "outputs": [],
   "source": [
    "from sklearn.model_selection import cross_validate\n",
    "from sklearn.model_selection import cross_val_predict\n",
    "scoring = ['neg_mean_squared_error']\n",
    "\n",
    "def predict_cv_model(model, name, X, y):\n",
    "    return cross_val_predict(model, X.values, y, cv=20, n_jobs=-1)\n",
    "\n",
    "\n",
    "def eval_models(X, y):\n",
    "#     eval_model(mod_mlp, \"mlp\", X, y)\n",
    "    return predict_cv_model(mod_lasso, \"lasso\", X, y)\n",
    "#     eval_model(mod_enet, \"enet\", X, y)\n",
    "#     eval_model(mod_cat, \"cat\", X, y)\n",
    "#     eval_model(mod_gboost, \"gboost\", X, y)\n",
    "#     eval_model(mod_xgb, \"xgb\", X, y)\n",
    "#     eval_model(mod_lgb, \"lgb\", X, y)\n",
    "#     eval_model(mod_stacked, \"stacked\", X, y)\n",
    "\n",
    "\n",
    "\n",
    "\n",
    "\n",
    "# ---------------------------------------------------------------------\n",
    "def get_metrics(y_test, y_pred, cols):\n",
    "    SS_Residual = sum((y_test - y_pred)**2)\n",
    "    SS_Total = sum((y_test - np.mean(y_test))**2)\n",
    "    r2 = 1 - (float(SS_Residual))/SS_Total\n",
    "    adj_r2 = 1 - (1-r2)*(len(y_test) - 1)/(len(y_test) - cols -1)\n",
    "    return  {\n",
    "        'mape': sum(abs((y_test - y_pred)/y_test)),\n",
    "        'mae': metrics.mean_absolute_error(y_test, y_pred),\n",
    "        'mse': metrics.mean_squared_error(y_test, y_pred),\n",
    "        'rmse': np.sqrt(metrics.mean_squared_error(y_test, y_pred)),\n",
    "        'r2': r2,\n",
    "        'adj_r2': adj_r2,\n",
    "    }\n",
    "\n",
    "def print_metrics(data, y_test, y_pred, cols):\n",
    "    print(data)\n",
    "    res = get_metrics(y_test, y_pred, cols)\n",
    "    for key in res:\n",
    "        print(f'{key}: {res[key]}')\n",
    "    return res\n",
    "\n",
    "def predict_not_log(model, model_name, X_train, y_train, X_test, y_test):\n",
    "    print()\n",
    "    print(model_name)\n",
    "    model.fit(X_train.values, y_train)\n",
    "    pred_train = model.predict(X_train.values)\n",
    "    pred_test = model.predict(X_test.values)\n",
    "    return {\n",
    "        'res': {\n",
    "            'train': print_metrics('train', y_train, pred_train, X_train.shape[1]),\n",
    "            'test': print_metrics('test', y_test, pred_test, X_test.shape[1]),\n",
    "        },\n",
    "        'predictions':{\n",
    "            'train': pred_train,\n",
    "            'test': pred_test,\n",
    "        },\n",
    "        'actual': {\n",
    "            'train': y_train,\n",
    "            'test': y_test,\n",
    "        },\n",
    "    }\n",
    "\n",
    "\n",
    "def predict_test(X_train, y_train, X_test, y_test):\n",
    "    prediction_results = {}\n",
    "#     prediction_results['mlp'] = predict(mod_mlp, 'mlp', X_train, y_train, X_test, y_test)        \n",
    "    prediction_results['lasso'] = predict(mod_lasso, 'lasso', X_train, y_train, X_test, y_test)\n",
    "#     prediction_results['enet'] = predict(mod_enet, 'enet', X_train, y_train, X_test, y_test)\n",
    "#     prediction_results['xgb'] = predict(mod_xgb, 'xgb', X_train, y_train, X_test, y_test)\n",
    "#     prediction_results['gboost'] = predict(mod_gboost, 'gboost', X_train, y_train, X_test, y_test)\n",
    "#     prediction_results['lgb'] = predict(mod_lgb, 'lgb', X_train, y_train, X_test, y_test)\n",
    "#     prediction_results['mod_stacked'] = predict(mod_stacked, 'mod', X_train, y_train, X_test, y_test)\n",
    "    return prediction_results\n",
    "\n",
    "# ---------------------------------------------------------------------\n",
    "def print_graphs(actual, predicted, log=False):\n",
    "    plt.clf()\n",
    "    length = len(actual)\n",
    "    res_df = pd.DataFrame({'actual':actual, 'predicted': predicted}).astype(float)\n",
    "    res_df.sort_values(by='actual', inplace=True)\n",
    "\n",
    "    plt.figure()\n",
    "    x = np.linspace(0, length, length)\n",
    "    plt.plot(x, res_df['actual'], label='actual')\n",
    "    plt.plot(x, res_df['predicted'], label='predicted')\n",
    "\n",
    "    plt.ticklabel_format(useOffset=False, style='plain')\n",
    "    plt.rcParams[\"figure.figsize\"] = (8,8)\n",
    "    if log:\n",
    "        plt.yscale('log')\n",
    "    plt.show()\n",
    "    \n",
    "def print_sorted_actual_to_predicted_graphs(res):\n",
    "    print('train')\n",
    "    print_graphs(res['actual']['train'], res['predictions']['train'])\n",
    "    print('test')\n",
    "    print_graphs(res['actual']['test'], res['predictions']['test'])"
   ]
  },
  {
   "cell_type": "code",
   "execution_count": 180,
   "metadata": {},
   "outputs": [
    {
     "name": "stderr",
     "output_type": "stream",
     "text": [
      "/home/stas/anaconda3/lib/python3.7/site-packages/ipykernel_launcher.py:2: SettingWithCopyWarning: \n",
      "A value is trying to be set on a copy of a slice from a DataFrame.\n",
      "Try using .loc[row_indexer,col_indexer] = value instead\n",
      "\n",
      "See the caveats in the documentation: https://pandas.pydata.org/pandas-docs/stable/user_guide/indexing.html#returning-a-view-versus-a-copy\n",
      "  \n"
     ]
    }
   ],
   "source": [
    "df = pd.read_csv('savedcsv/17_homepage.csv')\n",
    "num_in_train = int(df.shape[0]*0.8)\n",
    "df_train = df[:num_in_train]\n",
    "df_test = df[num_in_train:]\n",
    "X_train, y_train = get_train_test_revenue(df_train)\n",
    "X_test, y_test = get_train_test_revenue(df_test)"
   ]
  },
  {
   "cell_type": "code",
   "execution_count": 181,
   "metadata": {},
   "outputs": [],
   "source": [
    "process = Process(X_train, X_test, y_train, y_test, imputer='knn').skew_X().minmaxscaleX().fill_nan()"
   ]
  },
  {
   "cell_type": "code",
   "execution_count": 202,
   "metadata": {},
   "outputs": [],
   "source": [
    "skew = PowerTransformer()\n",
    "Xh_train, Xh_test, y_train, yh_test = process.return_processed()\n",
    "yh_train = skew.fit_transform(y_train.reshape(-1, 1)).flatten()"
   ]
  },
  {
   "cell_type": "code",
   "execution_count": 213,
   "metadata": {},
   "outputs": [
    {
     "name": "stdout",
     "output_type": "stream",
     "text": [
      "train\n",
      "mape: 7675.0190480315405\n",
      "mae: 0.1771641721021783\n",
      "mse: 0.05221710845240293\n",
      "rmse: 0.2285106309395756\n",
      "r2: 0.947782891547597\n",
      "adj_r2: 0.9457466958107181\n",
      "test\n",
      "mape: 15040.399931175521\n",
      "mae: 44384159.38735678\n",
      "mse: 1.2896470797166782e+16\n",
      "rmse: 113562629.4040728\n",
      "r2: 0.6698242226188521\n",
      "adj_r2: 0.6114663672294112\n"
     ]
    }
   ],
   "source": [
    "mod_cat.fit(Xh_train.values, yh_train)\n",
    "pred_train = mod_cat.predict(Xh_train.values)\n",
    "pred_skew = mod_cat.predict(Xh_test.values)\n",
    "pred_test = skew.inverse_transform(pred_skew.reshape(-1, 1)).flatten()\n",
    "result = {\n",
    "    'res': {\n",
    "        'train': print_metrics('train', yh_train, pred_train, Xh_train.shape[1]),\n",
    "        'test': print_metrics('test', yh_test, pred_test, Xh_test.shape[1]),\n",
    "    },\n",
    "    'predictions':{\n",
    "        'train': pred_train,\n",
    "        'test': pred_test,\n",
    "    },\n",
    "    'actual': {\n",
    "        'train': yh_train,\n",
    "        'test': yh_test,\n",
    "    },\n",
    "}"
   ]
  },
  {
   "cell_type": "code",
   "execution_count": 214,
   "metadata": {},
   "outputs": [
    {
     "name": "stdout",
     "output_type": "stream",
     "text": [
      "train\n"
     ]
    },
    {
     "data": {
      "text/plain": [
       "<Figure size 576x576 with 0 Axes>"
      ]
     },
     "metadata": {},
     "output_type": "display_data"
    },
    {
     "data": {
      "image/png": "[encoded data removed]",
      "text/plain": [
       "<Figure size 576x576 with 1 Axes>"
      ]
     },
     "metadata": {
      "needs_background": "light"
     },
     "output_type": "display_data"
    },
    {
     "name": "stdout",
     "output_type": "stream",
     "text": [
      "test\n"
     ]
    },
    {
     "data": {
      "text/plain": [
       "<Figure size 576x576 with 0 Axes>"
      ]
     },
     "metadata": {},
     "output_type": "display_data"
    },
    {
     "data": {
      "image/png": "[encoded data removed]",
      "text/plain": [
       "<Figure size 576x576 with 1 Axes>"
      ]
     },
     "metadata": {
      "needs_background": "light"
     },
     "output_type": "display_data"
    }
   ],
   "source": [
    "print_sorted_actual_to_predicted_graphs(result)"
   ]
  },
  {
   "cell_type": "code",
   "execution_count": 218,
   "metadata": {},
   "outputs": [
    {
     "name": "stdout",
     "output_type": "stream",
     "text": [
      "train\n",
      "mape: 16905.90983689428\n",
      "mae: 0.44776414670586273\n",
      "mse: 0.33573860623841967\n",
      "rmse: 0.5794295524379298\n",
      "r2: 0.6642613937615798\n",
      "adj_r2: 0.651169333726286\n",
      "test\n",
      "mape: 15961.906976289734\n",
      "mae: 46220824.73841438\n",
      "mse: 1.4468467812478378e+16\n",
      "rmse: 120284944.24689391\n",
      "r2: 0.6295779145602651\n",
      "adj_r2: 0.5641066111636113\n"
     ]
    }
   ],
   "source": [
    "mod_enet.fit(Xh_train.values, yh_train)\n",
    "pred_train = mod_enet.predict(Xh_train.values)\n",
    "pred_skew = mod_enet.predict(Xh_test.values)\n",
    "pred_test = skew.inverse_transform(pred_skew.reshape(-1, 1)).flatten()\n",
    "result = {\n",
    "    'res': {\n",
    "        'train': print_metrics('train', yh_train, pred_train, Xh_train.shape[1]),\n",
    "        'test': print_metrics('test', yh_test, pred_test, Xh_test.shape[1]),\n",
    "    },\n",
    "    'predictions':{\n",
    "        'train': skew.inverse_transform(pred_train.reshape(-1, 1)).flatten(),\n",
    "        'test': pred_test,\n",
    "    },\n",
    "    'actual': {\n",
    "        'train': skew.inverse_transform(yh_train.reshape(-1, 1)).flatten(),\n",
    "        'test': yh_test,\n",
    "    },\n",
    "}"
   ]
  },
  {
   "cell_type": "code",
   "execution_count": 219,
   "metadata": {},
   "outputs": [
    {
     "name": "stdout",
     "output_type": "stream",
     "text": [
      "train\n"
     ]
    },
    {
     "data": {
      "text/plain": [
       "<Figure size 576x576 with 0 Axes>"
      ]
     },
     "metadata": {},
     "output_type": "display_data"
    },
    {
     "data": {
      "image/png": "[encoded data removed]",
      "text/plain": [
       "<Figure size 576x576 with 1 Axes>"
      ]
     },
     "metadata": {
      "needs_background": "light"
     },
     "output_type": "display_data"
    },
    {
     "name": "stdout",
     "output_type": "stream",
     "text": [
      "test\n"
     ]
    },
    {
     "data": {
      "text/plain": [
       "<Figure size 576x576 with 0 Axes>"
      ]
     },
     "metadata": {},
     "output_type": "display_data"
    },
    {
     "data": {
      "image/png": "[encoded data removed]",
      "text/plain": [
       "<Figure size 576x576 with 1 Axes>"
      ]
     },
     "metadata": {
      "needs_background": "light"
     },
     "output_type": "display_data"
    }
   ],
   "source": [
    "print_sorted_actual_to_predicted_graphs(result)"
   ]
  },
  {
   "cell_type": "code",
   "execution_count": 194,
   "metadata": {},
   "outputs": [
    {
     "data": {
      "text/html": [
       "<div>\n",
       "<style scoped>\n",
       "    .dataframe tbody tr th:only-of-type {\n",
       "        vertical-align: middle;\n",
       "    }\n",
       "\n",
       "    .dataframe tbody tr th {\n",
       "        vertical-align: top;\n",
       "    }\n",
       "\n",
       "    .dataframe thead th {\n",
       "        text-align: right;\n",
       "    }\n",
       "</style>\n",
       "<table border=\"1\" class=\"dataframe\">\n",
       "  <thead>\n",
       "    <tr style=\"text-align: right;\">\n",
       "      <th></th>\n",
       "      <th>0</th>\n",
       "    </tr>\n",
       "  </thead>\n",
       "  <tbody>\n",
       "    <tr>\n",
       "      <th>count</th>\n",
       "      <td>5,996.000000000000000</td>\n",
       "    </tr>\n",
       "    <tr>\n",
       "      <th>mean</th>\n",
       "      <td>-0.014577956804343</td>\n",
       "    </tr>\n",
       "    <tr>\n",
       "      <th>std</th>\n",
       "      <td>0.975897752335429</td>\n",
       "    </tr>\n",
       "    <tr>\n",
       "      <th>min</th>\n",
       "      <td>-2.867359334274957</td>\n",
       "    </tr>\n",
       "    <tr>\n",
       "      <th>25%</th>\n",
       "      <td>-0.655344682045711</td>\n",
       "    </tr>\n",
       "    <tr>\n",
       "      <th>50%</th>\n",
       "      <td>-0.016795851292323</td>\n",
       "    </tr>\n",
       "    <tr>\n",
       "      <th>75%</th>\n",
       "      <td>0.649761163335379</td>\n",
       "    </tr>\n",
       "    <tr>\n",
       "      <th>max</th>\n",
       "      <td>3.457300377165284</td>\n",
       "    </tr>\n",
       "  </tbody>\n",
       "</table>\n",
       "</div>"
      ],
      "text/plain": [
       "                          0\n",
       "count 5,996.000000000000000\n",
       "mean     -0.014577956804343\n",
       "std       0.975897752335429\n",
       "min      -2.867359334274957\n",
       "25%      -0.655344682045711\n",
       "50%      -0.016795851292323\n",
       "75%       0.649761163335379\n",
       "max       3.457300377165284"
      ]
     },
     "execution_count": 194,
     "metadata": {},
     "output_type": "execute_result"
    }
   ],
   "source": [
    "df_describe = pd.DataFrame(pred_train)\n",
    "df_describe.describe()"
   ]
  },
  {
   "cell_type": "code",
   "execution_count": 195,
   "metadata": {},
   "outputs": [
    {
     "data": {
      "text/html": [
       "<div>\n",
       "<style scoped>\n",
       "    .dataframe tbody tr th:only-of-type {\n",
       "        vertical-align: middle;\n",
       "    }\n",
       "\n",
       "    .dataframe tbody tr th {\n",
       "        vertical-align: top;\n",
       "    }\n",
       "\n",
       "    .dataframe thead th {\n",
       "        text-align: right;\n",
       "    }\n",
       "</style>\n",
       "<table border=\"1\" class=\"dataframe\">\n",
       "  <thead>\n",
       "    <tr style=\"text-align: right;\">\n",
       "      <th></th>\n",
       "      <th>0</th>\n",
       "    </tr>\n",
       "  </thead>\n",
       "  <tbody>\n",
       "    <tr>\n",
       "      <th>count</th>\n",
       "      <td>1,499.000000000000000</td>\n",
       "    </tr>\n",
       "    <tr>\n",
       "      <th>mean</th>\n",
       "      <td>80,832,155.731717988848686</td>\n",
       "    </tr>\n",
       "    <tr>\n",
       "      <th>std</th>\n",
       "      <td>239,009,578.989560514688492</td>\n",
       "    </tr>\n",
       "    <tr>\n",
       "      <th>min</th>\n",
       "      <td>-3.019735345569291</td>\n",
       "    </tr>\n",
       "    <tr>\n",
       "      <th>25%</th>\n",
       "      <td>2,039,190.434476386057213</td>\n",
       "    </tr>\n",
       "    <tr>\n",
       "      <th>50%</th>\n",
       "      <td>11,209,406.156203029677272</td>\n",
       "    </tr>\n",
       "    <tr>\n",
       "      <th>75%</th>\n",
       "      <td>51,758,682.805795647203922</td>\n",
       "    </tr>\n",
       "    <tr>\n",
       "      <th>max</th>\n",
       "      <td>3,492,498,323.213974952697754</td>\n",
       "    </tr>\n",
       "  </tbody>\n",
       "</table>\n",
       "</div>"
      ],
      "text/plain": [
       "                                  0\n",
       "count         1,499.000000000000000\n",
       "mean     80,832,155.731717988848686\n",
       "std     239,009,578.989560514688492\n",
       "min              -3.019735345569291\n",
       "25%       2,039,190.434476386057213\n",
       "50%      11,209,406.156203029677272\n",
       "75%      51,758,682.805795647203922\n",
       "max   3,492,498,323.213974952697754"
      ]
     },
     "execution_count": 195,
     "metadata": {},
     "output_type": "execute_result"
    }
   ],
   "source": [
    "df_describe = pd.DataFrame(pred_test)\n",
    "df_describe.describe()"
   ]
  },
  {
   "cell_type": "code",
   "execution_count": 196,
   "metadata": {},
   "outputs": [
    {
     "data": {
      "image/png": "[encoded data removed]",
      "text/plain": [
       "<Figure size 576x576 with 1 Axes>"
      ]
     },
     "metadata": {
      "needs_background": "light"
     },
     "output_type": "display_data"
    }
   ],
   "source": [
    "plt.plot(np.sort(pred_train))\n",
    "plt.show()"
   ]
  },
  {
   "cell_type": "code",
   "execution_count": 197,
   "metadata": {},
   "outputs": [
    {
     "data": {
      "image/png": "[encoded data removed]",
      "text/plain": [
       "<Figure size 576x576 with 1 Axes>"
      ]
     },
     "metadata": {
      "needs_background": "light"
     },
     "output_type": "display_data"
    }
   ],
   "source": [
    "plt.plot(np.sort(pred_test))\n",
    "plt.show()"
   ]
  },
  {
   "cell_type": "code",
   "execution_count": 151,
   "metadata": {},
   "outputs": [
    {
     "data": {
      "text/plain": [
       "array([-2.88599958, -2.80052896, -2.75887191, ...,  3.07594015,\n",
       "        3.18461794,  3.47738804])"
      ]
     },
     "execution_count": 151,
     "metadata": {},
     "output_type": "execute_result"
    }
   ],
   "source": [
    "yh_train"
   ]
  },
  {
   "cell_type": "code",
   "execution_count": 146,
   "metadata": {},
   "outputs": [
    {
     "data": {
      "text/html": [
       "<div>\n",
       "<style scoped>\n",
       "    .dataframe tbody tr th:only-of-type {\n",
       "        vertical-align: middle;\n",
       "    }\n",
       "\n",
       "    .dataframe tbody tr th {\n",
       "        vertical-align: top;\n",
       "    }\n",
       "\n",
       "    .dataframe thead th {\n",
       "        text-align: right;\n",
       "    }\n",
       "</style>\n",
       "<table border=\"1\" class=\"dataframe\">\n",
       "  <thead>\n",
       "    <tr style=\"text-align: right;\">\n",
       "      <th></th>\n",
       "      <th>0</th>\n",
       "    </tr>\n",
       "  </thead>\n",
       "  <tbody>\n",
       "    <tr>\n",
       "      <th>count</th>\n",
       "      <td>1,499.000000000000000</td>\n",
       "    </tr>\n",
       "    <tr>\n",
       "      <th>mean</th>\n",
       "      <td>83,140,782.132755175232887</td>\n",
       "    </tr>\n",
       "    <tr>\n",
       "      <th>std</th>\n",
       "      <td>197,700,489.563135653734207</td>\n",
       "    </tr>\n",
       "    <tr>\n",
       "      <th>min</th>\n",
       "      <td>1,000.000000000000000</td>\n",
       "    </tr>\n",
       "    <tr>\n",
       "      <th>25%</th>\n",
       "      <td>1,356,889.000000000000000</td>\n",
       "    </tr>\n",
       "    <tr>\n",
       "      <th>50%</th>\n",
       "      <td>11,000,863.000000000000000</td>\n",
       "    </tr>\n",
       "    <tr>\n",
       "      <th>75%</th>\n",
       "      <td>68,420,120.000000000000000</td>\n",
       "    </tr>\n",
       "    <tr>\n",
       "      <th>max</th>\n",
       "      <td>2,797,800,564.000000000000000</td>\n",
       "    </tr>\n",
       "  </tbody>\n",
       "</table>\n",
       "</div>"
      ],
      "text/plain": [
       "                                  0\n",
       "count         1,499.000000000000000\n",
       "mean     83,140,782.132755175232887\n",
       "std     197,700,489.563135653734207\n",
       "min           1,000.000000000000000\n",
       "25%       1,356,889.000000000000000\n",
       "50%      11,000,863.000000000000000\n",
       "75%      68,420,120.000000000000000\n",
       "max   2,797,800,564.000000000000000"
      ]
     },
     "execution_count": 146,
     "metadata": {},
     "output_type": "execute_result"
    }
   ],
   "source": [
    "df_describe = pd.DataFrame(yh_test)\n",
    "df_describe.describe()"
   ]
  },
  {
   "cell_type": "code",
   "execution_count": 85,
   "metadata": {},
   "outputs": [
    {
     "data": {
      "image/png": "[encoded data removed]",
      "text/plain": [
       "<Figure size 576x576 with 1 Axes>"
      ]
     },
     "metadata": {
      "needs_background": "light"
     },
     "output_type": "display_data"
    }
   ],
   "source": [
    "print_graphs(y_train, y_pred)"
   ]
  },
  {
   "cell_type": "code",
   "execution_count": null,
   "metadata": {},
   "outputs": [],
   "source": []
  }
 ],
 "metadata": {
  "kernelspec": {
   "display_name": "Python 3",
   "language": "python",
   "name": "python3"
  },
  "language_info": {
   "codemirror_mode": {
    "name": "ipython",
    "version": 3
   },
   "file_extension": ".py",
   "mimetype": "text/x-python",
   "name": "python",
   "nbconvert_exporter": "python",
   "pygments_lexer": "ipython3",
   "version": "3.7.7"
  }
 },
 "nbformat": 4,
 "nbformat_minor": 4
}
