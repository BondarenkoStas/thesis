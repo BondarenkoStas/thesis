{
 "cells": [
  {
   "cell_type": "code",
   "execution_count": null,
   "metadata": {},
   "outputs": [],
   "source": [
    "import numpy as np\n",
    "import pandas as pd\n",
    "import pickle\n",
    "import time\n",
    "\n",
    "from joblib import dump, load\n",
    "from sklearn.impute import KNNImputer\n",
    "from sklearn.utils import shuffle\n",
    "from sklearn.feature_selection import VarianceThreshold, f_regression, mutual_info_regression, SelectFromModel, RFECV\n",
    "from sklearn.ensemble import RandomForestRegressor, AdaBoostRegressor\n",
    "from sklearn.linear_model import LinearRegression\n",
    "\n",
    "pd.options.display.float_format = '{:20,.15f}'.format"
   ]
  },
  {
   "cell_type": "code",
   "execution_count": null,
   "metadata": {},
   "outputs": [],
   "source": [
    "from importlib import reload\n",
    "# module references for reload\n",
    "import process_class, output, run_models\n",
    "\n",
    "from process_class import Process\n",
    "from output import output_metrics\n",
    "from run_models import run_nn, run_lgb\n",
    "\n",
    "reload(process_class)\n",
    "reload(output)\n",
    "reload(output)\n",
    "\n",
    "# reimport in case changed\n",
    "from process_class import Process\n",
    "from output import output_metrics\n",
    "from run_models import run_nn, run_lgb"
   ]
  },
  {
   "cell_type": "code",
   "execution_count": null,
   "metadata": {},
   "outputs": [],
   "source": [
    "def process_data(raw_data):\n",
    "    data = {}\n",
    "    imputer_func = KNNImputer(n_neighbors=30, weights='distance')\n",
    "    process = Process(\n",
    "        raw_data['X_train'], raw_data['X_test'], raw_data['X_val'], \n",
    "        raw_data['y_train'], raw_data['y_test'], raw_data['y_val'], \n",
    "        imputer='func', imputer_func=imputer_func\n",
    "    ).skew_X().skew_y().fill_nan()\n",
    "    data['X_train'], data['X_test'], data['X_val'], data['y_train'], data['y_test'], data['y_val'] = process.return_processed()\n",
    "    return data, process"
   ]
  },
  {
   "cell_type": "code",
   "execution_count": null,
   "metadata": {},
   "outputs": [],
   "source": [
    "with open('processed/dataset_all_no_process_data.pickle', 'rb') as handle:\n",
    "    raw_data = pickle.load(handle)\n",
    "X_raw = pd.concat([raw_data['X_train'], raw_data['X_test'], raw_data['X_val']])\n",
    "y_raw = pd.concat([raw_data['y_train'], raw_data['y_test'], raw_data['y_val']])\n",
    "\n",
    "with open('processed/dataset_all_data.pickle', 'rb') as handle:\n",
    "    data = pickle.load(handle)\n",
    "    \n",
    "with open('processed/dataset_all_process.pickle', 'rb') as handle:\n",
    "    process = pickle.load(handle)\n",
    "\n",
    "X = pd.concat([data['X_train'], data['X_test'], data['X_val']])\n",
    "y = np.concatenate([data['y_train'], data['y_test'], data['y_val']])"
   ]
  },
  {
   "cell_type": "code",
   "execution_count": null,
   "metadata": {},
   "outputs": [],
   "source": [
    "def get_mins_from_result(results):\n",
    "    for mod in ['nn', 'lgb']:\n",
    "        for metric in ['smape', 'mape', 'mae', 'rmse']:\n",
    "            s = [(th, results[th][mod][0][\"test\"][metric]) for th in results]\n",
    "            print(mod, metric, min(s, key=lambda t: t[1]))\n",
    "        for metric in ['adj_r2']:\n",
    "            s = [(th, results[th][mod][0][\"test\"][metric]) for th in results]\n",
    "            print(mod, metric, max(s, key=lambda t: t[1]))"
   ]
  },
  {
   "cell_type": "code",
   "execution_count": null,
   "metadata": {},
   "outputs": [],
   "source": [
    "###########################################\n",
    "# Move raw all dataset through variance threshold\n",
    "# and output metrics to find the best result\n",
    "###########################################"
   ]
  },
  {
   "cell_type": "code",
   "execution_count": null,
   "metadata": {
    "tags": []
   },
   "outputs": [],
   "source": [
    "results = {}\n",
    "for threshold in [0.01, 0.02, 0.03, 0.05, 0.75, 0.1, 0.15, 0.2, 0.25, 0.3, 0.35, 0.4, 0.5]:\n",
    "    print('#########################################')\n",
    "    print(threshold)\n",
    "    selector = VarianceThreshold(threshold=threshold)\n",
    "    selector.fit(X_raw)\n",
    "    features = selector.get_support(indices=True)\n",
    "    print(f'{len(features)}\\tfeatures')\n",
    "    d = raw_data.copy()\n",
    "    for name in ['X_train', 'X_test', 'X_val']:\n",
    "        d[name] = d[name][d[name].columns[features]]\n",
    "    data, process = process_data(d)\n",
    "    results[threshold] = {}\n",
    "    results[threshold]['features'] = features\n",
    "    results[threshold]['nn'] = run_nn(data, process)\n",
    "    results[threshold]['lgb'] = run_lgb(data, process)"
   ]
  },
  {
   "cell_type": "code",
   "execution_count": null,
   "metadata": {},
   "outputs": [],
   "source": [
    "get_mins_from_result(results)"
   ]
  },
  {
   "cell_type": "code",
   "execution_count": null,
   "metadata": {
    "tags": []
   },
   "outputs": [],
   "source": [
    "selector = VarianceThreshold(threshold=0.01)\n",
    "selector.fit(X_raw)\n",
    "features_VT = [X_raw.columns[i] for i in selector.get_support(indices=True)]\n",
    "print(len(features_VT))\n",
    "print(features_VT)"
   ]
  },
  {
   "cell_type": "code",
   "execution_count": null,
   "metadata": {},
   "outputs": [],
   "source": []
  },
  {
   "cell_type": "code",
   "execution_count": null,
   "metadata": {},
   "outputs": [],
   "source": []
  },
  {
   "cell_type": "code",
   "execution_count": null,
   "metadata": {
    "tags": []
   },
   "outputs": [],
   "source": [
    "####################################\n",
    "# f_regression\n",
    "####################################\n",
    "results = {}\n",
    "\n",
    "f_test, _ = f_regression(X, y)\n",
    "f_test /= np.max(f_test)\n",
    "\n",
    "num_features_list = []\n",
    "threshold = 0.000001\n",
    "while threshold < 0.2:\n",
    "    features = [col for i, col in enumerate(data['X_train'].columns) if f_test[i] >= threshold]\n",
    "    num_features = len(features)\n",
    "    if num_features not in num_features_list:\n",
    "        num_features_list.append(num_features)\n",
    "        print('#########################################')\n",
    "        print(f'{threshold}\\tthreshold')\n",
    "        print(f'{num_features}\\tnum features')\n",
    "\n",
    "        d = raw_data.copy()\n",
    "        for name in ['X_train', 'X_test', 'X_val']:\n",
    "            d[name] = d[name][features]\n",
    "        data_run, process_run = process_data(d)\n",
    "        results[threshold] = {}\n",
    "        results[threshold]['features'] = features\n",
    "        results[threshold]['nn'] = run_nn(data_run, process_run)\n",
    "        results[threshold]['lgb'] = run_lgb(data_run, process_run)\n",
    "    if threshold < 0.01:\n",
    "        threshold += 0.001\n",
    "    else:\n",
    "        threshold += 0.01"
   ]
  },
  {
   "cell_type": "code",
   "execution_count": null,
   "metadata": {
    "tags": []
   },
   "outputs": [],
   "source": [
    "get_mins_from_result(results)"
   ]
  },
  {
   "cell_type": "code",
   "execution_count": null,
   "metadata": {
    "tags": []
   },
   "outputs": [],
   "source": [
    "features_FTEST = [col for i, col in enumerate(data['X_train'].columns) if f_test[i] >= 0.003]\n",
    "print(len(features_FTEST))\n",
    "print(features_FTEST)"
   ]
  },
  {
   "cell_type": "code",
   "execution_count": null,
   "metadata": {},
   "outputs": [],
   "source": []
  },
  {
   "cell_type": "code",
   "execution_count": null,
   "metadata": {},
   "outputs": [],
   "source": []
  },
  {
   "cell_type": "code",
   "execution_count": null,
   "metadata": {
    "tags": []
   },
   "outputs": [],
   "source": [
    "####################################\n",
    "# mutual info regression\n",
    "####################################\n",
    "results_minfo = {}\n",
    "\n",
    "mi = mutual_info_regression(X, y)\n",
    "mi /= np.max(mi)\n",
    "\n",
    "num_features_list = []\n",
    "threshold = 0.0\n",
    "while threshold < 0.4:\n",
    "    features = [col for i, col in enumerate(data['X_train'].columns) if mi[i] >= threshold]\n",
    "    num_features = len(features)\n",
    "    if num_features not in num_features_list:\n",
    "        num_features_list.append(num_features)\n",
    "        print('#########################################')\n",
    "        print(f'{threshold}\\tthreshold')\n",
    "        print(f'{num_features}\\tnum features')\n",
    "\n",
    "        d = raw_data.copy()\n",
    "        for name in ['X_train', 'X_test', 'X_val']:\n",
    "            d[name] = d[name][features]\n",
    "        data_run, process_run = process_data(d)\n",
    "        results_minfo[threshold] = {}\n",
    "        results_minfo[threshold]['features'] = features\n",
    "        results_minfo[threshold]['nn'] = run_nn(data_run, process_run)\n",
    "        results_minfo[threshold]['lgb'] = run_lgb(data_run, process_run)\n",
    "    if threshold < 0.01:\n",
    "        threshold += 0.001\n",
    "    else:\n",
    "        threshold += 0.01"
   ]
  },
  {
   "cell_type": "code",
   "execution_count": null,
   "metadata": {
    "tags": []
   },
   "outputs": [],
   "source": [
    "get_mins_from_result(results_minfo)"
   ]
  },
  {
   "cell_type": "code",
   "execution_count": null,
   "metadata": {
    "tags": []
   },
   "outputs": [],
   "source": [
    "features_MIR = [col for i, col in enumerate(data['X_train'].columns) if mi[i] >= 0.006]\n",
    "print(len(features_MIR))\n",
    "print(features_MIR)"
   ]
  },
  {
   "cell_type": "code",
   "execution_count": null,
   "metadata": {},
   "outputs": [],
   "source": []
  },
  {
   "cell_type": "code",
   "execution_count": null,
   "metadata": {},
   "outputs": [],
   "source": []
  },
  {
   "cell_type": "code",
   "execution_count": null,
   "metadata": {
    "tags": []
   },
   "outputs": [],
   "source": [
    "####################################\n",
    "# Select from model\n",
    "####################################\n",
    "\n",
    "def get_RFR_model():\n",
    "    return RandomForestRegressor(\n",
    "        n_estimators=40,\n",
    "        max_depth=15,\n",
    "        min_samples_split=0.001,\n",
    "        min_samples_leaf=0.0005,\n",
    "        bootstrap=True,\n",
    "        max_samples=0.95,\n",
    "        criterion='mae', \n",
    "        random_state=0, \n",
    "        n_jobs=-1,\n",
    "    )\n",
    "\n",
    "results_select = {}\n",
    "num_features_list = []\n",
    "threshold = 0.0\n",
    "while threshold < 1.0:\n",
    "    start_time = time.time()\n",
    "    model = get_RFR_model()\n",
    "    selector = SelectFromModel(estimator=model, prefit=False, threshold=f'{threshold}*mean')\n",
    "    selector.fit(X,y)\n",
    "    features = [X.columns[i] for i in selector.get_support(indices=True)]\n",
    "    num_features = len(features)\n",
    "    if num_features not in num_features_list:\n",
    "        num_features_list.append(num_features)\n",
    "        print('#########################################')\n",
    "        print(f'{threshold}\\tthreshold')\n",
    "        print(f'{num_features}\\tnum features')\n",
    "        d = raw_data.copy()\n",
    "        for name in ['X_train', 'X_test', 'X_val']:\n",
    "            d[name] = d[name][features]\n",
    "        data_run, process_run = process_data(d)\n",
    "        results_select[threshold] = {}\n",
    "        results_select[threshold]['selector'] = selector\n",
    "        results_select[threshold]['features'] = features\n",
    "        results_select[threshold]['nn'] = run_nn(data_run, process_run)\n",
    "        results_select[threshold]['lgb'] = run_lgb(data_run, process_run)\n",
    "    if threshold < 0.1:\n",
    "        threshold += 0.01\n",
    "    else:\n",
    "        threshold += 0.1\n",
    "    print(\"--- %s seconds ---\" % (time.time() - start_time))"
   ]
  },
  {
   "cell_type": "code",
   "execution_count": null,
   "metadata": {
    "tags": []
   },
   "outputs": [],
   "source": [
    "get_mins_from_result(results_select)"
   ]
  },
  {
   "cell_type": "code",
   "execution_count": null,
   "metadata": {},
   "outputs": [],
   "source": []
  },
  {
   "cell_type": "code",
   "execution_count": null,
   "metadata": {},
   "outputs": [],
   "source": []
  },
  {
   "cell_type": "code",
   "execution_count": null,
   "metadata": {},
   "outputs": [],
   "source": [
    "####################################################################################\n",
    "# RFECV feature selection with LR\n",
    "####################################################################################\n",
    "\n",
    "selector = RFECV(LinearRegression(), n_jobs=-1)\n",
    "selector = selector.fit(X, y)"
   ]
  },
  {
   "cell_type": "code",
   "execution_count": null,
   "metadata": {
    "tags": []
   },
   "outputs": [],
   "source": [
    "features_RFECV_LR = [X.columns[i] for i in selector.get_support(indices=True)]\n",
    "print(len(features_RFECV_LR))\n",
    "print(features_RFECV_LR)\n",
    "\n",
    "d = raw_data.copy()\n",
    "for name in ['X_train', 'X_test', 'X_val']:\n",
    "    d[name] = d[name][features_RFECV_LR]\n",
    "data_run, process_run = process_data(d)\n",
    "run_nn(data_run, process_run)\n",
    "run_lgb(data_run, process_run)"
   ]
  },
  {
   "cell_type": "code",
   "execution_count": null,
   "metadata": {},
   "outputs": [],
   "source": []
  },
  {
   "cell_type": "code",
   "execution_count": null,
   "metadata": {},
   "outputs": [],
   "source": []
  },
  {
   "cell_type": "code",
   "execution_count": null,
   "metadata": {},
   "outputs": [],
   "source": [
    "####################################################################################\n",
    "# RFECV feature selection with AdaBoostRegressor\n",
    "####################################################################################\n",
    "\n",
    "model = get_RFR_model()\n",
    "abr = AdaBoostRegressor(\n",
    "    base_estimator=model,\n",
    "    loss='exponential',\n",
    "    random_state=0\n",
    ")\n",
    "\n",
    "selector_adaboost = RFECV(abr, n_jobs=-1)\n",
    "selector_adaboost = selector.fit(X, y)"
   ]
  },
  {
   "cell_type": "code",
   "execution_count": null,
   "metadata": {
    "tags": []
   },
   "outputs": [],
   "source": [
    "features_RFECV_adaboost = [X.columns[i] for i in selector_adaboost.get_support(indices=True)]\n",
    "print(len(features_RFECV_adaboost))\n",
    "print(features_RFECV_adaboost)\n",
    "\n",
    "d = raw_data.copy()\n",
    "for name in ['X_train', 'X_test', 'X_val']:\n",
    "    d[name] = d[name][features_RFECV_adaboost]\n",
    "data_run, process_run = process_data(d)\n",
    "run_nn(data_run, process_run)\n",
    "run_lgb(data_run, process_run)"
   ]
  },
  {
   "cell_type": "code",
   "execution_count": null,
   "metadata": {},
   "outputs": [],
   "source": []
  },
  {
   "cell_type": "code",
   "execution_count": null,
   "metadata": {},
   "outputs": [],
   "source": []
  },
  {
   "cell_type": "code",
   "execution_count": null,
   "metadata": {},
   "outputs": [],
   "source": [
    "#########################################\n",
    "# RFECV feature selection with tuned RF #\n",
    "#########################################"
   ]
  },
  {
   "cell_type": "code",
   "execution_count": null,
   "metadata": {},
   "outputs": [],
   "source": [
    "model = RandomForestRegressor(\n",
    "    n_estimators=40,\n",
    "    max_depth=15,\n",
    "    min_samples_split=0.001,\n",
    "    min_samples_leaf=0.0005,\n",
    "    bootstrap=True,\n",
    "    max_samples=0.95,\n",
    "    criterion='mae', \n",
    "    random_state=0, \n",
    "    n_jobs=-1,\n",
    "    verbose=1,\n",
    ")\n",
    "selector = RFECV(model, verbose=10, n_jobs=-1)"
   ]
  },
  {
   "cell_type": "code",
   "execution_count": null,
   "metadata": {},
   "outputs": [],
   "source": [
    "selector = selector.fit(data['X_train'], data['y_train'])"
   ]
  },
  {
   "cell_type": "code",
   "execution_count": null,
   "metadata": {},
   "outputs": [],
   "source": [
    "joblib.dump(selector, 'rfecv_selector_joblib_2.sav')\n",
    "pickle.dump(selector, open('rfecv_selector_pickle_2.sav', 'wb'))"
   ]
  },
  {
   "cell_type": "code",
   "execution_count": null,
   "metadata": {
    "tags": []
   },
   "outputs": [],
   "source": [
    "# RFECV RFR\n",
    "with open('rfecv_selector_pickle_2.sav', 'rb') as handle:\n",
    "    rfecv_rfr = pickle.load(handle)\n",
    "\n",
    "features_RFECV_RFR = [X.columns[i] for i in rfecv_rfr.get_support(indices=True)]\n",
    "print(len(features_RFECV_RFR))\n",
    "print(features_RFECV_RFR)\n",
    "\n",
    "# d = raw_data.copy()\n",
    "# for name in ['X_train', 'X_test', 'X_val']:\n",
    "#     d[name] = d[name][features_RFECV_LR]\n",
    "# data_run, process_run = process_data(d)\n",
    "# run_nn(data_run, process_run)\n",
    "# run_lgb(data_run, process_run)"
   ]
  },
  {
   "cell_type": "code",
   "execution_count": null,
   "metadata": {
    "tags": []
   },
   "outputs": [],
   "source": [
    "# RFECV ETR\n",
    "rfecv_etr = load('rfecv_selector_joblib_etr.sav')\n",
    "\n",
    "features_RFECV_ETR = [X.columns[i] for i in rfecv_etr.get_support(indices=True)]\n",
    "print(len(features_RFECV_ETR))\n",
    "print(features_RFECV_ETR)\n",
    "\n",
    "d = raw_data.copy()\n",
    "for name in ['X_train', 'X_test', 'X_val']:\n",
    "    d[name] = d[name][features_RFECV_ETR]\n",
    "data_run, process_run = process_data(d)\n",
    "run_nn(data_run, process_run)\n",
    "run_lgb(data_run, process_run)"
   ]
  },
  {
   "cell_type": "code",
   "execution_count": null,
   "metadata": {},
   "outputs": [],
   "source": []
  },
  {
   "cell_type": "code",
   "execution_count": null,
   "metadata": {},
   "outputs": [],
   "source": []
  },
  {
   "cell_type": "code",
   "execution_count": null,
   "metadata": {},
   "outputs": [],
   "source": [
    "feature_sets = [features_VT, features_FTEST, features_MIR, features_RFECV_LR, features_RFECV_adaboost, features_RFECV_RFR, features_RFECV_ETR]\n",
    "dump(feature_sets, 'feature_sets.joblib')\n",
    "present_always = []\n",
    "for col in X.columns:\n",
    "    col_present = True\n",
    "    for feature_set in feature_sets:\n",
    "        if col not in feature_set:\n",
    "            col_present = False\n",
    "    if col_present:\n",
    "        present_always.append(col)"
   ]
  },
  {
   "cell_type": "code",
   "execution_count": null,
   "metadata": {},
   "outputs": [],
   "source": []
  }
 ],
 "metadata": {
  "kernelspec": {
   "display_name": "Python 3",
   "language": "python",
   "name": "python3"
  },
  "language_info": {
   "codemirror_mode": {
    "name": "ipython",
    "version": 3
   },
   "file_extension": ".py",
   "mimetype": "text/x-python",
   "name": "python",
   "nbconvert_exporter": "python",
   "pygments_lexer": "ipython3",
   "version": "3.7.7-final"
  }
 },
 "nbformat": 4,
 "nbformat_minor": 4
}