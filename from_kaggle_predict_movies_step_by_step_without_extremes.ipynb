{
 "cells": [
  {
   "cell_type": "code",
   "execution_count": 113,
   "metadata": {},
   "outputs": [],
   "source": [
    "import time\n",
    "\n",
    "import numpy as np\n",
    "import pandas as pd\n",
    "pd.set_option('display.float_format', lambda x: '%.10Ef' % x)\n",
    "import matplotlib.pyplot as plt\n",
    "import seaborn as sns\n",
    "from statistics import mean\n",
    "\n",
    "from sklearn import metrics\n",
    "from sklearn.utils import shuffle\n",
    "from sklearn.impute import SimpleImputer\n",
    "from sklearn.neural_network import MLPRegressor\n",
    "from sklearn.preprocessing import MinMaxScaler\n",
    "from sklearn.preprocessing import PowerTransformer\n",
    "from sklearn.experimental import enable_iterative_imputer\n",
    "from sklearn.impute import IterativeImputer\n",
    "from sklearn.impute import KNNImputer\n",
    "from sklearn.impute import SimpleImputer\n",
    "from sklearn.feature_selection import RFECV\n",
    "from sklearn.ensemble import RandomForestRegressor\n",
    "from sklearn.dummy import DummyRegressor\n",
    "\n",
    "from impyute.imputation import cs\n",
    "pd.options.display.float_format = '{:20,.15f}'.format"
   ]
  },
  {
   "cell_type": "code",
   "execution_count": 114,
   "metadata": {},
   "outputs": [],
   "source": [
    "def get_train_test_revenue(df):\n",
    "    df['revenue'] = df['META__revenue']\n",
    "#     dff = df[[col for col in df.columns if not 'META' in col and not 'PROCESS' in col and not 'profitability' in col and not 'cast' in col and not 'crew' in col]]\n",
    "    dff = df[[col for col in df.columns if not 'META' in col and not 'PROCESS' in col and not 'profitability' in col]]\n",
    "    X = dff.drop(['revenue'], axis=1)\n",
    "    y = dff['revenue']\n",
    "    return X, y"
   ]
  },
  {
   "cell_type": "code",
   "execution_count": 115,
   "metadata": {},
   "outputs": [],
   "source": [
    "def discard_extremes(df, n, col):\n",
    "    return df[(~df[col].isin(df.nlargest(n, col)[col]))&(~df[col].isin(df.nsmallest(n, col)[col]))]"
   ]
  },
  {
   "cell_type": "code",
   "execution_count": 116,
   "metadata": {},
   "outputs": [
    {
     "name": "stderr",
     "output_type": "stream",
     "text": [
      "/home/stas/anaconda3/lib/python3.7/site-packages/ipykernel_launcher.py:2: SettingWithCopyWarning: \n",
      "A value is trying to be set on a copy of a slice from a DataFrame.\n",
      "Try using .loc[row_indexer,col_indexer] = value instead\n",
      "\n",
      "See the caveats in the documentation: https://pandas.pydata.org/pandas-docs/stable/user_guide/indexing.html#returning-a-view-versus-a-copy\n",
      "  \n"
     ]
    }
   ],
   "source": [
    "df = pd.read_csv('savedcsv/17_homepage.csv')\n",
    "df = discard_extremes(df, 10, 'META__revenue')\n",
    "\n",
    "num_in_train = int(df.shape[0]*0.8)\n",
    "df_train = df[:num_in_train]\n",
    "df_test = df[num_in_train:]\n",
    "X_train, y_train = get_train_test_revenue(df_train)\n",
    "X_test, y_test = get_train_test_revenue(df_test)"
   ]
  },
  {
   "cell_type": "code",
   "execution_count": 128,
   "metadata": {},
   "outputs": [],
   "source": [
    "# Create a model\n",
    "from sklearn.linear_model import ElasticNet, Lasso,  BayesianRidge, LassoLarsIC\n",
    "from sklearn.ensemble import RandomForestRegressor,  GradientBoostingRegressor\n",
    "from catboost import CatBoostRegressor\n",
    "from sklearn.kernel_ridge import KernelRidge\n",
    "from sklearn.pipeline import make_pipeline\n",
    "from sklearn.preprocessing import RobustScaler\n",
    "from sklearn.base import BaseEstimator, TransformerMixin, RegressorMixin, clone\n",
    "from sklearn.model_selection import KFold, cross_val_score, train_test_split\n",
    "from sklearn.metrics import mean_squared_error\n",
    "import xgboost as xgb\n",
    "import lightgbm as lgb\n",
    "\n",
    "mod_mlp = MLPRegressor(\n",
    "    solver='adam',\n",
    "    hidden_layer_sizes=(100,),\n",
    "    activation='relu',\n",
    "    max_iter=10000)\n",
    "\n",
    "mod_lasso = make_pipeline(RobustScaler(), Lasso(alpha=0.005, random_state=1))\n",
    "\n",
    "mod_enet = make_pipeline(RobustScaler(), ElasticNet(alpha=0.0005, l1_ratio=.9, random_state=3))\n",
    "\n",
    "mod_cat = CatBoostRegressor(iterations=10000, learning_rate=0.01,\n",
    "                            depth=5, eval_metric='RMSE',\n",
    "                            colsample_bylevel=0.7, random_seed = 17, silent=True,\n",
    "                            bagging_temperature = 0.2, early_stopping_rounds=200)\n",
    "\n",
    "mod_gboost = GradientBoostingRegressor(n_estimators=3000, learning_rate=0.05,\n",
    "                                   max_depth=5, max_features='sqrt',\n",
    "                                   min_samples_leaf=15, min_samples_split=10, \n",
    "                                   loss='huber', random_state=5)\n",
    "\n",
    "mod_xgb = xgb.XGBRegressor(colsample_bytree=0.4603, gamma=0.0468, \n",
    "                             learning_rate=0.05, max_depth=3, \n",
    "                             min_child_weight=1.7817, n_estimators=2200,\n",
    "                             reg_alpha=0.4640, reg_lambda=0.8571,\n",
    "                             subsample=0.5213, silent=1,\n",
    "                             random_state=7, nthread=-1)\n",
    "\n",
    "mod_lgb = lgb.LGBMRegressor(objective='regression',num_leaves=8,\n",
    "                              learning_rate=0.05, n_estimators=650,\n",
    "                              max_bin=58, bagging_fraction=0.80,\n",
    "                              bagging_freq=5, feature_fraction=0.2319,\n",
    "                              feature_fraction_seed=9, bagging_seed=9,\n",
    "                              min_data_in_leaf=7, min_sum_hessian_in_leaf=11)\n",
    "\n",
    "class StackingAveragedModels(BaseEstimator, RegressorMixin, TransformerMixin):\n",
    "    def __init__(self, base_models, meta_model, n_folds=5):\n",
    "        self.base_models = base_models\n",
    "        self.meta_model = meta_model\n",
    "        self.n_folds = n_folds\n",
    "   \n",
    "    # We again fit the data on clones of the original models\n",
    "    def fit(self, X, y):\n",
    "        self.base_models_ = [list() for x in self.base_models]\n",
    "        self.meta_model_ = clone(self.meta_model)\n",
    "        kfold = KFold(n_splits=self.n_folds, shuffle=True, random_state=156)\n",
    "        \n",
    "        # Train cloned base models then create out-of-fold predictions\n",
    "        # that are needed to train the cloned meta-model\n",
    "        out_of_fold_predictions = np.zeros((X.shape[0], len(self.base_models)))\n",
    "        for i, model in enumerate(self.base_models):\n",
    "            for train_index, holdout_index in kfold.split(X, y):\n",
    "                instance = clone(model)\n",
    "                self.base_models_[i].append(instance)\n",
    "                instance.fit(X[train_index], y[train_index])\n",
    "                y_pred = instance.predict(X[holdout_index])\n",
    "                out_of_fold_predictions[holdout_index, i] = y_pred\n",
    "                \n",
    "        # Now train the cloned  meta-model using the out-of-fold predictions as new feature\n",
    "        self.meta_model_.fit(out_of_fold_predictions, y)\n",
    "        return self\n",
    "   \n",
    "    #Do the predictions of all base models on the test data and use the averaged predictions as \n",
    "    #meta-features for the final prediction which is done by the meta-model\n",
    "    def predict(self, X):\n",
    "        meta_features = np.column_stack([\n",
    "            np.column_stack([model.predict(X) for model in base_models]).mean(axis=1)\n",
    "            for base_models in self.base_models_ ])\n",
    "        return self.meta_model_.predict(meta_features)\n",
    "    \n",
    "mod_rfr = RandomForestRegressor(n_estimators=100, min_samples_split=3, random_state=0, n_jobs=-1)\n",
    "\n",
    "# mod_dummy = DummyRegressor(strategy='median')\n",
    "mod_dummy = DummyRegressor()\n",
    "    \n",
    "mod_stacked = StackingAveragedModels(base_models = (mod_cat, mod_xgb, mod_gboost, mod_lgb), meta_model = mod_lasso)"
   ]
  },
  {
   "cell_type": "code",
   "execution_count": 129,
   "metadata": {},
   "outputs": [],
   "source": [
    "class Process:\n",
    "    def __init__(self, \n",
    "                 X_train, X_test, y_train, y_test, \n",
    "                 imputer='mean', \n",
    "                 minmaxrange=(0,1), \n",
    "                 standardize_X=True,\n",
    "                 standardize_y=True,\n",
    "                ):\n",
    "        self.X_train = X_train.copy()\n",
    "        self.X_test = X_test.copy()\n",
    "        self.y_train = y_train.copy().values.reshape(-1, 1)\n",
    "        self.y_test = y_test.copy().values.reshape(-1, 1)\n",
    "        self.imputer = imputer\n",
    "        self.X_minmaxscaler = MinMaxScaler(feature_range=minmaxrange)\n",
    "        self.y_minmaxscaler = MinMaxScaler(feature_range=minmaxrange)\n",
    "        self.skewer_X = PowerTransformer(standardize=standardize_X)\n",
    "        self.skewer_y = PowerTransformer(standardize=standardize_y)\n",
    "\n",
    "    def fill_nan(self):\n",
    "        def fill_train_test(imputer):\n",
    "            imputer.fit(self.X_train)\n",
    "            self.X_train[:] = imputer.transform(self.X_train)\n",
    "            self.X_test[:] = imputer.transform(self.X_test)\n",
    "\n",
    "        if (self.imputer == 'mean'):\n",
    "            fill_train_test(SimpleImputer(strategy='mean'))\n",
    "        elif (self.imputer == 'median'):\n",
    "            fill_train_test(SimpleImputer(strategy='median'))\n",
    "        elif (self.imputer == 'knn'):\n",
    "            fill_train_test(KNNImputer())\n",
    "        elif (self.imputer == 'iterative'):\n",
    "            fill_train_test(IterativeImputer(verbose=0, max_iter=50))\n",
    "        elif (self.imputer == 'iterative_mlp'):\n",
    "            fill_train_test(\n",
    "                IterativeImputer(\n",
    "                    estimator=MLPRegressor(learning_rate='adaptive', random_state=0),\n",
    "                    verbose=2,\n",
    "                )\n",
    "            )\n",
    "        return self\n",
    "        \n",
    "    def minmaxscale_X(self, inverse=False):\n",
    "        def scaler_transform(obj):\n",
    "            return self.X_minmaxscaler.transform(obj)\n",
    "        \n",
    "        def scaler_transform_inverse(obj):\n",
    "            return self.X_minmaxscaler.inverse_transform(obj)\n",
    "        \n",
    "        if inverse:\n",
    "            self.X_train[:] = scaler_transform_inverse(self.X_train)\n",
    "            self.X_test[:] = scaler_transform_inverse(self.X_test)\n",
    "        else:\n",
    "            self.X_minmaxscaler.fit(self.X_train)\n",
    "            self.X_train[:] = scaler_transform(self.X_train)\n",
    "            self.X_test[:] = scaler_transform(self.X_test)\n",
    "        return self\n",
    "    \n",
    "    def minmaxscale_Y(self, inverse=False):\n",
    "        def scaler_transform(obj):\n",
    "            return self.y_minmaxscaler.transform(obj)\n",
    "        \n",
    "        def scaler_transform_inverse(obj):\n",
    "            return self.y_minmaxscaler.inverse_transform(obj)\n",
    "        \n",
    "        if inverse:\n",
    "            self.y_train[:] = scaler_transform_inverse(self.y_train)\n",
    "            self.y_test[:] = scaler_transform_inverse(self.y_test)\n",
    "        else:\n",
    "            self.y_minmaxscaler.fit(self.y_train)\n",
    "            self.y_train[:] = scaler_transform(self.y_train)\n",
    "            self.y_test[:] = scaler_transform(self.y_test)\n",
    "        return self\n",
    "    \n",
    "    def make_target_positive(self):\n",
    "        self.min_y_train = min(self.y_train)\n",
    "        self.y_train = self.y_train - self.min_y_train + 1\n",
    "        self.y_test = self.y_test - self.min_y_train + 1\n",
    "        return self\n",
    "        \n",
    "    def return_target_back_from_positive(self):\n",
    "        self.y_train = self.y_train + self.min_y_train - 1\n",
    "        self.y_test = self.y_test + self.min_y_train - 1\n",
    "        return self\n",
    "    \n",
    "    def return_target_back_from_positive(self, obj):\n",
    "        return obj + self.min_y_train - 1\n",
    "    \n",
    "    def skew_X(self, inverse=False):\n",
    "        self.skewer_X.fit(self.X_train)\n",
    "        self.X_train[:] = self.skewer_X.transform(self.X_train)\n",
    "        self.X_test[:] = self.skewer_X.transform(self.X_test)\n",
    "        return self\n",
    "    \n",
    "    def skew_X_inverse(self, data):\n",
    "        return self.skewer_X.inverse_transform(data)\n",
    "    \n",
    "    def skew_y(self):\n",
    "        self.skewer_y.fit(self.y_train)\n",
    "        self.y_train = self.skewer_y.transform(self.y_train)\n",
    "        self.y_test = self.skewer_y.transform(self.y_test)\n",
    "        return self\n",
    "\n",
    "    def skew_y_inverse(self, data): # data is 1d ndarray\n",
    "        return self.skewer_y.inverse_transform(data.reshape(-1, 1)).flatten()\n",
    "\n",
    "    def return_processed(self):\n",
    "        return self.X_train, self.X_test, self.y_train.flatten(), self.y_test.flatten()       "
   ]
  },
  {
   "cell_type": "code",
   "execution_count": 130,
   "metadata": {},
   "outputs": [],
   "source": [
    "#Validation function\n",
    "n_folds = 10\n",
    "def rmsle_cv(model, X, y):\n",
    "    kf = KFold(n_folds, shuffle=True, random_state=42).get_n_splits(X.values)\n",
    "    return np.sqrt(-cross_val_score(model, X.values, y, scoring=\"neg_mean_squared_error\", cv=kf, n_jobs=-1))\n",
    "\n",
    "def eval_model(model, name, X, y):\n",
    "    start_time = time.time()\n",
    "    score = rmsle_cv(model, X, y)\n",
    "    print(\"{} score: {:.4f} ({:.4f}),     execution time: {:.1f}\".format(name, score.mean(), score.std(), time.time()-start_time))\n",
    "\n",
    "\n",
    "def eval_models(X, y):\n",
    "#     eval_model(mod_mlp, \"mlp\", X, y)\n",
    "#     eval_model(mod_lasso, \"lasso\", X, y)\n",
    "#     eval_model(mod_enet, \"enet\", X, y)\n",
    "    eval_model(mod_cat, \"cat\", X, y)\n",
    "    eval_model(mod_gboost, \"gboost\", X, y)\n",
    "    eval_model(mod_xgb, \"xgb\", X, y)\n",
    "    eval_model(mod_lgb, \"lgb\", X, y)\n",
    "#     eval_model(mod_stacked, \"stacked\", X, y)\n",
    "\n",
    "\n",
    "\n",
    "\n",
    "\n",
    "# ---------------------------------------------------------------------\n",
    "def get_metrics(y_test, y_pred, cols):\n",
    "    SS_Residual = sum((y_test - y_pred)**2)\n",
    "    SS_Total = sum((y_test - np.mean(y_test))**2)\n",
    "    r2 = 1 - (float(SS_Residual))/SS_Total\n",
    "    adj_r2 = 1 - (1-r2)*(len(y_test) - 1)/(len(y_test) - cols -1)\n",
    "    return  {\n",
    "        'mape': sum(abs((y_test - y_pred)/y_test)),\n",
    "        'mae': metrics.mean_absolute_error(y_test, y_pred),\n",
    "        'mse': metrics.mean_squared_error(y_test, y_pred),\n",
    "        'rmse': np.sqrt(metrics.mean_squared_error(y_test, y_pred)),\n",
    "        'r2': r2,\n",
    "        'adj_r2': adj_r2,\n",
    "    }\n",
    "\n",
    "def print_metrics(data, y_test, y_pred, cols):\n",
    "    print(data)\n",
    "    res = get_metrics(y_test, y_pred, cols)\n",
    "    for key in res:\n",
    "        print(f'{key}: {res[key]}')\n",
    "    return res\n",
    "\n",
    "def predict(model, model_name, X_train, y_train, X_test, y_test):\n",
    "    print()\n",
    "    print(model_name)\n",
    "    model.fit(X_train.values, y_train)\n",
    "    pred_train = model.predict(X_train.values)\n",
    "    pred_test = model.predict(X_test.values)\n",
    "    return {\n",
    "        'res': {\n",
    "            'train': print_metrics('train', y_train, pred_train, X_train.shape[1]),\n",
    "            'test': print_metrics('test', y_test, pred_test, X_test.shape[1]),\n",
    "        },\n",
    "        'predictions':{\n",
    "            'train': pred_train,\n",
    "            'test': pred_test,\n",
    "        },\n",
    "        'actual': {\n",
    "            'train': y_train,\n",
    "            'test': y_test,\n",
    "        },\n",
    "    }\n",
    "\n",
    "\n",
    "def predict_test(X_train, y_train, X_test, y_test):\n",
    "    prediction_results = {}\n",
    "    prediction_results['dummy'] = predict(mod_dummy, 'dummy', X_train, y_train, X_test, y_test)\n",
    "#     prediction_results['mlp'] = predict(mod_mlp, 'mlp', X_train, y_train, X_test, y_test)        \n",
    "#     prediction_results['lasso'] = predict(mod_lasso, 'lasso', X_train, y_train, X_test, y_test)\n",
    "#     prediction_results['enet'] = predict(mod_enet, 'enet', X_train, y_train, X_test, y_test)\n",
    "#     prediction_results['xgb'] = predict(mod_xgb, 'xgb', X_train, y_train, X_test, y_test)\n",
    "#     prediction_results['gboost'] = predict(mod_gboost, 'gboost', X_train, y_train, X_test, y_test)\n",
    "#     prediction_results['lgb'] = predict(mod_lgb, 'lgb', X_train, y_train, X_test, y_test)\n",
    "#     prediction_results['rfr'] = predict(mod_rfr, 'rfr', X_train, y_train, X_test, y_test)\n",
    "#     prediction_results['mod_stacked'] = predict(mod_stacked, 'mod', X_train, y_train, X_test, y_test)\n",
    "    return prediction_results\n",
    "\n",
    "# ---------------------------------------------------------------------\n",
    "def print_graphs(actual, predicted, print_log=False):\n",
    "    length = len(actual)\n",
    "    res_df = pd.DataFrame({'actual':actual, 'predicted': predicted}).astype(float)\n",
    "    res_df.sort_values(by='actual', inplace=True)\n",
    "\n",
    "    plt.figure()\n",
    "    x = np.linspace(0, length, length)\n",
    "    plt.plot(x, res_df['actual'], label='actual')\n",
    "    plt.plot(x, res_df['predicted'], label='predicted')\n",
    "\n",
    "    plt.ticklabel_format(useOffset=False, style='plain')\n",
    "    plt.rcParams[\"figure.figsize\"] = (8,8)\n",
    "    if print_log:\n",
    "        plt.yscale('log')\n",
    "    plt.show()\n",
    "    \n",
    "def print_sorted_actual_to_predicted_graphs(res, process=None):\n",
    "    for i in res:\n",
    "        print('^^^^^^^^^^^^^^^^^^^^^^^^^^^^')\n",
    "        print(i)\n",
    "        print('train')\n",
    "        print_graphs(res[i]['actual']['train'], res[i]['predictions']['train'])\n",
    "        print('test')        \n",
    "        print_graphs(res[i]['actual']['test'], res[i]['predictions']['test'])\n",
    "        \n",
    "        if process:\n",
    "            train_real = process.skew_y_inverse(res[i]['actual']['train'])\n",
    "            test_real = process.skew_y_inverse(res[i]['actual']['test'])\n",
    "            pred_train_real = process.skew_y_inverse(res[i]['predictions']['train'])\n",
    "            pred_test_real = process.skew_y_inverse(res[i]['predictions']['test'])\n",
    "\n",
    "            print('train real values')\n",
    "            print_graphs(train_real, pred_train_real)\n",
    "            print('test real values')\n",
    "            print_graphs(test_real, pred_test_real)"
   ]
  },
  {
   "cell_type": "code",
   "execution_count": 111,
   "metadata": {
    "pixiedust": {
     "displayParams": {}
    }
   },
   "outputs": [],
   "source": [
    "data = {}\n",
    "process = Process(X_train, X_test, y_train, y_test, imputer='mean').skew_X().skew_y().minmaxscale_X().fill_nan()\n",
    "Xh_train, Xh_test, yh_train, yh_test = process.return_processed()\n",
    "data['X_train'] = Xh_train\n",
    "data['X_test'] = Xh_test\n",
    "data['y_train'] = yh_train\n",
    "data['y_test'] = yh_test"
   ]
  },
  {
   "cell_type": "code",
   "execution_count": 125,
   "metadata": {},
   "outputs": [
    {
     "name": "stdout",
     "output_type": "stream",
     "text": [
      "\n",
      "dummy\n",
      "train\n",
      "mape: 5987.507038293008\n",
      "mae: 0.7999768487720232\n",
      "mse: 1.0000011498020471\n",
      "rmse: 1.0000005749008583\n",
      "r2: -1.149802050237625e-06\n",
      "adj_r2: -0.0391112243206424\n",
      "test\n",
      "mape: 1495.3476342313095\n",
      "mae: 1.0186195008085746\n",
      "mse: 1.4915596858177058\n",
      "rmse: 1.221294266676834\n",
      "r2: -0.04858538586862027\n",
      "adj_r2: -0.23450478052617707\n",
      "^^^^^^^^^^^^^^^^^^^^^^^^^^^^\n",
      "dummy\n",
      "train\n"
     ]
    },
    {
     "data": {
      "image/png": "[encoded data removed]",
      "text/plain": [
       "<Figure size 576x576 with 1 Axes>"
      ]
     },
     "metadata": {
      "needs_background": "light"
     },
     "output_type": "display_data"
    },
    {
     "name": "stdout",
     "output_type": "stream",
     "text": [
      "test\n"
     ]
    },
    {
     "data": {
      "image/png": "[encoded data removed]",
      "text/plain": [
       "<Figure size 576x576 with 1 Axes>"
      ]
     },
     "metadata": {
      "needs_background": "light"
     },
     "output_type": "display_data"
    },
    {
     "name": "stdout",
     "output_type": "stream",
     "text": [
      "train real values\n"
     ]
    },
    {
     "data": {
      "image/png": "[encoded data removed]",
      "text/plain": [
       "<Figure size 576x576 with 1 Axes>"
      ]
     },
     "metadata": {
      "needs_background": "light"
     },
     "output_type": "display_data"
    },
    {
     "name": "stdout",
     "output_type": "stream",
     "text": [
      "test real values\n"
     ]
    },
    {
     "data": {
      "image/png": "[encoded data removed]",
      "text/plain": [
       "<Figure size 576x576 with 1 Axes>"
      ]
     },
     "metadata": {
      "needs_background": "light"
     },
     "output_type": "display_data"
    }
   ],
   "source": [
    "results = predict_test(data['X_train'], data['y_train'], data['X_test'], data['y_test'])\n",
    "print_sorted_actual_to_predicted_graphs(results, process)"
   ]
  },
  {
   "cell_type": "code",
   "execution_count": null,
   "metadata": {},
   "outputs": [],
   "source": []
  },
  {
   "cell_type": "code",
   "execution_count": null,
   "metadata": {},
   "outputs": [],
   "source": []
  },
  {
   "cell_type": "code",
   "execution_count": null,
   "metadata": {},
   "outputs": [],
   "source": []
  },
  {
   "cell_type": "code",
   "execution_count": 126,
   "metadata": {},
   "outputs": [],
   "source": [
    "data = {}\n",
    "process = Process(X_train, X_test, y_train, y_test, imputer='mean').skew_X().minmaxscale_X().fill_nan()\n",
    "Xh_train, Xh_test, yh_train, yh_test = process.return_processed()\n",
    "data['X_train'] = Xh_train\n",
    "data['X_test'] = Xh_test\n",
    "data['y_train'] = yh_train\n",
    "data['y_test'] = yh_test"
   ]
  },
  {
   "cell_type": "code",
   "execution_count": 131,
   "metadata": {},
   "outputs": [
    {
     "name": "stdout",
     "output_type": "stream",
     "text": [
      "\n",
      "dummy\n",
      "train\n",
      "mape: 1165879.5811588648\n",
      "mae: 82466862.75219868\n",
      "mse: 1.9888365932268976e+16\n",
      "rmse: 141026117.9082406\n",
      "r2: 0.0\n",
      "adj_r2: -0.03911002954980014\n",
      "test\n",
      "mape: 883883.6651071146\n",
      "mae: 97249780.4033559\n",
      "mse: 2.9127522684428908e+16\n",
      "rmse: 170667872.44361168\n",
      "r2: -0.000455149774845065\n",
      "adj_r2: -0.17784081462854107\n",
      "^^^^^^^^^^^^^^^^^^^^^^^^^^^^\n",
      "dummy\n",
      "train\n"
     ]
    },
    {
     "data": {
      "image/png": "[encoded data removed]",
      "text/plain": [
       "<Figure size 576x576 with 1 Axes>"
      ]
     },
     "metadata": {
      "needs_background": "light"
     },
     "output_type": "display_data"
    },
    {
     "name": "stdout",
     "output_type": "stream",
     "text": [
      "test\n"
     ]
    },
    {
     "data": {
      "image/png": "[encoded data removed]",
      "text/plain": [
       "<Figure size 576x576 with 1 Axes>"
      ]
     },
     "metadata": {
      "needs_background": "light"
     },
     "output_type": "display_data"
    }
   ],
   "source": [
    "results = predict_test(data['X_train'], data['y_train'], data['X_test'], data['y_test'])\n",
    "print_sorted_actual_to_predicted_graphs(results)"
   ]
  },
  {
   "cell_type": "code",
   "execution_count": null,
   "metadata": {},
   "outputs": [],
   "source": []
  },
  {
   "cell_type": "code",
   "execution_count": null,
   "metadata": {},
   "outputs": [],
   "source": []
  },
  {
   "cell_type": "code",
   "execution_count": null,
   "metadata": {},
   "outputs": [],
   "source": []
  },
  {
   "cell_type": "code",
   "execution_count": null,
   "metadata": {},
   "outputs": [],
   "source": []
  },
  {
   "cell_type": "code",
   "execution_count": null,
   "metadata": {},
   "outputs": [],
   "source": []
  },
  {
   "cell_type": "code",
   "execution_count": null,
   "metadata": {},
   "outputs": [],
   "source": [
    "process = Process(X_train, X_test, y_train, y_test, imputer='knn').skew_X().minmaxscaleX().fill_nan()\n",
    "Xh_train, Xh_test, yh_train, yh_test = process.return_processed()\n",
    "yh_train = np.log1p(yh_train)"
   ]
  },
  {
   "cell_type": "code",
   "execution_count": null,
   "metadata": {},
   "outputs": [],
   "source": [
    "estimator = RandomForestRegressor(n_estimators=100, min_samples_split=3, random_state=0, n_jobs=-1)\n",
    "selector = RFECV(estimator, verbose=10, n_jobs=-1)"
   ]
  },
  {
   "cell_type": "code",
   "execution_count": null,
   "metadata": {},
   "outputs": [],
   "source": [
    "selector = selector.fit(Xh_train, yh_train)"
   ]
  },
  {
   "cell_type": "code",
   "execution_count": null,
   "metadata": {},
   "outputs": [],
   "source": [
    "import joblib\n",
    "joblib.dump(selector, 'rfecv_selector_joblib_2.sav')\n",
    "import pickle\n",
    "pickle.dump(selector, open('rfecv_selector_pickle_2.sav', 'wb'))"
   ]
  },
  {
   "cell_type": "code",
   "execution_count": null,
   "metadata": {},
   "outputs": [],
   "source": [
    "selector.n_features_\n",
    "selector.support_\n",
    "selector.ranking_"
   ]
  },
  {
   "cell_type": "code",
   "execution_count": null,
   "metadata": {},
   "outputs": [],
   "source": []
  },
  {
   "cell_type": "code",
   "execution_count": null,
   "metadata": {},
   "outputs": [],
   "source": []
  },
  {
   "cell_type": "code",
   "execution_count": null,
   "metadata": {},
   "outputs": [],
   "source": [
    "ind = selector.get_support()\n",
    "not_ind = [not val for val in ind]\n",
    "list(Xh_train.columns[ind])"
   ]
  },
  {
   "cell_type": "code",
   "execution_count": null,
   "metadata": {},
   "outputs": [],
   "source": []
  },
  {
   "cell_type": "code",
   "execution_count": null,
   "metadata": {},
   "outputs": [],
   "source": []
  },
  {
   "cell_type": "code",
   "execution_count": null,
   "metadata": {},
   "outputs": [],
   "source": [
    "pd.options.display.float_format = '{:20,.15f}'.format\n",
    "print(Xh_train.astype(float).describe())"
   ]
  },
  {
   "cell_type": "code",
   "execution_count": null,
   "metadata": {},
   "outputs": [],
   "source": [
    "pd.options.display.float_format = '{:20,.15f}'.format\n",
    "print(Xh_train.astype(float).describe())"
   ]
  },
  {
   "cell_type": "code",
   "execution_count": null,
   "metadata": {},
   "outputs": [],
   "source": [
    "list(X_train.columns[not_ind])"
   ]
  },
  {
   "cell_type": "code",
   "execution_count": null,
   "metadata": {},
   "outputs": [],
   "source": [
    "selector.score(Xh_test, yh_test)"
   ]
  },
  {
   "cell_type": "code",
   "execution_count": null,
   "metadata": {},
   "outputs": [],
   "source": [
    "selector.score(Xh_train, yh_train)"
   ]
  },
  {
   "cell_type": "code",
   "execution_count": null,
   "metadata": {},
   "outputs": [],
   "source": [
    "selector.ranking_"
   ]
  },
  {
   "cell_type": "code",
   "execution_count": null,
   "metadata": {},
   "outputs": [],
   "source": [
    "selector.estimator_.feature_importances_ "
   ]
  },
  {
   "cell_type": "code",
   "execution_count": null,
   "metadata": {},
   "outputs": [],
   "source": [
    "# rank = [(list(X_train.columns)[i], list(selector.ranking_)[i]) for i in range(len(X_train.columns))]\n",
    "rank = [(list(X_train.columns)[i], list(selector.estimator_.feature_importances_)[i]) for i in range(len(X_train.columns))]"
   ]
  },
  {
   "cell_type": "code",
   "execution_count": null,
   "metadata": {},
   "outputs": [],
   "source": [
    "feature_names = list(X_train.columns.values)\n",
    "print(sorted(zip(map(lambda x: round(x, 4), selector.ranking_), feature_names)))"
   ]
  },
  {
   "cell_type": "code",
   "execution_count": null,
   "metadata": {},
   "outputs": [],
   "source": [
    "sorted(rank, key=lambda tup: tup[1])"
   ]
  },
  {
   "cell_type": "code",
   "execution_count": null,
   "metadata": {},
   "outputs": [],
   "source": []
  },
  {
   "cell_type": "code",
   "execution_count": null,
   "metadata": {},
   "outputs": [],
   "source": []
  },
  {
   "cell_type": "code",
   "execution_count": null,
   "metadata": {},
   "outputs": [],
   "source": []
  },
  {
   "cell_type": "code",
   "execution_count": null,
   "metadata": {},
   "outputs": [],
   "source": []
  },
  {
   "cell_type": "code",
   "execution_count": null,
   "metadata": {},
   "outputs": [],
   "source": []
  },
  {
   "cell_type": "code",
   "execution_count": null,
   "metadata": {},
   "outputs": [],
   "source": []
  },
  {
   "cell_type": "code",
   "execution_count": null,
   "metadata": {},
   "outputs": [],
   "source": []
  },
  {
   "cell_type": "code",
   "execution_count": null,
   "metadata": {},
   "outputs": [],
   "source": []
  },
  {
   "cell_type": "code",
   "execution_count": null,
   "metadata": {},
   "outputs": [],
   "source": [
    "from sklearn.model_selection import cross_validate\n",
    "from sklearn.model_selection import cross_val_predict\n",
    "scoring = ['neg_mean_squared_error']\n",
    "\n",
    "def predict_cv_model(model, name, X, y):\n",
    "    return cross_val_predict(model, X.values, y, cv=20, n_jobs=-1)\n",
    "\n",
    "\n",
    "def eval_models(X, y):\n",
    "#     eval_model(mod_mlp, \"mlp\", X, y)\n",
    "    return predict_cv_model(mod_lasso, \"lasso\", X, y)\n",
    "#     eval_model(mod_enet, \"enet\", X, y)\n",
    "#     eval_model(mod_cat, \"cat\", X, y)\n",
    "#     eval_model(mod_gboost, \"gboost\", X, y)\n",
    "#     eval_model(mod_xgb, \"xgb\", X, y)\n",
    "#     eval_model(mod_lgb, \"lgb\", X, y)\n",
    "#     eval_model(mod_stacked, \"stacked\", X, y)\n",
    "\n",
    "\n",
    "\n",
    "\n",
    "\n",
    "# ---------------------------------------------------------------------\n",
    "def get_metrics(y_test, y_pred, cols):\n",
    "    SS_Residual = sum((y_test - y_pred)**2)\n",
    "    SS_Total = sum((y_test - np.mean(y_test))**2)\n",
    "    r2 = 1 - (float(SS_Residual))/SS_Total\n",
    "    adj_r2 = 1 - (1-r2)*(len(y_test) - 1)/(len(y_test) - cols -1)\n",
    "    return  {\n",
    "        'mape': sum(abs((y_test - y_pred)/y_test)),\n",
    "        'mae': metrics.mean_absolute_error(y_test, y_pred),\n",
    "        'mse': metrics.mean_squared_error(y_test, y_pred),\n",
    "        'rmse': np.sqrt(metrics.mean_squared_error(y_test, y_pred)),\n",
    "        'r2': r2,\n",
    "        'adj_r2': adj_r2,\n",
    "    }\n",
    "\n",
    "def print_metrics(data, y_test, y_pred, cols):\n",
    "    print(data)\n",
    "    res = get_metrics(y_test, y_pred, cols)\n",
    "    for key in res:\n",
    "        print(f'{key}: {res[key]}')\n",
    "    return res\n",
    "\n",
    "def predict_not_log(model, model_name, X_train, y_train, X_test, y_test):\n",
    "    print()\n",
    "    print(model_name)\n",
    "    model.fit(X_train.values, y_train)\n",
    "    pred_train = model.predict(X_train.values)\n",
    "    pred_test = model.predict(X_test.values)\n",
    "    return {\n",
    "        'res': {\n",
    "            'train': print_metrics('train', y_train, pred_train, X_train.shape[1]),\n",
    "            'test': print_metrics('test', y_test, pred_test, X_test.shape[1]),\n",
    "        },\n",
    "        'predictions':{\n",
    "            'train': pred_train,\n",
    "            'test': pred_test,\n",
    "        },\n",
    "        'actual': {\n",
    "            'train': y_train,\n",
    "            'test': y_test,\n",
    "        },\n",
    "    }\n",
    "\n",
    "\n",
    "def predict_test(X_train, y_train, X_test, y_test):\n",
    "    prediction_results = {}\n",
    "#     prediction_results['mlp'] = predict(mod_mlp, 'mlp', X_train, y_train, X_test, y_test)        \n",
    "    prediction_results['lasso'] = predict(mod_lasso, 'lasso', X_train, y_train, X_test, y_test)\n",
    "#     prediction_results['enet'] = predict(mod_enet, 'enet', X_train, y_train, X_test, y_test)\n",
    "#     prediction_results['xgb'] = predict(mod_xgb, 'xgb', X_train, y_train, X_test, y_test)\n",
    "#     prediction_results['gboost'] = predict(mod_gboost, 'gboost', X_train, y_train, X_test, y_test)\n",
    "#     prediction_results['lgb'] = predict(mod_lgb, 'lgb', X_train, y_train, X_test, y_test)\n",
    "#     prediction_results['mod_stacked'] = predict(mod_stacked, 'mod', X_train, y_train, X_test, y_test)\n",
    "    return prediction_results\n",
    "\n",
    "# ---------------------------------------------------------------------\n",
    "def print_graphs(actual, predicted, log=False):\n",
    "    plt.clf()\n",
    "    length = len(actual)\n",
    "    res_df = pd.DataFrame({'actual':actual, 'predicted': predicted}).astype(float)\n",
    "    res_df.sort_values(by='actual', inplace=True)\n",
    "\n",
    "    plt.figure()\n",
    "    x = np.linspace(0, length, length)\n",
    "    plt.plot(x, res_df['actual'], label='actual')\n",
    "    plt.plot(x, res_df['predicted'], label='predicted')\n",
    "\n",
    "    plt.ticklabel_format(useOffset=False, style='plain')\n",
    "    plt.rcParams[\"figure.figsize\"] = (8,8)\n",
    "    if log:\n",
    "        plt.yscale('log')\n",
    "    plt.show()\n",
    "    \n",
    "def print_sorted_actual_to_predicted_graphs(res):\n",
    "    print('train')\n",
    "    print_graphs(res['actual']['train'], res['predictions']['train'])\n",
    "    print('test')\n",
    "    print_graphs(res['actual']['test'], res['predictions']['test'])"
   ]
  },
  {
   "cell_type": "code",
   "execution_count": null,
   "metadata": {},
   "outputs": [],
   "source": [
    "df = pd.read_csv('savedcsv/17_homepage.csv')\n",
    "num_in_train = int(df.shape[0]*0.8)\n",
    "df_train = df[:num_in_train]\n",
    "df_test = df[num_in_train:]\n",
    "X_train, y_train = get_train_test_revenue(df_train)\n",
    "X_test, y_test = get_train_test_revenue(df_test)"
   ]
  },
  {
   "cell_type": "code",
   "execution_count": null,
   "metadata": {},
   "outputs": [],
   "source": [
    "process = Process(X_train, X_test, y_train, y_test, imputer='knn').skew_X().minmaxscaleX().fill_nan()"
   ]
  },
  {
   "cell_type": "code",
   "execution_count": null,
   "metadata": {},
   "outputs": [],
   "source": [
    "skew = PowerTransformer()\n",
    "Xh_train, Xh_test, y_train, yh_test = process.return_processed()\n",
    "yh_train = skew.fit_transform(y_train.reshape(-1, 1)).flatten()"
   ]
  },
  {
   "cell_type": "code",
   "execution_count": null,
   "metadata": {},
   "outputs": [],
   "source": [
    "mod_cat.fit(Xh_train.values, yh_train)\n",
    "pred_train = mod_cat.predict(Xh_train.values)\n",
    "pred_skew = mod_cat.predict(Xh_test.values)\n",
    "pred_test = skew.inverse_transform(pred_skew.reshape(-1, 1)).flatten()\n",
    "result = {\n",
    "    'res': {\n",
    "        'train': print_metrics('train', yh_train, pred_train, Xh_train.shape[1]),\n",
    "        'test': print_metrics('test', yh_test, pred_test, Xh_test.shape[1]),\n",
    "    },\n",
    "    'predictions':{\n",
    "        'train': pred_train,\n",
    "        'test': pred_test,\n",
    "    },\n",
    "    'actual': {\n",
    "        'train': yh_train,\n",
    "        'test': yh_test,\n",
    "    },\n",
    "}"
   ]
  },
  {
   "cell_type": "code",
   "execution_count": null,
   "metadata": {},
   "outputs": [],
   "source": [
    "print_sorted_actual_to_predicted_graphs(result)"
   ]
  },
  {
   "cell_type": "code",
   "execution_count": null,
   "metadata": {},
   "outputs": [],
   "source": [
    "mod_enet.fit(Xh_train.values, yh_train)\n",
    "pred_train = mod_enet.predict(Xh_train.values)\n",
    "pred_skew = mod_enet.predict(Xh_test.values)\n",
    "pred_test = skew.inverse_transform(pred_skew.reshape(-1, 1)).flatten()\n",
    "result = {\n",
    "    'res': {\n",
    "        'train': print_metrics('train', yh_train, pred_train, Xh_train.shape[1]),\n",
    "        'test': print_metrics('test', yh_test, pred_test, Xh_test.shape[1]),\n",
    "    },\n",
    "    'predictions':{\n",
    "        'train': skew.inverse_transform(pred_train.reshape(-1, 1)).flatten(),\n",
    "        'test': pred_test,\n",
    "    },\n",
    "    'actual': {\n",
    "        'train': skew.inverse_transform(yh_train.reshape(-1, 1)).flatten(),\n",
    "        'test': yh_test,\n",
    "    },\n",
    "}"
   ]
  },
  {
   "cell_type": "code",
   "execution_count": null,
   "metadata": {},
   "outputs": [],
   "source": [
    "print_sorted_actual_to_predicted_graphs(result)"
   ]
  },
  {
   "cell_type": "code",
   "execution_count": null,
   "metadata": {},
   "outputs": [],
   "source": [
    "df_describe = pd.DataFrame(pred_train)\n",
    "df_describe.describe()"
   ]
  },
  {
   "cell_type": "code",
   "execution_count": null,
   "metadata": {},
   "outputs": [],
   "source": [
    "df_describe = pd.DataFrame(pred_test)\n",
    "df_describe.describe()"
   ]
  },
  {
   "cell_type": "code",
   "execution_count": null,
   "metadata": {},
   "outputs": [],
   "source": [
    "plt.plot(np.sort(pred_train))\n",
    "plt.show()"
   ]
  },
  {
   "cell_type": "code",
   "execution_count": null,
   "metadata": {},
   "outputs": [],
   "source": [
    "plt.plot(np.sort(pred_test))\n",
    "plt.show()"
   ]
  },
  {
   "cell_type": "code",
   "execution_count": null,
   "metadata": {},
   "outputs": [],
   "source": [
    "yh_train"
   ]
  },
  {
   "cell_type": "code",
   "execution_count": null,
   "metadata": {},
   "outputs": [],
   "source": [
    "df_describe = pd.DataFrame(yh_test)\n",
    "df_describe.describe()"
   ]
  },
  {
   "cell_type": "code",
   "execution_count": null,
   "metadata": {},
   "outputs": [],
   "source": [
    "print_graphs(y_train, y_pred)"
   ]
  },
  {
   "cell_type": "code",
   "execution_count": null,
   "metadata": {},
   "outputs": [],
   "source": []
  }
 ],
 "metadata": {
  "kernelspec": {
   "display_name": "Python 3",
   "language": "python",
   "name": "python3"
  }
 },
 "nbformat": 4,
 "nbformat_minor": 4
}
