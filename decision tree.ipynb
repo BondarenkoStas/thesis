{
 "cells": [
  {
   "cell_type": "code",
   "execution_count": 35,
   "metadata": {},
   "outputs": [],
   "source": [
    "import time\n",
    "import pickle\n",
    "from os import listdir\n",
    "from os.path import isfile, join\n",
    "\n",
    "import numpy as np\n",
    "import pandas as pd\n",
    "pd.set_option('display.float_format', lambda x: '%.10Ef' % x)\n",
    "import matplotlib.pyplot as plt\n",
    "import seaborn as sns\n",
    "from statistics import mean\n",
    "\n",
    "from sklearn import metrics\n",
    "from sklearn.utils import shuffle\n",
    "from sklearn.impute import SimpleImputer\n",
    "from sklearn.neural_network import MLPRegressor\n",
    "from sklearn.preprocessing import MinMaxScaler\n",
    "from sklearn.preprocessing import PowerTransformer\n",
    "from sklearn.preprocessing import RobustScaler\n",
    "from sklearn.experimental import enable_iterative_imputer\n",
    "from sklearn.impute import IterativeImputer\n",
    "from sklearn.impute import KNNImputer\n",
    "from sklearn.impute import SimpleImputer\n",
    "from sklearn.feature_selection import RFECV\n",
    "from sklearn.ensemble import RandomForestRegressor\n",
    "from sklearn.dummy import DummyRegressor\n",
    "from sklearn.model_selection import cross_validate\n",
    "from sklearn.decomposition import PCA\n",
    "\n",
    "from impyute.imputation import cs\n",
    "pd.options.display.float_format = '{:20,.15f}'.format\n",
    "\n",
    "from pprint import pprint\n",
    "\n",
    "import copy\n",
    "from sklearn.ensemble import ExtraTreesRegressor\n",
    "\n",
    "import tensorflow as tf\n",
    "\n",
    "from tensorflow import keras\n",
    "from tensorflow.keras.callbacks import EarlyStopping\n",
    "from tensorflow.keras.layers import Dense, Activation, Dropout\n",
    "from keras.layers.normalization import BatchNormalization\n",
    "from tensorflow.keras.initializers import GlorotNormal, GlorotUniform, he_normal, he_uniform\n",
    "from tensorflow.keras.optimizers import Adam, RMSprop, SGD, Adamax\n",
    "from tensorflow.keras.regularizers import l1_l2\n",
    "from tensorflow.keras import backend as K\n",
    "import tensorflow_docs as tfdocs\n",
    "import tensorflow_docs.plots\n",
    "import tensorflow_docs.modeling\n",
    "\n",
    "from hyperopt import Trials, STATUS_OK, tpe, rand\n",
    "from hyperas import optim\n",
    "from hyperas.distributions import choice, uniform\n",
    "\n",
    "from matplotlib.legend_handler import HandlerLine2D"
   ]
  },
  {
   "cell_type": "code",
   "execution_count": 11,
   "metadata": {},
   "outputs": [],
   "source": [
    "class Process:\n",
    "    def __init__(self, \n",
    "                 X_train, X_test, X_val, y_train, y_test, y_val, \n",
    "                 imputer='mean', \n",
    "                 minmaxrange=(-1,1), \n",
    "                 standardize_X=True,\n",
    "                 standardize_y=True,\n",
    "                 robust_range=(10, 90),\n",
    "                ):\n",
    "        self.y_process = []\n",
    "        self.X_train = X_train.copy()\n",
    "        self.X_test = X_test.copy()\n",
    "        self.X_val = X_val.copy()\n",
    "        self.y_train = y_train.copy().values.reshape(-1, 1)\n",
    "        self.y_test = y_test.copy().values.reshape(-1, 1)\n",
    "        self.y_val = y_val.copy().values.reshape(-1, 1)\n",
    "        self.imputer = imputer\n",
    "        self.X_minmaxscaler = MinMaxScaler(feature_range=minmaxrange)\n",
    "        self.y_minmaxscaler = MinMaxScaler(feature_range=minmaxrange)\n",
    "        self.y_robust_scaler = RobustScaler(quantile_range=robust_range)\n",
    "        self.X_robust_scaler = RobustScaler(quantile_range=robust_range)\n",
    "        self.skewer_X = PowerTransformer(standardize=standardize_X)\n",
    "        self.skewer_y = PowerTransformer(standardize=standardize_y)\n",
    "\n",
    "    def fill_nan(self):\n",
    "        def fill_train_test(imputer):\n",
    "            imputer.fit(self.X_train)\n",
    "            self.X_train[:] = imputer.transform(self.X_train)\n",
    "            self.X_test[:] = imputer.transform(self.X_test)\n",
    "            self.X_val[:] = imputer.transform(self.X_val)\n",
    "\n",
    "        if (self.imputer == 'mean'):\n",
    "            fill_train_test(SimpleImputer(strategy='mean'))\n",
    "        elif (self.imputer == 'median'):\n",
    "            fill_train_test(SimpleImputer(strategy='median'))\n",
    "        elif (self.imputer == 'knn'):\n",
    "            fill_train_test(KNNImputer())\n",
    "        elif (self.imputer == 'iterative'):\n",
    "            fill_train_test(IterativeImputer(verbose=0, max_iter=50))\n",
    "        elif (self.imputer == 'iterative_mlp'):\n",
    "            fill_train_test(\n",
    "                IterativeImputer(\n",
    "                    estimator=MLPRegressor(learning_rate='adaptive', random_state=0),\n",
    "                    verbose=2,\n",
    "                )\n",
    "            )\n",
    "        return self\n",
    "        \n",
    "    def minmaxscale_X(self):\n",
    "        self.X_minmaxscaler.fit(self.X_train)\n",
    "        self.X_train[:] = self.X_minmaxscaler.transform(self.X_train)\n",
    "        self.X_test[:] = self.X_minmaxscaler.transform(self.X_test)\n",
    "        self.X_val[:] = self.X_minmaxscaler.transform(self.X_val)\n",
    "        return self\n",
    "    \n",
    "    def minmaxscale_X_inverse(self, data):\n",
    "        return self.X_minmaxscaler.inverse_transform(data)\n",
    "    \n",
    "    def minmaxscale_Y(self, inverse=False):\n",
    "        self.y_minmaxscaler.fit(self.y_train)\n",
    "        self.y_train[:] = self.y_minmaxscaler.transform(self.y_train)\n",
    "        self.y_test[:] = self.y_minmaxscaler.transform(self.y_test)\n",
    "        self.y_val[:] = self.y_minmaxscaler.transform(self.y_val)\n",
    "        self.y_process.append(self.minmaxscale_Y_inverse)\n",
    "        return self\n",
    "    \n",
    "    def minmaxscale_Y_inverse(self, data): # data is in 1d array\n",
    "        return self.y_minmaxscaler.inverse_transform(data.reshape(-1, 1)).flatten()\n",
    "    \n",
    "    def robustscale_X(self):\n",
    "        self.X_robust_scaler.fit(self.X_train)\n",
    "        self.X_train[:] = self.X_robust_scaler.transform(self.X_train)\n",
    "        self.X_test[:] = self.X_robust_scaler.transform(self.X_test)\n",
    "        self.X_val[:] = self.X_robust_scaler.transform(self.X_val)\n",
    "        return self\n",
    "    \n",
    "    def robustscale_X_inverse(self, data):\n",
    "        return self.X_robust_scaler.inverse_transform(data)\n",
    "    \n",
    "    def robustscale_Y(self, inverse=False):\n",
    "        self.y_robust_scaler.fit(self.y_train)\n",
    "        self.y_train[:] = self.y_robust_scaler.transform(self.y_train)\n",
    "        self.y_test[:] = self.y_robust_scaler.transform(self.y_test)\n",
    "        self.y_val[:] = self.y_robust_scaler.transform(self.y_val)\n",
    "        self.y_process.append(self.robustscale_Y_inverse)\n",
    "        return self\n",
    "    \n",
    "    def robustscale_Y_inverse(self, data): # data is in 1d array\n",
    "        return self.y_robust_scaler.inverse_transform(data.reshape(-1, 1)).flatten()\n",
    "    \n",
    "    def skew_X(self, inverse=False):\n",
    "        self.skewer_X.fit(self.X_train)\n",
    "        self.X_train[:] = self.skewer_X.transform(self.X_train)\n",
    "        self.X_test[:] = self.skewer_X.transform(self.X_test)\n",
    "        self.X_val[:] = self.skewer_X.transform(self.X_val)\n",
    "        return self\n",
    "    \n",
    "    def skew_X_inverse(self, data):\n",
    "        return self.skewer_X.inverse_transform(data)\n",
    "    \n",
    "    def skew_y(self):\n",
    "        self.skewer_y.fit(self.y_train)\n",
    "        self.y_train = self.skewer_y.transform(self.y_train)\n",
    "        self.y_test = self.skewer_y.transform(self.y_test)\n",
    "        self.y_val = self.skewer_y.transform(self.y_val)\n",
    "        self.y_process.append(self.skew_y_inverse)\n",
    "        return self\n",
    "\n",
    "    def skew_y_inverse(self, data): # data is 1d ndarray\n",
    "        return self.skewer_y.inverse_transform(data.reshape(-1, 1)).flatten()\n",
    "\n",
    "    def return_processed(self):\n",
    "        return self.X_train, self.X_test, self.X_val, self.y_train.flatten(), self.y_test.flatten(), self.y_val.flatten()      "
   ]
  },
  {
   "cell_type": "code",
   "execution_count": 34,
   "metadata": {},
   "outputs": [],
   "source": [
    "def get_metrics(y_test, y_pred, cols):\n",
    "    SS_Residual = sum((y_test - y_pred)**2)\n",
    "    SS_Total = sum((y_test - np.mean(y_test))**2)\n",
    "    r2 = 1 - (float(SS_Residual))/SS_Total\n",
    "    adj_r2 = 1 - (1-r2)*(len(y_test) - 1)/(len(y_test) - cols -1)\n",
    "    return  {\n",
    "        'mape': np.mean(np.abs((y_test - y_pred)/y_test)) * 100,\n",
    "        'mae': metrics.mean_absolute_error(y_test, y_pred),\n",
    "        'rmse': np.sqrt(metrics.mean_squared_error(y_test, y_pred)),\n",
    "        'adj_r2': adj_r2,\n",
    "    }\n",
    "\n",
    "def print_metrics(data, y_test, y_pred, cols):\n",
    "    print(data)\n",
    "    res = get_metrics(y_test, y_pred, cols)\n",
    "    for key in res:\n",
    "        print(f'{key}: {res[key]:,.3f}')\n",
    "    return res\n",
    "\n",
    "\n",
    "def predict(model, model_name, X_train, y_train, X_test, y_test):\n",
    "    pred_train = model.predict(X_train.values)\n",
    "    pred_test = model.predict(X_test.values)\n",
    "    if len(pred_train.shape) == 2 and pred_train.shape[1] == 1:\n",
    "        pred_train = pred_train.flatten()\n",
    "        pred_test = pred_test.flatten()\n",
    "    return {\n",
    "        'res': {\n",
    "            'train': get_metrics(y_train, pred_train, X_train.shape[1]),\n",
    "            'test': get_metrics(y_test, pred_test, X_test.shape[1]),\n",
    "        },\n",
    "        'predictions':{\n",
    "            'train': pred_train,\n",
    "            'test': pred_test,\n",
    "        },\n",
    "        'actual': {\n",
    "            'train': y_train,\n",
    "            'test': y_test,\n",
    "        },\n",
    "    }\n",
    "\n",
    "\n",
    "def output_metrics(model, data, process, with_val=True):\n",
    "    if with_val:  \n",
    "        res = predict(model, \"Keras NN\", \n",
    "                       data['X_train'],  \n",
    "                       data['y_train'],\n",
    "                       data['X_val'],\n",
    "                       data['y_val'])\n",
    "    else:\n",
    "        res = predict(model, \"Keras NN\", \n",
    "                       data['X_train'],  \n",
    "                       data['y_train'],  \n",
    "                       data['X_test'],\n",
    "                       data['y_test'])\n",
    "\n",
    "    y_actual_train_back = res['actual']['train']\n",
    "    y_pred_train_back = res['predictions']['train']\n",
    "    y_actual_test_back = res['actual']['test']\n",
    "    y_pred_test_back = res['predictions']['test']\n",
    "    \n",
    "    print_sorted_actual_to_predicted_graphs(\n",
    "        y_actual_train_back,\n",
    "        y_pred_train_back,\n",
    "        y_actual_test_back,\n",
    "        y_pred_test_back)\n",
    "\n",
    "    if process and process.y_process:\n",
    "        for apply_function in reversed(process.y_process):\n",
    "            y_actual_train_back = apply_function(y_actual_train_back)\n",
    "            y_pred_train_back = apply_function(y_pred_train_back)\n",
    "            y_actual_test_back = apply_function(y_actual_test_back)\n",
    "            y_pred_test_back = apply_function(y_pred_test_back)\n",
    "\n",
    "        print_metrics('train', y_actual_train_back, y_pred_train_back, data['X_train'].shape[1])\n",
    "        print_metrics('test', y_actual_test_back, y_pred_test_back, data['X_test'].shape[1])\n",
    "        print_sorted_actual_to_predicted_graphs(\n",
    "            y_actual_train_back,\n",
    "            y_pred_train_back,\n",
    "            y_actual_test_back,\n",
    "            y_pred_test_back, print_log=True)\n",
    "\n",
    "\n",
    "def print_graphs(actual, predicted, title, print_log=False):\n",
    "    length = len(actual)\n",
    "    res_df = pd.DataFrame({'actual':actual, 'predicted': predicted}).astype(float)\n",
    "    res_df.sort_values(by='actual', inplace=True)\n",
    "\n",
    "    plt.figure()\n",
    "    x = np.linspace(0, length, length)\n",
    "    plt.plot(x, res_df['actual'], label='revenue actual')\n",
    "    plt.plot(x, res_df['predicted'], label='revenue predicted')\n",
    "\n",
    "    plt.ticklabel_format(useOffset=False, style='plain')\n",
    "    plt.rcParams[\"figure.figsize\"] = (8,8)\n",
    "    if print_log:\n",
    "        plt.yscale('log')\n",
    "    plt.xlabel('movie')\n",
    "    plt.ylabel('revenue')\n",
    "    plt.title(title)\n",
    "    plt.legend()\n",
    "    plt.show()\n",
    "    \n",
    "def print_sorted_actual_to_predicted_graphs(train_real, train_pred, test_real, test_pred, print_log=False):\n",
    "    if print_log:\n",
    "        print_graphs(train_real, train_pred, 'train data: log scale', print_log=True)\n",
    "        print_graphs(test_real, test_pred, 'validation data: log scale', print_log=True)\n",
    "    print_graphs(train_real, train_pred, 'train data')\n",
    "    print_graphs(test_real, test_pred, 'validation data')\n",
    "    \n",
    "# -----------------------------------------\n",
    "\n",
    "def get_data():\n",
    "    with open('proc_data_001.pickle', 'rb') as handle:\n",
    "        d = pickle.load(handle)\n",
    "        X_train = d['X_train']\n",
    "        y_train = d['y_train']\n",
    "        X_test = d['X_test']\n",
    "        y_test = d['y_test']\n",
    "        return X_train, y_train, X_test, y_test"
   ]
  },
  {
   "cell_type": "code",
   "execution_count": 12,
   "metadata": {},
   "outputs": [],
   "source": [
    "with open('processed/dataset_all_data.pickle', 'rb') as handle:\n",
    "    data = pickle.load(handle)\n",
    "    \n",
    "with open('processed/dataset_all_process.pickle', 'rb') as handle:\n",
    "    process = pickle.load(handle)"
   ]
  },
  {
   "cell_type": "code",
   "execution_count": null,
   "metadata": {},
   "outputs": [],
   "source": []
  },
  {
   "cell_type": "code",
   "execution_count": 21,
   "metadata": {},
   "outputs": [],
   "source": [
    "def get_train_test_mape(model, data, process):\n",
    "    res = predict(model, \"DT\", \n",
    "               data['X_train'],  \n",
    "               data['y_train'],  \n",
    "               data['X_test'],\n",
    "               data['y_test'])\n",
    "    for apply_function in reversed(process.y_process):\n",
    "        y_actual_train_back = apply_function(res['actual']['train'])\n",
    "        y_pred_train_back = apply_function(res['predictions']['train'])\n",
    "        y_actual_test_back = apply_function(res['actual']['test'])\n",
    "        y_pred_test_back = apply_function(res['predictions']['test'])\n",
    "    train_mape = get_metrics(y_actual_train_back, y_pred_train_back, data['X_train'].shape[1])['mae']\n",
    "    test_mape = get_metrics(y_actual_test_back, y_pred_test_back, data['X_train'].shape[1])['mae']\n",
    "    return train_mape, test_mape"
   ]
  },
  {
   "cell_type": "code",
   "execution_count": 84,
   "metadata": {},
   "outputs": [],
   "source": [
    "def print_results(name, param, train, test):\n",
    "    print('train', train)\n",
    "    print('test', test)\n",
    "\n",
    "    line1, = plt.plot(param, train, 'b', label=\"Train MAE\")\n",
    "    line2, = plt.plot(param, test, 'r', label=\"Test MAE\")\n",
    "    plt.legend(handler_map={line1: HandlerLine2D()})\n",
    "    plt.ylabel('MAE')\n",
    "    plt.xlabel(name)\n",
    "    plt.show()"
   ]
  },
  {
   "cell_type": "code",
   "execution_count": null,
   "metadata": {},
   "outputs": [],
   "source": []
  },
  {
   "cell_type": "code",
   "execution_count": null,
   "metadata": {},
   "outputs": [],
   "source": [
    "train_results = []\n",
    "test_results = []\n",
    "parameter = [70, 80, 90]\n",
    "for p in parameter:\n",
    "    print(p)\n",
    "    model = RandomForestRegressor(\n",
    "        n_estimators=p,\n",
    "        criterion='mae',\n",
    "        random_state=0, \n",
    "        n_jobs=-1,\n",
    "        verbose=1,\n",
    "    )\n",
    "    model.fit(data['X_train'], data['y_train'])\n",
    "    result = get_train_test_mape(model, data, process)\n",
    "    train_results.append(result[0])\n",
    "    test_results.append(result[1])"
   ]
  },
  {
   "cell_type": "code",
   "execution_count": 43,
   "metadata": {},
   "outputs": [
    {
     "name": "stdout",
     "output_type": "stream",
     "text": [
      "train [19860324.132334735, 19764416.923731267, 19803952.692101013]\n",
      "test [41610209.9957954, 41684374.83803457, 41778079.1883732]\n"
     ]
    },
    {
     "data": {
      "image/png": "[encoded data removed]",
      "text/plain": [
       "<Figure size 432x288 with 1 Axes>"
      ]
     },
     "metadata": {
      "needs_background": "light"
     },
     "output_type": "display_data"
    }
   ],
   "source": [
    "print_results('n_estimators', train_results, test_results)"
   ]
  },
  {
   "cell_type": "code",
   "execution_count": null,
   "metadata": {},
   "outputs": [],
   "source": [
    "train_results = []\n",
    "test_results = []\n",
    "parameter = [4,5,7,8]\n",
    "for p in parameter:\n",
    "    print(p)\n",
    "    model = RandomForestRegressor(\n",
    "        n_estimators=80,\n",
    "        max_depth=p,\n",
    "        criterion='mae', \n",
    "        random_state=0, \n",
    "        n_jobs=-1,\n",
    "        verbose=1,\n",
    "    )\n",
    "    model.fit(data['X_train'], data['y_train'])\n",
    "    result = get_train_test_mape(model, data, process)\n",
    "    train_results.append(result[0])\n",
    "    test_results.append(result[1])"
   ]
  },
  {
   "cell_type": "code",
   "execution_count": 62,
   "metadata": {},
   "outputs": [
    {
     "name": "stdout",
     "output_type": "stream",
     "text": [
      "train [51931466.97708544, 41536137.82640604, 29526122.06422774]\n",
      "test [52573073.180340685, 42748251.018912606, 41914310.87465603]\n"
     ]
    },
    {
     "data": {
      "image/png": "[encoded data removed]",
      "text/plain": [
       "<Figure size 432x288 with 1 Axes>"
      ]
     },
     "metadata": {
      "needs_background": "light"
     },
     "output_type": "display_data"
    }
   ],
   "source": [
    "print_results('max_depth', parameter, train_results, test_results)"
   ]
  },
  {
   "cell_type": "code",
   "execution_count": 72,
   "metadata": {},
   "outputs": [
    {
     "name": "stdout",
     "output_type": "stream",
     "text": [
      "0.0001\n"
     ]
    },
    {
     "name": "stderr",
     "output_type": "stream",
     "text": [
      "[Parallel(n_jobs=-1)]: Using backend ThreadingBackend with 24 concurrent workers.\n",
      "[Parallel(n_jobs=-1)]: Done   2 tasks      | elapsed:   13.9s\n",
      "[Parallel(n_jobs=-1)]: Done  80 out of  80 | elapsed:   57.3s finished\n",
      "[Parallel(n_jobs=24)]: Using backend ThreadingBackend with 24 concurrent workers.\n",
      "[Parallel(n_jobs=24)]: Done   2 tasks      | elapsed:    0.0s\n",
      "[Parallel(n_jobs=24)]: Done  80 out of  80 | elapsed:    0.0s finished\n",
      "[Parallel(n_jobs=24)]: Using backend ThreadingBackend with 24 concurrent workers.\n",
      "[Parallel(n_jobs=24)]: Done   2 tasks      | elapsed:    0.0s\n",
      "[Parallel(n_jobs=24)]: Done  80 out of  80 | elapsed:    0.0s finished\n",
      "[Parallel(n_jobs=-1)]: Using backend ThreadingBackend with 24 concurrent workers.\n"
     ]
    },
    {
     "name": "stdout",
     "output_type": "stream",
     "text": [
      "0.000575\n"
     ]
    },
    {
     "name": "stderr",
     "output_type": "stream",
     "text": [
      "[Parallel(n_jobs=-1)]: Done   2 tasks      | elapsed:   14.4s\n",
      "[Parallel(n_jobs=-1)]: Done  80 out of  80 | elapsed:   55.9s finished\n",
      "[Parallel(n_jobs=24)]: Using backend ThreadingBackend with 24 concurrent workers.\n",
      "[Parallel(n_jobs=24)]: Done   2 tasks      | elapsed:    0.0s\n",
      "[Parallel(n_jobs=24)]: Done  80 out of  80 | elapsed:    0.0s finished\n",
      "[Parallel(n_jobs=24)]: Using backend ThreadingBackend with 24 concurrent workers.\n",
      "[Parallel(n_jobs=24)]: Done   2 tasks      | elapsed:    0.0s\n",
      "[Parallel(n_jobs=24)]: Done  80 out of  80 | elapsed:    0.0s finished\n"
     ]
    },
    {
     "name": "stdout",
     "output_type": "stream",
     "text": [
      "0.00105\n"
     ]
    },
    {
     "name": "stderr",
     "output_type": "stream",
     "text": [
      "[Parallel(n_jobs=-1)]: Using backend ThreadingBackend with 24 concurrent workers.\n",
      "[Parallel(n_jobs=-1)]: Done   2 tasks      | elapsed:   13.9s\n",
      "[Parallel(n_jobs=-1)]: Done  80 out of  80 | elapsed:   56.1s finished\n",
      "[Parallel(n_jobs=24)]: Using backend ThreadingBackend with 24 concurrent workers.\n",
      "[Parallel(n_jobs=24)]: Done   2 tasks      | elapsed:    0.0s\n",
      "[Parallel(n_jobs=24)]: Done  80 out of  80 | elapsed:    0.0s finished\n",
      "[Parallel(n_jobs=24)]: Using backend ThreadingBackend with 24 concurrent workers.\n",
      "[Parallel(n_jobs=24)]: Done   2 tasks      | elapsed:    0.0s\n",
      "[Parallel(n_jobs=24)]: Done  80 out of  80 | elapsed:    0.0s finished\n"
     ]
    },
    {
     "name": "stdout",
     "output_type": "stream",
     "text": [
      "0.001525\n"
     ]
    },
    {
     "name": "stderr",
     "output_type": "stream",
     "text": [
      "[Parallel(n_jobs=-1)]: Using backend ThreadingBackend with 24 concurrent workers.\n",
      "[Parallel(n_jobs=-1)]: Done   2 tasks      | elapsed:   13.7s\n",
      "[Parallel(n_jobs=-1)]: Done  80 out of  80 | elapsed:   55.5s finished\n",
      "[Parallel(n_jobs=24)]: Using backend ThreadingBackend with 24 concurrent workers.\n",
      "[Parallel(n_jobs=24)]: Done   2 tasks      | elapsed:    0.0s\n",
      "[Parallel(n_jobs=24)]: Done  80 out of  80 | elapsed:    0.0s finished\n",
      "[Parallel(n_jobs=24)]: Using backend ThreadingBackend with 24 concurrent workers.\n",
      "[Parallel(n_jobs=24)]: Done   2 tasks      | elapsed:    0.0s\n",
      "[Parallel(n_jobs=24)]: Done  80 out of  80 | elapsed:    0.0s finished\n",
      "[Parallel(n_jobs=-1)]: Using backend ThreadingBackend with 24 concurrent workers.\n"
     ]
    },
    {
     "name": "stdout",
     "output_type": "stream",
     "text": [
      "0.002\n"
     ]
    },
    {
     "name": "stderr",
     "output_type": "stream",
     "text": [
      "[Parallel(n_jobs=-1)]: Done   2 tasks      | elapsed:   14.3s\n",
      "[Parallel(n_jobs=-1)]: Done  80 out of  80 | elapsed:   55.3s finished\n",
      "[Parallel(n_jobs=24)]: Using backend ThreadingBackend with 24 concurrent workers.\n",
      "[Parallel(n_jobs=24)]: Done   2 tasks      | elapsed:    0.0s\n",
      "[Parallel(n_jobs=24)]: Done  80 out of  80 | elapsed:    0.0s finished\n",
      "[Parallel(n_jobs=24)]: Using backend ThreadingBackend with 24 concurrent workers.\n",
      "[Parallel(n_jobs=24)]: Done   2 tasks      | elapsed:    0.0s\n",
      "[Parallel(n_jobs=24)]: Done  80 out of  80 | elapsed:    0.0s finished\n"
     ]
    }
   ],
   "source": [
    "train_results = []\n",
    "test_results = []\n",
    "parameter = np.linspace(0.0001, 0.002, 5)\n",
    "for p in parameter:\n",
    "    print(p)\n",
    "    model = RandomForestRegressor(\n",
    "        n_estimators=80,\n",
    "        max_depth=40,\n",
    "        min_samples_split=p,\n",
    "        criterion='mae', \n",
    "        random_state=0, \n",
    "        n_jobs=-1,\n",
    "        verbose=1,\n",
    "    )\n",
    "    model.fit(data['X_train'], data['y_train'])\n",
    "    result = get_train_test_mape(model, data, process)\n",
    "    train_results.append(result[0])\n",
    "    test_results.append(result[1])"
   ]
  },
  {
   "cell_type": "code",
   "execution_count": 85,
   "metadata": {},
   "outputs": [
    {
     "name": "stdout",
     "output_type": "stream",
     "text": [
      "0.0001\n"
     ]
    },
    {
     "name": "stderr",
     "output_type": "stream",
     "text": [
      "[Parallel(n_jobs=-1)]: Using backend ThreadingBackend with 24 concurrent workers.\n",
      "[Parallel(n_jobs=-1)]: Done   2 tasks      | elapsed:   14.0s\n",
      "[Parallel(n_jobs=-1)]: Done  80 out of  80 | elapsed:   54.5s finished\n",
      "[Parallel(n_jobs=24)]: Using backend ThreadingBackend with 24 concurrent workers.\n",
      "[Parallel(n_jobs=24)]: Done   2 tasks      | elapsed:    0.0s\n",
      "[Parallel(n_jobs=24)]: Done  80 out of  80 | elapsed:    0.0s finished\n",
      "[Parallel(n_jobs=24)]: Using backend ThreadingBackend with 24 concurrent workers.\n",
      "[Parallel(n_jobs=24)]: Done   2 tasks      | elapsed:    0.0s\n",
      "[Parallel(n_jobs=24)]: Done  80 out of  80 | elapsed:    0.0s finished\n"
     ]
    },
    {
     "name": "stdout",
     "output_type": "stream",
     "text": [
      "0.000575\n"
     ]
    },
    {
     "name": "stderr",
     "output_type": "stream",
     "text": [
      "[Parallel(n_jobs=-1)]: Using backend ThreadingBackend with 24 concurrent workers.\n",
      "[Parallel(n_jobs=-1)]: Done   2 tasks      | elapsed:   13.2s\n",
      "[Parallel(n_jobs=-1)]: Done  80 out of  80 | elapsed:   51.8s finished\n",
      "[Parallel(n_jobs=24)]: Using backend ThreadingBackend with 24 concurrent workers.\n",
      "[Parallel(n_jobs=24)]: Done   2 tasks      | elapsed:    0.0s\n",
      "[Parallel(n_jobs=24)]: Done  80 out of  80 | elapsed:    0.0s finished\n",
      "[Parallel(n_jobs=24)]: Using backend ThreadingBackend with 24 concurrent workers.\n",
      "[Parallel(n_jobs=24)]: Done   2 tasks      | elapsed:    0.0s\n",
      "[Parallel(n_jobs=24)]: Done  80 out of  80 | elapsed:    0.0s finished\n"
     ]
    },
    {
     "name": "stdout",
     "output_type": "stream",
     "text": [
      "0.00105\n"
     ]
    },
    {
     "name": "stderr",
     "output_type": "stream",
     "text": [
      "[Parallel(n_jobs=-1)]: Using backend ThreadingBackend with 24 concurrent workers.\n",
      "[Parallel(n_jobs=-1)]: Done   2 tasks      | elapsed:   13.0s\n",
      "[Parallel(n_jobs=-1)]: Done  80 out of  80 | elapsed:   50.9s finished\n",
      "[Parallel(n_jobs=24)]: Using backend ThreadingBackend with 24 concurrent workers.\n",
      "[Parallel(n_jobs=24)]: Done   2 tasks      | elapsed:    0.0s\n",
      "[Parallel(n_jobs=24)]: Done  80 out of  80 | elapsed:    0.0s finished\n",
      "[Parallel(n_jobs=24)]: Using backend ThreadingBackend with 24 concurrent workers.\n",
      "[Parallel(n_jobs=24)]: Done   2 tasks      | elapsed:    0.0s\n",
      "[Parallel(n_jobs=24)]: Done  80 out of  80 | elapsed:    0.0s finished\n",
      "[Parallel(n_jobs=-1)]: Using backend ThreadingBackend with 24 concurrent workers.\n"
     ]
    },
    {
     "name": "stdout",
     "output_type": "stream",
     "text": [
      "0.001525\n"
     ]
    },
    {
     "name": "stderr",
     "output_type": "stream",
     "text": [
      "[Parallel(n_jobs=-1)]: Done   2 tasks      | elapsed:   12.7s\n",
      "[Parallel(n_jobs=-1)]: Done  80 out of  80 | elapsed:   49.3s finished\n",
      "[Parallel(n_jobs=24)]: Using backend ThreadingBackend with 24 concurrent workers.\n",
      "[Parallel(n_jobs=24)]: Done   2 tasks      | elapsed:    0.0s\n",
      "[Parallel(n_jobs=24)]: Done  80 out of  80 | elapsed:    0.0s finished\n",
      "[Parallel(n_jobs=24)]: Using backend ThreadingBackend with 24 concurrent workers.\n",
      "[Parallel(n_jobs=24)]: Done   2 tasks      | elapsed:    0.0s\n",
      "[Parallel(n_jobs=24)]: Done  80 out of  80 | elapsed:    0.0s finished\n",
      "[Parallel(n_jobs=-1)]: Using backend ThreadingBackend with 24 concurrent workers.\n"
     ]
    },
    {
     "name": "stdout",
     "output_type": "stream",
     "text": [
      "0.002\n"
     ]
    },
    {
     "name": "stderr",
     "output_type": "stream",
     "text": [
      "[Parallel(n_jobs=-1)]: Done   2 tasks      | elapsed:   12.3s\n",
      "[Parallel(n_jobs=-1)]: Done  80 out of  80 | elapsed:   48.5s finished\n",
      "[Parallel(n_jobs=24)]: Using backend ThreadingBackend with 24 concurrent workers.\n",
      "[Parallel(n_jobs=24)]: Done   2 tasks      | elapsed:    0.0s\n",
      "[Parallel(n_jobs=24)]: Done  80 out of  80 | elapsed:    0.0s finished\n",
      "[Parallel(n_jobs=24)]: Using backend ThreadingBackend with 24 concurrent workers.\n",
      "[Parallel(n_jobs=24)]: Done   2 tasks      | elapsed:    0.0s\n",
      "[Parallel(n_jobs=24)]: Done  80 out of  80 | elapsed:    0.0s finished\n"
     ]
    }
   ],
   "source": [
    "train_results = []\n",
    "test_results = []\n",
    "parameter = np.linspace(0.0001, 0.002, 5)\n",
    "for p in parameter:\n",
    "    print(p)\n",
    "    model = RandomForestRegressor(\n",
    "        n_estimators=80,\n",
    "        max_depth=40,\n",
    "        min_samples_split=0.001,\n",
    "        min_samples_leaf=p,\n",
    "        criterion='mae', \n",
    "        random_state=0, \n",
    "        n_jobs=-1,\n",
    "        verbose=1,\n",
    "    )\n",
    "    model.fit(data['X_train'], data['y_train'])\n",
    "    result = get_train_test_mape(model, data, process)\n",
    "    train_results.append(result[0])\n",
    "    test_results.append(result[1])"
   ]
  },
  {
   "cell_type": "code",
   "execution_count": 86,
   "metadata": {},
   "outputs": [
    {
     "name": "stdout",
     "output_type": "stream",
     "text": [
      "train [21698584.742276385, 27078158.26686779, 31405038.376722068, 33789501.746121205, 34748889.45956734]\n",
      "test [41455146.498783395, 41220407.83108124, 41299326.080305666, 41690015.0384301, 41511555.41702922]\n"
     ]
    },
    {
     "data": {
      "image/png": "[encoded data removed]",
      "text/plain": [
       "<Figure size 432x288 with 1 Axes>"
      ]
     },
     "metadata": {
      "needs_background": "light"
     },
     "output_type": "display_data"
    }
   ],
   "source": [
    "print_results('min_sample_leaf', parameter, train_results, test_results)"
   ]
  },
  {
   "cell_type": "code",
   "execution_count": null,
   "metadata": {},
   "outputs": [],
   "source": [
    "train_results = []\n",
    "test_results = []\n",
    "parameter = np.linspace(0.1, 0.99, 10)\n",
    "for p in parameter:\n",
    "    print(p)\n",
    "    model = RandomForestRegressor(\n",
    "        n_estimators=80,\n",
    "        max_depth=40,\n",
    "        min_samples_split=0.001,\n",
    "        min_samples_leaf=0.0005,\n",
    "        bootstrap=True,\n",
    "        max_samples=p,\n",
    "        criterion='mae', \n",
    "        random_state=0, \n",
    "        n_jobs=-1,\n",
    "        verbose=1,\n",
    "    )\n",
    "    model.fit(data['X_train'], data['y_train'])\n",
    "    result = get_train_test_mape(model, data, process)\n",
    "    train_results.append(result[0])\n",
    "    test_results.append(result[1])"
   ]
  },
  {
   "cell_type": "code",
   "execution_count": 95,
   "metadata": {},
   "outputs": [
    {
     "name": "stdout",
     "output_type": "stream",
     "text": [
      "best p:  0.9\n",
      "train [42191240.635504924, 38612465.94160672, 36290027.7094341, 33901611.71867487, 32057003.433396757, 30427429.02234338, 28744922.6715217, 27250475.93643616, 26189671.602306567]\n",
      "test [44210071.681306034, 42985780.52813648, 42072826.612026416, 41731563.53736941, 41591382.33264724, 41810075.346993946, 41673733.14713417, 42120428.28988185, 41567576.55369028]\n"
     ]
    },
    {
     "data": {
      "image/png": "[encoded data removed]",
      "text/plain": [
       "<Figure size 432x288 with 1 Axes>"
      ]
     },
     "metadata": {
      "needs_background": "light"
     },
     "output_type": "display_data"
    }
   ],
   "source": [
    "print('best p: ', parameter[np.argmin([test_results])])\n",
    "print_results('max_samples', parameter[:-1], train_results, test_results)"
   ]
  },
  {
   "cell_type": "code",
   "execution_count": 102,
   "metadata": {},
   "outputs": [
    {
     "name": "stdout",
     "output_type": "stream",
     "text": [
      "0.85\n"
     ]
    },
    {
     "name": "stderr",
     "output_type": "stream",
     "text": [
      "[Parallel(n_jobs=-1)]: Using backend ThreadingBackend with 24 concurrent workers.\n",
      "[Parallel(n_jobs=-1)]: Done   2 tasks      | elapsed:    4.6s\n",
      "[Parallel(n_jobs=-1)]: Done  80 out of  80 | elapsed:   18.8s finished\n",
      "[Parallel(n_jobs=24)]: Using backend ThreadingBackend with 24 concurrent workers.\n",
      "[Parallel(n_jobs=24)]: Done   2 tasks      | elapsed:    0.0s\n",
      "[Parallel(n_jobs=24)]: Done  80 out of  80 | elapsed:    0.0s finished\n",
      "[Parallel(n_jobs=24)]: Using backend ThreadingBackend with 24 concurrent workers.\n",
      "[Parallel(n_jobs=24)]: Done   2 tasks      | elapsed:    0.0s\n",
      "[Parallel(n_jobs=24)]: Done  80 out of  80 | elapsed:    0.0s finished\n",
      "[Parallel(n_jobs=-1)]: Using backend ThreadingBackend with 24 concurrent workers.\n"
     ]
    },
    {
     "name": "stdout",
     "output_type": "stream",
     "text": [
      "0.9\n"
     ]
    },
    {
     "name": "stderr",
     "output_type": "stream",
     "text": [
      "[Parallel(n_jobs=-1)]: Done   2 tasks      | elapsed:    5.0s\n",
      "[Parallel(n_jobs=-1)]: Done  80 out of  80 | elapsed:   20.0s finished\n",
      "[Parallel(n_jobs=24)]: Using backend ThreadingBackend with 24 concurrent workers.\n",
      "[Parallel(n_jobs=24)]: Done   2 tasks      | elapsed:    0.0s\n",
      "[Parallel(n_jobs=24)]: Done  80 out of  80 | elapsed:    0.0s finished\n",
      "[Parallel(n_jobs=24)]: Using backend ThreadingBackend with 24 concurrent workers.\n",
      "[Parallel(n_jobs=24)]: Done   2 tasks      | elapsed:    0.0s\n",
      "[Parallel(n_jobs=24)]: Done  80 out of  80 | elapsed:    0.0s finished\n"
     ]
    },
    {
     "name": "stdout",
     "output_type": "stream",
     "text": [
      "0.95\n"
     ]
    },
    {
     "name": "stderr",
     "output_type": "stream",
     "text": [
      "[Parallel(n_jobs=-1)]: Using backend ThreadingBackend with 24 concurrent workers.\n",
      "[Parallel(n_jobs=-1)]: Done   2 tasks      | elapsed:    5.5s\n",
      "[Parallel(n_jobs=-1)]: Done  80 out of  80 | elapsed:   21.5s finished\n",
      "[Parallel(n_jobs=24)]: Using backend ThreadingBackend with 24 concurrent workers.\n",
      "[Parallel(n_jobs=24)]: Done   2 tasks      | elapsed:    0.0s\n",
      "[Parallel(n_jobs=24)]: Done  80 out of  80 | elapsed:    0.0s finished\n",
      "[Parallel(n_jobs=24)]: Using backend ThreadingBackend with 24 concurrent workers.\n",
      "[Parallel(n_jobs=24)]: Done   2 tasks      | elapsed:    0.0s\n",
      "[Parallel(n_jobs=24)]: Done  80 out of  80 | elapsed:    0.0s finished\n"
     ]
    }
   ],
   "source": [
    "train_results = []\n",
    "test_results = []\n",
    "parameter = [0.85, 0.9, 0.95]\n",
    "for p in parameter:\n",
    "    print(p)\n",
    "    model = RandomForestRegressor(\n",
    "        n_estimators=80,\n",
    "        max_depth=40,\n",
    "        min_samples_split=0.001,\n",
    "        min_samples_leaf=0.0005,\n",
    "        bootstrap=True,\n",
    "        max_samples=0.5,\n",
    "        max_features=p,\n",
    "        criterion='mae', \n",
    "        random_state=0, \n",
    "        n_jobs=-1,\n",
    "        verbose=1,\n",
    "    )\n",
    "    model.fit(data['X_train'], data['y_train'])\n",
    "    result = get_train_test_mape(model, data, process)\n",
    "    train_results.append(result[0])\n",
    "    test_results.append(result[1])"
   ]
  },
  {
   "cell_type": "code",
   "execution_count": 103,
   "metadata": {},
   "outputs": [
    {
     "name": "stdout",
     "output_type": "stream",
     "text": [
      "best p:  0.95\n",
      "train [32330923.20767775, 32210056.612700302, 32239207.6977215]\n",
      "test [42273315.535896555, 41689975.42118894, 41679717.205032766]\n"
     ]
    },
    {
     "data": {
      "image/png": "[encoded data removed]",
      "text/plain": [
       "<Figure size 432x288 with 1 Axes>"
      ]
     },
     "metadata": {
      "needs_background": "light"
     },
     "output_type": "display_data"
    }
   ],
   "source": [
    "print('best p: ', parameter[np.argmin([test_results])])\n",
    "print_results('max_samples', parameter, train_results, test_results)"
   ]
  },
  {
   "cell_type": "code",
   "execution_count": 114,
   "metadata": {},
   "outputs": [
    {
     "name": "stdout",
     "output_type": "stream",
     "text": [
      "9\n"
     ]
    },
    {
     "name": "stderr",
     "output_type": "stream",
     "text": [
      "[Parallel(n_jobs=-1)]: Using backend ThreadingBackend with 24 concurrent workers.\n",
      "[Parallel(n_jobs=-1)]: Done  34 out of  40 | elapsed:   22.7s remaining:    4.0s\n",
      "[Parallel(n_jobs=-1)]: Done  40 out of  40 | elapsed:   24.6s finished\n",
      "[Parallel(n_jobs=24)]: Using backend ThreadingBackend with 24 concurrent workers.\n",
      "[Parallel(n_jobs=24)]: Done  34 out of  40 | elapsed:    0.0s remaining:    0.0s\n",
      "[Parallel(n_jobs=24)]: Done  40 out of  40 | elapsed:    0.0s finished\n",
      "[Parallel(n_jobs=24)]: Using backend ThreadingBackend with 24 concurrent workers.\n",
      "[Parallel(n_jobs=24)]: Done  34 out of  40 | elapsed:    0.0s remaining:    0.0s\n",
      "[Parallel(n_jobs=24)]: Done  40 out of  40 | elapsed:    0.0s finished\n"
     ]
    },
    {
     "name": "stdout",
     "output_type": "stream",
     "text": [
      "12\n"
     ]
    },
    {
     "name": "stderr",
     "output_type": "stream",
     "text": [
      "[Parallel(n_jobs=-1)]: Using backend ThreadingBackend with 24 concurrent workers.\n",
      "[Parallel(n_jobs=-1)]: Done  34 out of  40 | elapsed:   41.0s remaining:    7.2s\n",
      "[Parallel(n_jobs=-1)]: Done  40 out of  40 | elapsed:   42.1s finished\n",
      "[Parallel(n_jobs=24)]: Using backend ThreadingBackend with 24 concurrent workers.\n",
      "[Parallel(n_jobs=24)]: Done  34 out of  40 | elapsed:    0.0s remaining:    0.0s\n",
      "[Parallel(n_jobs=24)]: Done  40 out of  40 | elapsed:    0.0s finished\n",
      "[Parallel(n_jobs=24)]: Using backend ThreadingBackend with 24 concurrent workers.\n",
      "[Parallel(n_jobs=24)]: Done  34 out of  40 | elapsed:    0.0s remaining:    0.0s\n",
      "[Parallel(n_jobs=24)]: Done  40 out of  40 | elapsed:    0.0s finished\n",
      "[Parallel(n_jobs=-1)]: Using backend ThreadingBackend with 24 concurrent workers.\n"
     ]
    },
    {
     "name": "stdout",
     "output_type": "stream",
     "text": [
      "15\n"
     ]
    },
    {
     "name": "stderr",
     "output_type": "stream",
     "text": [
      "[Parallel(n_jobs=-1)]: Done  34 out of  40 | elapsed:   25.5s remaining:    4.5s\n",
      "[Parallel(n_jobs=-1)]: Done  40 out of  40 | elapsed:   27.9s finished\n",
      "[Parallel(n_jobs=24)]: Using backend ThreadingBackend with 24 concurrent workers.\n",
      "[Parallel(n_jobs=24)]: Done  34 out of  40 | elapsed:    0.0s remaining:    0.0s\n",
      "[Parallel(n_jobs=24)]: Done  40 out of  40 | elapsed:    0.0s finished\n",
      "[Parallel(n_jobs=24)]: Using backend ThreadingBackend with 24 concurrent workers.\n",
      "[Parallel(n_jobs=24)]: Done  34 out of  40 | elapsed:    0.0s remaining:    0.0s\n",
      "[Parallel(n_jobs=24)]: Done  40 out of  40 | elapsed:    0.0s finished\n"
     ]
    },
    {
     "name": "stdout",
     "output_type": "stream",
     "text": [
      "18\n"
     ]
    },
    {
     "name": "stderr",
     "output_type": "stream",
     "text": [
      "[Parallel(n_jobs=-1)]: Using backend ThreadingBackend with 24 concurrent workers.\n",
      "[Parallel(n_jobs=-1)]: Done  34 out of  40 | elapsed:   24.7s remaining:    4.4s\n",
      "[Parallel(n_jobs=-1)]: Done  40 out of  40 | elapsed:   26.4s finished\n",
      "[Parallel(n_jobs=24)]: Using backend ThreadingBackend with 24 concurrent workers.\n",
      "[Parallel(n_jobs=24)]: Done  34 out of  40 | elapsed:    0.0s remaining:    0.0s\n",
      "[Parallel(n_jobs=24)]: Done  40 out of  40 | elapsed:    0.0s finished\n",
      "[Parallel(n_jobs=24)]: Using backend ThreadingBackend with 24 concurrent workers.\n",
      "[Parallel(n_jobs=24)]: Done  34 out of  40 | elapsed:    0.0s remaining:    0.0s\n",
      "[Parallel(n_jobs=24)]: Done  40 out of  40 | elapsed:    0.0s finished\n"
     ]
    },
    {
     "name": "stdout",
     "output_type": "stream",
     "text": [
      "21\n"
     ]
    },
    {
     "name": "stderr",
     "output_type": "stream",
     "text": [
      "[Parallel(n_jobs=-1)]: Using backend ThreadingBackend with 24 concurrent workers.\n",
      "[Parallel(n_jobs=-1)]: Done  34 out of  40 | elapsed:   24.9s remaining:    4.4s\n",
      "[Parallel(n_jobs=-1)]: Done  40 out of  40 | elapsed:   26.0s finished\n",
      "[Parallel(n_jobs=24)]: Using backend ThreadingBackend with 24 concurrent workers.\n",
      "[Parallel(n_jobs=24)]: Done  34 out of  40 | elapsed:    0.0s remaining:    0.0s\n",
      "[Parallel(n_jobs=24)]: Done  40 out of  40 | elapsed:    0.0s finished\n",
      "[Parallel(n_jobs=24)]: Using backend ThreadingBackend with 24 concurrent workers.\n",
      "[Parallel(n_jobs=24)]: Done  34 out of  40 | elapsed:    0.0s remaining:    0.0s\n",
      "[Parallel(n_jobs=24)]: Done  40 out of  40 | elapsed:    0.0s finished\n"
     ]
    }
   ],
   "source": [
    "train_results = []\n",
    "test_results = []\n",
    "parameter = [9, 12, 15, 18, 21]\n",
    "for p in parameter:\n",
    "    print(p)\n",
    "    model = RandomForestRegressor(\n",
    "        n_estimators=40,\n",
    "        max_depth=p,\n",
    "        min_samples_split=0.001,\n",
    "        min_samples_leaf=0.0005,\n",
    "        bootstrap=True,\n",
    "        max_samples=0.95,\n",
    "        criterion='mae', \n",
    "        random_state=0, \n",
    "        n_jobs=-1,\n",
    "        verbose=1,\n",
    "    )\n",
    "    model.fit(data['X_train'], data['y_train'])\n",
    "    result = get_train_test_mape(model, data, process)\n",
    "    train_results.append(result[0])\n",
    "    test_results.append(result[1])"
   ]
  },
  {
   "cell_type": "code",
   "execution_count": 115,
   "metadata": {},
   "outputs": [
    {
     "name": "stdout",
     "output_type": "stream",
     "text": [
      "best p:  15\n",
      "train [33024872.86737259, 29106996.66304824, 27134914.34017526, 26105129.815611284, 25733747.88166742]\n",
      "test [41494897.462920524, 42138884.166427575, 40913067.15688732, 41283509.715606526, 41557952.662228376]\n"
     ]
    },
    {
     "data": {
      "image/png": "[encoded data removed]",
      "text/plain": [
       "<Figure size 432x288 with 1 Axes>"
      ]
     },
     "metadata": {
      "needs_background": "light"
     },
     "output_type": "display_data"
    }
   ],
   "source": [
    "print('best p: ', parameter[np.argmin([test_results])])\n",
    "print_results('max_depth', parameter, train_results, test_results)"
   ]
  },
  {
   "cell_type": "code",
   "execution_count": null,
   "metadata": {},
   "outputs": [],
   "source": []
  }
 ],
 "metadata": {
  "kernelspec": {
   "display_name": "Python 3",
   "language": "python",
   "name": "python3"
  },
  "language_info": {
   "codemirror_mode": {
    "name": "ipython",
    "version": 3
   },
   "file_extension": ".py",
   "mimetype": "text/x-python",
   "name": "python",
   "nbconvert_exporter": "python",
   "pygments_lexer": "ipython3",
   "version": "3.7.7"
  }
 },
 "nbformat": 4,
 "nbformat_minor": 4
}
