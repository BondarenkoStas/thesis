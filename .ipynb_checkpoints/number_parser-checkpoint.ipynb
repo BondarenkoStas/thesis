{
 "cells": [
  {
   "cell_type": "code",
   "execution_count": 1,
   "metadata": {},
   "outputs": [],
   "source": [
    "import requests\n",
    "import re\n",
    "import pandas as pd\n",
    "from bs4 import BeautifulSoup\n",
    "import csv"
   ]
  },
  {
   "cell_type": "code",
   "execution_count": 113,
   "metadata": {},
   "outputs": [],
   "source": [
    "class TheNumbersParser:\n",
    "    def __init__(self, base_url, movies_on_page, movie_index_end):\n",
    "        self.base_url = base_url\n",
    "        self.movie_index_start = 1\n",
    "        self.movies_on_page = movies_on_page\n",
    "        self.movie_index_end = movie_index_end\n",
    "        self.table = []\n",
    "        \n",
    "    def _get_html_table(self, index):\n",
    "        html = requests.get(f'{self.base_url}/{index}').content.decode('utf-8')\n",
    "        return BeautifulSoup(html, 'lxml').find_all('table')[0]\n",
    "\n",
    "    def _get_headers(self, html_table):\n",
    "        return [header.get_text() for header in html_table.find('tr').find_all('th')[1:]]\n",
    "    \n",
    "    def _get_only_digits(self, string):\n",
    "        return re.sub('[^0-9]', '', string)\n",
    "\n",
    "    def generate_table(self):\n",
    "        movie_index = self.movie_index_start\n",
    "        row_index = 0\n",
    "        while (movie_index < self.movie_index_end):\n",
    "            html_table = self._get_html_table(movie_index)\n",
    "            if movie_index == 1:\n",
    "                self.table.append(self._get_headers(html_table))\n",
    "                row_index += 1\n",
    "\n",
    "            for row in html_table.find_all('tr')[1:]:\n",
    "                self.table.append([])\n",
    "                for j, column in enumerate(row.find_all('td')[1:]):\n",
    "                    value = column.get_text()\n",
    "                    if j > 1:\n",
    "                        value = self._get_only_digits(value)\n",
    "                    self.table[row_index].append(value)\n",
    "                row_index += 1\n",
    "            movie_index += self.movies_on_page\n",
    "            \n",
    "    def table_to_csv(self, filename):\n",
    "        with open(filename, 'w', newline='', encoding=\"utf-8\") as csvfile:\n",
    "            writer = csv.writer(csvfile, delimiter=\",\", lineterminator='\\n')\n",
    "            writer.writerows(self.table)"
   ]
  },
  {
   "cell_type": "code",
   "execution_count": 117,
   "metadata": {},
   "outputs": [],
   "source": [
    "BudgetTableParser = TheNumbersParser('https://www.the-numbers.com/movie/budgets/all', 100, 60000)\n",
    "BudgetTableParser.generate_table()\n",
    "BudgetTableParser.table_to_csv('data/numbers_budget.csv')"
   ]
  },
  {
   "cell_type": "code",
   "execution_count": null,
   "metadata": {},
   "outputs": [],
   "source": []
  }
 ],
 "metadata": {
  "kernelspec": {
   "display_name": "Python 3",
   "language": "python",
   "name": "python3"
  },
  "language_info": {
   "codemirror_mode": {
    "name": "ipython",
    "version": 3
   },
   "file_extension": ".py",
   "mimetype": "text/x-python",
   "name": "python",
   "nbconvert_exporter": "python",
   "pygments_lexer": "ipython3",
   "version": "3.7.6"
  }
 },
 "nbformat": 4,
 "nbformat_minor": 2
}
