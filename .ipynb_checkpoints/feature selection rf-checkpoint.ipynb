{
 "cells": [
  {
   "cell_type": "code",
   "execution_count": 1,
   "metadata": {},
   "outputs": [],
   "source": [
    "import numpy as np\n",
    "import pandas as pd\n",
    "import pickle\n",
    "\n",
    "from sklearn.impute import KNNImputer\n",
    "from sklearn.utils import shuffle\n",
    "from sklearn.feature_selection import RFECV\n",
    "from sklearn.ensemble import RandomForestRegressor\n",
    "\n",
    "pd.options.display.float_format = '{:20,.15f}'.format"
   ]
  },
  {
   "cell_type": "code",
   "execution_count": 3,
   "metadata": {},
   "outputs": [],
   "source": [
    "from importlib import reload\n",
    "# module references for reload\n",
    "import process_class, output, run_models\n",
    "\n",
    "from process_class import Process\n",
    "from output import output_metrics\n",
    "from run_models import run_nn, run_lgb\n",
    "\n",
    "reload(process_class)\n",
    "reload(output)\n",
    "reload(output)\n",
    "\n",
    "# reimport in case changed\n",
    "from process_class import Process\n",
    "from output import output_metrics\n",
    "from run_models import run_nn, run_lgb"
   ]
  },
  {
   "cell_type": "code",
   "execution_count": 4,
   "metadata": {},
   "outputs": [],
   "source": [
    "def process_data(raw_data):\n",
    "    data = {}\n",
    "    imputer_func = KNNImputer(n_neighbors=30, weights='distance')\n",
    "    process = Process(\n",
    "        raw_data['X_train'], raw_data['X_test'], raw_data['X_val'], \n",
    "        raw_data['y_train'], raw_data['y_test'], raw_data['y_val'], \n",
    "        imputer='func', imputer_func=imputer_func\n",
    "    ).skew_X().skew_y().fill_nan()\n",
    "    data['X_train'], data['X_test'], data['X_val'], data['y_train'], data['y_test'], data['y_val'] = process.return_processed()\n",
    "    return data, process"
   ]
  },
  {
   "cell_type": "code",
   "execution_count": null,
   "metadata": {},
   "outputs": [],
   "source": []
  },
  {
   "cell_type": "code",
   "execution_count": 5,
   "metadata": {},
   "outputs": [],
   "source": [
    "###########################################\n",
    "# Move raw all dataset through variance threshold\n",
    "# and output metrics to find the best result\n",
    "###########################################"
   ]
  },
  {
   "cell_type": "code",
   "execution_count": 6,
   "metadata": {},
   "outputs": [],
   "source": [
    "with open('processed/dataset_all_no_process_data.pickle', 'rb') as handle:\n",
    "    raw_data = pickle.load(handle)"
   ]
  },
  {
   "cell_type": "code",
   "execution_count": 7,
   "metadata": {},
   "outputs": [],
   "source": [
    "X_raw = pd.concat([raw_data['X_train'], raw_data['X_test'], raw_data['X_val']])\n",
    "y_raw = pd.concat([raw_data['y_train'], raw_data['y_test'], raw_data['y_val']])"
   ]
  },
  {
   "cell_type": "code",
   "execution_count": null,
   "metadata": {},
   "outputs": [],
   "source": [
    "from sklearn.feature_selection import VarianceThreshold\n",
    "\n",
    "results = {}\n",
    "for threshold in [0.01, 0.02, 0.03, 0.05, 0.75, 0.1, 0.15, 0.2, 0.25, 0.3, 0.35, 0.4, 0.5]:\n",
    "    print('#########################################')\n",
    "    print(threshold)\n",
    "    selector = VarianceThreshold(threshold=threshold)\n",
    "    selector.fit(X_raw)\n",
    "    features = selector.get_support(indices=True)\n",
    "    print(f'{len(features)}\\tfeatures')\n",
    "    d = raw_data.copy()\n",
    "    for name in ['X_train', 'X_test', 'X_val']:\n",
    "        d[name] = d[name][d[name].columns[features]]\n",
    "    data, process = process_data(d)\n",
    "    results[threshold] = {}\n",
    "    results[threshold]['features'] = features\n",
    "    results[threshold]['nn'] = run_nn(data, process)\n",
    "    results[threshold]['lgb'] = run_lgb(data, process)"
   ]
  },
  {
   "cell_type": "code",
   "execution_count": null,
   "metadata": {},
   "outputs": [],
   "source": [
    "for th in results:\n",
    "    print(th)\n",
    "    print(f'nn: {results[th][\"nn\"]}')\n",
    "    print(f'lgb: {results[th][\"lgb\"]}')"
   ]
  },
  {
   "cell_type": "code",
   "execution_count": null,
   "metadata": {},
   "outputs": [],
   "source": [
    "ind = sel.get_support()\n",
    "not_ind = [not val for val in ind]"
   ]
  },
  {
   "cell_type": "code",
   "execution_count": null,
   "metadata": {},
   "outputs": [],
   "source": [
    "for a in [int(b) for b in list(sel.get_support())]:\n",
    "    print(a)"
   ]
  },
  {
   "cell_type": "code",
   "execution_count": null,
   "metadata": {},
   "outputs": [],
   "source": []
  },
  {
   "cell_type": "code",
   "execution_count": null,
   "metadata": {},
   "outputs": [],
   "source": []
  },
  {
   "cell_type": "code",
   "execution_count": null,
   "metadata": {},
   "outputs": [],
   "source": [
    "with open('processed/dataset_all_data.pickle', 'rb') as handle:\n",
    "    data = pickle.load(handle)\n",
    "    \n",
    "with open('processed/dataset_all_process.pickle', 'rb') as handle:\n",
    "    process = pickle.load(handle)"
   ]
  },
  {
   "cell_type": "code",
   "execution_count": null,
   "metadata": {},
   "outputs": [],
   "source": [
    "X = pd.concat([data['X_train'], data['X_test'], data['X_val']])\n",
    "y = np.concatenate([data['y_train'], data['y_test'], data['y_val']])"
   ]
  },
  {
   "cell_type": "code",
   "execution_count": null,
   "metadata": {},
   "outputs": [],
   "source": []
  },
  {
   "cell_type": "code",
   "execution_count": null,
   "metadata": {},
   "outputs": [],
   "source": []
  },
  {
   "cell_type": "code",
   "execution_count": null,
   "metadata": {},
   "outputs": [],
   "source": [
    "####################################\n",
    "# Select from model\n",
    "####################################\n",
    "\n",
    "from sklearn.feature_selection import SelectFromModel\n",
    "model = RandomForestRegressor(\n",
    "    n_estimators=40,\n",
    "    max_depth=15,\n",
    "    min_samples_split=0.001,\n",
    "    min_samples_leaf=0.0005,\n",
    "    bootstrap=True,\n",
    "    max_samples=0.95,\n",
    "    criterion='mae', \n",
    "    random_state=0, \n",
    "    n_jobs=-1,\n",
    "    verbose=1,\n",
    ")\n",
    "selector = SelectFromModel(estimator=model, prefit=False, threshold=\"0.1*mean\")\n",
    "selector.fit(X,y)"
   ]
  },
  {
   "cell_type": "code",
   "execution_count": null,
   "metadata": {},
   "outputs": [],
   "source": [
    "selector.threshold_"
   ]
  },
  {
   "cell_type": "code",
   "execution_count": null,
   "metadata": {},
   "outputs": [],
   "source": [
    "ind = selector.get_support()\n",
    "not_ind = [not val for val in ind]"
   ]
  },
  {
   "cell_type": "code",
   "execution_count": null,
   "metadata": {},
   "outputs": [],
   "source": [
    "for a in [int(b) for b in list(selector.get_support())]:\n",
    "    print(a)"
   ]
  },
  {
   "cell_type": "code",
   "execution_count": null,
   "metadata": {},
   "outputs": [],
   "source": []
  },
  {
   "cell_type": "code",
   "execution_count": null,
   "metadata": {},
   "outputs": [],
   "source": [
    "####################################\n",
    "# f_regression\n",
    "####################################\n",
    "\n",
    "from sklearn.feature_selection import f_regression, mutual_info_regression\n",
    "f_test, _ = f_regression(X, y)\n",
    "f_test /= np.max(f_test)\n",
    "\n",
    "mi = mutual_info_regression(X, y)\n",
    "mi /= np.max(mi)"
   ]
  },
  {
   "cell_type": "code",
   "execution_count": null,
   "metadata": {},
   "outputs": [],
   "source": [
    "f_test.shape"
   ]
  },
  {
   "cell_type": "code",
   "execution_count": null,
   "metadata": {},
   "outputs": [],
   "source": [
    "for a in f_test:\n",
    "    print(int(a >= 0.2))"
   ]
  },
  {
   "cell_type": "code",
   "execution_count": null,
   "metadata": {},
   "outputs": [],
   "source": [
    "len([a for a in f_test if a >= 0.2])"
   ]
  },
  {
   "cell_type": "code",
   "execution_count": null,
   "metadata": {},
   "outputs": [],
   "source": [
    "for a in mi:\n",
    "    print(int(a >= 0.2))"
   ]
  },
  {
   "cell_type": "code",
   "execution_count": null,
   "metadata": {},
   "outputs": [],
   "source": [
    "len([a for a in mi if a >= 0.05])"
   ]
  },
  {
   "cell_type": "code",
   "execution_count": null,
   "metadata": {},
   "outputs": [],
   "source": [
    "koefs = []\n",
    "for i in range(len(X.columns)):\n",
    "    koefs.append({\n",
    "        'f': f_test[i],\n",
    "        'mi': mi[i],\n",
    "        'col': X.columns[i]\n",
    "    })"
   ]
  },
  {
   "cell_type": "code",
   "execution_count": null,
   "metadata": {},
   "outputs": [],
   "source": [
    "f_sorted = sorted(koefs, key=lambda k: k['f'], reverse=True) \n",
    "mi_sorted = sorted(koefs, key=lambda k: k['mi'], reverse=True) "
   ]
  },
  {
   "cell_type": "code",
   "execution_count": null,
   "metadata": {},
   "outputs": [],
   "source": [
    "f_sorted"
   ]
  },
  {
   "cell_type": "code",
   "execution_count": null,
   "metadata": {},
   "outputs": [],
   "source": [
    "mi_sorted"
   ]
  },
  {
   "cell_type": "code",
   "execution_count": null,
   "metadata": {},
   "outputs": [],
   "source": []
  },
  {
   "cell_type": "code",
   "execution_count": null,
   "metadata": {},
   "outputs": [],
   "source": [
    "####################################################################################\n",
    "# RFECV feature selection with LR\n",
    "####################################################################################"
   ]
  },
  {
   "cell_type": "code",
   "execution_count": null,
   "metadata": {},
   "outputs": [],
   "source": [
    "from sklearn.linear_model import LinearRegression\n",
    "selector = RFECV(LinearRegression(), verbose=10, n_jobs=-1)"
   ]
  },
  {
   "cell_type": "code",
   "execution_count": null,
   "metadata": {},
   "outputs": [],
   "source": [
    "selector = selector.fit(X, y)"
   ]
  },
  {
   "cell_type": "code",
   "execution_count": null,
   "metadata": {},
   "outputs": [],
   "source": [
    "for a in list(selector.get_support()):\n",
    "    print(int(a))"
   ]
  },
  {
   "cell_type": "code",
   "execution_count": null,
   "metadata": {},
   "outputs": [],
   "source": []
  },
  {
   "cell_type": "code",
   "execution_count": null,
   "metadata": {},
   "outputs": [],
   "source": []
  },
  {
   "cell_type": "code",
   "execution_count": null,
   "metadata": {},
   "outputs": [],
   "source": []
  },
  {
   "cell_type": "code",
   "execution_count": null,
   "metadata": {},
   "outputs": [],
   "source": [
    "####################################################################################\n",
    "# RFECV feature selection with AdaBoostRegressor\n",
    "####################################################################################"
   ]
  },
  {
   "cell_type": "code",
   "execution_count": null,
   "metadata": {},
   "outputs": [],
   "source": []
  },
  {
   "cell_type": "code",
   "execution_count": null,
   "metadata": {},
   "outputs": [],
   "source": []
  },
  {
   "cell_type": "code",
   "execution_count": null,
   "metadata": {},
   "outputs": [],
   "source": []
  },
  {
   "cell_type": "code",
   "execution_count": null,
   "metadata": {},
   "outputs": [],
   "source": []
  },
  {
   "cell_type": "code",
   "execution_count": null,
   "metadata": {},
   "outputs": [],
   "source": [
    "# AdaBoostRegressor model selection\n",
    "from scipy.stats import randint as sp_randint\n",
    "\n",
    "random_grid = {\n",
    "               'bootstrap': [True, False],\n",
    "               'max_depth': sp_randint(5, 300),\n",
    "               'min_samples_leaf': sp_randint(1, 20),\n",
    "               'min_samples_split': sp_randint(10, 100),\n",
    "               'n_estimators': [100, 500, 1000],\n",
    "}"
   ]
  },
  {
   "cell_type": "code",
   "execution_count": null,
   "metadata": {},
   "outputs": [],
   "source": [
    "from sklearn.model_selection import RandomizedSearchCV, GridSearchCV\n",
    "from sklearn.ensemble import AdaBoostRegressor\n",
    "\n",
    "abr = AdaBoostRegressor(\n",
    "    criterion='mae',\n",
    "    n_jobs=-1,\n",
    "    random_state=0,\n",
    "    verbose=1,    \n",
    ")\n",
    "abr_random = RandomizedSearchCV(\n",
    "    scoring='neg_mean_absolute_error',\n",
    "    estimator = rf, \n",
    "    param_distributions = random_grid, \n",
    "    n_iter = 100, \n",
    "    n_jobs=-1,\n",
    "    cv = 3, \n",
    "    refit=True,\n",
    "    verbose=True, \n",
    "    random_state=42, \n",
    ")\n",
    "abr_random.fit(\n",
    "    data['X_train'], \n",
    "    data['y_train'], \n",
    ")"
   ]
  },
  {
   "cell_type": "code",
   "execution_count": null,
   "metadata": {},
   "outputs": [],
   "source": []
  },
  {
   "cell_type": "code",
   "execution_count": null,
   "metadata": {},
   "outputs": [],
   "source": [
    "#########################################\n",
    "# RFECV feature selection with tuned RF #\n",
    "#########################################"
   ]
  },
  {
   "cell_type": "code",
   "execution_count": null,
   "metadata": {},
   "outputs": [],
   "source": [
    "model = RandomForestRegressor(\n",
    "    n_estimators=40,\n",
    "    max_depth=15,\n",
    "    min_samples_split=0.001,\n",
    "    min_samples_leaf=0.0005,\n",
    "    bootstrap=True,\n",
    "    max_samples=0.95,\n",
    "    criterion='mae', \n",
    "    random_state=0, \n",
    "    n_jobs=-1,\n",
    "    verbose=1,\n",
    ")\n",
    "selector = RFECV(model, verbose=10, n_jobs=-1)"
   ]
  },
  {
   "cell_type": "code",
   "execution_count": null,
   "metadata": {},
   "outputs": [],
   "source": [
    "selector = selector.fit(data['X_train'], data['y_train'])"
   ]
  },
  {
   "cell_type": "code",
   "execution_count": null,
   "metadata": {},
   "outputs": [],
   "source": [
    "import joblib\n",
    "joblib.dump(selector, 'rfecv_selector_joblib_2.sav')\n",
    "import pickle\n",
    "pickle.dump(selector, open('rfecv_selector_pickle_2.sav', 'wb'))"
   ]
  },
  {
   "cell_type": "code",
   "execution_count": null,
   "metadata": {},
   "outputs": [],
   "source": [
    "selector.n_features_"
   ]
  },
  {
   "cell_type": "code",
   "execution_count": null,
   "metadata": {},
   "outputs": [],
   "source": [
    "for a in [int(b) for b in [ True,  True,  True,  True, False, False, False, False, False,\n",
    "        True,  True, False,  True, False, False, False,  True, False,\n",
    "       False, False,  True, False, False, False, False, False, False,\n",
    "       False, False, False, False, False, False,  True,  True,  True,\n",
    "        True,  True, False,  True,  True,  True, False, False,  True,\n",
    "        True,  True,  True,  True,  True, False,  True,  True,  True,\n",
    "        True, False,  True, False,  True, False, False, False, False,\n",
    "       False, False, False,  True, False, False, False,  True, False,\n",
    "       False, False, False, False, False, False, False, False, False,\n",
    "       False, False, False, False, False,  True, False, False, False,\n",
    "       False,  True,  True,  True, False, False, False,  True,  True,\n",
    "        True,  True, False,  True,  True,  True,  True,  True,  True,\n",
    "        True,  True,  True,  True,  True,  True,  True,  True,  True,\n",
    "        True,  True,  True,  True,  True,  True,  True,  True,  True,\n",
    "        True,  True,  True,  True,  True,  True,  True,  True,  True,\n",
    "        True,  True,  True,  True,  True,  True,  True,  True,  True,\n",
    "        True,  True,  True,  True,  True,  True,  True,  True,  True,\n",
    "        True,  True,  True,  True,  True,  True,  True,  True,  True,\n",
    "        True,  True,  True,  True,  True,  True,  True,  True,  True,\n",
    "        True,  True,  True,  True,  True,  True,  True,  True,  True,\n",
    "        True,  True,  True,  True,  True,  True,  True,  True,  True,\n",
    "        True,  True,  True,  True,  True,  True,  True,  True,  True,\n",
    "        True,  True,  True,  True,  True,  True,  True,  True,  True,\n",
    "        True,  True,  True,  True,  True,  True,  True,  True,  True,\n",
    "        True,  True,  True,  True,  True,  True,  True,  True,  True]]:\n",
    "        print(a)\n"
   ]
  },
  {
   "cell_type": "code",
   "execution_count": null,
   "metadata": {},
   "outputs": [],
   "source": [
    "ind = selector.get_support()\n",
    "not_ind = [not val for val in ind]"
   ]
  },
  {
   "cell_type": "code",
   "execution_count": null,
   "metadata": {},
   "outputs": [],
   "source": [
    "ind"
   ]
  },
  {
   "cell_type": "code",
   "execution_count": null,
   "metadata": {},
   "outputs": [],
   "source": [
    "list(data['X_train'].columns[ind])"
   ]
  },
  {
   "cell_type": "code",
   "execution_count": null,
   "metadata": {},
   "outputs": [],
   "source": [
    "pd.options.display.float_format = '{:20,.15f}'.format\n",
    "print(data['X_train'].astype(float).describe())"
   ]
  },
  {
   "cell_type": "code",
   "execution_count": null,
   "metadata": {},
   "outputs": [],
   "source": [
    "rank = [(list(data['X_train'].columns)[i], list(selector.ranking_)[i]) for i in range(len(data['X_train'].columns))]\n",
    "# rank = [(list(data['X_train'].columns)[i], list(selector.estimator_.feature_importances_)[i]) for i in range(len(data['X_train'].columns))]"
   ]
  },
  {
   "cell_type": "code",
   "execution_count": null,
   "metadata": {},
   "outputs": [],
   "source": [
    "sorted(rank, key=lambda tup: tup[1])"
   ]
  }
 ],
 "metadata": {
  "kernelspec": {
   "display_name": "Python 3",
   "language": "python",
   "name": "python3"
  },
  "language_info": {
   "codemirror_mode": {
    "name": "ipython",
    "version": 3
   },
   "file_extension": ".py",
   "mimetype": "text/x-python",
   "name": "python",
   "nbconvert_exporter": "python",
   "pygments_lexer": "ipython3",
   "version": "3.7.7"
  }
 },
 "nbformat": 4,
 "nbformat_minor": 4
}
